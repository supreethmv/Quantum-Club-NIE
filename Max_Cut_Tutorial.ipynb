{
 "cells": [
  {
   "cell_type": "code",
   "execution_count": 58,
   "metadata": {},
   "outputs": [],
   "source": [
    "# ! pip install sympy \n",
    "# ! pip install networkx \n",
    "# ! pip install matplotlib \n",
    "# ! pip install pyqubo \n",
    "# ! pip install gurobipy"
   ]
  },
  {
   "cell_type": "code",
   "execution_count": 59,
   "metadata": {
    "id": "sUinoKLn5dbE"
   },
   "outputs": [],
   "source": [
    "from sympy import symbols, Matrix, simplify, Add, Mul\n",
    "import networkx as nx\n",
    "import matplotlib.pyplot as plt\n",
    "from IPython.display import display\n",
    "import random"
   ]
  },
  {
   "cell_type": "code",
   "execution_count": 60,
   "metadata": {
    "id": "6aFfrORuGZJZ"
   },
   "outputs": [],
   "source": [
    "def generate_problem_instance(num_nodes, weight_range=(-1, 1)):\n",
    "    \"\"\"\n",
    "    Generate a random problem instance for the min-cut problem.\n",
    "    :param num_nodes: Number of nodes in the graph.\n",
    "    :param weight_range: Range of weights for the edges (tuple, inclusive).\n",
    "    :return: Dictionary {(i, j): weight} representing the edges and their weights.\n",
    "    \"\"\"\n",
    "    edge_dict = {}\n",
    "    for i in range(1, num_nodes + 1):\n",
    "        for j in range(i + 1, num_nodes + 1):\n",
    "            weight = round(random.uniform(weight_range[0], weight_range[1]), 2)\n",
    "            edge_dict[(i, j)] = weight\n",
    "    return edge_dict"
   ]
  },
  {
   "cell_type": "code",
   "execution_count": 61,
   "metadata": {
    "id": "odiqRFcnl2NS"
   },
   "outputs": [
    {
     "data": {
      "text/plain": [
       "{(1, 2): 0.87,\n",
       " (1, 3): -0.28,\n",
       " (1, 4): -0.28,\n",
       " (1, 5): 0.43,\n",
       " (1, 6): -0.83,\n",
       " (1, 7): -0.72,\n",
       " (1, 8): -0.73,\n",
       " (1, 9): 0.42,\n",
       " (1, 10): 0.89,\n",
       " (1, 11): -0.55,\n",
       " (1, 12): 0.38,\n",
       " (1, 13): 0.09,\n",
       " (1, 14): -0.27,\n",
       " (1, 15): -0.02,\n",
       " (1, 16): -0.35,\n",
       " (1, 17): -0.19,\n",
       " (1, 18): -0.19,\n",
       " (1, 19): 0.59,\n",
       " (1, 20): 0.61,\n",
       " (1, 21): -0.31,\n",
       " (1, 22): -0.53,\n",
       " (1, 23): 0.02,\n",
       " (1, 24): 0.39,\n",
       " (1, 25): 0.34,\n",
       " (1, 26): 0.22,\n",
       " (1, 27): 0.75,\n",
       " (1, 28): 0.31,\n",
       " (1, 29): 0.39,\n",
       " (1, 30): 0.9,\n",
       " (2, 3): -0.02,\n",
       " (2, 4): 0.5,\n",
       " (2, 5): 0.22,\n",
       " (2, 6): 0.78,\n",
       " (2, 7): 0.82,\n",
       " (2, 8): 0.53,\n",
       " (2, 9): 0.53,\n",
       " (2, 10): 0.17,\n",
       " (2, 11): 0.98,\n",
       " (2, 12): -0.85,\n",
       " (2, 13): 0.34,\n",
       " (2, 14): -0.43,\n",
       " (2, 15): 0.83,\n",
       " (2, 16): 0.77,\n",
       " (2, 17): 0.57,\n",
       " (2, 18): -0.03,\n",
       " (2, 19): 0.06,\n",
       " (2, 20): 0.87,\n",
       " (2, 21): 0.83,\n",
       " (2, 22): 0.82,\n",
       " (2, 23): 0.69,\n",
       " (2, 24): -0.29,\n",
       " (2, 25): -0.33,\n",
       " (2, 26): -0.01,\n",
       " (2, 27): -0.77,\n",
       " (2, 28): -0.01,\n",
       " (2, 29): -0.95,\n",
       " (2, 30): 0.14,\n",
       " (3, 4): 0.13,\n",
       " (3, 5): 0.25,\n",
       " (3, 6): -0.92,\n",
       " (3, 7): -0.39,\n",
       " (3, 8): -0.34,\n",
       " (3, 9): 0.46,\n",
       " (3, 10): -0.5,\n",
       " (3, 11): 0.14,\n",
       " (3, 12): -0.2,\n",
       " (3, 13): 0.79,\n",
       " (3, 14): -0.72,\n",
       " (3, 15): -0.55,\n",
       " (3, 16): -0.01,\n",
       " (3, 17): 0.9,\n",
       " (3, 18): -0.88,\n",
       " (3, 19): -0.37,\n",
       " (3, 20): 0.68,\n",
       " (3, 21): -0.94,\n",
       " (3, 22): 0.61,\n",
       " (3, 23): 0.8,\n",
       " (3, 24): 0.01,\n",
       " (3, 25): 0.34,\n",
       " (3, 26): 0.43,\n",
       " (3, 27): 0.95,\n",
       " (3, 28): -0.68,\n",
       " (3, 29): -0.27,\n",
       " (3, 30): -0.53,\n",
       " (4, 5): -0.3,\n",
       " (4, 6): 0.16,\n",
       " (4, 7): -0.33,\n",
       " (4, 8): 0.68,\n",
       " (4, 9): 0.84,\n",
       " (4, 10): -0.09,\n",
       " (4, 11): -1.0,\n",
       " (4, 12): -0.71,\n",
       " (4, 13): 0.85,\n",
       " (4, 14): 0.99,\n",
       " (4, 15): 0.4,\n",
       " (4, 16): 0.31,\n",
       " (4, 17): -0.6,\n",
       " (4, 18): -0.46,\n",
       " (4, 19): -0.38,\n",
       " (4, 20): -0.71,\n",
       " (4, 21): -0.86,\n",
       " (4, 22): 0.89,\n",
       " (4, 23): 0.5,\n",
       " (4, 24): -0.36,\n",
       " (4, 25): 0.07,\n",
       " (4, 26): -0.43,\n",
       " (4, 27): -0.5,\n",
       " (4, 28): -0.07,\n",
       " (4, 29): 0.41,\n",
       " (4, 30): 0.19,\n",
       " (5, 6): -0.49,\n",
       " (5, 7): -0.6,\n",
       " (5, 8): -0.41,\n",
       " (5, 9): -0.95,\n",
       " (5, 10): 0.7,\n",
       " (5, 11): 0.44,\n",
       " (5, 12): -0.24,\n",
       " (5, 13): 0.35,\n",
       " (5, 14): -0.01,\n",
       " (5, 15): 0.59,\n",
       " (5, 16): -0.42,\n",
       " (5, 17): -0.49,\n",
       " (5, 18): -0.49,\n",
       " (5, 19): -0.63,\n",
       " (5, 20): 0.64,\n",
       " (5, 21): 0.74,\n",
       " (5, 22): -0.64,\n",
       " (5, 23): 0.22,\n",
       " (5, 24): -0.12,\n",
       " (5, 25): -0.49,\n",
       " (5, 26): 0.0,\n",
       " (5, 27): 0.33,\n",
       " (5, 28): -0.97,\n",
       " (5, 29): 0.29,\n",
       " (5, 30): 0.12,\n",
       " (6, 7): -0.75,\n",
       " (6, 8): -0.97,\n",
       " (6, 9): -0.39,\n",
       " (6, 10): -0.95,\n",
       " (6, 11): -0.67,\n",
       " (6, 12): -0.09,\n",
       " (6, 13): -0.27,\n",
       " (6, 14): -0.89,\n",
       " (6, 15): 0.93,\n",
       " (6, 16): 0.22,\n",
       " (6, 17): -0.21,\n",
       " (6, 18): 0.34,\n",
       " (6, 19): 0.26,\n",
       " (6, 20): 0.41,\n",
       " (6, 21): -0.15,\n",
       " (6, 22): -0.31,\n",
       " (6, 23): -0.92,\n",
       " (6, 24): 0.9,\n",
       " (6, 25): 0.47,\n",
       " (6, 26): -0.64,\n",
       " (6, 27): -0.36,\n",
       " (6, 28): -0.44,\n",
       " (6, 29): -0.54,\n",
       " (6, 30): 0.78,\n",
       " (7, 8): -0.79,\n",
       " (7, 9): 0.18,\n",
       " (7, 10): 0.87,\n",
       " (7, 11): 0.89,\n",
       " (7, 12): -0.38,\n",
       " (7, 13): -0.71,\n",
       " (7, 14): 0.03,\n",
       " (7, 15): -0.74,\n",
       " (7, 16): -0.91,\n",
       " (7, 17): -0.34,\n",
       " (7, 18): -0.23,\n",
       " (7, 19): 0.94,\n",
       " (7, 20): 0.48,\n",
       " (7, 21): -0.41,\n",
       " (7, 22): -0.71,\n",
       " (7, 23): 0.33,\n",
       " (7, 24): -0.49,\n",
       " (7, 25): 0.96,\n",
       " (7, 26): -0.52,\n",
       " (7, 27): -0.14,\n",
       " (7, 28): 0.6,\n",
       " (7, 29): -0.85,\n",
       " (7, 30): -0.34,\n",
       " (8, 9): -0.05,\n",
       " (8, 10): -0.36,\n",
       " (8, 11): 0.61,\n",
       " (8, 12): 0.69,\n",
       " (8, 13): -0.4,\n",
       " (8, 14): -0.54,\n",
       " (8, 15): 0.38,\n",
       " (8, 16): 0.34,\n",
       " (8, 17): -0.64,\n",
       " (8, 18): 0.94,\n",
       " (8, 19): 0.73,\n",
       " (8, 20): -0.21,\n",
       " (8, 21): 0.5,\n",
       " (8, 22): -0.89,\n",
       " (8, 23): 0.5,\n",
       " (8, 24): -0.66,\n",
       " (8, 25): 0.07,\n",
       " (8, 26): -0.97,\n",
       " (8, 27): 0.78,\n",
       " (8, 28): -0.77,\n",
       " (8, 29): -0.45,\n",
       " (8, 30): 0.82,\n",
       " (9, 10): 0.28,\n",
       " (9, 11): -0.01,\n",
       " (9, 12): -0.58,\n",
       " (9, 13): -0.41,\n",
       " (9, 14): 0.19,\n",
       " (9, 15): -0.58,\n",
       " (9, 16): 0.18,\n",
       " (9, 17): 0.65,\n",
       " (9, 18): 0.5,\n",
       " (9, 19): -0.25,\n",
       " (9, 20): -0.78,\n",
       " (9, 21): 0.64,\n",
       " (9, 22): 0.53,\n",
       " (9, 23): 0.26,\n",
       " (9, 24): 0.32,\n",
       " (9, 25): 0.94,\n",
       " (9, 26): 0.37,\n",
       " (9, 27): 0.14,\n",
       " (9, 28): 0.85,\n",
       " (9, 29): 0.22,\n",
       " (9, 30): 0.29,\n",
       " (10, 11): 0.72,\n",
       " (10, 12): 0.57,\n",
       " (10, 13): 0.96,\n",
       " (10, 14): 0.54,\n",
       " (10, 15): 0.14,\n",
       " (10, 16): 0.2,\n",
       " (10, 17): 0.74,\n",
       " (10, 18): 0.21,\n",
       " (10, 19): -0.27,\n",
       " (10, 20): 0.85,\n",
       " (10, 21): 0.75,\n",
       " (10, 22): 0.93,\n",
       " (10, 23): -0.41,\n",
       " (10, 24): -0.85,\n",
       " (10, 25): 0.05,\n",
       " (10, 26): -0.33,\n",
       " (10, 27): 0.98,\n",
       " (10, 28): 0.16,\n",
       " (10, 29): -0.81,\n",
       " (10, 30): 0.48,\n",
       " (11, 12): 0.16,\n",
       " (11, 13): -0.25,\n",
       " (11, 14): -0.26,\n",
       " (11, 15): -0.92,\n",
       " (11, 16): -0.95,\n",
       " (11, 17): 0.01,\n",
       " (11, 18): 0.87,\n",
       " (11, 19): 0.78,\n",
       " (11, 20): 0.17,\n",
       " (11, 21): 0.63,\n",
       " (11, 22): -0.26,\n",
       " (11, 23): -0.68,\n",
       " (11, 24): -0.32,\n",
       " (11, 25): 0.37,\n",
       " (11, 26): 0.42,\n",
       " (11, 27): -0.68,\n",
       " (11, 28): 0.26,\n",
       " (11, 29): 0.24,\n",
       " (11, 30): -0.02,\n",
       " (12, 13): 0.36,\n",
       " (12, 14): -0.49,\n",
       " (12, 15): 0.64,\n",
       " (12, 16): 0.5,\n",
       " (12, 17): 0.08,\n",
       " (12, 18): -0.16,\n",
       " (12, 19): -0.46,\n",
       " (12, 20): -0.23,\n",
       " (12, 21): 0.53,\n",
       " (12, 22): 0.94,\n",
       " (12, 23): 0.05,\n",
       " (12, 24): 0.69,\n",
       " (12, 25): -0.49,\n",
       " (12, 26): -0.74,\n",
       " (12, 27): -0.36,\n",
       " (12, 28): -0.63,\n",
       " (12, 29): 0.8,\n",
       " (12, 30): 0.66,\n",
       " (13, 14): -0.36,\n",
       " (13, 15): 0.67,\n",
       " (13, 16): -0.27,\n",
       " (13, 17): -0.52,\n",
       " (13, 18): -0.5,\n",
       " (13, 19): -0.45,\n",
       " (13, 20): 0.64,\n",
       " (13, 21): -0.47,\n",
       " (13, 22): -0.45,\n",
       " (13, 23): 0.53,\n",
       " (13, 24): -0.39,\n",
       " (13, 25): 0.22,\n",
       " (13, 26): -0.32,\n",
       " (13, 27): 0.85,\n",
       " (13, 28): -0.46,\n",
       " (13, 29): -0.24,\n",
       " (13, 30): -0.53,\n",
       " (14, 15): 0.68,\n",
       " (14, 16): -0.31,\n",
       " (14, 17): -0.94,\n",
       " (14, 18): -0.88,\n",
       " (14, 19): 0.85,\n",
       " (14, 20): 0.06,\n",
       " (14, 21): 0.53,\n",
       " (14, 22): -0.45,\n",
       " (14, 23): -0.51,\n",
       " (14, 24): -0.36,\n",
       " (14, 25): -0.66,\n",
       " (14, 26): -0.96,\n",
       " (14, 27): -0.85,\n",
       " (14, 28): 0.95,\n",
       " (14, 29): 0.97,\n",
       " (14, 30): 0.5,\n",
       " (15, 16): -0.19,\n",
       " (15, 17): -0.42,\n",
       " (15, 18): -0.54,\n",
       " (15, 19): 0.34,\n",
       " (15, 20): 0.66,\n",
       " (15, 21): 0.9,\n",
       " (15, 22): -0.8,\n",
       " (15, 23): 0.45,\n",
       " (15, 24): 0.55,\n",
       " (15, 25): -0.09,\n",
       " (15, 26): -0.09,\n",
       " (15, 27): 0.83,\n",
       " (15, 28): -0.59,\n",
       " (15, 29): -0.54,\n",
       " (15, 30): 0.29,\n",
       " (16, 17): -0.27,\n",
       " (16, 18): -0.15,\n",
       " (16, 19): 0.03,\n",
       " (16, 20): -0.23,\n",
       " (16, 21): -0.87,\n",
       " (16, 22): -0.8,\n",
       " (16, 23): 0.61,\n",
       " (16, 24): 0.12,\n",
       " (16, 25): 0.22,\n",
       " (16, 26): -0.16,\n",
       " (16, 27): -0.17,\n",
       " (16, 28): -0.63,\n",
       " (16, 29): -0.45,\n",
       " (16, 30): -0.54,\n",
       " (17, 18): -0.35,\n",
       " (17, 19): 0.27,\n",
       " (17, 20): 0.41,\n",
       " (17, 21): 0.62,\n",
       " (17, 22): 0.17,\n",
       " (17, 23): 0.69,\n",
       " (17, 24): -0.27,\n",
       " (17, 25): -0.04,\n",
       " (17, 26): 0.19,\n",
       " (17, 27): 0.04,\n",
       " (17, 28): 0.01,\n",
       " (17, 29): -0.32,\n",
       " (17, 30): -0.42,\n",
       " (18, 19): -0.74,\n",
       " (18, 20): -0.65,\n",
       " (18, 21): 0.95,\n",
       " (18, 22): -0.94,\n",
       " (18, 23): 0.26,\n",
       " (18, 24): -0.16,\n",
       " (18, 25): -0.44,\n",
       " (18, 26): -0.8,\n",
       " (18, 27): 0.93,\n",
       " (18, 28): 0.6,\n",
       " (18, 29): 0.71,\n",
       " (18, 30): -0.91,\n",
       " (19, 20): 0.32,\n",
       " (19, 21): -0.96,\n",
       " (19, 22): 0.92,\n",
       " (19, 23): 0.06,\n",
       " (19, 24): -0.79,\n",
       " (19, 25): 0.59,\n",
       " (19, 26): -0.97,\n",
       " (19, 27): -0.36,\n",
       " (19, 28): -0.93,\n",
       " (19, 29): -0.48,\n",
       " (19, 30): 0.64,\n",
       " (20, 21): -0.87,\n",
       " (20, 22): 0.36,\n",
       " (20, 23): -0.04,\n",
       " (20, 24): -0.26,\n",
       " (20, 25): 0.45,\n",
       " (20, 26): 0.22,\n",
       " (20, 27): -0.43,\n",
       " (20, 28): -0.86,\n",
       " (20, 29): -0.22,\n",
       " (20, 30): 0.1,\n",
       " (21, 22): -0.14,\n",
       " (21, 23): -0.05,\n",
       " (21, 24): 0.86,\n",
       " (21, 25): 0.09,\n",
       " (21, 26): 0.12,\n",
       " (21, 27): 0.41,\n",
       " (21, 28): 0.4,\n",
       " (21, 29): 0.45,\n",
       " (21, 30): -0.15,\n",
       " (22, 23): 0.37,\n",
       " (22, 24): -0.48,\n",
       " (22, 25): -0.99,\n",
       " (22, 26): -0.78,\n",
       " (22, 27): -0.04,\n",
       " (22, 28): -0.11,\n",
       " (22, 29): -0.08,\n",
       " (22, 30): -0.98,\n",
       " (23, 24): 0.81,\n",
       " (23, 25): 0.12,\n",
       " (23, 26): 0.7,\n",
       " (23, 27): 0.87,\n",
       " (23, 28): 0.1,\n",
       " (23, 29): 0.95,\n",
       " (23, 30): 0.34,\n",
       " (24, 25): 0.42,\n",
       " (24, 26): -0.09,\n",
       " (24, 27): 0.13,\n",
       " (24, 28): -0.02,\n",
       " (24, 29): -0.27,\n",
       " (24, 30): -0.34,\n",
       " (25, 26): 0.41,\n",
       " (25, 27): 0.06,\n",
       " (25, 28): -0.71,\n",
       " (25, 29): 0.48,\n",
       " (25, 30): -0.74,\n",
       " (26, 27): -0.94,\n",
       " (26, 28): 0.02,\n",
       " (26, 29): 0.09,\n",
       " (26, 30): 0.21,\n",
       " (27, 28): -0.47,\n",
       " (27, 29): -0.98,\n",
       " (27, 30): 0.05,\n",
       " (28, 29): -0.15,\n",
       " (28, 30): 0.02,\n",
       " (29, 30): -0.2}"
      ]
     },
     "execution_count": 61,
     "metadata": {},
     "output_type": "execute_result"
    }
   ],
   "source": [
    "# Example usage: Generate a graph with 5 nodes\n",
    "num_nodes = 30\n",
    "edge_dict = generate_problem_instance(num_nodes)\n",
    "edge_dict"
   ]
  },
  {
   "cell_type": "code",
   "execution_count": 62,
   "metadata": {
    "colab": {
     "base_uri": "https://localhost:8080/"
    },
    "id": "QqTBDAvy5bfQ",
    "outputId": "46b0cfa6-5e93-45c6-951c-173f4f9f2650"
   },
   "outputs": [],
   "source": [
    "# # Example dictionary input\n",
    "# edge_dict = {\n",
    "#     (1, 2): -2,\n",
    "#     (1, 3): 8,\n",
    "#     (2, 3): -3\n",
    "# }\n",
    "\n",
    "# edge_dict"
   ]
  },
  {
   "cell_type": "code",
   "execution_count": 63,
   "metadata": {
    "id": "Dq69Vj7p5lYM"
   },
   "outputs": [],
   "source": [
    "nodes = set()\n",
    "\n",
    "for edge in edge_dict.keys():\n",
    "    nodes.update(edge)\n",
    "nodes = sorted(nodes)\n",
    "node_index = {node: i for i, node in enumerate(nodes)}\n",
    "\n",
    "size = len(nodes)\n",
    "adjacency_matrix = Matrix.zeros(size, size)\n",
    "\n",
    "for (u, v), weight in edge_dict.items():\n",
    "    i, j = node_index[u], node_index[v]\n",
    "    adjacency_matrix[i, j] = weight\n",
    "    adjacency_matrix[j, i] = weight  # Symmetric matrix for undirected graph"
   ]
  },
  {
   "cell_type": "code",
   "execution_count": 64,
   "metadata": {
    "colab": {
     "base_uri": "https://localhost:8080/",
     "height": 78
    },
    "id": "eFhMyCn76u4i",
    "outputId": "9d1a1a64-8346-4906-c096-b4b086ced0b6"
   },
   "outputs": [
    {
     "data": {
      "text/latex": [
       "$\\displaystyle \\left[\\begin{array}{cccccccccccccccccccccccccccccc}0 & 0.87 & -0.28 & -0.28 & 0.43 & -0.83 & -0.72 & -0.73 & 0.42 & 0.89 & -0.55 & 0.38 & 0.09 & -0.27 & -0.02 & -0.35 & -0.19 & -0.19 & 0.59 & 0.61 & -0.31 & -0.53 & 0.02 & 0.39 & 0.34 & 0.22 & 0.75 & 0.31 & 0.39 & 0.9\\\\0.87 & 0 & -0.02 & 0.5 & 0.22 & 0.78 & 0.82 & 0.53 & 0.53 & 0.17 & 0.98 & -0.85 & 0.34 & -0.43 & 0.83 & 0.77 & 0.57 & -0.03 & 0.06 & 0.87 & 0.83 & 0.82 & 0.69 & -0.29 & -0.33 & -0.01 & -0.77 & -0.01 & -0.95 & 0.14\\\\-0.28 & -0.02 & 0 & 0.13 & 0.25 & -0.92 & -0.39 & -0.34 & 0.46 & -0.5 & 0.14 & -0.2 & 0.79 & -0.72 & -0.55 & -0.01 & 0.9 & -0.88 & -0.37 & 0.68 & -0.94 & 0.61 & 0.8 & 0.01 & 0.34 & 0.43 & 0.95 & -0.68 & -0.27 & -0.53\\\\-0.28 & 0.5 & 0.13 & 0 & -0.3 & 0.16 & -0.33 & 0.68 & 0.84 & -0.09 & -1.0 & -0.71 & 0.85 & 0.99 & 0.4 & 0.31 & -0.6 & -0.46 & -0.38 & -0.71 & -0.86 & 0.89 & 0.5 & -0.36 & 0.07 & -0.43 & -0.5 & -0.07 & 0.41 & 0.19\\\\0.43 & 0.22 & 0.25 & -0.3 & 0 & -0.49 & -0.6 & -0.41 & -0.95 & 0.7 & 0.44 & -0.24 & 0.35 & -0.01 & 0.59 & -0.42 & -0.49 & -0.49 & -0.63 & 0.64 & 0.74 & -0.64 & 0.22 & -0.12 & -0.49 & 0 & 0.33 & -0.97 & 0.29 & 0.12\\\\-0.83 & 0.78 & -0.92 & 0.16 & -0.49 & 0 & -0.75 & -0.97 & -0.39 & -0.95 & -0.67 & -0.09 & -0.27 & -0.89 & 0.93 & 0.22 & -0.21 & 0.34 & 0.26 & 0.41 & -0.15 & -0.31 & -0.92 & 0.9 & 0.47 & -0.64 & -0.36 & -0.44 & -0.54 & 0.78\\\\-0.72 & 0.82 & -0.39 & -0.33 & -0.6 & -0.75 & 0 & -0.79 & 0.18 & 0.87 & 0.89 & -0.38 & -0.71 & 0.03 & -0.74 & -0.91 & -0.34 & -0.23 & 0.94 & 0.48 & -0.41 & -0.71 & 0.33 & -0.49 & 0.96 & -0.52 & -0.14 & 0.6 & -0.85 & -0.34\\\\-0.73 & 0.53 & -0.34 & 0.68 & -0.41 & -0.97 & -0.79 & 0 & -0.05 & -0.36 & 0.61 & 0.69 & -0.4 & -0.54 & 0.38 & 0.34 & -0.64 & 0.94 & 0.73 & -0.21 & 0.5 & -0.89 & 0.5 & -0.66 & 0.07 & -0.97 & 0.78 & -0.77 & -0.45 & 0.82\\\\0.42 & 0.53 & 0.46 & 0.84 & -0.95 & -0.39 & 0.18 & -0.05 & 0 & 0.28 & -0.01 & -0.58 & -0.41 & 0.19 & -0.58 & 0.18 & 0.65 & 0.5 & -0.25 & -0.78 & 0.64 & 0.53 & 0.26 & 0.32 & 0.94 & 0.37 & 0.14 & 0.85 & 0.22 & 0.29\\\\0.89 & 0.17 & -0.5 & -0.09 & 0.7 & -0.95 & 0.87 & -0.36 & 0.28 & 0 & 0.72 & 0.57 & 0.96 & 0.54 & 0.14 & 0.2 & 0.74 & 0.21 & -0.27 & 0.85 & 0.75 & 0.93 & -0.41 & -0.85 & 0.05 & -0.33 & 0.98 & 0.16 & -0.81 & 0.48\\\\-0.55 & 0.98 & 0.14 & -1.0 & 0.44 & -0.67 & 0.89 & 0.61 & -0.01 & 0.72 & 0 & 0.16 & -0.25 & -0.26 & -0.92 & -0.95 & 0.01 & 0.87 & 0.78 & 0.17 & 0.63 & -0.26 & -0.68 & -0.32 & 0.37 & 0.42 & -0.68 & 0.26 & 0.24 & -0.02\\\\0.38 & -0.85 & -0.2 & -0.71 & -0.24 & -0.09 & -0.38 & 0.69 & -0.58 & 0.57 & 0.16 & 0 & 0.36 & -0.49 & 0.64 & 0.5 & 0.08 & -0.16 & -0.46 & -0.23 & 0.53 & 0.94 & 0.05 & 0.69 & -0.49 & -0.74 & -0.36 & -0.63 & 0.8 & 0.66\\\\0.09 & 0.34 & 0.79 & 0.85 & 0.35 & -0.27 & -0.71 & -0.4 & -0.41 & 0.96 & -0.25 & 0.36 & 0 & -0.36 & 0.67 & -0.27 & -0.52 & -0.5 & -0.45 & 0.64 & -0.47 & -0.45 & 0.53 & -0.39 & 0.22 & -0.32 & 0.85 & -0.46 & -0.24 & -0.53\\\\-0.27 & -0.43 & -0.72 & 0.99 & -0.01 & -0.89 & 0.03 & -0.54 & 0.19 & 0.54 & -0.26 & -0.49 & -0.36 & 0 & 0.68 & -0.31 & -0.94 & -0.88 & 0.85 & 0.06 & 0.53 & -0.45 & -0.51 & -0.36 & -0.66 & -0.96 & -0.85 & 0.95 & 0.97 & 0.5\\\\-0.02 & 0.83 & -0.55 & 0.4 & 0.59 & 0.93 & -0.74 & 0.38 & -0.58 & 0.14 & -0.92 & 0.64 & 0.67 & 0.68 & 0 & -0.19 & -0.42 & -0.54 & 0.34 & 0.66 & 0.9 & -0.8 & 0.45 & 0.55 & -0.09 & -0.09 & 0.83 & -0.59 & -0.54 & 0.29\\\\-0.35 & 0.77 & -0.01 & 0.31 & -0.42 & 0.22 & -0.91 & 0.34 & 0.18 & 0.2 & -0.95 & 0.5 & -0.27 & -0.31 & -0.19 & 0 & -0.27 & -0.15 & 0.03 & -0.23 & -0.87 & -0.8 & 0.61 & 0.12 & 0.22 & -0.16 & -0.17 & -0.63 & -0.45 & -0.54\\\\-0.19 & 0.57 & 0.9 & -0.6 & -0.49 & -0.21 & -0.34 & -0.64 & 0.65 & 0.74 & 0.01 & 0.08 & -0.52 & -0.94 & -0.42 & -0.27 & 0 & -0.35 & 0.27 & 0.41 & 0.62 & 0.17 & 0.69 & -0.27 & -0.04 & 0.19 & 0.04 & 0.01 & -0.32 & -0.42\\\\-0.19 & -0.03 & -0.88 & -0.46 & -0.49 & 0.34 & -0.23 & 0.94 & 0.5 & 0.21 & 0.87 & -0.16 & -0.5 & -0.88 & -0.54 & -0.15 & -0.35 & 0 & -0.74 & -0.65 & 0.95 & -0.94 & 0.26 & -0.16 & -0.44 & -0.8 & 0.93 & 0.6 & 0.71 & -0.91\\\\0.59 & 0.06 & -0.37 & -0.38 & -0.63 & 0.26 & 0.94 & 0.73 & -0.25 & -0.27 & 0.78 & -0.46 & -0.45 & 0.85 & 0.34 & 0.03 & 0.27 & -0.74 & 0 & 0.32 & -0.96 & 0.92 & 0.06 & -0.79 & 0.59 & -0.97 & -0.36 & -0.93 & -0.48 & 0.64\\\\0.61 & 0.87 & 0.68 & -0.71 & 0.64 & 0.41 & 0.48 & -0.21 & -0.78 & 0.85 & 0.17 & -0.23 & 0.64 & 0.06 & 0.66 & -0.23 & 0.41 & -0.65 & 0.32 & 0 & -0.87 & 0.36 & -0.04 & -0.26 & 0.45 & 0.22 & -0.43 & -0.86 & -0.22 & 0.1\\\\-0.31 & 0.83 & -0.94 & -0.86 & 0.74 & -0.15 & -0.41 & 0.5 & 0.64 & 0.75 & 0.63 & 0.53 & -0.47 & 0.53 & 0.9 & -0.87 & 0.62 & 0.95 & -0.96 & -0.87 & 0 & -0.14 & -0.05 & 0.86 & 0.09 & 0.12 & 0.41 & 0.4 & 0.45 & -0.15\\\\-0.53 & 0.82 & 0.61 & 0.89 & -0.64 & -0.31 & -0.71 & -0.89 & 0.53 & 0.93 & -0.26 & 0.94 & -0.45 & -0.45 & -0.8 & -0.8 & 0.17 & -0.94 & 0.92 & 0.36 & -0.14 & 0 & 0.37 & -0.48 & -0.99 & -0.78 & -0.04 & -0.11 & -0.08 & -0.98\\\\0.02 & 0.69 & 0.8 & 0.5 & 0.22 & -0.92 & 0.33 & 0.5 & 0.26 & -0.41 & -0.68 & 0.05 & 0.53 & -0.51 & 0.45 & 0.61 & 0.69 & 0.26 & 0.06 & -0.04 & -0.05 & 0.37 & 0 & 0.81 & 0.12 & 0.7 & 0.87 & 0.1 & 0.95 & 0.34\\\\0.39 & -0.29 & 0.01 & -0.36 & -0.12 & 0.9 & -0.49 & -0.66 & 0.32 & -0.85 & -0.32 & 0.69 & -0.39 & -0.36 & 0.55 & 0.12 & -0.27 & -0.16 & -0.79 & -0.26 & 0.86 & -0.48 & 0.81 & 0 & 0.42 & -0.09 & 0.13 & -0.02 & -0.27 & -0.34\\\\0.34 & -0.33 & 0.34 & 0.07 & -0.49 & 0.47 & 0.96 & 0.07 & 0.94 & 0.05 & 0.37 & -0.49 & 0.22 & -0.66 & -0.09 & 0.22 & -0.04 & -0.44 & 0.59 & 0.45 & 0.09 & -0.99 & 0.12 & 0.42 & 0 & 0.41 & 0.06 & -0.71 & 0.48 & -0.74\\\\0.22 & -0.01 & 0.43 & -0.43 & 0 & -0.64 & -0.52 & -0.97 & 0.37 & -0.33 & 0.42 & -0.74 & -0.32 & -0.96 & -0.09 & -0.16 & 0.19 & -0.8 & -0.97 & 0.22 & 0.12 & -0.78 & 0.7 & -0.09 & 0.41 & 0 & -0.94 & 0.02 & 0.09 & 0.21\\\\0.75 & -0.77 & 0.95 & -0.5 & 0.33 & -0.36 & -0.14 & 0.78 & 0.14 & 0.98 & -0.68 & -0.36 & 0.85 & -0.85 & 0.83 & -0.17 & 0.04 & 0.93 & -0.36 & -0.43 & 0.41 & -0.04 & 0.87 & 0.13 & 0.06 & -0.94 & 0 & -0.47 & -0.98 & 0.05\\\\0.31 & -0.01 & -0.68 & -0.07 & -0.97 & -0.44 & 0.6 & -0.77 & 0.85 & 0.16 & 0.26 & -0.63 & -0.46 & 0.95 & -0.59 & -0.63 & 0.01 & 0.6 & -0.93 & -0.86 & 0.4 & -0.11 & 0.1 & -0.02 & -0.71 & 0.02 & -0.47 & 0 & -0.15 & 0.02\\\\0.39 & -0.95 & -0.27 & 0.41 & 0.29 & -0.54 & -0.85 & -0.45 & 0.22 & -0.81 & 0.24 & 0.8 & -0.24 & 0.97 & -0.54 & -0.45 & -0.32 & 0.71 & -0.48 & -0.22 & 0.45 & -0.08 & 0.95 & -0.27 & 0.48 & 0.09 & -0.98 & -0.15 & 0 & -0.2\\\\0.9 & 0.14 & -0.53 & 0.19 & 0.12 & 0.78 & -0.34 & 0.82 & 0.29 & 0.48 & -0.02 & 0.66 & -0.53 & 0.5 & 0.29 & -0.54 & -0.42 & -0.91 & 0.64 & 0.1 & -0.15 & -0.98 & 0.34 & -0.34 & -0.74 & 0.21 & 0.05 & 0.02 & -0.2 & 0\\end{array}\\right]$"
      ],
      "text/plain": [
       "Matrix([\n",
       "[    0,  0.87, -0.28, -0.28,  0.43, -0.83, -0.72, -0.73,  0.42,  0.89, -0.55,  0.38,  0.09, -0.27, -0.02, -0.35, -0.19, -0.19,  0.59,  0.61, -0.31, -0.53,  0.02,  0.39,  0.34,  0.22,  0.75,  0.31,  0.39,   0.9],\n",
       "[ 0.87,     0, -0.02,   0.5,  0.22,  0.78,  0.82,  0.53,  0.53,  0.17,  0.98, -0.85,  0.34, -0.43,  0.83,  0.77,  0.57, -0.03,  0.06,  0.87,  0.83,  0.82,  0.69, -0.29, -0.33, -0.01, -0.77, -0.01, -0.95,  0.14],\n",
       "[-0.28, -0.02,     0,  0.13,  0.25, -0.92, -0.39, -0.34,  0.46,  -0.5,  0.14,  -0.2,  0.79, -0.72, -0.55, -0.01,   0.9, -0.88, -0.37,  0.68, -0.94,  0.61,   0.8,  0.01,  0.34,  0.43,  0.95, -0.68, -0.27, -0.53],\n",
       "[-0.28,   0.5,  0.13,     0,  -0.3,  0.16, -0.33,  0.68,  0.84, -0.09,  -1.0, -0.71,  0.85,  0.99,   0.4,  0.31,  -0.6, -0.46, -0.38, -0.71, -0.86,  0.89,   0.5, -0.36,  0.07, -0.43,  -0.5, -0.07,  0.41,  0.19],\n",
       "[ 0.43,  0.22,  0.25,  -0.3,     0, -0.49,  -0.6, -0.41, -0.95,   0.7,  0.44, -0.24,  0.35, -0.01,  0.59, -0.42, -0.49, -0.49, -0.63,  0.64,  0.74, -0.64,  0.22, -0.12, -0.49,     0,  0.33, -0.97,  0.29,  0.12],\n",
       "[-0.83,  0.78, -0.92,  0.16, -0.49,     0, -0.75, -0.97, -0.39, -0.95, -0.67, -0.09, -0.27, -0.89,  0.93,  0.22, -0.21,  0.34,  0.26,  0.41, -0.15, -0.31, -0.92,   0.9,  0.47, -0.64, -0.36, -0.44, -0.54,  0.78],\n",
       "[-0.72,  0.82, -0.39, -0.33,  -0.6, -0.75,     0, -0.79,  0.18,  0.87,  0.89, -0.38, -0.71,  0.03, -0.74, -0.91, -0.34, -0.23,  0.94,  0.48, -0.41, -0.71,  0.33, -0.49,  0.96, -0.52, -0.14,   0.6, -0.85, -0.34],\n",
       "[-0.73,  0.53, -0.34,  0.68, -0.41, -0.97, -0.79,     0, -0.05, -0.36,  0.61,  0.69,  -0.4, -0.54,  0.38,  0.34, -0.64,  0.94,  0.73, -0.21,   0.5, -0.89,   0.5, -0.66,  0.07, -0.97,  0.78, -0.77, -0.45,  0.82],\n",
       "[ 0.42,  0.53,  0.46,  0.84, -0.95, -0.39,  0.18, -0.05,     0,  0.28, -0.01, -0.58, -0.41,  0.19, -0.58,  0.18,  0.65,   0.5, -0.25, -0.78,  0.64,  0.53,  0.26,  0.32,  0.94,  0.37,  0.14,  0.85,  0.22,  0.29],\n",
       "[ 0.89,  0.17,  -0.5, -0.09,   0.7, -0.95,  0.87, -0.36,  0.28,     0,  0.72,  0.57,  0.96,  0.54,  0.14,   0.2,  0.74,  0.21, -0.27,  0.85,  0.75,  0.93, -0.41, -0.85,  0.05, -0.33,  0.98,  0.16, -0.81,  0.48],\n",
       "[-0.55,  0.98,  0.14,  -1.0,  0.44, -0.67,  0.89,  0.61, -0.01,  0.72,     0,  0.16, -0.25, -0.26, -0.92, -0.95,  0.01,  0.87,  0.78,  0.17,  0.63, -0.26, -0.68, -0.32,  0.37,  0.42, -0.68,  0.26,  0.24, -0.02],\n",
       "[ 0.38, -0.85,  -0.2, -0.71, -0.24, -0.09, -0.38,  0.69, -0.58,  0.57,  0.16,     0,  0.36, -0.49,  0.64,   0.5,  0.08, -0.16, -0.46, -0.23,  0.53,  0.94,  0.05,  0.69, -0.49, -0.74, -0.36, -0.63,   0.8,  0.66],\n",
       "[ 0.09,  0.34,  0.79,  0.85,  0.35, -0.27, -0.71,  -0.4, -0.41,  0.96, -0.25,  0.36,     0, -0.36,  0.67, -0.27, -0.52,  -0.5, -0.45,  0.64, -0.47, -0.45,  0.53, -0.39,  0.22, -0.32,  0.85, -0.46, -0.24, -0.53],\n",
       "[-0.27, -0.43, -0.72,  0.99, -0.01, -0.89,  0.03, -0.54,  0.19,  0.54, -0.26, -0.49, -0.36,     0,  0.68, -0.31, -0.94, -0.88,  0.85,  0.06,  0.53, -0.45, -0.51, -0.36, -0.66, -0.96, -0.85,  0.95,  0.97,   0.5],\n",
       "[-0.02,  0.83, -0.55,   0.4,  0.59,  0.93, -0.74,  0.38, -0.58,  0.14, -0.92,  0.64,  0.67,  0.68,     0, -0.19, -0.42, -0.54,  0.34,  0.66,   0.9,  -0.8,  0.45,  0.55, -0.09, -0.09,  0.83, -0.59, -0.54,  0.29],\n",
       "[-0.35,  0.77, -0.01,  0.31, -0.42,  0.22, -0.91,  0.34,  0.18,   0.2, -0.95,   0.5, -0.27, -0.31, -0.19,     0, -0.27, -0.15,  0.03, -0.23, -0.87,  -0.8,  0.61,  0.12,  0.22, -0.16, -0.17, -0.63, -0.45, -0.54],\n",
       "[-0.19,  0.57,   0.9,  -0.6, -0.49, -0.21, -0.34, -0.64,  0.65,  0.74,  0.01,  0.08, -0.52, -0.94, -0.42, -0.27,     0, -0.35,  0.27,  0.41,  0.62,  0.17,  0.69, -0.27, -0.04,  0.19,  0.04,  0.01, -0.32, -0.42],\n",
       "[-0.19, -0.03, -0.88, -0.46, -0.49,  0.34, -0.23,  0.94,   0.5,  0.21,  0.87, -0.16,  -0.5, -0.88, -0.54, -0.15, -0.35,     0, -0.74, -0.65,  0.95, -0.94,  0.26, -0.16, -0.44,  -0.8,  0.93,   0.6,  0.71, -0.91],\n",
       "[ 0.59,  0.06, -0.37, -0.38, -0.63,  0.26,  0.94,  0.73, -0.25, -0.27,  0.78, -0.46, -0.45,  0.85,  0.34,  0.03,  0.27, -0.74,     0,  0.32, -0.96,  0.92,  0.06, -0.79,  0.59, -0.97, -0.36, -0.93, -0.48,  0.64],\n",
       "[ 0.61,  0.87,  0.68, -0.71,  0.64,  0.41,  0.48, -0.21, -0.78,  0.85,  0.17, -0.23,  0.64,  0.06,  0.66, -0.23,  0.41, -0.65,  0.32,     0, -0.87,  0.36, -0.04, -0.26,  0.45,  0.22, -0.43, -0.86, -0.22,   0.1],\n",
       "[-0.31,  0.83, -0.94, -0.86,  0.74, -0.15, -0.41,   0.5,  0.64,  0.75,  0.63,  0.53, -0.47,  0.53,   0.9, -0.87,  0.62,  0.95, -0.96, -0.87,     0, -0.14, -0.05,  0.86,  0.09,  0.12,  0.41,   0.4,  0.45, -0.15],\n",
       "[-0.53,  0.82,  0.61,  0.89, -0.64, -0.31, -0.71, -0.89,  0.53,  0.93, -0.26,  0.94, -0.45, -0.45,  -0.8,  -0.8,  0.17, -0.94,  0.92,  0.36, -0.14,     0,  0.37, -0.48, -0.99, -0.78, -0.04, -0.11, -0.08, -0.98],\n",
       "[ 0.02,  0.69,   0.8,   0.5,  0.22, -0.92,  0.33,   0.5,  0.26, -0.41, -0.68,  0.05,  0.53, -0.51,  0.45,  0.61,  0.69,  0.26,  0.06, -0.04, -0.05,  0.37,     0,  0.81,  0.12,   0.7,  0.87,   0.1,  0.95,  0.34],\n",
       "[ 0.39, -0.29,  0.01, -0.36, -0.12,   0.9, -0.49, -0.66,  0.32, -0.85, -0.32,  0.69, -0.39, -0.36,  0.55,  0.12, -0.27, -0.16, -0.79, -0.26,  0.86, -0.48,  0.81,     0,  0.42, -0.09,  0.13, -0.02, -0.27, -0.34],\n",
       "[ 0.34, -0.33,  0.34,  0.07, -0.49,  0.47,  0.96,  0.07,  0.94,  0.05,  0.37, -0.49,  0.22, -0.66, -0.09,  0.22, -0.04, -0.44,  0.59,  0.45,  0.09, -0.99,  0.12,  0.42,     0,  0.41,  0.06, -0.71,  0.48, -0.74],\n",
       "[ 0.22, -0.01,  0.43, -0.43,     0, -0.64, -0.52, -0.97,  0.37, -0.33,  0.42, -0.74, -0.32, -0.96, -0.09, -0.16,  0.19,  -0.8, -0.97,  0.22,  0.12, -0.78,   0.7, -0.09,  0.41,     0, -0.94,  0.02,  0.09,  0.21],\n",
       "[ 0.75, -0.77,  0.95,  -0.5,  0.33, -0.36, -0.14,  0.78,  0.14,  0.98, -0.68, -0.36,  0.85, -0.85,  0.83, -0.17,  0.04,  0.93, -0.36, -0.43,  0.41, -0.04,  0.87,  0.13,  0.06, -0.94,     0, -0.47, -0.98,  0.05],\n",
       "[ 0.31, -0.01, -0.68, -0.07, -0.97, -0.44,   0.6, -0.77,  0.85,  0.16,  0.26, -0.63, -0.46,  0.95, -0.59, -0.63,  0.01,   0.6, -0.93, -0.86,   0.4, -0.11,   0.1, -0.02, -0.71,  0.02, -0.47,     0, -0.15,  0.02],\n",
       "[ 0.39, -0.95, -0.27,  0.41,  0.29, -0.54, -0.85, -0.45,  0.22, -0.81,  0.24,   0.8, -0.24,  0.97, -0.54, -0.45, -0.32,  0.71, -0.48, -0.22,  0.45, -0.08,  0.95, -0.27,  0.48,  0.09, -0.98, -0.15,     0,  -0.2],\n",
       "[  0.9,  0.14, -0.53,  0.19,  0.12,  0.78, -0.34,  0.82,  0.29,  0.48, -0.02,  0.66, -0.53,   0.5,  0.29, -0.54, -0.42, -0.91,  0.64,   0.1, -0.15, -0.98,  0.34, -0.34, -0.74,  0.21,  0.05,  0.02,  -0.2,     0]])"
      ]
     },
     "execution_count": 64,
     "metadata": {},
     "output_type": "execute_result"
    }
   ],
   "source": [
    "adjacency_matrix"
   ]
  },
  {
   "cell_type": "code",
   "execution_count": 65,
   "metadata": {
    "colab": {
     "base_uri": "https://localhost:8080/",
     "height": 459
    },
    "id": "-AO0E0nq5yrq",
    "outputId": "ad33cc69-2bbc-44ce-f227-812f2ca6d972"
   },
   "outputs": [
    {
     "data": {
      "image/png": "[encoded data removed]",
      "text/plain": [
       "<Figure size 400x400 with 1 Axes>"
      ]
     },
     "metadata": {},
     "output_type": "display_data"
    }
   ],
   "source": [
    "plt.figure(figsize=(4,4))\n",
    "G = nx.Graph()\n",
    "\n",
    "for (u, v), weight in edge_dict.items():\n",
    "    G.add_edge(u, v, weight=weight)\n",
    "\n",
    "# Create a fixed layout for the graph\n",
    "pos = nx.spring_layout(G, seed=111)  # Set a seed for reproducibility\n",
    "\n",
    "# Draw the graph\n",
    "nx.draw(G, pos, with_labels=True, node_color=\"lightblue\", node_size=1000)\n",
    "labels = nx.get_edge_attributes(G, 'weight')\n",
    "nx.draw_networkx_edge_labels(G, pos, edge_labels=labels, font_size=14)\n",
    "plt.title(\"Weighted Graph\")\n",
    "plt.show()"
   ]
  },
  {
   "cell_type": "markdown",
   "metadata": {
    "id": "5Xv9-SKRClu5"
   },
   "source": [
    "# Formulate the QUBO (Quadratic Unconstrained Binary Optimization) Problem\n",
    "\n",
    "The MinCut problem can be written as:\n",
    "$$\n",
    "\\text{Objective: } \\min_x \\sum_{i,j} w_{ij} x_i (1 - x_j)\n",
    "$$\n",
    "\n",
    "where $$x_i, x_j \\in \\{0,1\\}$$\n",
    "\n",
    "$$x \\in \\{0,1\\}^n$$\n",
    "\n",
    "$$i,j \\in [1,n]$$"
   ]
  },
  {
   "cell_type": "code",
   "execution_count": 66,
   "metadata": {
    "colab": {
     "base_uri": "https://localhost:8080/",
     "height": 227
    },
    "id": "7h9e98VQ6NG5",
    "outputId": "16236a30-0d56-4376-a309-1a85a19b858a"
   },
   "outputs": [
    {
     "data": {
      "text/latex": [
       "$\\displaystyle 0$"
      ],
      "text/plain": [
       "0"
      ]
     },
     "metadata": {},
     "output_type": "display_data"
    },
    {
     "data": {
      "text/latex": [
       "$\\displaystyle 0.87 x_{1} \\left(1 - x_{2}\\right)$"
      ],
      "text/plain": [
       "0.87*x1*(1 - x2)"
      ]
     },
     "metadata": {},
     "output_type": "display_data"
    },
    {
     "data": {
      "text/latex": [
       "$\\displaystyle - 0.28 x_{1} \\left(1 - x_{3}\\right)$"
      ],
      "text/plain": [
       "-0.28*x1*(1 - x3)"
      ]
     },
     "metadata": {},
     "output_type": "display_data"
    },
    {
     "data": {
      "text/latex": [
       "$\\displaystyle - 0.28 x_{1} \\left(1 - x_{4}\\right)$"
      ],
      "text/plain": [
       "-0.28*x1*(1 - x4)"
      ]
     },
     "metadata": {},
     "output_type": "display_data"
    },
    {
     "data": {
      "text/latex": [
       "$\\displaystyle 0.43 x_{1} \\left(1 - x_{5}\\right)$"
      ],
      "text/plain": [
       "0.43*x1*(1 - x5)"
      ]
     },
     "metadata": {},
     "output_type": "display_data"
    },
    {
     "data": {
      "text/latex": [
       "$\\displaystyle - 0.83 x_{1} \\left(1 - x_{6}\\right)$"
      ],
      "text/plain": [
       "-0.83*x1*(1 - x6)"
      ]
     },
     "metadata": {},
     "output_type": "display_data"
    },
    {
     "data": {
      "text/latex": [
       "$\\displaystyle - 0.72 x_{1} \\left(1 - x_{7}\\right)$"
      ],
      "text/plain": [
       "-0.72*x1*(1 - x7)"
      ]
     },
     "metadata": {},
     "output_type": "display_data"
    },
    {
     "data": {
      "text/latex": [
       "$\\displaystyle - 0.73 x_{1} \\left(1 - x_{8}\\right)$"
      ],
      "text/plain": [
       "-0.73*x1*(1 - x8)"
      ]
     },
     "metadata": {},
     "output_type": "display_data"
    },
    {
     "data": {
      "text/latex": [
       "$\\displaystyle 0.42 x_{1} \\left(1 - x_{9}\\right)$"
      ],
      "text/plain": [
       "0.42*x1*(1 - x9)"
      ]
     },
     "metadata": {},
     "output_type": "display_data"
    },
    {
     "data": {
      "text/latex": [
       "$\\displaystyle 0.89 x_{1} \\left(1 - x_{10}\\right)$"
      ],
      "text/plain": [
       "0.89*x1*(1 - x10)"
      ]
     },
     "metadata": {},
     "output_type": "display_data"
    },
    {
     "data": {
      "text/latex": [
       "$\\displaystyle - 0.55 x_{1} \\left(1 - x_{11}\\right)$"
      ],
      "text/plain": [
       "-0.55*x1*(1 - x11)"
      ]
     },
     "metadata": {},
     "output_type": "display_data"
    },
    {
     "data": {
      "text/latex": [
       "$\\displaystyle 0.38 x_{1} \\left(1 - x_{12}\\right)$"
      ],
      "text/plain": [
       "0.38*x1*(1 - x12)"
      ]
     },
     "metadata": {},
     "output_type": "display_data"
    },
    {
     "data": {
      "text/latex": [
       "$\\displaystyle 0.09 x_{1} \\left(1 - x_{13}\\right)$"
      ],
      "text/plain": [
       "0.09*x1*(1 - x13)"
      ]
     },
     "metadata": {},
     "output_type": "display_data"
    },
    {
     "data": {
      "text/latex": [
       "$\\displaystyle - 0.27 x_{1} \\left(1 - x_{14}\\right)$"
      ],
      "text/plain": [
       "-0.27*x1*(1 - x14)"
      ]
     },
     "metadata": {},
     "output_type": "display_data"
    },
    {
     "data": {
      "text/latex": [
       "$\\displaystyle - 0.02 x_{1} \\left(1 - x_{15}\\right)$"
      ],
      "text/plain": [
       "-0.02*x1*(1 - x15)"
      ]
     },
     "metadata": {},
     "output_type": "display_data"
    },
    {
     "data": {
      "text/latex": [
       "$\\displaystyle - 0.35 x_{1} \\left(1 - x_{16}\\right)$"
      ],
      "text/plain": [
       "-0.35*x1*(1 - x16)"
      ]
     },
     "metadata": {},
     "output_type": "display_data"
    },
    {
     "data": {
      "text/latex": [
       "$\\displaystyle - 0.19 x_{1} \\left(1 - x_{17}\\right)$"
      ],
      "text/plain": [
       "-0.19*x1*(1 - x17)"
      ]
     },
     "metadata": {},
     "output_type": "display_data"
    },
    {
     "data": {
      "text/latex": [
       "$\\displaystyle - 0.19 x_{1} \\left(1 - x_{18}\\right)$"
      ],
      "text/plain": [
       "-0.19*x1*(1 - x18)"
      ]
     },
     "metadata": {},
     "output_type": "display_data"
    },
    {
     "data": {
      "text/latex": [
       "$\\displaystyle 0.59 x_{1} \\left(1 - x_{19}\\right)$"
      ],
      "text/plain": [
       "0.59*x1*(1 - x19)"
      ]
     },
     "metadata": {},
     "output_type": "display_data"
    },
    {
     "data": {
      "text/latex": [
       "$\\displaystyle 0.61 x_{1} \\left(1 - x_{20}\\right)$"
      ],
      "text/plain": [
       "0.61*x1*(1 - x20)"
      ]
     },
     "metadata": {},
     "output_type": "display_data"
    },
    {
     "data": {
      "text/latex": [
       "$\\displaystyle - 0.31 x_{1} \\left(1 - x_{21}\\right)$"
      ],
      "text/plain": [
       "-0.31*x1*(1 - x21)"
      ]
     },
     "metadata": {},
     "output_type": "display_data"
    },
    {
     "data": {
      "text/latex": [
       "$\\displaystyle - 0.53 x_{1} \\left(1 - x_{22}\\right)$"
      ],
      "text/plain": [
       "-0.53*x1*(1 - x22)"
      ]
     },
     "metadata": {},
     "output_type": "display_data"
    },
    {
     "data": {
      "text/latex": [
       "$\\displaystyle 0.02 x_{1} \\left(1 - x_{23}\\right)$"
      ],
      "text/plain": [
       "0.02*x1*(1 - x23)"
      ]
     },
     "metadata": {},
     "output_type": "display_data"
    },
    {
     "data": {
      "text/latex": [
       "$\\displaystyle 0.39 x_{1} \\left(1 - x_{24}\\right)$"
      ],
      "text/plain": [
       "0.39*x1*(1 - x24)"
      ]
     },
     "metadata": {},
     "output_type": "display_data"
    },
    {
     "data": {
      "text/latex": [
       "$\\displaystyle 0.34 x_{1} \\left(1 - x_{25}\\right)$"
      ],
      "text/plain": [
       "0.34*x1*(1 - x25)"
      ]
     },
     "metadata": {},
     "output_type": "display_data"
    },
    {
     "data": {
      "text/latex": [
       "$\\displaystyle 0.22 x_{1} \\left(1 - x_{26}\\right)$"
      ],
      "text/plain": [
       "0.22*x1*(1 - x26)"
      ]
     },
     "metadata": {},
     "output_type": "display_data"
    },
    {
     "data": {
      "text/latex": [
       "$\\displaystyle 0.75 x_{1} \\left(1 - x_{27}\\right)$"
      ],
      "text/plain": [
       "0.75*x1*(1 - x27)"
      ]
     },
     "metadata": {},
     "output_type": "display_data"
    },
    {
     "data": {
      "text/latex": [
       "$\\displaystyle 0.31 x_{1} \\left(1 - x_{28}\\right)$"
      ],
      "text/plain": [
       "0.31*x1*(1 - x28)"
      ]
     },
     "metadata": {},
     "output_type": "display_data"
    },
    {
     "data": {
      "text/latex": [
       "$\\displaystyle 0.39 x_{1} \\left(1 - x_{29}\\right)$"
      ],
      "text/plain": [
       "0.39*x1*(1 - x29)"
      ]
     },
     "metadata": {},
     "output_type": "display_data"
    },
    {
     "data": {
      "text/latex": [
       "$\\displaystyle 0.9 x_{1} \\left(1 - x_{30}\\right)$"
      ],
      "text/plain": [
       "0.9*x1*(1 - x30)"
      ]
     },
     "metadata": {},
     "output_type": "display_data"
    },
    {
     "data": {
      "text/latex": [
       "$\\displaystyle 0.87 x_{2} \\left(1 - x_{1}\\right)$"
      ],
      "text/plain": [
       "0.87*x2*(1 - x1)"
      ]
     },
     "metadata": {},
     "output_type": "display_data"
    },
    {
     "data": {
      "text/latex": [
       "$\\displaystyle 0$"
      ],
      "text/plain": [
       "0"
      ]
     },
     "metadata": {},
     "output_type": "display_data"
    },
    {
     "data": {
      "text/latex": [
       "$\\displaystyle - 0.02 x_{2} \\left(1 - x_{3}\\right)$"
      ],
      "text/plain": [
       "-0.02*x2*(1 - x3)"
      ]
     },
     "metadata": {},
     "output_type": "display_data"
    },
    {
     "data": {
      "text/latex": [
       "$\\displaystyle 0.5 x_{2} \\left(1 - x_{4}\\right)$"
      ],
      "text/plain": [
       "0.5*x2*(1 - x4)"
      ]
     },
     "metadata": {},
     "output_type": "display_data"
    },
    {
     "data": {
      "text/latex": [
       "$\\displaystyle 0.22 x_{2} \\left(1 - x_{5}\\right)$"
      ],
      "text/plain": [
       "0.22*x2*(1 - x5)"
      ]
     },
     "metadata": {},
     "output_type": "display_data"
    },
    {
     "data": {
      "text/latex": [
       "$\\displaystyle 0.78 x_{2} \\left(1 - x_{6}\\right)$"
      ],
      "text/plain": [
       "0.78*x2*(1 - x6)"
      ]
     },
     "metadata": {},
     "output_type": "display_data"
    },
    {
     "data": {
      "text/latex": [
       "$\\displaystyle 0.82 x_{2} \\left(1 - x_{7}\\right)$"
      ],
      "text/plain": [
       "0.82*x2*(1 - x7)"
      ]
     },
     "metadata": {},
     "output_type": "display_data"
    },
    {
     "data": {
      "text/latex": [
       "$\\displaystyle 0.53 x_{2} \\left(1 - x_{8}\\right)$"
      ],
      "text/plain": [
       "0.53*x2*(1 - x8)"
      ]
     },
     "metadata": {},
     "output_type": "display_data"
    },
    {
     "data": {
      "text/latex": [
       "$\\displaystyle 0.53 x_{2} \\left(1 - x_{9}\\right)$"
      ],
      "text/plain": [
       "0.53*x2*(1 - x9)"
      ]
     },
     "metadata": {},
     "output_type": "display_data"
    },
    {
     "data": {
      "text/latex": [
       "$\\displaystyle 0.17 x_{2} \\left(1 - x_{10}\\right)$"
      ],
      "text/plain": [
       "0.17*x2*(1 - x10)"
      ]
     },
     "metadata": {},
     "output_type": "display_data"
    },
    {
     "data": {
      "text/latex": [
       "$\\displaystyle 0.98 x_{2} \\left(1 - x_{11}\\right)$"
      ],
      "text/plain": [
       "0.98*x2*(1 - x11)"
      ]
     },
     "metadata": {},
     "output_type": "display_data"
    },
    {
     "data": {
      "text/latex": [
       "$\\displaystyle - 0.85 x_{2} \\left(1 - x_{12}\\right)$"
      ],
      "text/plain": [
       "-0.85*x2*(1 - x12)"
      ]
     },
     "metadata": {},
     "output_type": "display_data"
    },
    {
     "data": {
      "text/latex": [
       "$\\displaystyle 0.34 x_{2} \\left(1 - x_{13}\\right)$"
      ],
      "text/plain": [
       "0.34*x2*(1 - x13)"
      ]
     },
     "metadata": {},
     "output_type": "display_data"
    },
    {
     "data": {
      "text/latex": [
       "$\\displaystyle - 0.43 x_{2} \\left(1 - x_{14}\\right)$"
      ],
      "text/plain": [
       "-0.43*x2*(1 - x14)"
      ]
     },
     "metadata": {},
     "output_type": "display_data"
    },
    {
     "data": {
      "text/latex": [
       "$\\displaystyle 0.83 x_{2} \\left(1 - x_{15}\\right)$"
      ],
      "text/plain": [
       "0.83*x2*(1 - x15)"
      ]
     },
     "metadata": {},
     "output_type": "display_data"
    },
    {
     "data": {
      "text/latex": [
       "$\\displaystyle 0.77 x_{2} \\left(1 - x_{16}\\right)$"
      ],
      "text/plain": [
       "0.77*x2*(1 - x16)"
      ]
     },
     "metadata": {},
     "output_type": "display_data"
    },
    {
     "data": {
      "text/latex": [
       "$\\displaystyle 0.57 x_{2} \\left(1 - x_{17}\\right)$"
      ],
      "text/plain": [
       "0.57*x2*(1 - x17)"
      ]
     },
     "metadata": {},
     "output_type": "display_data"
    },
    {
     "data": {
      "text/latex": [
       "$\\displaystyle - 0.03 x_{2} \\left(1 - x_{18}\\right)$"
      ],
      "text/plain": [
       "-0.03*x2*(1 - x18)"
      ]
     },
     "metadata": {},
     "output_type": "display_data"
    },
    {
     "data": {
      "text/latex": [
       "$\\displaystyle 0.06 x_{2} \\left(1 - x_{19}\\right)$"
      ],
      "text/plain": [
       "0.06*x2*(1 - x19)"
      ]
     },
     "metadata": {},
     "output_type": "display_data"
    },
    {
     "data": {
      "text/latex": [
       "$\\displaystyle 0.87 x_{2} \\left(1 - x_{20}\\right)$"
      ],
      "text/plain": [
       "0.87*x2*(1 - x20)"
      ]
     },
     "metadata": {},
     "output_type": "display_data"
    },
    {
     "data": {
      "text/latex": [
       "$\\displaystyle 0.83 x_{2} \\left(1 - x_{21}\\right)$"
      ],
      "text/plain": [
       "0.83*x2*(1 - x21)"
      ]
     },
     "metadata": {},
     "output_type": "display_data"
    },
    {
     "data": {
      "text/latex": [
       "$\\displaystyle 0.82 x_{2} \\left(1 - x_{22}\\right)$"
      ],
      "text/plain": [
       "0.82*x2*(1 - x22)"
      ]
     },
     "metadata": {},
     "output_type": "display_data"
    },
    {
     "data": {
      "text/latex": [
       "$\\displaystyle 0.69 x_{2} \\left(1 - x_{23}\\right)$"
      ],
      "text/plain": [
       "0.69*x2*(1 - x23)"
      ]
     },
     "metadata": {},
     "output_type": "display_data"
    },
    {
     "data": {
      "text/latex": [
       "$\\displaystyle - 0.29 x_{2} \\left(1 - x_{24}\\right)$"
      ],
      "text/plain": [
       "-0.29*x2*(1 - x24)"
      ]
     },
     "metadata": {},
     "output_type": "display_data"
    },
    {
     "data": {
      "text/latex": [
       "$\\displaystyle - 0.33 x_{2} \\left(1 - x_{25}\\right)$"
      ],
      "text/plain": [
       "-0.33*x2*(1 - x25)"
      ]
     },
     "metadata": {},
     "output_type": "display_data"
    },
    {
     "data": {
      "text/latex": [
       "$\\displaystyle - 0.01 x_{2} \\left(1 - x_{26}\\right)$"
      ],
      "text/plain": [
       "-0.01*x2*(1 - x26)"
      ]
     },
     "metadata": {},
     "output_type": "display_data"
    },
    {
     "data": {
      "text/latex": [
       "$\\displaystyle - 0.77 x_{2} \\left(1 - x_{27}\\right)$"
      ],
      "text/plain": [
       "-0.77*x2*(1 - x27)"
      ]
     },
     "metadata": {},
     "output_type": "display_data"
    },
    {
     "data": {
      "text/latex": [
       "$\\displaystyle - 0.01 x_{2} \\left(1 - x_{28}\\right)$"
      ],
      "text/plain": [
       "-0.01*x2*(1 - x28)"
      ]
     },
     "metadata": {},
     "output_type": "display_data"
    },
    {
     "data": {
      "text/latex": [
       "$\\displaystyle - 0.95 x_{2} \\left(1 - x_{29}\\right)$"
      ],
      "text/plain": [
       "-0.95*x2*(1 - x29)"
      ]
     },
     "metadata": {},
     "output_type": "display_data"
    },
    {
     "data": {
      "text/latex": [
       "$\\displaystyle 0.14 x_{2} \\left(1 - x_{30}\\right)$"
      ],
      "text/plain": [
       "0.14*x2*(1 - x30)"
      ]
     },
     "metadata": {},
     "output_type": "display_data"
    },
    {
     "data": {
      "text/latex": [
       "$\\displaystyle - 0.28 x_{3} \\left(1 - x_{1}\\right)$"
      ],
      "text/plain": [
       "-0.28*x3*(1 - x1)"
      ]
     },
     "metadata": {},
     "output_type": "display_data"
    },
    {
     "data": {
      "text/latex": [
       "$\\displaystyle - 0.02 x_{3} \\left(1 - x_{2}\\right)$"
      ],
      "text/plain": [
       "-0.02*x3*(1 - x2)"
      ]
     },
     "metadata": {},
     "output_type": "display_data"
    },
    {
     "data": {
      "text/latex": [
       "$\\displaystyle 0$"
      ],
      "text/plain": [
       "0"
      ]
     },
     "metadata": {},
     "output_type": "display_data"
    },
    {
     "data": {
      "text/latex": [
       "$\\displaystyle 0.13 x_{3} \\left(1 - x_{4}\\right)$"
      ],
      "text/plain": [
       "0.13*x3*(1 - x4)"
      ]
     },
     "metadata": {},
     "output_type": "display_data"
    },
    {
     "data": {
      "text/latex": [
       "$\\displaystyle 0.25 x_{3} \\left(1 - x_{5}\\right)$"
      ],
      "text/plain": [
       "0.25*x3*(1 - x5)"
      ]
     },
     "metadata": {},
     "output_type": "display_data"
    },
    {
     "data": {
      "text/latex": [
       "$\\displaystyle - 0.92 x_{3} \\left(1 - x_{6}\\right)$"
      ],
      "text/plain": [
       "-0.92*x3*(1 - x6)"
      ]
     },
     "metadata": {},
     "output_type": "display_data"
    },
    {
     "data": {
      "text/latex": [
       "$\\displaystyle - 0.39 x_{3} \\left(1 - x_{7}\\right)$"
      ],
      "text/plain": [
       "-0.39*x3*(1 - x7)"
      ]
     },
     "metadata": {},
     "output_type": "display_data"
    },
    {
     "data": {
      "text/latex": [
       "$\\displaystyle - 0.34 x_{3} \\left(1 - x_{8}\\right)$"
      ],
      "text/plain": [
       "-0.34*x3*(1 - x8)"
      ]
     },
     "metadata": {},
     "output_type": "display_data"
    },
    {
     "data": {
      "text/latex": [
       "$\\displaystyle 0.46 x_{3} \\left(1 - x_{9}\\right)$"
      ],
      "text/plain": [
       "0.46*x3*(1 - x9)"
      ]
     },
     "metadata": {},
     "output_type": "display_data"
    },
    {
     "data": {
      "text/latex": [
       "$\\displaystyle - 0.5 x_{3} \\left(1 - x_{10}\\right)$"
      ],
      "text/plain": [
       "-0.5*x3*(1 - x10)"
      ]
     },
     "metadata": {},
     "output_type": "display_data"
    },
    {
     "data": {
      "text/latex": [
       "$\\displaystyle 0.14 x_{3} \\left(1 - x_{11}\\right)$"
      ],
      "text/plain": [
       "0.14*x3*(1 - x11)"
      ]
     },
     "metadata": {},
     "output_type": "display_data"
    },
    {
     "data": {
      "text/latex": [
       "$\\displaystyle - 0.2 x_{3} \\left(1 - x_{12}\\right)$"
      ],
      "text/plain": [
       "-0.2*x3*(1 - x12)"
      ]
     },
     "metadata": {},
     "output_type": "display_data"
    },
    {
     "data": {
      "text/latex": [
       "$\\displaystyle 0.79 x_{3} \\left(1 - x_{13}\\right)$"
      ],
      "text/plain": [
       "0.79*x3*(1 - x13)"
      ]
     },
     "metadata": {},
     "output_type": "display_data"
    },
    {
     "data": {
      "text/latex": [
       "$\\displaystyle - 0.72 x_{3} \\left(1 - x_{14}\\right)$"
      ],
      "text/plain": [
       "-0.72*x3*(1 - x14)"
      ]
     },
     "metadata": {},
     "output_type": "display_data"
    },
    {
     "data": {
      "text/latex": [
       "$\\displaystyle - 0.55 x_{3} \\left(1 - x_{15}\\right)$"
      ],
      "text/plain": [
       "-0.55*x3*(1 - x15)"
      ]
     },
     "metadata": {},
     "output_type": "display_data"
    },
    {
     "data": {
      "text/latex": [
       "$\\displaystyle - 0.01 x_{3} \\left(1 - x_{16}\\right)$"
      ],
      "text/plain": [
       "-0.01*x3*(1 - x16)"
      ]
     },
     "metadata": {},
     "output_type": "display_data"
    },
    {
     "data": {
      "text/latex": [
       "$\\displaystyle 0.9 x_{3} \\left(1 - x_{17}\\right)$"
      ],
      "text/plain": [
       "0.9*x3*(1 - x17)"
      ]
     },
     "metadata": {},
     "output_type": "display_data"
    },
    {
     "data": {
      "text/latex": [
       "$\\displaystyle - 0.88 x_{3} \\left(1 - x_{18}\\right)$"
      ],
      "text/plain": [
       "-0.88*x3*(1 - x18)"
      ]
     },
     "metadata": {},
     "output_type": "display_data"
    },
    {
     "data": {
      "text/latex": [
       "$\\displaystyle - 0.37 x_{3} \\left(1 - x_{19}\\right)$"
      ],
      "text/plain": [
       "-0.37*x3*(1 - x19)"
      ]
     },
     "metadata": {},
     "output_type": "display_data"
    },
    {
     "data": {
      "text/latex": [
       "$\\displaystyle 0.68 x_{3} \\left(1 - x_{20}\\right)$"
      ],
      "text/plain": [
       "0.68*x3*(1 - x20)"
      ]
     },
     "metadata": {},
     "output_type": "display_data"
    },
    {
     "data": {
      "text/latex": [
       "$\\displaystyle - 0.94 x_{3} \\left(1 - x_{21}\\right)$"
      ],
      "text/plain": [
       "-0.94*x3*(1 - x21)"
      ]
     },
     "metadata": {},
     "output_type": "display_data"
    },
    {
     "data": {
      "text/latex": [
       "$\\displaystyle 0.61 x_{3} \\left(1 - x_{22}\\right)$"
      ],
      "text/plain": [
       "0.61*x3*(1 - x22)"
      ]
     },
     "metadata": {},
     "output_type": "display_data"
    },
    {
     "data": {
      "text/latex": [
       "$\\displaystyle 0.8 x_{3} \\left(1 - x_{23}\\right)$"
      ],
      "text/plain": [
       "0.8*x3*(1 - x23)"
      ]
     },
     "metadata": {},
     "output_type": "display_data"
    },
    {
     "data": {
      "text/latex": [
       "$\\displaystyle 0.01 x_{3} \\left(1 - x_{24}\\right)$"
      ],
      "text/plain": [
       "0.01*x3*(1 - x24)"
      ]
     },
     "metadata": {},
     "output_type": "display_data"
    },
    {
     "data": {
      "text/latex": [
       "$\\displaystyle 0.34 x_{3} \\left(1 - x_{25}\\right)$"
      ],
      "text/plain": [
       "0.34*x3*(1 - x25)"
      ]
     },
     "metadata": {},
     "output_type": "display_data"
    },
    {
     "data": {
      "text/latex": [
       "$\\displaystyle 0.43 x_{3} \\left(1 - x_{26}\\right)$"
      ],
      "text/plain": [
       "0.43*x3*(1 - x26)"
      ]
     },
     "metadata": {},
     "output_type": "display_data"
    },
    {
     "data": {
      "text/latex": [
       "$\\displaystyle 0.95 x_{3} \\left(1 - x_{27}\\right)$"
      ],
      "text/plain": [
       "0.95*x3*(1 - x27)"
      ]
     },
     "metadata": {},
     "output_type": "display_data"
    },
    {
     "data": {
      "text/latex": [
       "$\\displaystyle - 0.68 x_{3} \\left(1 - x_{28}\\right)$"
      ],
      "text/plain": [
       "-0.68*x3*(1 - x28)"
      ]
     },
     "metadata": {},
     "output_type": "display_data"
    },
    {
     "data": {
      "text/latex": [
       "$\\displaystyle - 0.27 x_{3} \\left(1 - x_{29}\\right)$"
      ],
      "text/plain": [
       "-0.27*x3*(1 - x29)"
      ]
     },
     "metadata": {},
     "output_type": "display_data"
    },
    {
     "data": {
      "text/latex": [
       "$\\displaystyle - 0.53 x_{3} \\left(1 - x_{30}\\right)$"
      ],
      "text/plain": [
       "-0.53*x3*(1 - x30)"
      ]
     },
     "metadata": {},
     "output_type": "display_data"
    },
    {
     "data": {
      "text/latex": [
       "$\\displaystyle - 0.28 x_{4} \\left(1 - x_{1}\\right)$"
      ],
      "text/plain": [
       "-0.28*x4*(1 - x1)"
      ]
     },
     "metadata": {},
     "output_type": "display_data"
    },
    {
     "data": {
      "text/latex": [
       "$\\displaystyle 0.5 x_{4} \\left(1 - x_{2}\\right)$"
      ],
      "text/plain": [
       "0.5*x4*(1 - x2)"
      ]
     },
     "metadata": {},
     "output_type": "display_data"
    },
    {
     "data": {
      "text/latex": [
       "$\\displaystyle 0.13 x_{4} \\left(1 - x_{3}\\right)$"
      ],
      "text/plain": [
       "0.13*x4*(1 - x3)"
      ]
     },
     "metadata": {},
     "output_type": "display_data"
    },
    {
     "data": {
      "text/latex": [
       "$\\displaystyle 0$"
      ],
      "text/plain": [
       "0"
      ]
     },
     "metadata": {},
     "output_type": "display_data"
    },
    {
     "data": {
      "text/latex": [
       "$\\displaystyle - 0.3 x_{4} \\left(1 - x_{5}\\right)$"
      ],
      "text/plain": [
       "-0.3*x4*(1 - x5)"
      ]
     },
     "metadata": {},
     "output_type": "display_data"
    },
    {
     "data": {
      "text/latex": [
       "$\\displaystyle 0.16 x_{4} \\left(1 - x_{6}\\right)$"
      ],
      "text/plain": [
       "0.16*x4*(1 - x6)"
      ]
     },
     "metadata": {},
     "output_type": "display_data"
    },
    {
     "data": {
      "text/latex": [
       "$\\displaystyle - 0.33 x_{4} \\left(1 - x_{7}\\right)$"
      ],
      "text/plain": [
       "-0.33*x4*(1 - x7)"
      ]
     },
     "metadata": {},
     "output_type": "display_data"
    },
    {
     "data": {
      "text/latex": [
       "$\\displaystyle 0.68 x_{4} \\left(1 - x_{8}\\right)$"
      ],
      "text/plain": [
       "0.68*x4*(1 - x8)"
      ]
     },
     "metadata": {},
     "output_type": "display_data"
    },
    {
     "data": {
      "text/latex": [
       "$\\displaystyle 0.84 x_{4} \\left(1 - x_{9}\\right)$"
      ],
      "text/plain": [
       "0.84*x4*(1 - x9)"
      ]
     },
     "metadata": {},
     "output_type": "display_data"
    },
    {
     "data": {
      "text/latex": [
       "$\\displaystyle - 0.09 x_{4} \\left(1 - x_{10}\\right)$"
      ],
      "text/plain": [
       "-0.09*x4*(1 - x10)"
      ]
     },
     "metadata": {},
     "output_type": "display_data"
    },
    {
     "data": {
      "text/latex": [
       "$\\displaystyle - 1.0 x_{4} \\left(1 - x_{11}\\right)$"
      ],
      "text/plain": [
       "-1.0*x4*(1 - x11)"
      ]
     },
     "metadata": {},
     "output_type": "display_data"
    },
    {
     "data": {
      "text/latex": [
       "$\\displaystyle - 0.71 x_{4} \\left(1 - x_{12}\\right)$"
      ],
      "text/plain": [
       "-0.71*x4*(1 - x12)"
      ]
     },
     "metadata": {},
     "output_type": "display_data"
    },
    {
     "data": {
      "text/latex": [
       "$\\displaystyle 0.85 x_{4} \\left(1 - x_{13}\\right)$"
      ],
      "text/plain": [
       "0.85*x4*(1 - x13)"
      ]
     },
     "metadata": {},
     "output_type": "display_data"
    },
    {
     "data": {
      "text/latex": [
       "$\\displaystyle 0.99 x_{4} \\left(1 - x_{14}\\right)$"
      ],
      "text/plain": [
       "0.99*x4*(1 - x14)"
      ]
     },
     "metadata": {},
     "output_type": "display_data"
    },
    {
     "data": {
      "text/latex": [
       "$\\displaystyle 0.4 x_{4} \\left(1 - x_{15}\\right)$"
      ],
      "text/plain": [
       "0.4*x4*(1 - x15)"
      ]
     },
     "metadata": {},
     "output_type": "display_data"
    },
    {
     "data": {
      "text/latex": [
       "$\\displaystyle 0.31 x_{4} \\left(1 - x_{16}\\right)$"
      ],
      "text/plain": [
       "0.31*x4*(1 - x16)"
      ]
     },
     "metadata": {},
     "output_type": "display_data"
    },
    {
     "data": {
      "text/latex": [
       "$\\displaystyle - 0.6 x_{4} \\left(1 - x_{17}\\right)$"
      ],
      "text/plain": [
       "-0.6*x4*(1 - x17)"
      ]
     },
     "metadata": {},
     "output_type": "display_data"
    },
    {
     "data": {
      "text/latex": [
       "$\\displaystyle - 0.46 x_{4} \\left(1 - x_{18}\\right)$"
      ],
      "text/plain": [
       "-0.46*x4*(1 - x18)"
      ]
     },
     "metadata": {},
     "output_type": "display_data"
    },
    {
     "data": {
      "text/latex": [
       "$\\displaystyle - 0.38 x_{4} \\left(1 - x_{19}\\right)$"
      ],
      "text/plain": [
       "-0.38*x4*(1 - x19)"
      ]
     },
     "metadata": {},
     "output_type": "display_data"
    },
    {
     "data": {
      "text/latex": [
       "$\\displaystyle - 0.71 x_{4} \\left(1 - x_{20}\\right)$"
      ],
      "text/plain": [
       "-0.71*x4*(1 - x20)"
      ]
     },
     "metadata": {},
     "output_type": "display_data"
    },
    {
     "data": {
      "text/latex": [
       "$\\displaystyle - 0.86 x_{4} \\left(1 - x_{21}\\right)$"
      ],
      "text/plain": [
       "-0.86*x4*(1 - x21)"
      ]
     },
     "metadata": {},
     "output_type": "display_data"
    },
    {
     "data": {
      "text/latex": [
       "$\\displaystyle 0.89 x_{4} \\left(1 - x_{22}\\right)$"
      ],
      "text/plain": [
       "0.89*x4*(1 - x22)"
      ]
     },
     "metadata": {},
     "output_type": "display_data"
    },
    {
     "data": {
      "text/latex": [
       "$\\displaystyle 0.5 x_{4} \\left(1 - x_{23}\\right)$"
      ],
      "text/plain": [
       "0.5*x4*(1 - x23)"
      ]
     },
     "metadata": {},
     "output_type": "display_data"
    },
    {
     "data": {
      "text/latex": [
       "$\\displaystyle - 0.36 x_{4} \\left(1 - x_{24}\\right)$"
      ],
      "text/plain": [
       "-0.36*x4*(1 - x24)"
      ]
     },
     "metadata": {},
     "output_type": "display_data"
    },
    {
     "data": {
      "text/latex": [
       "$\\displaystyle 0.07 x_{4} \\left(1 - x_{25}\\right)$"
      ],
      "text/plain": [
       "0.07*x4*(1 - x25)"
      ]
     },
     "metadata": {},
     "output_type": "display_data"
    },
    {
     "data": {
      "text/latex": [
       "$\\displaystyle - 0.43 x_{4} \\left(1 - x_{26}\\right)$"
      ],
      "text/plain": [
       "-0.43*x4*(1 - x26)"
      ]
     },
     "metadata": {},
     "output_type": "display_data"
    },
    {
     "data": {
      "text/latex": [
       "$\\displaystyle - 0.5 x_{4} \\left(1 - x_{27}\\right)$"
      ],
      "text/plain": [
       "-0.5*x4*(1 - x27)"
      ]
     },
     "metadata": {},
     "output_type": "display_data"
    },
    {
     "data": {
      "text/latex": [
       "$\\displaystyle - 0.07 x_{4} \\left(1 - x_{28}\\right)$"
      ],
      "text/plain": [
       "-0.07*x4*(1 - x28)"
      ]
     },
     "metadata": {},
     "output_type": "display_data"
    },
    {
     "data": {
      "text/latex": [
       "$\\displaystyle 0.41 x_{4} \\left(1 - x_{29}\\right)$"
      ],
      "text/plain": [
       "0.41*x4*(1 - x29)"
      ]
     },
     "metadata": {},
     "output_type": "display_data"
    },
    {
     "data": {
      "text/latex": [
       "$\\displaystyle 0.19 x_{4} \\left(1 - x_{30}\\right)$"
      ],
      "text/plain": [
       "0.19*x4*(1 - x30)"
      ]
     },
     "metadata": {},
     "output_type": "display_data"
    },
    {
     "data": {
      "text/latex": [
       "$\\displaystyle 0.43 x_{5} \\left(1 - x_{1}\\right)$"
      ],
      "text/plain": [
       "0.43*x5*(1 - x1)"
      ]
     },
     "metadata": {},
     "output_type": "display_data"
    },
    {
     "data": {
      "text/latex": [
       "$\\displaystyle 0.22 x_{5} \\left(1 - x_{2}\\right)$"
      ],
      "text/plain": [
       "0.22*x5*(1 - x2)"
      ]
     },
     "metadata": {},
     "output_type": "display_data"
    },
    {
     "data": {
      "text/latex": [
       "$\\displaystyle 0.25 x_{5} \\left(1 - x_{3}\\right)$"
      ],
      "text/plain": [
       "0.25*x5*(1 - x3)"
      ]
     },
     "metadata": {},
     "output_type": "display_data"
    },
    {
     "data": {
      "text/latex": [
       "$\\displaystyle - 0.3 x_{5} \\left(1 - x_{4}\\right)$"
      ],
      "text/plain": [
       "-0.3*x5*(1 - x4)"
      ]
     },
     "metadata": {},
     "output_type": "display_data"
    },
    {
     "data": {
      "text/latex": [
       "$\\displaystyle 0$"
      ],
      "text/plain": [
       "0"
      ]
     },
     "metadata": {},
     "output_type": "display_data"
    },
    {
     "data": {
      "text/latex": [
       "$\\displaystyle - 0.49 x_{5} \\left(1 - x_{6}\\right)$"
      ],
      "text/plain": [
       "-0.49*x5*(1 - x6)"
      ]
     },
     "metadata": {},
     "output_type": "display_data"
    },
    {
     "data": {
      "text/latex": [
       "$\\displaystyle - 0.6 x_{5} \\left(1 - x_{7}\\right)$"
      ],
      "text/plain": [
       "-0.6*x5*(1 - x7)"
      ]
     },
     "metadata": {},
     "output_type": "display_data"
    },
    {
     "data": {
      "text/latex": [
       "$\\displaystyle - 0.41 x_{5} \\left(1 - x_{8}\\right)$"
      ],
      "text/plain": [
       "-0.41*x5*(1 - x8)"
      ]
     },
     "metadata": {},
     "output_type": "display_data"
    },
    {
     "data": {
      "text/latex": [
       "$\\displaystyle - 0.95 x_{5} \\left(1 - x_{9}\\right)$"
      ],
      "text/plain": [
       "-0.95*x5*(1 - x9)"
      ]
     },
     "metadata": {},
     "output_type": "display_data"
    },
    {
     "data": {
      "text/latex": [
       "$\\displaystyle 0.7 x_{5} \\left(1 - x_{10}\\right)$"
      ],
      "text/plain": [
       "0.7*x5*(1 - x10)"
      ]
     },
     "metadata": {},
     "output_type": "display_data"
    },
    {
     "data": {
      "text/latex": [
       "$\\displaystyle 0.44 x_{5} \\left(1 - x_{11}\\right)$"
      ],
      "text/plain": [
       "0.44*x5*(1 - x11)"
      ]
     },
     "metadata": {},
     "output_type": "display_data"
    },
    {
     "data": {
      "text/latex": [
       "$\\displaystyle - 0.24 x_{5} \\left(1 - x_{12}\\right)$"
      ],
      "text/plain": [
       "-0.24*x5*(1 - x12)"
      ]
     },
     "metadata": {},
     "output_type": "display_data"
    },
    {
     "data": {
      "text/latex": [
       "$\\displaystyle 0.35 x_{5} \\left(1 - x_{13}\\right)$"
      ],
      "text/plain": [
       "0.35*x5*(1 - x13)"
      ]
     },
     "metadata": {},
     "output_type": "display_data"
    },
    {
     "data": {
      "text/latex": [
       "$\\displaystyle - 0.01 x_{5} \\left(1 - x_{14}\\right)$"
      ],
      "text/plain": [
       "-0.01*x5*(1 - x14)"
      ]
     },
     "metadata": {},
     "output_type": "display_data"
    },
    {
     "data": {
      "text/latex": [
       "$\\displaystyle 0.59 x_{5} \\left(1 - x_{15}\\right)$"
      ],
      "text/plain": [
       "0.59*x5*(1 - x15)"
      ]
     },
     "metadata": {},
     "output_type": "display_data"
    },
    {
     "data": {
      "text/latex": [
       "$\\displaystyle - 0.42 x_{5} \\left(1 - x_{16}\\right)$"
      ],
      "text/plain": [
       "-0.42*x5*(1 - x16)"
      ]
     },
     "metadata": {},
     "output_type": "display_data"
    },
    {
     "data": {
      "text/latex": [
       "$\\displaystyle - 0.49 x_{5} \\left(1 - x_{17}\\right)$"
      ],
      "text/plain": [
       "-0.49*x5*(1 - x17)"
      ]
     },
     "metadata": {},
     "output_type": "display_data"
    },
    {
     "data": {
      "text/latex": [
       "$\\displaystyle - 0.49 x_{5} \\left(1 - x_{18}\\right)$"
      ],
      "text/plain": [
       "-0.49*x5*(1 - x18)"
      ]
     },
     "metadata": {},
     "output_type": "display_data"
    },
    {
     "data": {
      "text/latex": [
       "$\\displaystyle - 0.63 x_{5} \\left(1 - x_{19}\\right)$"
      ],
      "text/plain": [
       "-0.63*x5*(1 - x19)"
      ]
     },
     "metadata": {},
     "output_type": "display_data"
    },
    {
     "data": {
      "text/latex": [
       "$\\displaystyle 0.64 x_{5} \\left(1 - x_{20}\\right)$"
      ],
      "text/plain": [
       "0.64*x5*(1 - x20)"
      ]
     },
     "metadata": {},
     "output_type": "display_data"
    },
    {
     "data": {
      "text/latex": [
       "$\\displaystyle 0.74 x_{5} \\left(1 - x_{21}\\right)$"
      ],
      "text/plain": [
       "0.74*x5*(1 - x21)"
      ]
     },
     "metadata": {},
     "output_type": "display_data"
    },
    {
     "data": {
      "text/latex": [
       "$\\displaystyle - 0.64 x_{5} \\left(1 - x_{22}\\right)$"
      ],
      "text/plain": [
       "-0.64*x5*(1 - x22)"
      ]
     },
     "metadata": {},
     "output_type": "display_data"
    },
    {
     "data": {
      "text/latex": [
       "$\\displaystyle 0.22 x_{5} \\left(1 - x_{23}\\right)$"
      ],
      "text/plain": [
       "0.22*x5*(1 - x23)"
      ]
     },
     "metadata": {},
     "output_type": "display_data"
    },
    {
     "data": {
      "text/latex": [
       "$\\displaystyle - 0.12 x_{5} \\left(1 - x_{24}\\right)$"
      ],
      "text/plain": [
       "-0.12*x5*(1 - x24)"
      ]
     },
     "metadata": {},
     "output_type": "display_data"
    },
    {
     "data": {
      "text/latex": [
       "$\\displaystyle - 0.49 x_{5} \\left(1 - x_{25}\\right)$"
      ],
      "text/plain": [
       "-0.49*x5*(1 - x25)"
      ]
     },
     "metadata": {},
     "output_type": "display_data"
    },
    {
     "data": {
      "text/latex": [
       "$\\displaystyle 0$"
      ],
      "text/plain": [
       "0"
      ]
     },
     "metadata": {},
     "output_type": "display_data"
    },
    {
     "data": {
      "text/latex": [
       "$\\displaystyle 0.33 x_{5} \\left(1 - x_{27}\\right)$"
      ],
      "text/plain": [
       "0.33*x5*(1 - x27)"
      ]
     },
     "metadata": {},
     "output_type": "display_data"
    },
    {
     "data": {
      "text/latex": [
       "$\\displaystyle - 0.97 x_{5} \\left(1 - x_{28}\\right)$"
      ],
      "text/plain": [
       "-0.97*x5*(1 - x28)"
      ]
     },
     "metadata": {},
     "output_type": "display_data"
    },
    {
     "data": {
      "text/latex": [
       "$\\displaystyle 0.29 x_{5} \\left(1 - x_{29}\\right)$"
      ],
      "text/plain": [
       "0.29*x5*(1 - x29)"
      ]
     },
     "metadata": {},
     "output_type": "display_data"
    },
    {
     "data": {
      "text/latex": [
       "$\\displaystyle 0.12 x_{5} \\left(1 - x_{30}\\right)$"
      ],
      "text/plain": [
       "0.12*x5*(1 - x30)"
      ]
     },
     "metadata": {},
     "output_type": "display_data"
    },
    {
     "data": {
      "text/latex": [
       "$\\displaystyle - 0.83 x_{6} \\left(1 - x_{1}\\right)$"
      ],
      "text/plain": [
       "-0.83*x6*(1 - x1)"
      ]
     },
     "metadata": {},
     "output_type": "display_data"
    },
    {
     "data": {
      "text/latex": [
       "$\\displaystyle 0.78 x_{6} \\left(1 - x_{2}\\right)$"
      ],
      "text/plain": [
       "0.78*x6*(1 - x2)"
      ]
     },
     "metadata": {},
     "output_type": "display_data"
    },
    {
     "data": {
      "text/latex": [
       "$\\displaystyle - 0.92 x_{6} \\left(1 - x_{3}\\right)$"
      ],
      "text/plain": [
       "-0.92*x6*(1 - x3)"
      ]
     },
     "metadata": {},
     "output_type": "display_data"
    },
    {
     "data": {
      "text/latex": [
       "$\\displaystyle 0.16 x_{6} \\left(1 - x_{4}\\right)$"
      ],
      "text/plain": [
       "0.16*x6*(1 - x4)"
      ]
     },
     "metadata": {},
     "output_type": "display_data"
    },
    {
     "data": {
      "text/latex": [
       "$\\displaystyle - 0.49 x_{6} \\left(1 - x_{5}\\right)$"
      ],
      "text/plain": [
       "-0.49*x6*(1 - x5)"
      ]
     },
     "metadata": {},
     "output_type": "display_data"
    },
    {
     "data": {
      "text/latex": [
       "$\\displaystyle 0$"
      ],
      "text/plain": [
       "0"
      ]
     },
     "metadata": {},
     "output_type": "display_data"
    },
    {
     "data": {
      "text/latex": [
       "$\\displaystyle - 0.75 x_{6} \\left(1 - x_{7}\\right)$"
      ],
      "text/plain": [
       "-0.75*x6*(1 - x7)"
      ]
     },
     "metadata": {},
     "output_type": "display_data"
    },
    {
     "data": {
      "text/latex": [
       "$\\displaystyle - 0.97 x_{6} \\left(1 - x_{8}\\right)$"
      ],
      "text/plain": [
       "-0.97*x6*(1 - x8)"
      ]
     },
     "metadata": {},
     "output_type": "display_data"
    },
    {
     "data": {
      "text/latex": [
       "$\\displaystyle - 0.39 x_{6} \\left(1 - x_{9}\\right)$"
      ],
      "text/plain": [
       "-0.39*x6*(1 - x9)"
      ]
     },
     "metadata": {},
     "output_type": "display_data"
    },
    {
     "data": {
      "text/latex": [
       "$\\displaystyle - 0.95 x_{6} \\left(1 - x_{10}\\right)$"
      ],
      "text/plain": [
       "-0.95*x6*(1 - x10)"
      ]
     },
     "metadata": {},
     "output_type": "display_data"
    },
    {
     "data": {
      "text/latex": [
       "$\\displaystyle - 0.67 x_{6} \\left(1 - x_{11}\\right)$"
      ],
      "text/plain": [
       "-0.67*x6*(1 - x11)"
      ]
     },
     "metadata": {},
     "output_type": "display_data"
    },
    {
     "data": {
      "text/latex": [
       "$\\displaystyle - 0.09 x_{6} \\left(1 - x_{12}\\right)$"
      ],
      "text/plain": [
       "-0.09*x6*(1 - x12)"
      ]
     },
     "metadata": {},
     "output_type": "display_data"
    },
    {
     "data": {
      "text/latex": [
       "$\\displaystyle - 0.27 x_{6} \\left(1 - x_{13}\\right)$"
      ],
      "text/plain": [
       "-0.27*x6*(1 - x13)"
      ]
     },
     "metadata": {},
     "output_type": "display_data"
    },
    {
     "data": {
      "text/latex": [
       "$\\displaystyle - 0.89 x_{6} \\left(1 - x_{14}\\right)$"
      ],
      "text/plain": [
       "-0.89*x6*(1 - x14)"
      ]
     },
     "metadata": {},
     "output_type": "display_data"
    },
    {
     "data": {
      "text/latex": [
       "$\\displaystyle 0.93 x_{6} \\left(1 - x_{15}\\right)$"
      ],
      "text/plain": [
       "0.93*x6*(1 - x15)"
      ]
     },
     "metadata": {},
     "output_type": "display_data"
    },
    {
     "data": {
      "text/latex": [
       "$\\displaystyle 0.22 x_{6} \\left(1 - x_{16}\\right)$"
      ],
      "text/plain": [
       "0.22*x6*(1 - x16)"
      ]
     },
     "metadata": {},
     "output_type": "display_data"
    },
    {
     "data": {
      "text/latex": [
       "$\\displaystyle - 0.21 x_{6} \\left(1 - x_{17}\\right)$"
      ],
      "text/plain": [
       "-0.21*x6*(1 - x17)"
      ]
     },
     "metadata": {},
     "output_type": "display_data"
    },
    {
     "data": {
      "text/latex": [
       "$\\displaystyle 0.34 x_{6} \\left(1 - x_{18}\\right)$"
      ],
      "text/plain": [
       "0.34*x6*(1 - x18)"
      ]
     },
     "metadata": {},
     "output_type": "display_data"
    },
    {
     "data": {
      "text/latex": [
       "$\\displaystyle 0.26 x_{6} \\left(1 - x_{19}\\right)$"
      ],
      "text/plain": [
       "0.26*x6*(1 - x19)"
      ]
     },
     "metadata": {},
     "output_type": "display_data"
    },
    {
     "data": {
      "text/latex": [
       "$\\displaystyle 0.41 x_{6} \\left(1 - x_{20}\\right)$"
      ],
      "text/plain": [
       "0.41*x6*(1 - x20)"
      ]
     },
     "metadata": {},
     "output_type": "display_data"
    },
    {
     "data": {
      "text/latex": [
       "$\\displaystyle - 0.15 x_{6} \\left(1 - x_{21}\\right)$"
      ],
      "text/plain": [
       "-0.15*x6*(1 - x21)"
      ]
     },
     "metadata": {},
     "output_type": "display_data"
    },
    {
     "data": {
      "text/latex": [
       "$\\displaystyle - 0.31 x_{6} \\left(1 - x_{22}\\right)$"
      ],
      "text/plain": [
       "-0.31*x6*(1 - x22)"
      ]
     },
     "metadata": {},
     "output_type": "display_data"
    },
    {
     "data": {
      "text/latex": [
       "$\\displaystyle - 0.92 x_{6} \\left(1 - x_{23}\\right)$"
      ],
      "text/plain": [
       "-0.92*x6*(1 - x23)"
      ]
     },
     "metadata": {},
     "output_type": "display_data"
    },
    {
     "data": {
      "text/latex": [
       "$\\displaystyle 0.9 x_{6} \\left(1 - x_{24}\\right)$"
      ],
      "text/plain": [
       "0.9*x6*(1 - x24)"
      ]
     },
     "metadata": {},
     "output_type": "display_data"
    },
    {
     "data": {
      "text/latex": [
       "$\\displaystyle 0.47 x_{6} \\left(1 - x_{25}\\right)$"
      ],
      "text/plain": [
       "0.47*x6*(1 - x25)"
      ]
     },
     "metadata": {},
     "output_type": "display_data"
    },
    {
     "data": {
      "text/latex": [
       "$\\displaystyle - 0.64 x_{6} \\left(1 - x_{26}\\right)$"
      ],
      "text/plain": [
       "-0.64*x6*(1 - x26)"
      ]
     },
     "metadata": {},
     "output_type": "display_data"
    },
    {
     "data": {
      "text/latex": [
       "$\\displaystyle - 0.36 x_{6} \\left(1 - x_{27}\\right)$"
      ],
      "text/plain": [
       "-0.36*x6*(1 - x27)"
      ]
     },
     "metadata": {},
     "output_type": "display_data"
    },
    {
     "data": {
      "text/latex": [
       "$\\displaystyle - 0.44 x_{6} \\left(1 - x_{28}\\right)$"
      ],
      "text/plain": [
       "-0.44*x6*(1 - x28)"
      ]
     },
     "metadata": {},
     "output_type": "display_data"
    },
    {
     "data": {
      "text/latex": [
       "$\\displaystyle - 0.54 x_{6} \\left(1 - x_{29}\\right)$"
      ],
      "text/plain": [
       "-0.54*x6*(1 - x29)"
      ]
     },
     "metadata": {},
     "output_type": "display_data"
    },
    {
     "data": {
      "text/latex": [
       "$\\displaystyle 0.78 x_{6} \\left(1 - x_{30}\\right)$"
      ],
      "text/plain": [
       "0.78*x6*(1 - x30)"
      ]
     },
     "metadata": {},
     "output_type": "display_data"
    },
    {
     "data": {
      "text/latex": [
       "$\\displaystyle - 0.72 x_{7} \\left(1 - x_{1}\\right)$"
      ],
      "text/plain": [
       "-0.72*x7*(1 - x1)"
      ]
     },
     "metadata": {},
     "output_type": "display_data"
    },
    {
     "data": {
      "text/latex": [
       "$\\displaystyle 0.82 x_{7} \\left(1 - x_{2}\\right)$"
      ],
      "text/plain": [
       "0.82*x7*(1 - x2)"
      ]
     },
     "metadata": {},
     "output_type": "display_data"
    },
    {
     "data": {
      "text/latex": [
       "$\\displaystyle - 0.39 x_{7} \\left(1 - x_{3}\\right)$"
      ],
      "text/plain": [
       "-0.39*x7*(1 - x3)"
      ]
     },
     "metadata": {},
     "output_type": "display_data"
    },
    {
     "data": {
      "text/latex": [
       "$\\displaystyle - 0.33 x_{7} \\left(1 - x_{4}\\right)$"
      ],
      "text/plain": [
       "-0.33*x7*(1 - x4)"
      ]
     },
     "metadata": {},
     "output_type": "display_data"
    },
    {
     "data": {
      "text/latex": [
       "$\\displaystyle - 0.6 x_{7} \\left(1 - x_{5}\\right)$"
      ],
      "text/plain": [
       "-0.6*x7*(1 - x5)"
      ]
     },
     "metadata": {},
     "output_type": "display_data"
    },
    {
     "data": {
      "text/latex": [
       "$\\displaystyle - 0.75 x_{7} \\left(1 - x_{6}\\right)$"
      ],
      "text/plain": [
       "-0.75*x7*(1 - x6)"
      ]
     },
     "metadata": {},
     "output_type": "display_data"
    },
    {
     "data": {
      "text/latex": [
       "$\\displaystyle 0$"
      ],
      "text/plain": [
       "0"
      ]
     },
     "metadata": {},
     "output_type": "display_data"
    },
    {
     "data": {
      "text/latex": [
       "$\\displaystyle - 0.79 x_{7} \\left(1 - x_{8}\\right)$"
      ],
      "text/plain": [
       "-0.79*x7*(1 - x8)"
      ]
     },
     "metadata": {},
     "output_type": "display_data"
    },
    {
     "data": {
      "text/latex": [
       "$\\displaystyle 0.18 x_{7} \\left(1 - x_{9}\\right)$"
      ],
      "text/plain": [
       "0.18*x7*(1 - x9)"
      ]
     },
     "metadata": {},
     "output_type": "display_data"
    },
    {
     "data": {
      "text/latex": [
       "$\\displaystyle 0.87 x_{7} \\left(1 - x_{10}\\right)$"
      ],
      "text/plain": [
       "0.87*x7*(1 - x10)"
      ]
     },
     "metadata": {},
     "output_type": "display_data"
    },
    {
     "data": {
      "text/latex": [
       "$\\displaystyle 0.89 x_{7} \\left(1 - x_{11}\\right)$"
      ],
      "text/plain": [
       "0.89*x7*(1 - x11)"
      ]
     },
     "metadata": {},
     "output_type": "display_data"
    },
    {
     "data": {
      "text/latex": [
       "$\\displaystyle - 0.38 x_{7} \\left(1 - x_{12}\\right)$"
      ],
      "text/plain": [
       "-0.38*x7*(1 - x12)"
      ]
     },
     "metadata": {},
     "output_type": "display_data"
    },
    {
     "data": {
      "text/latex": [
       "$\\displaystyle - 0.71 x_{7} \\left(1 - x_{13}\\right)$"
      ],
      "text/plain": [
       "-0.71*x7*(1 - x13)"
      ]
     },
     "metadata": {},
     "output_type": "display_data"
    },
    {
     "data": {
      "text/latex": [
       "$\\displaystyle 0.03 x_{7} \\left(1 - x_{14}\\right)$"
      ],
      "text/plain": [
       "0.03*x7*(1 - x14)"
      ]
     },
     "metadata": {},
     "output_type": "display_data"
    },
    {
     "data": {
      "text/latex": [
       "$\\displaystyle - 0.74 x_{7} \\left(1 - x_{15}\\right)$"
      ],
      "text/plain": [
       "-0.74*x7*(1 - x15)"
      ]
     },
     "metadata": {},
     "output_type": "display_data"
    },
    {
     "data": {
      "text/latex": [
       "$\\displaystyle - 0.91 x_{7} \\left(1 - x_{16}\\right)$"
      ],
      "text/plain": [
       "-0.91*x7*(1 - x16)"
      ]
     },
     "metadata": {},
     "output_type": "display_data"
    },
    {
     "data": {
      "text/latex": [
       "$\\displaystyle - 0.34 x_{7} \\left(1 - x_{17}\\right)$"
      ],
      "text/plain": [
       "-0.34*x7*(1 - x17)"
      ]
     },
     "metadata": {},
     "output_type": "display_data"
    },
    {
     "data": {
      "text/latex": [
       "$\\displaystyle - 0.23 x_{7} \\left(1 - x_{18}\\right)$"
      ],
      "text/plain": [
       "-0.23*x7*(1 - x18)"
      ]
     },
     "metadata": {},
     "output_type": "display_data"
    },
    {
     "data": {
      "text/latex": [
       "$\\displaystyle 0.94 x_{7} \\left(1 - x_{19}\\right)$"
      ],
      "text/plain": [
       "0.94*x7*(1 - x19)"
      ]
     },
     "metadata": {},
     "output_type": "display_data"
    },
    {
     "data": {
      "text/latex": [
       "$\\displaystyle 0.48 x_{7} \\left(1 - x_{20}\\right)$"
      ],
      "text/plain": [
       "0.48*x7*(1 - x20)"
      ]
     },
     "metadata": {},
     "output_type": "display_data"
    },
    {
     "data": {
      "text/latex": [
       "$\\displaystyle - 0.41 x_{7} \\left(1 - x_{21}\\right)$"
      ],
      "text/plain": [
       "-0.41*x7*(1 - x21)"
      ]
     },
     "metadata": {},
     "output_type": "display_data"
    },
    {
     "data": {
      "text/latex": [
       "$\\displaystyle - 0.71 x_{7} \\left(1 - x_{22}\\right)$"
      ],
      "text/plain": [
       "-0.71*x7*(1 - x22)"
      ]
     },
     "metadata": {},
     "output_type": "display_data"
    },
    {
     "data": {
      "text/latex": [
       "$\\displaystyle 0.33 x_{7} \\left(1 - x_{23}\\right)$"
      ],
      "text/plain": [
       "0.33*x7*(1 - x23)"
      ]
     },
     "metadata": {},
     "output_type": "display_data"
    },
    {
     "data": {
      "text/latex": [
       "$\\displaystyle - 0.49 x_{7} \\left(1 - x_{24}\\right)$"
      ],
      "text/plain": [
       "-0.49*x7*(1 - x24)"
      ]
     },
     "metadata": {},
     "output_type": "display_data"
    },
    {
     "data": {
      "text/latex": [
       "$\\displaystyle 0.96 x_{7} \\left(1 - x_{25}\\right)$"
      ],
      "text/plain": [
       "0.96*x7*(1 - x25)"
      ]
     },
     "metadata": {},
     "output_type": "display_data"
    },
    {
     "data": {
      "text/latex": [
       "$\\displaystyle - 0.52 x_{7} \\left(1 - x_{26}\\right)$"
      ],
      "text/plain": [
       "-0.52*x7*(1 - x26)"
      ]
     },
     "metadata": {},
     "output_type": "display_data"
    },
    {
     "data": {
      "text/latex": [
       "$\\displaystyle - 0.14 x_{7} \\left(1 - x_{27}\\right)$"
      ],
      "text/plain": [
       "-0.14*x7*(1 - x27)"
      ]
     },
     "metadata": {},
     "output_type": "display_data"
    },
    {
     "data": {
      "text/latex": [
       "$\\displaystyle 0.6 x_{7} \\left(1 - x_{28}\\right)$"
      ],
      "text/plain": [
       "0.6*x7*(1 - x28)"
      ]
     },
     "metadata": {},
     "output_type": "display_data"
    },
    {
     "data": {
      "text/latex": [
       "$\\displaystyle - 0.85 x_{7} \\left(1 - x_{29}\\right)$"
      ],
      "text/plain": [
       "-0.85*x7*(1 - x29)"
      ]
     },
     "metadata": {},
     "output_type": "display_data"
    },
    {
     "data": {
      "text/latex": [
       "$\\displaystyle - 0.34 x_{7} \\left(1 - x_{30}\\right)$"
      ],
      "text/plain": [
       "-0.34*x7*(1 - x30)"
      ]
     },
     "metadata": {},
     "output_type": "display_data"
    },
    {
     "data": {
      "text/latex": [
       "$\\displaystyle - 0.73 x_{8} \\left(1 - x_{1}\\right)$"
      ],
      "text/plain": [
       "-0.73*x8*(1 - x1)"
      ]
     },
     "metadata": {},
     "output_type": "display_data"
    },
    {
     "data": {
      "text/latex": [
       "$\\displaystyle 0.53 x_{8} \\left(1 - x_{2}\\right)$"
      ],
      "text/plain": [
       "0.53*x8*(1 - x2)"
      ]
     },
     "metadata": {},
     "output_type": "display_data"
    },
    {
     "data": {
      "text/latex": [
       "$\\displaystyle - 0.34 x_{8} \\left(1 - x_{3}\\right)$"
      ],
      "text/plain": [
       "-0.34*x8*(1 - x3)"
      ]
     },
     "metadata": {},
     "output_type": "display_data"
    },
    {
     "data": {
      "text/latex": [
       "$\\displaystyle 0.68 x_{8} \\left(1 - x_{4}\\right)$"
      ],
      "text/plain": [
       "0.68*x8*(1 - x4)"
      ]
     },
     "metadata": {},
     "output_type": "display_data"
    },
    {
     "data": {
      "text/latex": [
       "$\\displaystyle - 0.41 x_{8} \\left(1 - x_{5}\\right)$"
      ],
      "text/plain": [
       "-0.41*x8*(1 - x5)"
      ]
     },
     "metadata": {},
     "output_type": "display_data"
    },
    {
     "data": {
      "text/latex": [
       "$\\displaystyle - 0.97 x_{8} \\left(1 - x_{6}\\right)$"
      ],
      "text/plain": [
       "-0.97*x8*(1 - x6)"
      ]
     },
     "metadata": {},
     "output_type": "display_data"
    },
    {
     "data": {
      "text/latex": [
       "$\\displaystyle - 0.79 x_{8} \\left(1 - x_{7}\\right)$"
      ],
      "text/plain": [
       "-0.79*x8*(1 - x7)"
      ]
     },
     "metadata": {},
     "output_type": "display_data"
    },
    {
     "data": {
      "text/latex": [
       "$\\displaystyle 0$"
      ],
      "text/plain": [
       "0"
      ]
     },
     "metadata": {},
     "output_type": "display_data"
    },
    {
     "data": {
      "text/latex": [
       "$\\displaystyle - 0.05 x_{8} \\left(1 - x_{9}\\right)$"
      ],
      "text/plain": [
       "-0.05*x8*(1 - x9)"
      ]
     },
     "metadata": {},
     "output_type": "display_data"
    },
    {
     "data": {
      "text/latex": [
       "$\\displaystyle - 0.36 x_{8} \\left(1 - x_{10}\\right)$"
      ],
      "text/plain": [
       "-0.36*x8*(1 - x10)"
      ]
     },
     "metadata": {},
     "output_type": "display_data"
    },
    {
     "data": {
      "text/latex": [
       "$\\displaystyle 0.61 x_{8} \\left(1 - x_{11}\\right)$"
      ],
      "text/plain": [
       "0.61*x8*(1 - x11)"
      ]
     },
     "metadata": {},
     "output_type": "display_data"
    },
    {
     "data": {
      "text/latex": [
       "$\\displaystyle 0.69 x_{8} \\left(1 - x_{12}\\right)$"
      ],
      "text/plain": [
       "0.69*x8*(1 - x12)"
      ]
     },
     "metadata": {},
     "output_type": "display_data"
    },
    {
     "data": {
      "text/latex": [
       "$\\displaystyle - 0.4 x_{8} \\left(1 - x_{13}\\right)$"
      ],
      "text/plain": [
       "-0.4*x8*(1 - x13)"
      ]
     },
     "metadata": {},
     "output_type": "display_data"
    },
    {
     "data": {
      "text/latex": [
       "$\\displaystyle - 0.54 x_{8} \\left(1 - x_{14}\\right)$"
      ],
      "text/plain": [
       "-0.54*x8*(1 - x14)"
      ]
     },
     "metadata": {},
     "output_type": "display_data"
    },
    {
     "data": {
      "text/latex": [
       "$\\displaystyle 0.38 x_{8} \\left(1 - x_{15}\\right)$"
      ],
      "text/plain": [
       "0.38*x8*(1 - x15)"
      ]
     },
     "metadata": {},
     "output_type": "display_data"
    },
    {
     "data": {
      "text/latex": [
       "$\\displaystyle 0.34 x_{8} \\left(1 - x_{16}\\right)$"
      ],
      "text/plain": [
       "0.34*x8*(1 - x16)"
      ]
     },
     "metadata": {},
     "output_type": "display_data"
    },
    {
     "data": {
      "text/latex": [
       "$\\displaystyle - 0.64 x_{8} \\left(1 - x_{17}\\right)$"
      ],
      "text/plain": [
       "-0.64*x8*(1 - x17)"
      ]
     },
     "metadata": {},
     "output_type": "display_data"
    },
    {
     "data": {
      "text/latex": [
       "$\\displaystyle 0.94 x_{8} \\left(1 - x_{18}\\right)$"
      ],
      "text/plain": [
       "0.94*x8*(1 - x18)"
      ]
     },
     "metadata": {},
     "output_type": "display_data"
    },
    {
     "data": {
      "text/latex": [
       "$\\displaystyle 0.73 x_{8} \\left(1 - x_{19}\\right)$"
      ],
      "text/plain": [
       "0.73*x8*(1 - x19)"
      ]
     },
     "metadata": {},
     "output_type": "display_data"
    },
    {
     "data": {
      "text/latex": [
       "$\\displaystyle - 0.21 x_{8} \\left(1 - x_{20}\\right)$"
      ],
      "text/plain": [
       "-0.21*x8*(1 - x20)"
      ]
     },
     "metadata": {},
     "output_type": "display_data"
    },
    {
     "data": {
      "text/latex": [
       "$\\displaystyle 0.5 x_{8} \\left(1 - x_{21}\\right)$"
      ],
      "text/plain": [
       "0.5*x8*(1 - x21)"
      ]
     },
     "metadata": {},
     "output_type": "display_data"
    },
    {
     "data": {
      "text/latex": [
       "$\\displaystyle - 0.89 x_{8} \\left(1 - x_{22}\\right)$"
      ],
      "text/plain": [
       "-0.89*x8*(1 - x22)"
      ]
     },
     "metadata": {},
     "output_type": "display_data"
    },
    {
     "data": {
      "text/latex": [
       "$\\displaystyle 0.5 x_{8} \\left(1 - x_{23}\\right)$"
      ],
      "text/plain": [
       "0.5*x8*(1 - x23)"
      ]
     },
     "metadata": {},
     "output_type": "display_data"
    },
    {
     "data": {
      "text/latex": [
       "$\\displaystyle - 0.66 x_{8} \\left(1 - x_{24}\\right)$"
      ],
      "text/plain": [
       "-0.66*x8*(1 - x24)"
      ]
     },
     "metadata": {},
     "output_type": "display_data"
    },
    {
     "data": {
      "text/latex": [
       "$\\displaystyle 0.07 x_{8} \\left(1 - x_{25}\\right)$"
      ],
      "text/plain": [
       "0.07*x8*(1 - x25)"
      ]
     },
     "metadata": {},
     "output_type": "display_data"
    },
    {
     "data": {
      "text/latex": [
       "$\\displaystyle - 0.97 x_{8} \\left(1 - x_{26}\\right)$"
      ],
      "text/plain": [
       "-0.97*x8*(1 - x26)"
      ]
     },
     "metadata": {},
     "output_type": "display_data"
    },
    {
     "data": {
      "text/latex": [
       "$\\displaystyle 0.78 x_{8} \\left(1 - x_{27}\\right)$"
      ],
      "text/plain": [
       "0.78*x8*(1 - x27)"
      ]
     },
     "metadata": {},
     "output_type": "display_data"
    },
    {
     "data": {
      "text/latex": [
       "$\\displaystyle - 0.77 x_{8} \\left(1 - x_{28}\\right)$"
      ],
      "text/plain": [
       "-0.77*x8*(1 - x28)"
      ]
     },
     "metadata": {},
     "output_type": "display_data"
    },
    {
     "data": {
      "text/latex": [
       "$\\displaystyle - 0.45 x_{8} \\left(1 - x_{29}\\right)$"
      ],
      "text/plain": [
       "-0.45*x8*(1 - x29)"
      ]
     },
     "metadata": {},
     "output_type": "display_data"
    },
    {
     "data": {
      "text/latex": [
       "$\\displaystyle 0.82 x_{8} \\left(1 - x_{30}\\right)$"
      ],
      "text/plain": [
       "0.82*x8*(1 - x30)"
      ]
     },
     "metadata": {},
     "output_type": "display_data"
    },
    {
     "data": {
      "text/latex": [
       "$\\displaystyle 0.42 x_{9} \\left(1 - x_{1}\\right)$"
      ],
      "text/plain": [
       "0.42*x9*(1 - x1)"
      ]
     },
     "metadata": {},
     "output_type": "display_data"
    },
    {
     "data": {
      "text/latex": [
       "$\\displaystyle 0.53 x_{9} \\left(1 - x_{2}\\right)$"
      ],
      "text/plain": [
       "0.53*x9*(1 - x2)"
      ]
     },
     "metadata": {},
     "output_type": "display_data"
    },
    {
     "data": {
      "text/latex": [
       "$\\displaystyle 0.46 x_{9} \\left(1 - x_{3}\\right)$"
      ],
      "text/plain": [
       "0.46*x9*(1 - x3)"
      ]
     },
     "metadata": {},
     "output_type": "display_data"
    },
    {
     "data": {
      "text/latex": [
       "$\\displaystyle 0.84 x_{9} \\left(1 - x_{4}\\right)$"
      ],
      "text/plain": [
       "0.84*x9*(1 - x4)"
      ]
     },
     "metadata": {},
     "output_type": "display_data"
    },
    {
     "data": {
      "text/latex": [
       "$\\displaystyle - 0.95 x_{9} \\left(1 - x_{5}\\right)$"
      ],
      "text/plain": [
       "-0.95*x9*(1 - x5)"
      ]
     },
     "metadata": {},
     "output_type": "display_data"
    },
    {
     "data": {
      "text/latex": [
       "$\\displaystyle - 0.39 x_{9} \\left(1 - x_{6}\\right)$"
      ],
      "text/plain": [
       "-0.39*x9*(1 - x6)"
      ]
     },
     "metadata": {},
     "output_type": "display_data"
    },
    {
     "data": {
      "text/latex": [
       "$\\displaystyle 0.18 x_{9} \\left(1 - x_{7}\\right)$"
      ],
      "text/plain": [
       "0.18*x9*(1 - x7)"
      ]
     },
     "metadata": {},
     "output_type": "display_data"
    },
    {
     "data": {
      "text/latex": [
       "$\\displaystyle - 0.05 x_{9} \\left(1 - x_{8}\\right)$"
      ],
      "text/plain": [
       "-0.05*x9*(1 - x8)"
      ]
     },
     "metadata": {},
     "output_type": "display_data"
    },
    {
     "data": {
      "text/latex": [
       "$\\displaystyle 0$"
      ],
      "text/plain": [
       "0"
      ]
     },
     "metadata": {},
     "output_type": "display_data"
    },
    {
     "data": {
      "text/latex": [
       "$\\displaystyle 0.28 x_{9} \\left(1 - x_{10}\\right)$"
      ],
      "text/plain": [
       "0.28*x9*(1 - x10)"
      ]
     },
     "metadata": {},
     "output_type": "display_data"
    },
    {
     "data": {
      "text/latex": [
       "$\\displaystyle - 0.01 x_{9} \\left(1 - x_{11}\\right)$"
      ],
      "text/plain": [
       "-0.01*x9*(1 - x11)"
      ]
     },
     "metadata": {},
     "output_type": "display_data"
    },
    {
     "data": {
      "text/latex": [
       "$\\displaystyle - 0.58 x_{9} \\left(1 - x_{12}\\right)$"
      ],
      "text/plain": [
       "-0.58*x9*(1 - x12)"
      ]
     },
     "metadata": {},
     "output_type": "display_data"
    },
    {
     "data": {
      "text/latex": [
       "$\\displaystyle - 0.41 x_{9} \\left(1 - x_{13}\\right)$"
      ],
      "text/plain": [
       "-0.41*x9*(1 - x13)"
      ]
     },
     "metadata": {},
     "output_type": "display_data"
    },
    {
     "data": {
      "text/latex": [
       "$\\displaystyle 0.19 x_{9} \\left(1 - x_{14}\\right)$"
      ],
      "text/plain": [
       "0.19*x9*(1 - x14)"
      ]
     },
     "metadata": {},
     "output_type": "display_data"
    },
    {
     "data": {
      "text/latex": [
       "$\\displaystyle - 0.58 x_{9} \\left(1 - x_{15}\\right)$"
      ],
      "text/plain": [
       "-0.58*x9*(1 - x15)"
      ]
     },
     "metadata": {},
     "output_type": "display_data"
    },
    {
     "data": {
      "text/latex": [
       "$\\displaystyle 0.18 x_{9} \\left(1 - x_{16}\\right)$"
      ],
      "text/plain": [
       "0.18*x9*(1 - x16)"
      ]
     },
     "metadata": {},
     "output_type": "display_data"
    },
    {
     "data": {
      "text/latex": [
       "$\\displaystyle 0.65 x_{9} \\left(1 - x_{17}\\right)$"
      ],
      "text/plain": [
       "0.65*x9*(1 - x17)"
      ]
     },
     "metadata": {},
     "output_type": "display_data"
    },
    {
     "data": {
      "text/latex": [
       "$\\displaystyle 0.5 x_{9} \\left(1 - x_{18}\\right)$"
      ],
      "text/plain": [
       "0.5*x9*(1 - x18)"
      ]
     },
     "metadata": {},
     "output_type": "display_data"
    },
    {
     "data": {
      "text/latex": [
       "$\\displaystyle - 0.25 x_{9} \\left(1 - x_{19}\\right)$"
      ],
      "text/plain": [
       "-0.25*x9*(1 - x19)"
      ]
     },
     "metadata": {},
     "output_type": "display_data"
    },
    {
     "data": {
      "text/latex": [
       "$\\displaystyle - 0.78 x_{9} \\left(1 - x_{20}\\right)$"
      ],
      "text/plain": [
       "-0.78*x9*(1 - x20)"
      ]
     },
     "metadata": {},
     "output_type": "display_data"
    },
    {
     "data": {
      "text/latex": [
       "$\\displaystyle 0.64 x_{9} \\left(1 - x_{21}\\right)$"
      ],
      "text/plain": [
       "0.64*x9*(1 - x21)"
      ]
     },
     "metadata": {},
     "output_type": "display_data"
    },
    {
     "data": {
      "text/latex": [
       "$\\displaystyle 0.53 x_{9} \\left(1 - x_{22}\\right)$"
      ],
      "text/plain": [
       "0.53*x9*(1 - x22)"
      ]
     },
     "metadata": {},
     "output_type": "display_data"
    },
    {
     "data": {
      "text/latex": [
       "$\\displaystyle 0.26 x_{9} \\left(1 - x_{23}\\right)$"
      ],
      "text/plain": [
       "0.26*x9*(1 - x23)"
      ]
     },
     "metadata": {},
     "output_type": "display_data"
    },
    {
     "data": {
      "text/latex": [
       "$\\displaystyle 0.32 x_{9} \\left(1 - x_{24}\\right)$"
      ],
      "text/plain": [
       "0.32*x9*(1 - x24)"
      ]
     },
     "metadata": {},
     "output_type": "display_data"
    },
    {
     "data": {
      "text/latex": [
       "$\\displaystyle 0.94 x_{9} \\left(1 - x_{25}\\right)$"
      ],
      "text/plain": [
       "0.94*x9*(1 - x25)"
      ]
     },
     "metadata": {},
     "output_type": "display_data"
    },
    {
     "data": {
      "text/latex": [
       "$\\displaystyle 0.37 x_{9} \\left(1 - x_{26}\\right)$"
      ],
      "text/plain": [
       "0.37*x9*(1 - x26)"
      ]
     },
     "metadata": {},
     "output_type": "display_data"
    },
    {
     "data": {
      "text/latex": [
       "$\\displaystyle 0.14 x_{9} \\left(1 - x_{27}\\right)$"
      ],
      "text/plain": [
       "0.14*x9*(1 - x27)"
      ]
     },
     "metadata": {},
     "output_type": "display_data"
    },
    {
     "data": {
      "text/latex": [
       "$\\displaystyle 0.85 x_{9} \\left(1 - x_{28}\\right)$"
      ],
      "text/plain": [
       "0.85*x9*(1 - x28)"
      ]
     },
     "metadata": {},
     "output_type": "display_data"
    },
    {
     "data": {
      "text/latex": [
       "$\\displaystyle 0.22 x_{9} \\left(1 - x_{29}\\right)$"
      ],
      "text/plain": [
       "0.22*x9*(1 - x29)"
      ]
     },
     "metadata": {},
     "output_type": "display_data"
    },
    {
     "data": {
      "text/latex": [
       "$\\displaystyle 0.29 x_{9} \\left(1 - x_{30}\\right)$"
      ],
      "text/plain": [
       "0.29*x9*(1 - x30)"
      ]
     },
     "metadata": {},
     "output_type": "display_data"
    },
    {
     "data": {
      "text/latex": [
       "$\\displaystyle 0.89 x_{10} \\left(1 - x_{1}\\right)$"
      ],
      "text/plain": [
       "0.89*x10*(1 - x1)"
      ]
     },
     "metadata": {},
     "output_type": "display_data"
    },
    {
     "data": {
      "text/latex": [
       "$\\displaystyle 0.17 x_{10} \\left(1 - x_{2}\\right)$"
      ],
      "text/plain": [
       "0.17*x10*(1 - x2)"
      ]
     },
     "metadata": {},
     "output_type": "display_data"
    },
    {
     "data": {
      "text/latex": [
       "$\\displaystyle - 0.5 x_{10} \\left(1 - x_{3}\\right)$"
      ],
      "text/plain": [
       "-0.5*x10*(1 - x3)"
      ]
     },
     "metadata": {},
     "output_type": "display_data"
    },
    {
     "data": {
      "text/latex": [
       "$\\displaystyle - 0.09 x_{10} \\left(1 - x_{4}\\right)$"
      ],
      "text/plain": [
       "-0.09*x10*(1 - x4)"
      ]
     },
     "metadata": {},
     "output_type": "display_data"
    },
    {
     "data": {
      "text/latex": [
       "$\\displaystyle 0.7 x_{10} \\left(1 - x_{5}\\right)$"
      ],
      "text/plain": [
       "0.7*x10*(1 - x5)"
      ]
     },
     "metadata": {},
     "output_type": "display_data"
    },
    {
     "data": {
      "text/latex": [
       "$\\displaystyle - 0.95 x_{10} \\left(1 - x_{6}\\right)$"
      ],
      "text/plain": [
       "-0.95*x10*(1 - x6)"
      ]
     },
     "metadata": {},
     "output_type": "display_data"
    },
    {
     "data": {
      "text/latex": [
       "$\\displaystyle 0.87 x_{10} \\left(1 - x_{7}\\right)$"
      ],
      "text/plain": [
       "0.87*x10*(1 - x7)"
      ]
     },
     "metadata": {},
     "output_type": "display_data"
    },
    {
     "data": {
      "text/latex": [
       "$\\displaystyle - 0.36 x_{10} \\left(1 - x_{8}\\right)$"
      ],
      "text/plain": [
       "-0.36*x10*(1 - x8)"
      ]
     },
     "metadata": {},
     "output_type": "display_data"
    },
    {
     "data": {
      "text/latex": [
       "$\\displaystyle 0.28 x_{10} \\left(1 - x_{9}\\right)$"
      ],
      "text/plain": [
       "0.28*x10*(1 - x9)"
      ]
     },
     "metadata": {},
     "output_type": "display_data"
    },
    {
     "data": {
      "text/latex": [
       "$\\displaystyle 0$"
      ],
      "text/plain": [
       "0"
      ]
     },
     "metadata": {},
     "output_type": "display_data"
    },
    {
     "data": {
      "text/latex": [
       "$\\displaystyle 0.72 x_{10} \\left(1 - x_{11}\\right)$"
      ],
      "text/plain": [
       "0.72*x10*(1 - x11)"
      ]
     },
     "metadata": {},
     "output_type": "display_data"
    },
    {
     "data": {
      "text/latex": [
       "$\\displaystyle 0.57 x_{10} \\left(1 - x_{12}\\right)$"
      ],
      "text/plain": [
       "0.57*x10*(1 - x12)"
      ]
     },
     "metadata": {},
     "output_type": "display_data"
    },
    {
     "data": {
      "text/latex": [
       "$\\displaystyle 0.96 x_{10} \\left(1 - x_{13}\\right)$"
      ],
      "text/plain": [
       "0.96*x10*(1 - x13)"
      ]
     },
     "metadata": {},
     "output_type": "display_data"
    },
    {
     "data": {
      "text/latex": [
       "$\\displaystyle 0.54 x_{10} \\left(1 - x_{14}\\right)$"
      ],
      "text/plain": [
       "0.54*x10*(1 - x14)"
      ]
     },
     "metadata": {},
     "output_type": "display_data"
    },
    {
     "data": {
      "text/latex": [
       "$\\displaystyle 0.14 x_{10} \\left(1 - x_{15}\\right)$"
      ],
      "text/plain": [
       "0.14*x10*(1 - x15)"
      ]
     },
     "metadata": {},
     "output_type": "display_data"
    },
    {
     "data": {
      "text/latex": [
       "$\\displaystyle 0.2 x_{10} \\left(1 - x_{16}\\right)$"
      ],
      "text/plain": [
       "0.2*x10*(1 - x16)"
      ]
     },
     "metadata": {},
     "output_type": "display_data"
    },
    {
     "data": {
      "text/latex": [
       "$\\displaystyle 0.74 x_{10} \\left(1 - x_{17}\\right)$"
      ],
      "text/plain": [
       "0.74*x10*(1 - x17)"
      ]
     },
     "metadata": {},
     "output_type": "display_data"
    },
    {
     "data": {
      "text/latex": [
       "$\\displaystyle 0.21 x_{10} \\left(1 - x_{18}\\right)$"
      ],
      "text/plain": [
       "0.21*x10*(1 - x18)"
      ]
     },
     "metadata": {},
     "output_type": "display_data"
    },
    {
     "data": {
      "text/latex": [
       "$\\displaystyle - 0.27 x_{10} \\left(1 - x_{19}\\right)$"
      ],
      "text/plain": [
       "-0.27*x10*(1 - x19)"
      ]
     },
     "metadata": {},
     "output_type": "display_data"
    },
    {
     "data": {
      "text/latex": [
       "$\\displaystyle 0.85 x_{10} \\left(1 - x_{20}\\right)$"
      ],
      "text/plain": [
       "0.85*x10*(1 - x20)"
      ]
     },
     "metadata": {},
     "output_type": "display_data"
    },
    {
     "data": {
      "text/latex": [
       "$\\displaystyle 0.75 x_{10} \\left(1 - x_{21}\\right)$"
      ],
      "text/plain": [
       "0.75*x10*(1 - x21)"
      ]
     },
     "metadata": {},
     "output_type": "display_data"
    },
    {
     "data": {
      "text/latex": [
       "$\\displaystyle 0.93 x_{10} \\left(1 - x_{22}\\right)$"
      ],
      "text/plain": [
       "0.93*x10*(1 - x22)"
      ]
     },
     "metadata": {},
     "output_type": "display_data"
    },
    {
     "data": {
      "text/latex": [
       "$\\displaystyle - 0.41 x_{10} \\left(1 - x_{23}\\right)$"
      ],
      "text/plain": [
       "-0.41*x10*(1 - x23)"
      ]
     },
     "metadata": {},
     "output_type": "display_data"
    },
    {
     "data": {
      "text/latex": [
       "$\\displaystyle - 0.85 x_{10} \\left(1 - x_{24}\\right)$"
      ],
      "text/plain": [
       "-0.85*x10*(1 - x24)"
      ]
     },
     "metadata": {},
     "output_type": "display_data"
    },
    {
     "data": {
      "text/latex": [
       "$\\displaystyle 0.05 x_{10} \\left(1 - x_{25}\\right)$"
      ],
      "text/plain": [
       "0.05*x10*(1 - x25)"
      ]
     },
     "metadata": {},
     "output_type": "display_data"
    },
    {
     "data": {
      "text/latex": [
       "$\\displaystyle - 0.33 x_{10} \\left(1 - x_{26}\\right)$"
      ],
      "text/plain": [
       "-0.33*x10*(1 - x26)"
      ]
     },
     "metadata": {},
     "output_type": "display_data"
    },
    {
     "data": {
      "text/latex": [
       "$\\displaystyle 0.98 x_{10} \\left(1 - x_{27}\\right)$"
      ],
      "text/plain": [
       "0.98*x10*(1 - x27)"
      ]
     },
     "metadata": {},
     "output_type": "display_data"
    },
    {
     "data": {
      "text/latex": [
       "$\\displaystyle 0.16 x_{10} \\left(1 - x_{28}\\right)$"
      ],
      "text/plain": [
       "0.16*x10*(1 - x28)"
      ]
     },
     "metadata": {},
     "output_type": "display_data"
    },
    {
     "data": {
      "text/latex": [
       "$\\displaystyle - 0.81 x_{10} \\left(1 - x_{29}\\right)$"
      ],
      "text/plain": [
       "-0.81*x10*(1 - x29)"
      ]
     },
     "metadata": {},
     "output_type": "display_data"
    },
    {
     "data": {
      "text/latex": [
       "$\\displaystyle 0.48 x_{10} \\left(1 - x_{30}\\right)$"
      ],
      "text/plain": [
       "0.48*x10*(1 - x30)"
      ]
     },
     "metadata": {},
     "output_type": "display_data"
    },
    {
     "data": {
      "text/latex": [
       "$\\displaystyle - 0.55 x_{11} \\left(1 - x_{1}\\right)$"
      ],
      "text/plain": [
       "-0.55*x11*(1 - x1)"
      ]
     },
     "metadata": {},
     "output_type": "display_data"
    },
    {
     "data": {
      "text/latex": [
       "$\\displaystyle 0.98 x_{11} \\left(1 - x_{2}\\right)$"
      ],
      "text/plain": [
       "0.98*x11*(1 - x2)"
      ]
     },
     "metadata": {},
     "output_type": "display_data"
    },
    {
     "data": {
      "text/latex": [
       "$\\displaystyle 0.14 x_{11} \\left(1 - x_{3}\\right)$"
      ],
      "text/plain": [
       "0.14*x11*(1 - x3)"
      ]
     },
     "metadata": {},
     "output_type": "display_data"
    },
    {
     "data": {
      "text/latex": [
       "$\\displaystyle - 1.0 x_{11} \\left(1 - x_{4}\\right)$"
      ],
      "text/plain": [
       "-1.0*x11*(1 - x4)"
      ]
     },
     "metadata": {},
     "output_type": "display_data"
    },
    {
     "data": {
      "text/latex": [
       "$\\displaystyle 0.44 x_{11} \\left(1 - x_{5}\\right)$"
      ],
      "text/plain": [
       "0.44*x11*(1 - x5)"
      ]
     },
     "metadata": {},
     "output_type": "display_data"
    },
    {
     "data": {
      "text/latex": [
       "$\\displaystyle - 0.67 x_{11} \\left(1 - x_{6}\\right)$"
      ],
      "text/plain": [
       "-0.67*x11*(1 - x6)"
      ]
     },
     "metadata": {},
     "output_type": "display_data"
    },
    {
     "data": {
      "text/latex": [
       "$\\displaystyle 0.89 x_{11} \\left(1 - x_{7}\\right)$"
      ],
      "text/plain": [
       "0.89*x11*(1 - x7)"
      ]
     },
     "metadata": {},
     "output_type": "display_data"
    },
    {
     "data": {
      "text/latex": [
       "$\\displaystyle 0.61 x_{11} \\left(1 - x_{8}\\right)$"
      ],
      "text/plain": [
       "0.61*x11*(1 - x8)"
      ]
     },
     "metadata": {},
     "output_type": "display_data"
    },
    {
     "data": {
      "text/latex": [
       "$\\displaystyle - 0.01 x_{11} \\left(1 - x_{9}\\right)$"
      ],
      "text/plain": [
       "-0.01*x11*(1 - x9)"
      ]
     },
     "metadata": {},
     "output_type": "display_data"
    },
    {
     "data": {
      "text/latex": [
       "$\\displaystyle 0.72 x_{11} \\left(1 - x_{10}\\right)$"
      ],
      "text/plain": [
       "0.72*x11*(1 - x10)"
      ]
     },
     "metadata": {},
     "output_type": "display_data"
    },
    {
     "data": {
      "text/latex": [
       "$\\displaystyle 0$"
      ],
      "text/plain": [
       "0"
      ]
     },
     "metadata": {},
     "output_type": "display_data"
    },
    {
     "data": {
      "text/latex": [
       "$\\displaystyle 0.16 x_{11} \\left(1 - x_{12}\\right)$"
      ],
      "text/plain": [
       "0.16*x11*(1 - x12)"
      ]
     },
     "metadata": {},
     "output_type": "display_data"
    },
    {
     "data": {
      "text/latex": [
       "$\\displaystyle - 0.25 x_{11} \\left(1 - x_{13}\\right)$"
      ],
      "text/plain": [
       "-0.25*x11*(1 - x13)"
      ]
     },
     "metadata": {},
     "output_type": "display_data"
    },
    {
     "data": {
      "text/latex": [
       "$\\displaystyle - 0.26 x_{11} \\left(1 - x_{14}\\right)$"
      ],
      "text/plain": [
       "-0.26*x11*(1 - x14)"
      ]
     },
     "metadata": {},
     "output_type": "display_data"
    },
    {
     "data": {
      "text/latex": [
       "$\\displaystyle - 0.92 x_{11} \\left(1 - x_{15}\\right)$"
      ],
      "text/plain": [
       "-0.92*x11*(1 - x15)"
      ]
     },
     "metadata": {},
     "output_type": "display_data"
    },
    {
     "data": {
      "text/latex": [
       "$\\displaystyle - 0.95 x_{11} \\left(1 - x_{16}\\right)$"
      ],
      "text/plain": [
       "-0.95*x11*(1 - x16)"
      ]
     },
     "metadata": {},
     "output_type": "display_data"
    },
    {
     "data": {
      "text/latex": [
       "$\\displaystyle 0.01 x_{11} \\left(1 - x_{17}\\right)$"
      ],
      "text/plain": [
       "0.01*x11*(1 - x17)"
      ]
     },
     "metadata": {},
     "output_type": "display_data"
    },
    {
     "data": {
      "text/latex": [
       "$\\displaystyle 0.87 x_{11} \\left(1 - x_{18}\\right)$"
      ],
      "text/plain": [
       "0.87*x11*(1 - x18)"
      ]
     },
     "metadata": {},
     "output_type": "display_data"
    },
    {
     "data": {
      "text/latex": [
       "$\\displaystyle 0.78 x_{11} \\left(1 - x_{19}\\right)$"
      ],
      "text/plain": [
       "0.78*x11*(1 - x19)"
      ]
     },
     "metadata": {},
     "output_type": "display_data"
    },
    {
     "data": {
      "text/latex": [
       "$\\displaystyle 0.17 x_{11} \\left(1 - x_{20}\\right)$"
      ],
      "text/plain": [
       "0.17*x11*(1 - x20)"
      ]
     },
     "metadata": {},
     "output_type": "display_data"
    },
    {
     "data": {
      "text/latex": [
       "$\\displaystyle 0.63 x_{11} \\left(1 - x_{21}\\right)$"
      ],
      "text/plain": [
       "0.63*x11*(1 - x21)"
      ]
     },
     "metadata": {},
     "output_type": "display_data"
    },
    {
     "data": {
      "text/latex": [
       "$\\displaystyle - 0.26 x_{11} \\left(1 - x_{22}\\right)$"
      ],
      "text/plain": [
       "-0.26*x11*(1 - x22)"
      ]
     },
     "metadata": {},
     "output_type": "display_data"
    },
    {
     "data": {
      "text/latex": [
       "$\\displaystyle - 0.68 x_{11} \\left(1 - x_{23}\\right)$"
      ],
      "text/plain": [
       "-0.68*x11*(1 - x23)"
      ]
     },
     "metadata": {},
     "output_type": "display_data"
    },
    {
     "data": {
      "text/latex": [
       "$\\displaystyle - 0.32 x_{11} \\left(1 - x_{24}\\right)$"
      ],
      "text/plain": [
       "-0.32*x11*(1 - x24)"
      ]
     },
     "metadata": {},
     "output_type": "display_data"
    },
    {
     "data": {
      "text/latex": [
       "$\\displaystyle 0.37 x_{11} \\left(1 - x_{25}\\right)$"
      ],
      "text/plain": [
       "0.37*x11*(1 - x25)"
      ]
     },
     "metadata": {},
     "output_type": "display_data"
    },
    {
     "data": {
      "text/latex": [
       "$\\displaystyle 0.42 x_{11} \\left(1 - x_{26}\\right)$"
      ],
      "text/plain": [
       "0.42*x11*(1 - x26)"
      ]
     },
     "metadata": {},
     "output_type": "display_data"
    },
    {
     "data": {
      "text/latex": [
       "$\\displaystyle - 0.68 x_{11} \\left(1 - x_{27}\\right)$"
      ],
      "text/plain": [
       "-0.68*x11*(1 - x27)"
      ]
     },
     "metadata": {},
     "output_type": "display_data"
    },
    {
     "data": {
      "text/latex": [
       "$\\displaystyle 0.26 x_{11} \\left(1 - x_{28}\\right)$"
      ],
      "text/plain": [
       "0.26*x11*(1 - x28)"
      ]
     },
     "metadata": {},
     "output_type": "display_data"
    },
    {
     "data": {
      "text/latex": [
       "$\\displaystyle 0.24 x_{11} \\left(1 - x_{29}\\right)$"
      ],
      "text/plain": [
       "0.24*x11*(1 - x29)"
      ]
     },
     "metadata": {},
     "output_type": "display_data"
    },
    {
     "data": {
      "text/latex": [
       "$\\displaystyle - 0.02 x_{11} \\left(1 - x_{30}\\right)$"
      ],
      "text/plain": [
       "-0.02*x11*(1 - x30)"
      ]
     },
     "metadata": {},
     "output_type": "display_data"
    },
    {
     "data": {
      "text/latex": [
       "$\\displaystyle 0.38 x_{12} \\left(1 - x_{1}\\right)$"
      ],
      "text/plain": [
       "0.38*x12*(1 - x1)"
      ]
     },
     "metadata": {},
     "output_type": "display_data"
    },
    {
     "data": {
      "text/latex": [
       "$\\displaystyle - 0.85 x_{12} \\left(1 - x_{2}\\right)$"
      ],
      "text/plain": [
       "-0.85*x12*(1 - x2)"
      ]
     },
     "metadata": {},
     "output_type": "display_data"
    },
    {
     "data": {
      "text/latex": [
       "$\\displaystyle - 0.2 x_{12} \\left(1 - x_{3}\\right)$"
      ],
      "text/plain": [
       "-0.2*x12*(1 - x3)"
      ]
     },
     "metadata": {},
     "output_type": "display_data"
    },
    {
     "data": {
      "text/latex": [
       "$\\displaystyle - 0.71 x_{12} \\left(1 - x_{4}\\right)$"
      ],
      "text/plain": [
       "-0.71*x12*(1 - x4)"
      ]
     },
     "metadata": {},
     "output_type": "display_data"
    },
    {
     "data": {
      "text/latex": [
       "$\\displaystyle - 0.24 x_{12} \\left(1 - x_{5}\\right)$"
      ],
      "text/plain": [
       "-0.24*x12*(1 - x5)"
      ]
     },
     "metadata": {},
     "output_type": "display_data"
    },
    {
     "data": {
      "text/latex": [
       "$\\displaystyle - 0.09 x_{12} \\left(1 - x_{6}\\right)$"
      ],
      "text/plain": [
       "-0.09*x12*(1 - x6)"
      ]
     },
     "metadata": {},
     "output_type": "display_data"
    },
    {
     "data": {
      "text/latex": [
       "$\\displaystyle - 0.38 x_{12} \\left(1 - x_{7}\\right)$"
      ],
      "text/plain": [
       "-0.38*x12*(1 - x7)"
      ]
     },
     "metadata": {},
     "output_type": "display_data"
    },
    {
     "data": {
      "text/latex": [
       "$\\displaystyle 0.69 x_{12} \\left(1 - x_{8}\\right)$"
      ],
      "text/plain": [
       "0.69*x12*(1 - x8)"
      ]
     },
     "metadata": {},
     "output_type": "display_data"
    },
    {
     "data": {
      "text/latex": [
       "$\\displaystyle - 0.58 x_{12} \\left(1 - x_{9}\\right)$"
      ],
      "text/plain": [
       "-0.58*x12*(1 - x9)"
      ]
     },
     "metadata": {},
     "output_type": "display_data"
    },
    {
     "data": {
      "text/latex": [
       "$\\displaystyle 0.57 x_{12} \\left(1 - x_{10}\\right)$"
      ],
      "text/plain": [
       "0.57*x12*(1 - x10)"
      ]
     },
     "metadata": {},
     "output_type": "display_data"
    },
    {
     "data": {
      "text/latex": [
       "$\\displaystyle 0.16 x_{12} \\left(1 - x_{11}\\right)$"
      ],
      "text/plain": [
       "0.16*x12*(1 - x11)"
      ]
     },
     "metadata": {},
     "output_type": "display_data"
    },
    {
     "data": {
      "text/latex": [
       "$\\displaystyle 0$"
      ],
      "text/plain": [
       "0"
      ]
     },
     "metadata": {},
     "output_type": "display_data"
    },
    {
     "data": {
      "text/latex": [
       "$\\displaystyle 0.36 x_{12} \\left(1 - x_{13}\\right)$"
      ],
      "text/plain": [
       "0.36*x12*(1 - x13)"
      ]
     },
     "metadata": {},
     "output_type": "display_data"
    },
    {
     "data": {
      "text/latex": [
       "$\\displaystyle - 0.49 x_{12} \\left(1 - x_{14}\\right)$"
      ],
      "text/plain": [
       "-0.49*x12*(1 - x14)"
      ]
     },
     "metadata": {},
     "output_type": "display_data"
    },
    {
     "data": {
      "text/latex": [
       "$\\displaystyle 0.64 x_{12} \\left(1 - x_{15}\\right)$"
      ],
      "text/plain": [
       "0.64*x12*(1 - x15)"
      ]
     },
     "metadata": {},
     "output_type": "display_data"
    },
    {
     "data": {
      "text/latex": [
       "$\\displaystyle 0.5 x_{12} \\left(1 - x_{16}\\right)$"
      ],
      "text/plain": [
       "0.5*x12*(1 - x16)"
      ]
     },
     "metadata": {},
     "output_type": "display_data"
    },
    {
     "data": {
      "text/latex": [
       "$\\displaystyle 0.08 x_{12} \\left(1 - x_{17}\\right)$"
      ],
      "text/plain": [
       "0.08*x12*(1 - x17)"
      ]
     },
     "metadata": {},
     "output_type": "display_data"
    },
    {
     "data": {
      "text/latex": [
       "$\\displaystyle - 0.16 x_{12} \\left(1 - x_{18}\\right)$"
      ],
      "text/plain": [
       "-0.16*x12*(1 - x18)"
      ]
     },
     "metadata": {},
     "output_type": "display_data"
    },
    {
     "data": {
      "text/latex": [
       "$\\displaystyle - 0.46 x_{12} \\left(1 - x_{19}\\right)$"
      ],
      "text/plain": [
       "-0.46*x12*(1 - x19)"
      ]
     },
     "metadata": {},
     "output_type": "display_data"
    },
    {
     "data": {
      "text/latex": [
       "$\\displaystyle - 0.23 x_{12} \\left(1 - x_{20}\\right)$"
      ],
      "text/plain": [
       "-0.23*x12*(1 - x20)"
      ]
     },
     "metadata": {},
     "output_type": "display_data"
    },
    {
     "data": {
      "text/latex": [
       "$\\displaystyle 0.53 x_{12} \\left(1 - x_{21}\\right)$"
      ],
      "text/plain": [
       "0.53*x12*(1 - x21)"
      ]
     },
     "metadata": {},
     "output_type": "display_data"
    },
    {
     "data": {
      "text/latex": [
       "$\\displaystyle 0.94 x_{12} \\left(1 - x_{22}\\right)$"
      ],
      "text/plain": [
       "0.94*x12*(1 - x22)"
      ]
     },
     "metadata": {},
     "output_type": "display_data"
    },
    {
     "data": {
      "text/latex": [
       "$\\displaystyle 0.05 x_{12} \\left(1 - x_{23}\\right)$"
      ],
      "text/plain": [
       "0.05*x12*(1 - x23)"
      ]
     },
     "metadata": {},
     "output_type": "display_data"
    },
    {
     "data": {
      "text/latex": [
       "$\\displaystyle 0.69 x_{12} \\left(1 - x_{24}\\right)$"
      ],
      "text/plain": [
       "0.69*x12*(1 - x24)"
      ]
     },
     "metadata": {},
     "output_type": "display_data"
    },
    {
     "data": {
      "text/latex": [
       "$\\displaystyle - 0.49 x_{12} \\left(1 - x_{25}\\right)$"
      ],
      "text/plain": [
       "-0.49*x12*(1 - x25)"
      ]
     },
     "metadata": {},
     "output_type": "display_data"
    },
    {
     "data": {
      "text/latex": [
       "$\\displaystyle - 0.74 x_{12} \\left(1 - x_{26}\\right)$"
      ],
      "text/plain": [
       "-0.74*x12*(1 - x26)"
      ]
     },
     "metadata": {},
     "output_type": "display_data"
    },
    {
     "data": {
      "text/latex": [
       "$\\displaystyle - 0.36 x_{12} \\left(1 - x_{27}\\right)$"
      ],
      "text/plain": [
       "-0.36*x12*(1 - x27)"
      ]
     },
     "metadata": {},
     "output_type": "display_data"
    },
    {
     "data": {
      "text/latex": [
       "$\\displaystyle - 0.63 x_{12} \\left(1 - x_{28}\\right)$"
      ],
      "text/plain": [
       "-0.63*x12*(1 - x28)"
      ]
     },
     "metadata": {},
     "output_type": "display_data"
    },
    {
     "data": {
      "text/latex": [
       "$\\displaystyle 0.8 x_{12} \\left(1 - x_{29}\\right)$"
      ],
      "text/plain": [
       "0.8*x12*(1 - x29)"
      ]
     },
     "metadata": {},
     "output_type": "display_data"
    },
    {
     "data": {
      "text/latex": [
       "$\\displaystyle 0.66 x_{12} \\left(1 - x_{30}\\right)$"
      ],
      "text/plain": [
       "0.66*x12*(1 - x30)"
      ]
     },
     "metadata": {},
     "output_type": "display_data"
    },
    {
     "data": {
      "text/latex": [
       "$\\displaystyle 0.09 x_{13} \\left(1 - x_{1}\\right)$"
      ],
      "text/plain": [
       "0.09*x13*(1 - x1)"
      ]
     },
     "metadata": {},
     "output_type": "display_data"
    },
    {
     "data": {
      "text/latex": [
       "$\\displaystyle 0.34 x_{13} \\left(1 - x_{2}\\right)$"
      ],
      "text/plain": [
       "0.34*x13*(1 - x2)"
      ]
     },
     "metadata": {},
     "output_type": "display_data"
    },
    {
     "data": {
      "text/latex": [
       "$\\displaystyle 0.79 x_{13} \\left(1 - x_{3}\\right)$"
      ],
      "text/plain": [
       "0.79*x13*(1 - x3)"
      ]
     },
     "metadata": {},
     "output_type": "display_data"
    },
    {
     "data": {
      "text/latex": [
       "$\\displaystyle 0.85 x_{13} \\left(1 - x_{4}\\right)$"
      ],
      "text/plain": [
       "0.85*x13*(1 - x4)"
      ]
     },
     "metadata": {},
     "output_type": "display_data"
    },
    {
     "data": {
      "text/latex": [
       "$\\displaystyle 0.35 x_{13} \\left(1 - x_{5}\\right)$"
      ],
      "text/plain": [
       "0.35*x13*(1 - x5)"
      ]
     },
     "metadata": {},
     "output_type": "display_data"
    },
    {
     "data": {
      "text/latex": [
       "$\\displaystyle - 0.27 x_{13} \\left(1 - x_{6}\\right)$"
      ],
      "text/plain": [
       "-0.27*x13*(1 - x6)"
      ]
     },
     "metadata": {},
     "output_type": "display_data"
    },
    {
     "data": {
      "text/latex": [
       "$\\displaystyle - 0.71 x_{13} \\left(1 - x_{7}\\right)$"
      ],
      "text/plain": [
       "-0.71*x13*(1 - x7)"
      ]
     },
     "metadata": {},
     "output_type": "display_data"
    },
    {
     "data": {
      "text/latex": [
       "$\\displaystyle - 0.4 x_{13} \\left(1 - x_{8}\\right)$"
      ],
      "text/plain": [
       "-0.4*x13*(1 - x8)"
      ]
     },
     "metadata": {},
     "output_type": "display_data"
    },
    {
     "data": {
      "text/latex": [
       "$\\displaystyle - 0.41 x_{13} \\left(1 - x_{9}\\right)$"
      ],
      "text/plain": [
       "-0.41*x13*(1 - x9)"
      ]
     },
     "metadata": {},
     "output_type": "display_data"
    },
    {
     "data": {
      "text/latex": [
       "$\\displaystyle 0.96 x_{13} \\left(1 - x_{10}\\right)$"
      ],
      "text/plain": [
       "0.96*x13*(1 - x10)"
      ]
     },
     "metadata": {},
     "output_type": "display_data"
    },
    {
     "data": {
      "text/latex": [
       "$\\displaystyle - 0.25 x_{13} \\left(1 - x_{11}\\right)$"
      ],
      "text/plain": [
       "-0.25*x13*(1 - x11)"
      ]
     },
     "metadata": {},
     "output_type": "display_data"
    },
    {
     "data": {
      "text/latex": [
       "$\\displaystyle 0.36 x_{13} \\left(1 - x_{12}\\right)$"
      ],
      "text/plain": [
       "0.36*x13*(1 - x12)"
      ]
     },
     "metadata": {},
     "output_type": "display_data"
    },
    {
     "data": {
      "text/latex": [
       "$\\displaystyle 0$"
      ],
      "text/plain": [
       "0"
      ]
     },
     "metadata": {},
     "output_type": "display_data"
    },
    {
     "data": {
      "text/latex": [
       "$\\displaystyle - 0.36 x_{13} \\left(1 - x_{14}\\right)$"
      ],
      "text/plain": [
       "-0.36*x13*(1 - x14)"
      ]
     },
     "metadata": {},
     "output_type": "display_data"
    },
    {
     "data": {
      "text/latex": [
       "$\\displaystyle 0.67 x_{13} \\left(1 - x_{15}\\right)$"
      ],
      "text/plain": [
       "0.67*x13*(1 - x15)"
      ]
     },
     "metadata": {},
     "output_type": "display_data"
    },
    {
     "data": {
      "text/latex": [
       "$\\displaystyle - 0.27 x_{13} \\left(1 - x_{16}\\right)$"
      ],
      "text/plain": [
       "-0.27*x13*(1 - x16)"
      ]
     },
     "metadata": {},
     "output_type": "display_data"
    },
    {
     "data": {
      "text/latex": [
       "$\\displaystyle - 0.52 x_{13} \\left(1 - x_{17}\\right)$"
      ],
      "text/plain": [
       "-0.52*x13*(1 - x17)"
      ]
     },
     "metadata": {},
     "output_type": "display_data"
    },
    {
     "data": {
      "text/latex": [
       "$\\displaystyle - 0.5 x_{13} \\left(1 - x_{18}\\right)$"
      ],
      "text/plain": [
       "-0.5*x13*(1 - x18)"
      ]
     },
     "metadata": {},
     "output_type": "display_data"
    },
    {
     "data": {
      "text/latex": [
       "$\\displaystyle - 0.45 x_{13} \\left(1 - x_{19}\\right)$"
      ],
      "text/plain": [
       "-0.45*x13*(1 - x19)"
      ]
     },
     "metadata": {},
     "output_type": "display_data"
    },
    {
     "data": {
      "text/latex": [
       "$\\displaystyle 0.64 x_{13} \\left(1 - x_{20}\\right)$"
      ],
      "text/plain": [
       "0.64*x13*(1 - x20)"
      ]
     },
     "metadata": {},
     "output_type": "display_data"
    },
    {
     "data": {
      "text/latex": [
       "$\\displaystyle - 0.47 x_{13} \\left(1 - x_{21}\\right)$"
      ],
      "text/plain": [
       "-0.47*x13*(1 - x21)"
      ]
     },
     "metadata": {},
     "output_type": "display_data"
    },
    {
     "data": {
      "text/latex": [
       "$\\displaystyle - 0.45 x_{13} \\left(1 - x_{22}\\right)$"
      ],
      "text/plain": [
       "-0.45*x13*(1 - x22)"
      ]
     },
     "metadata": {},
     "output_type": "display_data"
    },
    {
     "data": {
      "text/latex": [
       "$\\displaystyle 0.53 x_{13} \\left(1 - x_{23}\\right)$"
      ],
      "text/plain": [
       "0.53*x13*(1 - x23)"
      ]
     },
     "metadata": {},
     "output_type": "display_data"
    },
    {
     "data": {
      "text/latex": [
       "$\\displaystyle - 0.39 x_{13} \\left(1 - x_{24}\\right)$"
      ],
      "text/plain": [
       "-0.39*x13*(1 - x24)"
      ]
     },
     "metadata": {},
     "output_type": "display_data"
    },
    {
     "data": {
      "text/latex": [
       "$\\displaystyle 0.22 x_{13} \\left(1 - x_{25}\\right)$"
      ],
      "text/plain": [
       "0.22*x13*(1 - x25)"
      ]
     },
     "metadata": {},
     "output_type": "display_data"
    },
    {
     "data": {
      "text/latex": [
       "$\\displaystyle - 0.32 x_{13} \\left(1 - x_{26}\\right)$"
      ],
      "text/plain": [
       "-0.32*x13*(1 - x26)"
      ]
     },
     "metadata": {},
     "output_type": "display_data"
    },
    {
     "data": {
      "text/latex": [
       "$\\displaystyle 0.85 x_{13} \\left(1 - x_{27}\\right)$"
      ],
      "text/plain": [
       "0.85*x13*(1 - x27)"
      ]
     },
     "metadata": {},
     "output_type": "display_data"
    },
    {
     "data": {
      "text/latex": [
       "$\\displaystyle - 0.46 x_{13} \\left(1 - x_{28}\\right)$"
      ],
      "text/plain": [
       "-0.46*x13*(1 - x28)"
      ]
     },
     "metadata": {},
     "output_type": "display_data"
    },
    {
     "data": {
      "text/latex": [
       "$\\displaystyle - 0.24 x_{13} \\left(1 - x_{29}\\right)$"
      ],
      "text/plain": [
       "-0.24*x13*(1 - x29)"
      ]
     },
     "metadata": {},
     "output_type": "display_data"
    },
    {
     "data": {
      "text/latex": [
       "$\\displaystyle - 0.53 x_{13} \\left(1 - x_{30}\\right)$"
      ],
      "text/plain": [
       "-0.53*x13*(1 - x30)"
      ]
     },
     "metadata": {},
     "output_type": "display_data"
    },
    {
     "data": {
      "text/latex": [
       "$\\displaystyle - 0.27 x_{14} \\left(1 - x_{1}\\right)$"
      ],
      "text/plain": [
       "-0.27*x14*(1 - x1)"
      ]
     },
     "metadata": {},
     "output_type": "display_data"
    },
    {
     "data": {
      "text/latex": [
       "$\\displaystyle - 0.43 x_{14} \\left(1 - x_{2}\\right)$"
      ],
      "text/plain": [
       "-0.43*x14*(1 - x2)"
      ]
     },
     "metadata": {},
     "output_type": "display_data"
    },
    {
     "data": {
      "text/latex": [
       "$\\displaystyle - 0.72 x_{14} \\left(1 - x_{3}\\right)$"
      ],
      "text/plain": [
       "-0.72*x14*(1 - x3)"
      ]
     },
     "metadata": {},
     "output_type": "display_data"
    },
    {
     "data": {
      "text/latex": [
       "$\\displaystyle 0.99 x_{14} \\left(1 - x_{4}\\right)$"
      ],
      "text/plain": [
       "0.99*x14*(1 - x4)"
      ]
     },
     "metadata": {},
     "output_type": "display_data"
    },
    {
     "data": {
      "text/latex": [
       "$\\displaystyle - 0.01 x_{14} \\left(1 - x_{5}\\right)$"
      ],
      "text/plain": [
       "-0.01*x14*(1 - x5)"
      ]
     },
     "metadata": {},
     "output_type": "display_data"
    },
    {
     "data": {
      "text/latex": [
       "$\\displaystyle - 0.89 x_{14} \\left(1 - x_{6}\\right)$"
      ],
      "text/plain": [
       "-0.89*x14*(1 - x6)"
      ]
     },
     "metadata": {},
     "output_type": "display_data"
    },
    {
     "data": {
      "text/latex": [
       "$\\displaystyle 0.03 x_{14} \\left(1 - x_{7}\\right)$"
      ],
      "text/plain": [
       "0.03*x14*(1 - x7)"
      ]
     },
     "metadata": {},
     "output_type": "display_data"
    },
    {
     "data": {
      "text/latex": [
       "$\\displaystyle - 0.54 x_{14} \\left(1 - x_{8}\\right)$"
      ],
      "text/plain": [
       "-0.54*x14*(1 - x8)"
      ]
     },
     "metadata": {},
     "output_type": "display_data"
    },
    {
     "data": {
      "text/latex": [
       "$\\displaystyle 0.19 x_{14} \\left(1 - x_{9}\\right)$"
      ],
      "text/plain": [
       "0.19*x14*(1 - x9)"
      ]
     },
     "metadata": {},
     "output_type": "display_data"
    },
    {
     "data": {
      "text/latex": [
       "$\\displaystyle 0.54 x_{14} \\left(1 - x_{10}\\right)$"
      ],
      "text/plain": [
       "0.54*x14*(1 - x10)"
      ]
     },
     "metadata": {},
     "output_type": "display_data"
    },
    {
     "data": {
      "text/latex": [
       "$\\displaystyle - 0.26 x_{14} \\left(1 - x_{11}\\right)$"
      ],
      "text/plain": [
       "-0.26*x14*(1 - x11)"
      ]
     },
     "metadata": {},
     "output_type": "display_data"
    },
    {
     "data": {
      "text/latex": [
       "$\\displaystyle - 0.49 x_{14} \\left(1 - x_{12}\\right)$"
      ],
      "text/plain": [
       "-0.49*x14*(1 - x12)"
      ]
     },
     "metadata": {},
     "output_type": "display_data"
    },
    {
     "data": {
      "text/latex": [
       "$\\displaystyle - 0.36 x_{14} \\left(1 - x_{13}\\right)$"
      ],
      "text/plain": [
       "-0.36*x14*(1 - x13)"
      ]
     },
     "metadata": {},
     "output_type": "display_data"
    },
    {
     "data": {
      "text/latex": [
       "$\\displaystyle 0$"
      ],
      "text/plain": [
       "0"
      ]
     },
     "metadata": {},
     "output_type": "display_data"
    },
    {
     "data": {
      "text/latex": [
       "$\\displaystyle 0.68 x_{14} \\left(1 - x_{15}\\right)$"
      ],
      "text/plain": [
       "0.68*x14*(1 - x15)"
      ]
     },
     "metadata": {},
     "output_type": "display_data"
    },
    {
     "data": {
      "text/latex": [
       "$\\displaystyle - 0.31 x_{14} \\left(1 - x_{16}\\right)$"
      ],
      "text/plain": [
       "-0.31*x14*(1 - x16)"
      ]
     },
     "metadata": {},
     "output_type": "display_data"
    },
    {
     "data": {
      "text/latex": [
       "$\\displaystyle - 0.94 x_{14} \\left(1 - x_{17}\\right)$"
      ],
      "text/plain": [
       "-0.94*x14*(1 - x17)"
      ]
     },
     "metadata": {},
     "output_type": "display_data"
    },
    {
     "data": {
      "text/latex": [
       "$\\displaystyle - 0.88 x_{14} \\left(1 - x_{18}\\right)$"
      ],
      "text/plain": [
       "-0.88*x14*(1 - x18)"
      ]
     },
     "metadata": {},
     "output_type": "display_data"
    },
    {
     "data": {
      "text/latex": [
       "$\\displaystyle 0.85 x_{14} \\left(1 - x_{19}\\right)$"
      ],
      "text/plain": [
       "0.85*x14*(1 - x19)"
      ]
     },
     "metadata": {},
     "output_type": "display_data"
    },
    {
     "data": {
      "text/latex": [
       "$\\displaystyle 0.06 x_{14} \\left(1 - x_{20}\\right)$"
      ],
      "text/plain": [
       "0.06*x14*(1 - x20)"
      ]
     },
     "metadata": {},
     "output_type": "display_data"
    },
    {
     "data": {
      "text/latex": [
       "$\\displaystyle 0.53 x_{14} \\left(1 - x_{21}\\right)$"
      ],
      "text/plain": [
       "0.53*x14*(1 - x21)"
      ]
     },
     "metadata": {},
     "output_type": "display_data"
    },
    {
     "data": {
      "text/latex": [
       "$\\displaystyle - 0.45 x_{14} \\left(1 - x_{22}\\right)$"
      ],
      "text/plain": [
       "-0.45*x14*(1 - x22)"
      ]
     },
     "metadata": {},
     "output_type": "display_data"
    },
    {
     "data": {
      "text/latex": [
       "$\\displaystyle - 0.51 x_{14} \\left(1 - x_{23}\\right)$"
      ],
      "text/plain": [
       "-0.51*x14*(1 - x23)"
      ]
     },
     "metadata": {},
     "output_type": "display_data"
    },
    {
     "data": {
      "text/latex": [
       "$\\displaystyle - 0.36 x_{14} \\left(1 - x_{24}\\right)$"
      ],
      "text/plain": [
       "-0.36*x14*(1 - x24)"
      ]
     },
     "metadata": {},
     "output_type": "display_data"
    },
    {
     "data": {
      "text/latex": [
       "$\\displaystyle - 0.66 x_{14} \\left(1 - x_{25}\\right)$"
      ],
      "text/plain": [
       "-0.66*x14*(1 - x25)"
      ]
     },
     "metadata": {},
     "output_type": "display_data"
    },
    {
     "data": {
      "text/latex": [
       "$\\displaystyle - 0.96 x_{14} \\left(1 - x_{26}\\right)$"
      ],
      "text/plain": [
       "-0.96*x14*(1 - x26)"
      ]
     },
     "metadata": {},
     "output_type": "display_data"
    },
    {
     "data": {
      "text/latex": [
       "$\\displaystyle - 0.85 x_{14} \\left(1 - x_{27}\\right)$"
      ],
      "text/plain": [
       "-0.85*x14*(1 - x27)"
      ]
     },
     "metadata": {},
     "output_type": "display_data"
    },
    {
     "data": {
      "text/latex": [
       "$\\displaystyle 0.95 x_{14} \\left(1 - x_{28}\\right)$"
      ],
      "text/plain": [
       "0.95*x14*(1 - x28)"
      ]
     },
     "metadata": {},
     "output_type": "display_data"
    },
    {
     "data": {
      "text/latex": [
       "$\\displaystyle 0.97 x_{14} \\left(1 - x_{29}\\right)$"
      ],
      "text/plain": [
       "0.97*x14*(1 - x29)"
      ]
     },
     "metadata": {},
     "output_type": "display_data"
    },
    {
     "data": {
      "text/latex": [
       "$\\displaystyle 0.5 x_{14} \\left(1 - x_{30}\\right)$"
      ],
      "text/plain": [
       "0.5*x14*(1 - x30)"
      ]
     },
     "metadata": {},
     "output_type": "display_data"
    },
    {
     "data": {
      "text/latex": [
       "$\\displaystyle - 0.02 x_{15} \\left(1 - x_{1}\\right)$"
      ],
      "text/plain": [
       "-0.02*x15*(1 - x1)"
      ]
     },
     "metadata": {},
     "output_type": "display_data"
    },
    {
     "data": {
      "text/latex": [
       "$\\displaystyle 0.83 x_{15} \\left(1 - x_{2}\\right)$"
      ],
      "text/plain": [
       "0.83*x15*(1 - x2)"
      ]
     },
     "metadata": {},
     "output_type": "display_data"
    },
    {
     "data": {
      "text/latex": [
       "$\\displaystyle - 0.55 x_{15} \\left(1 - x_{3}\\right)$"
      ],
      "text/plain": [
       "-0.55*x15*(1 - x3)"
      ]
     },
     "metadata": {},
     "output_type": "display_data"
    },
    {
     "data": {
      "text/latex": [
       "$\\displaystyle 0.4 x_{15} \\left(1 - x_{4}\\right)$"
      ],
      "text/plain": [
       "0.4*x15*(1 - x4)"
      ]
     },
     "metadata": {},
     "output_type": "display_data"
    },
    {
     "data": {
      "text/latex": [
       "$\\displaystyle 0.59 x_{15} \\left(1 - x_{5}\\right)$"
      ],
      "text/plain": [
       "0.59*x15*(1 - x5)"
      ]
     },
     "metadata": {},
     "output_type": "display_data"
    },
    {
     "data": {
      "text/latex": [
       "$\\displaystyle 0.93 x_{15} \\left(1 - x_{6}\\right)$"
      ],
      "text/plain": [
       "0.93*x15*(1 - x6)"
      ]
     },
     "metadata": {},
     "output_type": "display_data"
    },
    {
     "data": {
      "text/latex": [
       "$\\displaystyle - 0.74 x_{15} \\left(1 - x_{7}\\right)$"
      ],
      "text/plain": [
       "-0.74*x15*(1 - x7)"
      ]
     },
     "metadata": {},
     "output_type": "display_data"
    },
    {
     "data": {
      "text/latex": [
       "$\\displaystyle 0.38 x_{15} \\left(1 - x_{8}\\right)$"
      ],
      "text/plain": [
       "0.38*x15*(1 - x8)"
      ]
     },
     "metadata": {},
     "output_type": "display_data"
    },
    {
     "data": {
      "text/latex": [
       "$\\displaystyle - 0.58 x_{15} \\left(1 - x_{9}\\right)$"
      ],
      "text/plain": [
       "-0.58*x15*(1 - x9)"
      ]
     },
     "metadata": {},
     "output_type": "display_data"
    },
    {
     "data": {
      "text/latex": [
       "$\\displaystyle 0.14 x_{15} \\left(1 - x_{10}\\right)$"
      ],
      "text/plain": [
       "0.14*x15*(1 - x10)"
      ]
     },
     "metadata": {},
     "output_type": "display_data"
    },
    {
     "data": {
      "text/latex": [
       "$\\displaystyle - 0.92 x_{15} \\left(1 - x_{11}\\right)$"
      ],
      "text/plain": [
       "-0.92*x15*(1 - x11)"
      ]
     },
     "metadata": {},
     "output_type": "display_data"
    },
    {
     "data": {
      "text/latex": [
       "$\\displaystyle 0.64 x_{15} \\left(1 - x_{12}\\right)$"
      ],
      "text/plain": [
       "0.64*x15*(1 - x12)"
      ]
     },
     "metadata": {},
     "output_type": "display_data"
    },
    {
     "data": {
      "text/latex": [
       "$\\displaystyle 0.67 x_{15} \\left(1 - x_{13}\\right)$"
      ],
      "text/plain": [
       "0.67*x15*(1 - x13)"
      ]
     },
     "metadata": {},
     "output_type": "display_data"
    },
    {
     "data": {
      "text/latex": [
       "$\\displaystyle 0.68 x_{15} \\left(1 - x_{14}\\right)$"
      ],
      "text/plain": [
       "0.68*x15*(1 - x14)"
      ]
     },
     "metadata": {},
     "output_type": "display_data"
    },
    {
     "data": {
      "text/latex": [
       "$\\displaystyle 0$"
      ],
      "text/plain": [
       "0"
      ]
     },
     "metadata": {},
     "output_type": "display_data"
    },
    {
     "data": {
      "text/latex": [
       "$\\displaystyle - 0.19 x_{15} \\left(1 - x_{16}\\right)$"
      ],
      "text/plain": [
       "-0.19*x15*(1 - x16)"
      ]
     },
     "metadata": {},
     "output_type": "display_data"
    },
    {
     "data": {
      "text/latex": [
       "$\\displaystyle - 0.42 x_{15} \\left(1 - x_{17}\\right)$"
      ],
      "text/plain": [
       "-0.42*x15*(1 - x17)"
      ]
     },
     "metadata": {},
     "output_type": "display_data"
    },
    {
     "data": {
      "text/latex": [
       "$\\displaystyle - 0.54 x_{15} \\left(1 - x_{18}\\right)$"
      ],
      "text/plain": [
       "-0.54*x15*(1 - x18)"
      ]
     },
     "metadata": {},
     "output_type": "display_data"
    },
    {
     "data": {
      "text/latex": [
       "$\\displaystyle 0.34 x_{15} \\left(1 - x_{19}\\right)$"
      ],
      "text/plain": [
       "0.34*x15*(1 - x19)"
      ]
     },
     "metadata": {},
     "output_type": "display_data"
    },
    {
     "data": {
      "text/latex": [
       "$\\displaystyle 0.66 x_{15} \\left(1 - x_{20}\\right)$"
      ],
      "text/plain": [
       "0.66*x15*(1 - x20)"
      ]
     },
     "metadata": {},
     "output_type": "display_data"
    },
    {
     "data": {
      "text/latex": [
       "$\\displaystyle 0.9 x_{15} \\left(1 - x_{21}\\right)$"
      ],
      "text/plain": [
       "0.9*x15*(1 - x21)"
      ]
     },
     "metadata": {},
     "output_type": "display_data"
    },
    {
     "data": {
      "text/latex": [
       "$\\displaystyle - 0.8 x_{15} \\left(1 - x_{22}\\right)$"
      ],
      "text/plain": [
       "-0.8*x15*(1 - x22)"
      ]
     },
     "metadata": {},
     "output_type": "display_data"
    },
    {
     "data": {
      "text/latex": [
       "$\\displaystyle 0.45 x_{15} \\left(1 - x_{23}\\right)$"
      ],
      "text/plain": [
       "0.45*x15*(1 - x23)"
      ]
     },
     "metadata": {},
     "output_type": "display_data"
    },
    {
     "data": {
      "text/latex": [
       "$\\displaystyle 0.55 x_{15} \\left(1 - x_{24}\\right)$"
      ],
      "text/plain": [
       "0.55*x15*(1 - x24)"
      ]
     },
     "metadata": {},
     "output_type": "display_data"
    },
    {
     "data": {
      "text/latex": [
       "$\\displaystyle - 0.09 x_{15} \\left(1 - x_{25}\\right)$"
      ],
      "text/plain": [
       "-0.09*x15*(1 - x25)"
      ]
     },
     "metadata": {},
     "output_type": "display_data"
    },
    {
     "data": {
      "text/latex": [
       "$\\displaystyle - 0.09 x_{15} \\left(1 - x_{26}\\right)$"
      ],
      "text/plain": [
       "-0.09*x15*(1 - x26)"
      ]
     },
     "metadata": {},
     "output_type": "display_data"
    },
    {
     "data": {
      "text/latex": [
       "$\\displaystyle 0.83 x_{15} \\left(1 - x_{27}\\right)$"
      ],
      "text/plain": [
       "0.83*x15*(1 - x27)"
      ]
     },
     "metadata": {},
     "output_type": "display_data"
    },
    {
     "data": {
      "text/latex": [
       "$\\displaystyle - 0.59 x_{15} \\left(1 - x_{28}\\right)$"
      ],
      "text/plain": [
       "-0.59*x15*(1 - x28)"
      ]
     },
     "metadata": {},
     "output_type": "display_data"
    },
    {
     "data": {
      "text/latex": [
       "$\\displaystyle - 0.54 x_{15} \\left(1 - x_{29}\\right)$"
      ],
      "text/plain": [
       "-0.54*x15*(1 - x29)"
      ]
     },
     "metadata": {},
     "output_type": "display_data"
    },
    {
     "data": {
      "text/latex": [
       "$\\displaystyle 0.29 x_{15} \\left(1 - x_{30}\\right)$"
      ],
      "text/plain": [
       "0.29*x15*(1 - x30)"
      ]
     },
     "metadata": {},
     "output_type": "display_data"
    },
    {
     "data": {
      "text/latex": [
       "$\\displaystyle - 0.35 x_{16} \\left(1 - x_{1}\\right)$"
      ],
      "text/plain": [
       "-0.35*x16*(1 - x1)"
      ]
     },
     "metadata": {},
     "output_type": "display_data"
    },
    {
     "data": {
      "text/latex": [
       "$\\displaystyle 0.77 x_{16} \\left(1 - x_{2}\\right)$"
      ],
      "text/plain": [
       "0.77*x16*(1 - x2)"
      ]
     },
     "metadata": {},
     "output_type": "display_data"
    },
    {
     "data": {
      "text/latex": [
       "$\\displaystyle - 0.01 x_{16} \\left(1 - x_{3}\\right)$"
      ],
      "text/plain": [
       "-0.01*x16*(1 - x3)"
      ]
     },
     "metadata": {},
     "output_type": "display_data"
    },
    {
     "data": {
      "text/latex": [
       "$\\displaystyle 0.31 x_{16} \\left(1 - x_{4}\\right)$"
      ],
      "text/plain": [
       "0.31*x16*(1 - x4)"
      ]
     },
     "metadata": {},
     "output_type": "display_data"
    },
    {
     "data": {
      "text/latex": [
       "$\\displaystyle - 0.42 x_{16} \\left(1 - x_{5}\\right)$"
      ],
      "text/plain": [
       "-0.42*x16*(1 - x5)"
      ]
     },
     "metadata": {},
     "output_type": "display_data"
    },
    {
     "data": {
      "text/latex": [
       "$\\displaystyle 0.22 x_{16} \\left(1 - x_{6}\\right)$"
      ],
      "text/plain": [
       "0.22*x16*(1 - x6)"
      ]
     },
     "metadata": {},
     "output_type": "display_data"
    },
    {
     "data": {
      "text/latex": [
       "$\\displaystyle - 0.91 x_{16} \\left(1 - x_{7}\\right)$"
      ],
      "text/plain": [
       "-0.91*x16*(1 - x7)"
      ]
     },
     "metadata": {},
     "output_type": "display_data"
    },
    {
     "data": {
      "text/latex": [
       "$\\displaystyle 0.34 x_{16} \\left(1 - x_{8}\\right)$"
      ],
      "text/plain": [
       "0.34*x16*(1 - x8)"
      ]
     },
     "metadata": {},
     "output_type": "display_data"
    },
    {
     "data": {
      "text/latex": [
       "$\\displaystyle 0.18 x_{16} \\left(1 - x_{9}\\right)$"
      ],
      "text/plain": [
       "0.18*x16*(1 - x9)"
      ]
     },
     "metadata": {},
     "output_type": "display_data"
    },
    {
     "data": {
      "text/latex": [
       "$\\displaystyle 0.2 x_{16} \\left(1 - x_{10}\\right)$"
      ],
      "text/plain": [
       "0.2*x16*(1 - x10)"
      ]
     },
     "metadata": {},
     "output_type": "display_data"
    },
    {
     "data": {
      "text/latex": [
       "$\\displaystyle - 0.95 x_{16} \\left(1 - x_{11}\\right)$"
      ],
      "text/plain": [
       "-0.95*x16*(1 - x11)"
      ]
     },
     "metadata": {},
     "output_type": "display_data"
    },
    {
     "data": {
      "text/latex": [
       "$\\displaystyle 0.5 x_{16} \\left(1 - x_{12}\\right)$"
      ],
      "text/plain": [
       "0.5*x16*(1 - x12)"
      ]
     },
     "metadata": {},
     "output_type": "display_data"
    },
    {
     "data": {
      "text/latex": [
       "$\\displaystyle - 0.27 x_{16} \\left(1 - x_{13}\\right)$"
      ],
      "text/plain": [
       "-0.27*x16*(1 - x13)"
      ]
     },
     "metadata": {},
     "output_type": "display_data"
    },
    {
     "data": {
      "text/latex": [
       "$\\displaystyle - 0.31 x_{16} \\left(1 - x_{14}\\right)$"
      ],
      "text/plain": [
       "-0.31*x16*(1 - x14)"
      ]
     },
     "metadata": {},
     "output_type": "display_data"
    },
    {
     "data": {
      "text/latex": [
       "$\\displaystyle - 0.19 x_{16} \\left(1 - x_{15}\\right)$"
      ],
      "text/plain": [
       "-0.19*x16*(1 - x15)"
      ]
     },
     "metadata": {},
     "output_type": "display_data"
    },
    {
     "data": {
      "text/latex": [
       "$\\displaystyle 0$"
      ],
      "text/plain": [
       "0"
      ]
     },
     "metadata": {},
     "output_type": "display_data"
    },
    {
     "data": {
      "text/latex": [
       "$\\displaystyle - 0.27 x_{16} \\left(1 - x_{17}\\right)$"
      ],
      "text/plain": [
       "-0.27*x16*(1 - x17)"
      ]
     },
     "metadata": {},
     "output_type": "display_data"
    },
    {
     "data": {
      "text/latex": [
       "$\\displaystyle - 0.15 x_{16} \\left(1 - x_{18}\\right)$"
      ],
      "text/plain": [
       "-0.15*x16*(1 - x18)"
      ]
     },
     "metadata": {},
     "output_type": "display_data"
    },
    {
     "data": {
      "text/latex": [
       "$\\displaystyle 0.03 x_{16} \\left(1 - x_{19}\\right)$"
      ],
      "text/plain": [
       "0.03*x16*(1 - x19)"
      ]
     },
     "metadata": {},
     "output_type": "display_data"
    },
    {
     "data": {
      "text/latex": [
       "$\\displaystyle - 0.23 x_{16} \\left(1 - x_{20}\\right)$"
      ],
      "text/plain": [
       "-0.23*x16*(1 - x20)"
      ]
     },
     "metadata": {},
     "output_type": "display_data"
    },
    {
     "data": {
      "text/latex": [
       "$\\displaystyle - 0.87 x_{16} \\left(1 - x_{21}\\right)$"
      ],
      "text/plain": [
       "-0.87*x16*(1 - x21)"
      ]
     },
     "metadata": {},
     "output_type": "display_data"
    },
    {
     "data": {
      "text/latex": [
       "$\\displaystyle - 0.8 x_{16} \\left(1 - x_{22}\\right)$"
      ],
      "text/plain": [
       "-0.8*x16*(1 - x22)"
      ]
     },
     "metadata": {},
     "output_type": "display_data"
    },
    {
     "data": {
      "text/latex": [
       "$\\displaystyle 0.61 x_{16} \\left(1 - x_{23}\\right)$"
      ],
      "text/plain": [
       "0.61*x16*(1 - x23)"
      ]
     },
     "metadata": {},
     "output_type": "display_data"
    },
    {
     "data": {
      "text/latex": [
       "$\\displaystyle 0.12 x_{16} \\left(1 - x_{24}\\right)$"
      ],
      "text/plain": [
       "0.12*x16*(1 - x24)"
      ]
     },
     "metadata": {},
     "output_type": "display_data"
    },
    {
     "data": {
      "text/latex": [
       "$\\displaystyle 0.22 x_{16} \\left(1 - x_{25}\\right)$"
      ],
      "text/plain": [
       "0.22*x16*(1 - x25)"
      ]
     },
     "metadata": {},
     "output_type": "display_data"
    },
    {
     "data": {
      "text/latex": [
       "$\\displaystyle - 0.16 x_{16} \\left(1 - x_{26}\\right)$"
      ],
      "text/plain": [
       "-0.16*x16*(1 - x26)"
      ]
     },
     "metadata": {},
     "output_type": "display_data"
    },
    {
     "data": {
      "text/latex": [
       "$\\displaystyle - 0.17 x_{16} \\left(1 - x_{27}\\right)$"
      ],
      "text/plain": [
       "-0.17*x16*(1 - x27)"
      ]
     },
     "metadata": {},
     "output_type": "display_data"
    },
    {
     "data": {
      "text/latex": [
       "$\\displaystyle - 0.63 x_{16} \\left(1 - x_{28}\\right)$"
      ],
      "text/plain": [
       "-0.63*x16*(1 - x28)"
      ]
     },
     "metadata": {},
     "output_type": "display_data"
    },
    {
     "data": {
      "text/latex": [
       "$\\displaystyle - 0.45 x_{16} \\left(1 - x_{29}\\right)$"
      ],
      "text/plain": [
       "-0.45*x16*(1 - x29)"
      ]
     },
     "metadata": {},
     "output_type": "display_data"
    },
    {
     "data": {
      "text/latex": [
       "$\\displaystyle - 0.54 x_{16} \\left(1 - x_{30}\\right)$"
      ],
      "text/plain": [
       "-0.54*x16*(1 - x30)"
      ]
     },
     "metadata": {},
     "output_type": "display_data"
    },
    {
     "data": {
      "text/latex": [
       "$\\displaystyle - 0.19 x_{17} \\left(1 - x_{1}\\right)$"
      ],
      "text/plain": [
       "-0.19*x17*(1 - x1)"
      ]
     },
     "metadata": {},
     "output_type": "display_data"
    },
    {
     "data": {
      "text/latex": [
       "$\\displaystyle 0.57 x_{17} \\left(1 - x_{2}\\right)$"
      ],
      "text/plain": [
       "0.57*x17*(1 - x2)"
      ]
     },
     "metadata": {},
     "output_type": "display_data"
    },
    {
     "data": {
      "text/latex": [
       "$\\displaystyle 0.9 x_{17} \\left(1 - x_{3}\\right)$"
      ],
      "text/plain": [
       "0.9*x17*(1 - x3)"
      ]
     },
     "metadata": {},
     "output_type": "display_data"
    },
    {
     "data": {
      "text/latex": [
       "$\\displaystyle - 0.6 x_{17} \\left(1 - x_{4}\\right)$"
      ],
      "text/plain": [
       "-0.6*x17*(1 - x4)"
      ]
     },
     "metadata": {},
     "output_type": "display_data"
    },
    {
     "data": {
      "text/latex": [
       "$\\displaystyle - 0.49 x_{17} \\left(1 - x_{5}\\right)$"
      ],
      "text/plain": [
       "-0.49*x17*(1 - x5)"
      ]
     },
     "metadata": {},
     "output_type": "display_data"
    },
    {
     "data": {
      "text/latex": [
       "$\\displaystyle - 0.21 x_{17} \\left(1 - x_{6}\\right)$"
      ],
      "text/plain": [
       "-0.21*x17*(1 - x6)"
      ]
     },
     "metadata": {},
     "output_type": "display_data"
    },
    {
     "data": {
      "text/latex": [
       "$\\displaystyle - 0.34 x_{17} \\left(1 - x_{7}\\right)$"
      ],
      "text/plain": [
       "-0.34*x17*(1 - x7)"
      ]
     },
     "metadata": {},
     "output_type": "display_data"
    },
    {
     "data": {
      "text/latex": [
       "$\\displaystyle - 0.64 x_{17} \\left(1 - x_{8}\\right)$"
      ],
      "text/plain": [
       "-0.64*x17*(1 - x8)"
      ]
     },
     "metadata": {},
     "output_type": "display_data"
    },
    {
     "data": {
      "text/latex": [
       "$\\displaystyle 0.65 x_{17} \\left(1 - x_{9}\\right)$"
      ],
      "text/plain": [
       "0.65*x17*(1 - x9)"
      ]
     },
     "metadata": {},
     "output_type": "display_data"
    },
    {
     "data": {
      "text/latex": [
       "$\\displaystyle 0.74 x_{17} \\left(1 - x_{10}\\right)$"
      ],
      "text/plain": [
       "0.74*x17*(1 - x10)"
      ]
     },
     "metadata": {},
     "output_type": "display_data"
    },
    {
     "data": {
      "text/latex": [
       "$\\displaystyle 0.01 x_{17} \\left(1 - x_{11}\\right)$"
      ],
      "text/plain": [
       "0.01*x17*(1 - x11)"
      ]
     },
     "metadata": {},
     "output_type": "display_data"
    },
    {
     "data": {
      "text/latex": [
       "$\\displaystyle 0.08 x_{17} \\left(1 - x_{12}\\right)$"
      ],
      "text/plain": [
       "0.08*x17*(1 - x12)"
      ]
     },
     "metadata": {},
     "output_type": "display_data"
    },
    {
     "data": {
      "text/latex": [
       "$\\displaystyle - 0.52 x_{17} \\left(1 - x_{13}\\right)$"
      ],
      "text/plain": [
       "-0.52*x17*(1 - x13)"
      ]
     },
     "metadata": {},
     "output_type": "display_data"
    },
    {
     "data": {
      "text/latex": [
       "$\\displaystyle - 0.94 x_{17} \\left(1 - x_{14}\\right)$"
      ],
      "text/plain": [
       "-0.94*x17*(1 - x14)"
      ]
     },
     "metadata": {},
     "output_type": "display_data"
    },
    {
     "data": {
      "text/latex": [
       "$\\displaystyle - 0.42 x_{17} \\left(1 - x_{15}\\right)$"
      ],
      "text/plain": [
       "-0.42*x17*(1 - x15)"
      ]
     },
     "metadata": {},
     "output_type": "display_data"
    },
    {
     "data": {
      "text/latex": [
       "$\\displaystyle - 0.27 x_{17} \\left(1 - x_{16}\\right)$"
      ],
      "text/plain": [
       "-0.27*x17*(1 - x16)"
      ]
     },
     "metadata": {},
     "output_type": "display_data"
    },
    {
     "data": {
      "text/latex": [
       "$\\displaystyle 0$"
      ],
      "text/plain": [
       "0"
      ]
     },
     "metadata": {},
     "output_type": "display_data"
    },
    {
     "data": {
      "text/latex": [
       "$\\displaystyle - 0.35 x_{17} \\left(1 - x_{18}\\right)$"
      ],
      "text/plain": [
       "-0.35*x17*(1 - x18)"
      ]
     },
     "metadata": {},
     "output_type": "display_data"
    },
    {
     "data": {
      "text/latex": [
       "$\\displaystyle 0.27 x_{17} \\left(1 - x_{19}\\right)$"
      ],
      "text/plain": [
       "0.27*x17*(1 - x19)"
      ]
     },
     "metadata": {},
     "output_type": "display_data"
    },
    {
     "data": {
      "text/latex": [
       "$\\displaystyle 0.41 x_{17} \\left(1 - x_{20}\\right)$"
      ],
      "text/plain": [
       "0.41*x17*(1 - x20)"
      ]
     },
     "metadata": {},
     "output_type": "display_data"
    },
    {
     "data": {
      "text/latex": [
       "$\\displaystyle 0.62 x_{17} \\left(1 - x_{21}\\right)$"
      ],
      "text/plain": [
       "0.62*x17*(1 - x21)"
      ]
     },
     "metadata": {},
     "output_type": "display_data"
    },
    {
     "data": {
      "text/latex": [
       "$\\displaystyle 0.17 x_{17} \\left(1 - x_{22}\\right)$"
      ],
      "text/plain": [
       "0.17*x17*(1 - x22)"
      ]
     },
     "metadata": {},
     "output_type": "display_data"
    },
    {
     "data": {
      "text/latex": [
       "$\\displaystyle 0.69 x_{17} \\left(1 - x_{23}\\right)$"
      ],
      "text/plain": [
       "0.69*x17*(1 - x23)"
      ]
     },
     "metadata": {},
     "output_type": "display_data"
    },
    {
     "data": {
      "text/latex": [
       "$\\displaystyle - 0.27 x_{17} \\left(1 - x_{24}\\right)$"
      ],
      "text/plain": [
       "-0.27*x17*(1 - x24)"
      ]
     },
     "metadata": {},
     "output_type": "display_data"
    },
    {
     "data": {
      "text/latex": [
       "$\\displaystyle - 0.04 x_{17} \\left(1 - x_{25}\\right)$"
      ],
      "text/plain": [
       "-0.04*x17*(1 - x25)"
      ]
     },
     "metadata": {},
     "output_type": "display_data"
    },
    {
     "data": {
      "text/latex": [
       "$\\displaystyle 0.19 x_{17} \\left(1 - x_{26}\\right)$"
      ],
      "text/plain": [
       "0.19*x17*(1 - x26)"
      ]
     },
     "metadata": {},
     "output_type": "display_data"
    },
    {
     "data": {
      "text/latex": [
       "$\\displaystyle 0.04 x_{17} \\left(1 - x_{27}\\right)$"
      ],
      "text/plain": [
       "0.04*x17*(1 - x27)"
      ]
     },
     "metadata": {},
     "output_type": "display_data"
    },
    {
     "data": {
      "text/latex": [
       "$\\displaystyle 0.01 x_{17} \\left(1 - x_{28}\\right)$"
      ],
      "text/plain": [
       "0.01*x17*(1 - x28)"
      ]
     },
     "metadata": {},
     "output_type": "display_data"
    },
    {
     "data": {
      "text/latex": [
       "$\\displaystyle - 0.32 x_{17} \\left(1 - x_{29}\\right)$"
      ],
      "text/plain": [
       "-0.32*x17*(1 - x29)"
      ]
     },
     "metadata": {},
     "output_type": "display_data"
    },
    {
     "data": {
      "text/latex": [
       "$\\displaystyle - 0.42 x_{17} \\left(1 - x_{30}\\right)$"
      ],
      "text/plain": [
       "-0.42*x17*(1 - x30)"
      ]
     },
     "metadata": {},
     "output_type": "display_data"
    },
    {
     "data": {
      "text/latex": [
       "$\\displaystyle - 0.19 x_{18} \\left(1 - x_{1}\\right)$"
      ],
      "text/plain": [
       "-0.19*x18*(1 - x1)"
      ]
     },
     "metadata": {},
     "output_type": "display_data"
    },
    {
     "data": {
      "text/latex": [
       "$\\displaystyle - 0.03 x_{18} \\left(1 - x_{2}\\right)$"
      ],
      "text/plain": [
       "-0.03*x18*(1 - x2)"
      ]
     },
     "metadata": {},
     "output_type": "display_data"
    },
    {
     "data": {
      "text/latex": [
       "$\\displaystyle - 0.88 x_{18} \\left(1 - x_{3}\\right)$"
      ],
      "text/plain": [
       "-0.88*x18*(1 - x3)"
      ]
     },
     "metadata": {},
     "output_type": "display_data"
    },
    {
     "data": {
      "text/latex": [
       "$\\displaystyle - 0.46 x_{18} \\left(1 - x_{4}\\right)$"
      ],
      "text/plain": [
       "-0.46*x18*(1 - x4)"
      ]
     },
     "metadata": {},
     "output_type": "display_data"
    },
    {
     "data": {
      "text/latex": [
       "$\\displaystyle - 0.49 x_{18} \\left(1 - x_{5}\\right)$"
      ],
      "text/plain": [
       "-0.49*x18*(1 - x5)"
      ]
     },
     "metadata": {},
     "output_type": "display_data"
    },
    {
     "data": {
      "text/latex": [
       "$\\displaystyle 0.34 x_{18} \\left(1 - x_{6}\\right)$"
      ],
      "text/plain": [
       "0.34*x18*(1 - x6)"
      ]
     },
     "metadata": {},
     "output_type": "display_data"
    },
    {
     "data": {
      "text/latex": [
       "$\\displaystyle - 0.23 x_{18} \\left(1 - x_{7}\\right)$"
      ],
      "text/plain": [
       "-0.23*x18*(1 - x7)"
      ]
     },
     "metadata": {},
     "output_type": "display_data"
    },
    {
     "data": {
      "text/latex": [
       "$\\displaystyle 0.94 x_{18} \\left(1 - x_{8}\\right)$"
      ],
      "text/plain": [
       "0.94*x18*(1 - x8)"
      ]
     },
     "metadata": {},
     "output_type": "display_data"
    },
    {
     "data": {
      "text/latex": [
       "$\\displaystyle 0.5 x_{18} \\left(1 - x_{9}\\right)$"
      ],
      "text/plain": [
       "0.5*x18*(1 - x9)"
      ]
     },
     "metadata": {},
     "output_type": "display_data"
    },
    {
     "data": {
      "text/latex": [
       "$\\displaystyle 0.21 x_{18} \\left(1 - x_{10}\\right)$"
      ],
      "text/plain": [
       "0.21*x18*(1 - x10)"
      ]
     },
     "metadata": {},
     "output_type": "display_data"
    },
    {
     "data": {
      "text/latex": [
       "$\\displaystyle 0.87 x_{18} \\left(1 - x_{11}\\right)$"
      ],
      "text/plain": [
       "0.87*x18*(1 - x11)"
      ]
     },
     "metadata": {},
     "output_type": "display_data"
    },
    {
     "data": {
      "text/latex": [
       "$\\displaystyle - 0.16 x_{18} \\left(1 - x_{12}\\right)$"
      ],
      "text/plain": [
       "-0.16*x18*(1 - x12)"
      ]
     },
     "metadata": {},
     "output_type": "display_data"
    },
    {
     "data": {
      "text/latex": [
       "$\\displaystyle - 0.5 x_{18} \\left(1 - x_{13}\\right)$"
      ],
      "text/plain": [
       "-0.5*x18*(1 - x13)"
      ]
     },
     "metadata": {},
     "output_type": "display_data"
    },
    {
     "data": {
      "text/latex": [
       "$\\displaystyle - 0.88 x_{18} \\left(1 - x_{14}\\right)$"
      ],
      "text/plain": [
       "-0.88*x18*(1 - x14)"
      ]
     },
     "metadata": {},
     "output_type": "display_data"
    },
    {
     "data": {
      "text/latex": [
       "$\\displaystyle - 0.54 x_{18} \\left(1 - x_{15}\\right)$"
      ],
      "text/plain": [
       "-0.54*x18*(1 - x15)"
      ]
     },
     "metadata": {},
     "output_type": "display_data"
    },
    {
     "data": {
      "text/latex": [
       "$\\displaystyle - 0.15 x_{18} \\left(1 - x_{16}\\right)$"
      ],
      "text/plain": [
       "-0.15*x18*(1 - x16)"
      ]
     },
     "metadata": {},
     "output_type": "display_data"
    },
    {
     "data": {
      "text/latex": [
       "$\\displaystyle - 0.35 x_{18} \\left(1 - x_{17}\\right)$"
      ],
      "text/plain": [
       "-0.35*x18*(1 - x17)"
      ]
     },
     "metadata": {},
     "output_type": "display_data"
    },
    {
     "data": {
      "text/latex": [
       "$\\displaystyle 0$"
      ],
      "text/plain": [
       "0"
      ]
     },
     "metadata": {},
     "output_type": "display_data"
    },
    {
     "data": {
      "text/latex": [
       "$\\displaystyle - 0.74 x_{18} \\left(1 - x_{19}\\right)$"
      ],
      "text/plain": [
       "-0.74*x18*(1 - x19)"
      ]
     },
     "metadata": {},
     "output_type": "display_data"
    },
    {
     "data": {
      "text/latex": [
       "$\\displaystyle - 0.65 x_{18} \\left(1 - x_{20}\\right)$"
      ],
      "text/plain": [
       "-0.65*x18*(1 - x20)"
      ]
     },
     "metadata": {},
     "output_type": "display_data"
    },
    {
     "data": {
      "text/latex": [
       "$\\displaystyle 0.95 x_{18} \\left(1 - x_{21}\\right)$"
      ],
      "text/plain": [
       "0.95*x18*(1 - x21)"
      ]
     },
     "metadata": {},
     "output_type": "display_data"
    },
    {
     "data": {
      "text/latex": [
       "$\\displaystyle - 0.94 x_{18} \\left(1 - x_{22}\\right)$"
      ],
      "text/plain": [
       "-0.94*x18*(1 - x22)"
      ]
     },
     "metadata": {},
     "output_type": "display_data"
    },
    {
     "data": {
      "text/latex": [
       "$\\displaystyle 0.26 x_{18} \\left(1 - x_{23}\\right)$"
      ],
      "text/plain": [
       "0.26*x18*(1 - x23)"
      ]
     },
     "metadata": {},
     "output_type": "display_data"
    },
    {
     "data": {
      "text/latex": [
       "$\\displaystyle - 0.16 x_{18} \\left(1 - x_{24}\\right)$"
      ],
      "text/plain": [
       "-0.16*x18*(1 - x24)"
      ]
     },
     "metadata": {},
     "output_type": "display_data"
    },
    {
     "data": {
      "text/latex": [
       "$\\displaystyle - 0.44 x_{18} \\left(1 - x_{25}\\right)$"
      ],
      "text/plain": [
       "-0.44*x18*(1 - x25)"
      ]
     },
     "metadata": {},
     "output_type": "display_data"
    },
    {
     "data": {
      "text/latex": [
       "$\\displaystyle - 0.8 x_{18} \\left(1 - x_{26}\\right)$"
      ],
      "text/plain": [
       "-0.8*x18*(1 - x26)"
      ]
     },
     "metadata": {},
     "output_type": "display_data"
    },
    {
     "data": {
      "text/latex": [
       "$\\displaystyle 0.93 x_{18} \\left(1 - x_{27}\\right)$"
      ],
      "text/plain": [
       "0.93*x18*(1 - x27)"
      ]
     },
     "metadata": {},
     "output_type": "display_data"
    },
    {
     "data": {
      "text/latex": [
       "$\\displaystyle 0.6 x_{18} \\left(1 - x_{28}\\right)$"
      ],
      "text/plain": [
       "0.6*x18*(1 - x28)"
      ]
     },
     "metadata": {},
     "output_type": "display_data"
    },
    {
     "data": {
      "text/latex": [
       "$\\displaystyle 0.71 x_{18} \\left(1 - x_{29}\\right)$"
      ],
      "text/plain": [
       "0.71*x18*(1 - x29)"
      ]
     },
     "metadata": {},
     "output_type": "display_data"
    },
    {
     "data": {
      "text/latex": [
       "$\\displaystyle - 0.91 x_{18} \\left(1 - x_{30}\\right)$"
      ],
      "text/plain": [
       "-0.91*x18*(1 - x30)"
      ]
     },
     "metadata": {},
     "output_type": "display_data"
    },
    {
     "data": {
      "text/latex": [
       "$\\displaystyle 0.59 x_{19} \\left(1 - x_{1}\\right)$"
      ],
      "text/plain": [
       "0.59*x19*(1 - x1)"
      ]
     },
     "metadata": {},
     "output_type": "display_data"
    },
    {
     "data": {
      "text/latex": [
       "$\\displaystyle 0.06 x_{19} \\left(1 - x_{2}\\right)$"
      ],
      "text/plain": [
       "0.06*x19*(1 - x2)"
      ]
     },
     "metadata": {},
     "output_type": "display_data"
    },
    {
     "data": {
      "text/latex": [
       "$\\displaystyle - 0.37 x_{19} \\left(1 - x_{3}\\right)$"
      ],
      "text/plain": [
       "-0.37*x19*(1 - x3)"
      ]
     },
     "metadata": {},
     "output_type": "display_data"
    },
    {
     "data": {
      "text/latex": [
       "$\\displaystyle - 0.38 x_{19} \\left(1 - x_{4}\\right)$"
      ],
      "text/plain": [
       "-0.38*x19*(1 - x4)"
      ]
     },
     "metadata": {},
     "output_type": "display_data"
    },
    {
     "data": {
      "text/latex": [
       "$\\displaystyle - 0.63 x_{19} \\left(1 - x_{5}\\right)$"
      ],
      "text/plain": [
       "-0.63*x19*(1 - x5)"
      ]
     },
     "metadata": {},
     "output_type": "display_data"
    },
    {
     "data": {
      "text/latex": [
       "$\\displaystyle 0.26 x_{19} \\left(1 - x_{6}\\right)$"
      ],
      "text/plain": [
       "0.26*x19*(1 - x6)"
      ]
     },
     "metadata": {},
     "output_type": "display_data"
    },
    {
     "data": {
      "text/latex": [
       "$\\displaystyle 0.94 x_{19} \\left(1 - x_{7}\\right)$"
      ],
      "text/plain": [
       "0.94*x19*(1 - x7)"
      ]
     },
     "metadata": {},
     "output_type": "display_data"
    },
    {
     "data": {
      "text/latex": [
       "$\\displaystyle 0.73 x_{19} \\left(1 - x_{8}\\right)$"
      ],
      "text/plain": [
       "0.73*x19*(1 - x8)"
      ]
     },
     "metadata": {},
     "output_type": "display_data"
    },
    {
     "data": {
      "text/latex": [
       "$\\displaystyle - 0.25 x_{19} \\left(1 - x_{9}\\right)$"
      ],
      "text/plain": [
       "-0.25*x19*(1 - x9)"
      ]
     },
     "metadata": {},
     "output_type": "display_data"
    },
    {
     "data": {
      "text/latex": [
       "$\\displaystyle - 0.27 x_{19} \\left(1 - x_{10}\\right)$"
      ],
      "text/plain": [
       "-0.27*x19*(1 - x10)"
      ]
     },
     "metadata": {},
     "output_type": "display_data"
    },
    {
     "data": {
      "text/latex": [
       "$\\displaystyle 0.78 x_{19} \\left(1 - x_{11}\\right)$"
      ],
      "text/plain": [
       "0.78*x19*(1 - x11)"
      ]
     },
     "metadata": {},
     "output_type": "display_data"
    },
    {
     "data": {
      "text/latex": [
       "$\\displaystyle - 0.46 x_{19} \\left(1 - x_{12}\\right)$"
      ],
      "text/plain": [
       "-0.46*x19*(1 - x12)"
      ]
     },
     "metadata": {},
     "output_type": "display_data"
    },
    {
     "data": {
      "text/latex": [
       "$\\displaystyle - 0.45 x_{19} \\left(1 - x_{13}\\right)$"
      ],
      "text/plain": [
       "-0.45*x19*(1 - x13)"
      ]
     },
     "metadata": {},
     "output_type": "display_data"
    },
    {
     "data": {
      "text/latex": [
       "$\\displaystyle 0.85 x_{19} \\left(1 - x_{14}\\right)$"
      ],
      "text/plain": [
       "0.85*x19*(1 - x14)"
      ]
     },
     "metadata": {},
     "output_type": "display_data"
    },
    {
     "data": {
      "text/latex": [
       "$\\displaystyle 0.34 x_{19} \\left(1 - x_{15}\\right)$"
      ],
      "text/plain": [
       "0.34*x19*(1 - x15)"
      ]
     },
     "metadata": {},
     "output_type": "display_data"
    },
    {
     "data": {
      "text/latex": [
       "$\\displaystyle 0.03 x_{19} \\left(1 - x_{16}\\right)$"
      ],
      "text/plain": [
       "0.03*x19*(1 - x16)"
      ]
     },
     "metadata": {},
     "output_type": "display_data"
    },
    {
     "data": {
      "text/latex": [
       "$\\displaystyle 0.27 x_{19} \\left(1 - x_{17}\\right)$"
      ],
      "text/plain": [
       "0.27*x19*(1 - x17)"
      ]
     },
     "metadata": {},
     "output_type": "display_data"
    },
    {
     "data": {
      "text/latex": [
       "$\\displaystyle - 0.74 x_{19} \\left(1 - x_{18}\\right)$"
      ],
      "text/plain": [
       "-0.74*x19*(1 - x18)"
      ]
     },
     "metadata": {},
     "output_type": "display_data"
    },
    {
     "data": {
      "text/latex": [
       "$\\displaystyle 0$"
      ],
      "text/plain": [
       "0"
      ]
     },
     "metadata": {},
     "output_type": "display_data"
    },
    {
     "data": {
      "text/latex": [
       "$\\displaystyle 0.32 x_{19} \\left(1 - x_{20}\\right)$"
      ],
      "text/plain": [
       "0.32*x19*(1 - x20)"
      ]
     },
     "metadata": {},
     "output_type": "display_data"
    },
    {
     "data": {
      "text/latex": [
       "$\\displaystyle - 0.96 x_{19} \\left(1 - x_{21}\\right)$"
      ],
      "text/plain": [
       "-0.96*x19*(1 - x21)"
      ]
     },
     "metadata": {},
     "output_type": "display_data"
    },
    {
     "data": {
      "text/latex": [
       "$\\displaystyle 0.92 x_{19} \\left(1 - x_{22}\\right)$"
      ],
      "text/plain": [
       "0.92*x19*(1 - x22)"
      ]
     },
     "metadata": {},
     "output_type": "display_data"
    },
    {
     "data": {
      "text/latex": [
       "$\\displaystyle 0.06 x_{19} \\left(1 - x_{23}\\right)$"
      ],
      "text/plain": [
       "0.06*x19*(1 - x23)"
      ]
     },
     "metadata": {},
     "output_type": "display_data"
    },
    {
     "data": {
      "text/latex": [
       "$\\displaystyle - 0.79 x_{19} \\left(1 - x_{24}\\right)$"
      ],
      "text/plain": [
       "-0.79*x19*(1 - x24)"
      ]
     },
     "metadata": {},
     "output_type": "display_data"
    },
    {
     "data": {
      "text/latex": [
       "$\\displaystyle 0.59 x_{19} \\left(1 - x_{25}\\right)$"
      ],
      "text/plain": [
       "0.59*x19*(1 - x25)"
      ]
     },
     "metadata": {},
     "output_type": "display_data"
    },
    {
     "data": {
      "text/latex": [
       "$\\displaystyle - 0.97 x_{19} \\left(1 - x_{26}\\right)$"
      ],
      "text/plain": [
       "-0.97*x19*(1 - x26)"
      ]
     },
     "metadata": {},
     "output_type": "display_data"
    },
    {
     "data": {
      "text/latex": [
       "$\\displaystyle - 0.36 x_{19} \\left(1 - x_{27}\\right)$"
      ],
      "text/plain": [
       "-0.36*x19*(1 - x27)"
      ]
     },
     "metadata": {},
     "output_type": "display_data"
    },
    {
     "data": {
      "text/latex": [
       "$\\displaystyle - 0.93 x_{19} \\left(1 - x_{28}\\right)$"
      ],
      "text/plain": [
       "-0.93*x19*(1 - x28)"
      ]
     },
     "metadata": {},
     "output_type": "display_data"
    },
    {
     "data": {
      "text/latex": [
       "$\\displaystyle - 0.48 x_{19} \\left(1 - x_{29}\\right)$"
      ],
      "text/plain": [
       "-0.48*x19*(1 - x29)"
      ]
     },
     "metadata": {},
     "output_type": "display_data"
    },
    {
     "data": {
      "text/latex": [
       "$\\displaystyle 0.64 x_{19} \\left(1 - x_{30}\\right)$"
      ],
      "text/plain": [
       "0.64*x19*(1 - x30)"
      ]
     },
     "metadata": {},
     "output_type": "display_data"
    },
    {
     "data": {
      "text/latex": [
       "$\\displaystyle 0.61 x_{20} \\left(1 - x_{1}\\right)$"
      ],
      "text/plain": [
       "0.61*x20*(1 - x1)"
      ]
     },
     "metadata": {},
     "output_type": "display_data"
    },
    {
     "data": {
      "text/latex": [
       "$\\displaystyle 0.87 x_{20} \\left(1 - x_{2}\\right)$"
      ],
      "text/plain": [
       "0.87*x20*(1 - x2)"
      ]
     },
     "metadata": {},
     "output_type": "display_data"
    },
    {
     "data": {
      "text/latex": [
       "$\\displaystyle 0.68 x_{20} \\left(1 - x_{3}\\right)$"
      ],
      "text/plain": [
       "0.68*x20*(1 - x3)"
      ]
     },
     "metadata": {},
     "output_type": "display_data"
    },
    {
     "data": {
      "text/latex": [
       "$\\displaystyle - 0.71 x_{20} \\left(1 - x_{4}\\right)$"
      ],
      "text/plain": [
       "-0.71*x20*(1 - x4)"
      ]
     },
     "metadata": {},
     "output_type": "display_data"
    },
    {
     "data": {
      "text/latex": [
       "$\\displaystyle 0.64 x_{20} \\left(1 - x_{5}\\right)$"
      ],
      "text/plain": [
       "0.64*x20*(1 - x5)"
      ]
     },
     "metadata": {},
     "output_type": "display_data"
    },
    {
     "data": {
      "text/latex": [
       "$\\displaystyle 0.41 x_{20} \\left(1 - x_{6}\\right)$"
      ],
      "text/plain": [
       "0.41*x20*(1 - x6)"
      ]
     },
     "metadata": {},
     "output_type": "display_data"
    },
    {
     "data": {
      "text/latex": [
       "$\\displaystyle 0.48 x_{20} \\left(1 - x_{7}\\right)$"
      ],
      "text/plain": [
       "0.48*x20*(1 - x7)"
      ]
     },
     "metadata": {},
     "output_type": "display_data"
    },
    {
     "data": {
      "text/latex": [
       "$\\displaystyle - 0.21 x_{20} \\left(1 - x_{8}\\right)$"
      ],
      "text/plain": [
       "-0.21*x20*(1 - x8)"
      ]
     },
     "metadata": {},
     "output_type": "display_data"
    },
    {
     "data": {
      "text/latex": [
       "$\\displaystyle - 0.78 x_{20} \\left(1 - x_{9}\\right)$"
      ],
      "text/plain": [
       "-0.78*x20*(1 - x9)"
      ]
     },
     "metadata": {},
     "output_type": "display_data"
    },
    {
     "data": {
      "text/latex": [
       "$\\displaystyle 0.85 x_{20} \\left(1 - x_{10}\\right)$"
      ],
      "text/plain": [
       "0.85*x20*(1 - x10)"
      ]
     },
     "metadata": {},
     "output_type": "display_data"
    },
    {
     "data": {
      "text/latex": [
       "$\\displaystyle 0.17 x_{20} \\left(1 - x_{11}\\right)$"
      ],
      "text/plain": [
       "0.17*x20*(1 - x11)"
      ]
     },
     "metadata": {},
     "output_type": "display_data"
    },
    {
     "data": {
      "text/latex": [
       "$\\displaystyle - 0.23 x_{20} \\left(1 - x_{12}\\right)$"
      ],
      "text/plain": [
       "-0.23*x20*(1 - x12)"
      ]
     },
     "metadata": {},
     "output_type": "display_data"
    },
    {
     "data": {
      "text/latex": [
       "$\\displaystyle 0.64 x_{20} \\left(1 - x_{13}\\right)$"
      ],
      "text/plain": [
       "0.64*x20*(1 - x13)"
      ]
     },
     "metadata": {},
     "output_type": "display_data"
    },
    {
     "data": {
      "text/latex": [
       "$\\displaystyle 0.06 x_{20} \\left(1 - x_{14}\\right)$"
      ],
      "text/plain": [
       "0.06*x20*(1 - x14)"
      ]
     },
     "metadata": {},
     "output_type": "display_data"
    },
    {
     "data": {
      "text/latex": [
       "$\\displaystyle 0.66 x_{20} \\left(1 - x_{15}\\right)$"
      ],
      "text/plain": [
       "0.66*x20*(1 - x15)"
      ]
     },
     "metadata": {},
     "output_type": "display_data"
    },
    {
     "data": {
      "text/latex": [
       "$\\displaystyle - 0.23 x_{20} \\left(1 - x_{16}\\right)$"
      ],
      "text/plain": [
       "-0.23*x20*(1 - x16)"
      ]
     },
     "metadata": {},
     "output_type": "display_data"
    },
    {
     "data": {
      "text/latex": [
       "$\\displaystyle 0.41 x_{20} \\left(1 - x_{17}\\right)$"
      ],
      "text/plain": [
       "0.41*x20*(1 - x17)"
      ]
     },
     "metadata": {},
     "output_type": "display_data"
    },
    {
     "data": {
      "text/latex": [
       "$\\displaystyle - 0.65 x_{20} \\left(1 - x_{18}\\right)$"
      ],
      "text/plain": [
       "-0.65*x20*(1 - x18)"
      ]
     },
     "metadata": {},
     "output_type": "display_data"
    },
    {
     "data": {
      "text/latex": [
       "$\\displaystyle 0.32 x_{20} \\left(1 - x_{19}\\right)$"
      ],
      "text/plain": [
       "0.32*x20*(1 - x19)"
      ]
     },
     "metadata": {},
     "output_type": "display_data"
    },
    {
     "data": {
      "text/latex": [
       "$\\displaystyle 0$"
      ],
      "text/plain": [
       "0"
      ]
     },
     "metadata": {},
     "output_type": "display_data"
    },
    {
     "data": {
      "text/latex": [
       "$\\displaystyle - 0.87 x_{20} \\left(1 - x_{21}\\right)$"
      ],
      "text/plain": [
       "-0.87*x20*(1 - x21)"
      ]
     },
     "metadata": {},
     "output_type": "display_data"
    },
    {
     "data": {
      "text/latex": [
       "$\\displaystyle 0.36 x_{20} \\left(1 - x_{22}\\right)$"
      ],
      "text/plain": [
       "0.36*x20*(1 - x22)"
      ]
     },
     "metadata": {},
     "output_type": "display_data"
    },
    {
     "data": {
      "text/latex": [
       "$\\displaystyle - 0.04 x_{20} \\left(1 - x_{23}\\right)$"
      ],
      "text/plain": [
       "-0.04*x20*(1 - x23)"
      ]
     },
     "metadata": {},
     "output_type": "display_data"
    },
    {
     "data": {
      "text/latex": [
       "$\\displaystyle - 0.26 x_{20} \\left(1 - x_{24}\\right)$"
      ],
      "text/plain": [
       "-0.26*x20*(1 - x24)"
      ]
     },
     "metadata": {},
     "output_type": "display_data"
    },
    {
     "data": {
      "text/latex": [
       "$\\displaystyle 0.45 x_{20} \\left(1 - x_{25}\\right)$"
      ],
      "text/plain": [
       "0.45*x20*(1 - x25)"
      ]
     },
     "metadata": {},
     "output_type": "display_data"
    },
    {
     "data": {
      "text/latex": [
       "$\\displaystyle 0.22 x_{20} \\left(1 - x_{26}\\right)$"
      ],
      "text/plain": [
       "0.22*x20*(1 - x26)"
      ]
     },
     "metadata": {},
     "output_type": "display_data"
    },
    {
     "data": {
      "text/latex": [
       "$\\displaystyle - 0.43 x_{20} \\left(1 - x_{27}\\right)$"
      ],
      "text/plain": [
       "-0.43*x20*(1 - x27)"
      ]
     },
     "metadata": {},
     "output_type": "display_data"
    },
    {
     "data": {
      "text/latex": [
       "$\\displaystyle - 0.86 x_{20} \\left(1 - x_{28}\\right)$"
      ],
      "text/plain": [
       "-0.86*x20*(1 - x28)"
      ]
     },
     "metadata": {},
     "output_type": "display_data"
    },
    {
     "data": {
      "text/latex": [
       "$\\displaystyle - 0.22 x_{20} \\left(1 - x_{29}\\right)$"
      ],
      "text/plain": [
       "-0.22*x20*(1 - x29)"
      ]
     },
     "metadata": {},
     "output_type": "display_data"
    },
    {
     "data": {
      "text/latex": [
       "$\\displaystyle 0.1 x_{20} \\left(1 - x_{30}\\right)$"
      ],
      "text/plain": [
       "0.1*x20*(1 - x30)"
      ]
     },
     "metadata": {},
     "output_type": "display_data"
    },
    {
     "data": {
      "text/latex": [
       "$\\displaystyle - 0.31 x_{21} \\left(1 - x_{1}\\right)$"
      ],
      "text/plain": [
       "-0.31*x21*(1 - x1)"
      ]
     },
     "metadata": {},
     "output_type": "display_data"
    },
    {
     "data": {
      "text/latex": [
       "$\\displaystyle 0.83 x_{21} \\left(1 - x_{2}\\right)$"
      ],
      "text/plain": [
       "0.83*x21*(1 - x2)"
      ]
     },
     "metadata": {},
     "output_type": "display_data"
    },
    {
     "data": {
      "text/latex": [
       "$\\displaystyle - 0.94 x_{21} \\left(1 - x_{3}\\right)$"
      ],
      "text/plain": [
       "-0.94*x21*(1 - x3)"
      ]
     },
     "metadata": {},
     "output_type": "display_data"
    },
    {
     "data": {
      "text/latex": [
       "$\\displaystyle - 0.86 x_{21} \\left(1 - x_{4}\\right)$"
      ],
      "text/plain": [
       "-0.86*x21*(1 - x4)"
      ]
     },
     "metadata": {},
     "output_type": "display_data"
    },
    {
     "data": {
      "text/latex": [
       "$\\displaystyle 0.74 x_{21} \\left(1 - x_{5}\\right)$"
      ],
      "text/plain": [
       "0.74*x21*(1 - x5)"
      ]
     },
     "metadata": {},
     "output_type": "display_data"
    },
    {
     "data": {
      "text/latex": [
       "$\\displaystyle - 0.15 x_{21} \\left(1 - x_{6}\\right)$"
      ],
      "text/plain": [
       "-0.15*x21*(1 - x6)"
      ]
     },
     "metadata": {},
     "output_type": "display_data"
    },
    {
     "data": {
      "text/latex": [
       "$\\displaystyle - 0.41 x_{21} \\left(1 - x_{7}\\right)$"
      ],
      "text/plain": [
       "-0.41*x21*(1 - x7)"
      ]
     },
     "metadata": {},
     "output_type": "display_data"
    },
    {
     "data": {
      "text/latex": [
       "$\\displaystyle 0.5 x_{21} \\left(1 - x_{8}\\right)$"
      ],
      "text/plain": [
       "0.5*x21*(1 - x8)"
      ]
     },
     "metadata": {},
     "output_type": "display_data"
    },
    {
     "data": {
      "text/latex": [
       "$\\displaystyle 0.64 x_{21} \\left(1 - x_{9}\\right)$"
      ],
      "text/plain": [
       "0.64*x21*(1 - x9)"
      ]
     },
     "metadata": {},
     "output_type": "display_data"
    },
    {
     "data": {
      "text/latex": [
       "$\\displaystyle 0.75 x_{21} \\left(1 - x_{10}\\right)$"
      ],
      "text/plain": [
       "0.75*x21*(1 - x10)"
      ]
     },
     "metadata": {},
     "output_type": "display_data"
    },
    {
     "data": {
      "text/latex": [
       "$\\displaystyle 0.63 x_{21} \\left(1 - x_{11}\\right)$"
      ],
      "text/plain": [
       "0.63*x21*(1 - x11)"
      ]
     },
     "metadata": {},
     "output_type": "display_data"
    },
    {
     "data": {
      "text/latex": [
       "$\\displaystyle 0.53 x_{21} \\left(1 - x_{12}\\right)$"
      ],
      "text/plain": [
       "0.53*x21*(1 - x12)"
      ]
     },
     "metadata": {},
     "output_type": "display_data"
    },
    {
     "data": {
      "text/latex": [
       "$\\displaystyle - 0.47 x_{21} \\left(1 - x_{13}\\right)$"
      ],
      "text/plain": [
       "-0.47*x21*(1 - x13)"
      ]
     },
     "metadata": {},
     "output_type": "display_data"
    },
    {
     "data": {
      "text/latex": [
       "$\\displaystyle 0.53 x_{21} \\left(1 - x_{14}\\right)$"
      ],
      "text/plain": [
       "0.53*x21*(1 - x14)"
      ]
     },
     "metadata": {},
     "output_type": "display_data"
    },
    {
     "data": {
      "text/latex": [
       "$\\displaystyle 0.9 x_{21} \\left(1 - x_{15}\\right)$"
      ],
      "text/plain": [
       "0.9*x21*(1 - x15)"
      ]
     },
     "metadata": {},
     "output_type": "display_data"
    },
    {
     "data": {
      "text/latex": [
       "$\\displaystyle - 0.87 x_{21} \\left(1 - x_{16}\\right)$"
      ],
      "text/plain": [
       "-0.87*x21*(1 - x16)"
      ]
     },
     "metadata": {},
     "output_type": "display_data"
    },
    {
     "data": {
      "text/latex": [
       "$\\displaystyle 0.62 x_{21} \\left(1 - x_{17}\\right)$"
      ],
      "text/plain": [
       "0.62*x21*(1 - x17)"
      ]
     },
     "metadata": {},
     "output_type": "display_data"
    },
    {
     "data": {
      "text/latex": [
       "$\\displaystyle 0.95 x_{21} \\left(1 - x_{18}\\right)$"
      ],
      "text/plain": [
       "0.95*x21*(1 - x18)"
      ]
     },
     "metadata": {},
     "output_type": "display_data"
    },
    {
     "data": {
      "text/latex": [
       "$\\displaystyle - 0.96 x_{21} \\left(1 - x_{19}\\right)$"
      ],
      "text/plain": [
       "-0.96*x21*(1 - x19)"
      ]
     },
     "metadata": {},
     "output_type": "display_data"
    },
    {
     "data": {
      "text/latex": [
       "$\\displaystyle - 0.87 x_{21} \\left(1 - x_{20}\\right)$"
      ],
      "text/plain": [
       "-0.87*x21*(1 - x20)"
      ]
     },
     "metadata": {},
     "output_type": "display_data"
    },
    {
     "data": {
      "text/latex": [
       "$\\displaystyle 0$"
      ],
      "text/plain": [
       "0"
      ]
     },
     "metadata": {},
     "output_type": "display_data"
    },
    {
     "data": {
      "text/latex": [
       "$\\displaystyle - 0.14 x_{21} \\left(1 - x_{22}\\right)$"
      ],
      "text/plain": [
       "-0.14*x21*(1 - x22)"
      ]
     },
     "metadata": {},
     "output_type": "display_data"
    },
    {
     "data": {
      "text/latex": [
       "$\\displaystyle - 0.05 x_{21} \\left(1 - x_{23}\\right)$"
      ],
      "text/plain": [
       "-0.05*x21*(1 - x23)"
      ]
     },
     "metadata": {},
     "output_type": "display_data"
    },
    {
     "data": {
      "text/latex": [
       "$\\displaystyle 0.86 x_{21} \\left(1 - x_{24}\\right)$"
      ],
      "text/plain": [
       "0.86*x21*(1 - x24)"
      ]
     },
     "metadata": {},
     "output_type": "display_data"
    },
    {
     "data": {
      "text/latex": [
       "$\\displaystyle 0.09 x_{21} \\left(1 - x_{25}\\right)$"
      ],
      "text/plain": [
       "0.09*x21*(1 - x25)"
      ]
     },
     "metadata": {},
     "output_type": "display_data"
    },
    {
     "data": {
      "text/latex": [
       "$\\displaystyle 0.12 x_{21} \\left(1 - x_{26}\\right)$"
      ],
      "text/plain": [
       "0.12*x21*(1 - x26)"
      ]
     },
     "metadata": {},
     "output_type": "display_data"
    },
    {
     "data": {
      "text/latex": [
       "$\\displaystyle 0.41 x_{21} \\left(1 - x_{27}\\right)$"
      ],
      "text/plain": [
       "0.41*x21*(1 - x27)"
      ]
     },
     "metadata": {},
     "output_type": "display_data"
    },
    {
     "data": {
      "text/latex": [
       "$\\displaystyle 0.4 x_{21} \\left(1 - x_{28}\\right)$"
      ],
      "text/plain": [
       "0.4*x21*(1 - x28)"
      ]
     },
     "metadata": {},
     "output_type": "display_data"
    },
    {
     "data": {
      "text/latex": [
       "$\\displaystyle 0.45 x_{21} \\left(1 - x_{29}\\right)$"
      ],
      "text/plain": [
       "0.45*x21*(1 - x29)"
      ]
     },
     "metadata": {},
     "output_type": "display_data"
    },
    {
     "data": {
      "text/latex": [
       "$\\displaystyle - 0.15 x_{21} \\left(1 - x_{30}\\right)$"
      ],
      "text/plain": [
       "-0.15*x21*(1 - x30)"
      ]
     },
     "metadata": {},
     "output_type": "display_data"
    },
    {
     "data": {
      "text/latex": [
       "$\\displaystyle - 0.53 x_{22} \\left(1 - x_{1}\\right)$"
      ],
      "text/plain": [
       "-0.53*x22*(1 - x1)"
      ]
     },
     "metadata": {},
     "output_type": "display_data"
    },
    {
     "data": {
      "text/latex": [
       "$\\displaystyle 0.82 x_{22} \\left(1 - x_{2}\\right)$"
      ],
      "text/plain": [
       "0.82*x22*(1 - x2)"
      ]
     },
     "metadata": {},
     "output_type": "display_data"
    },
    {
     "data": {
      "text/latex": [
       "$\\displaystyle 0.61 x_{22} \\left(1 - x_{3}\\right)$"
      ],
      "text/plain": [
       "0.61*x22*(1 - x3)"
      ]
     },
     "metadata": {},
     "output_type": "display_data"
    },
    {
     "data": {
      "text/latex": [
       "$\\displaystyle 0.89 x_{22} \\left(1 - x_{4}\\right)$"
      ],
      "text/plain": [
       "0.89*x22*(1 - x4)"
      ]
     },
     "metadata": {},
     "output_type": "display_data"
    },
    {
     "data": {
      "text/latex": [
       "$\\displaystyle - 0.64 x_{22} \\left(1 - x_{5}\\right)$"
      ],
      "text/plain": [
       "-0.64*x22*(1 - x5)"
      ]
     },
     "metadata": {},
     "output_type": "display_data"
    },
    {
     "data": {
      "text/latex": [
       "$\\displaystyle - 0.31 x_{22} \\left(1 - x_{6}\\right)$"
      ],
      "text/plain": [
       "-0.31*x22*(1 - x6)"
      ]
     },
     "metadata": {},
     "output_type": "display_data"
    },
    {
     "data": {
      "text/latex": [
       "$\\displaystyle - 0.71 x_{22} \\left(1 - x_{7}\\right)$"
      ],
      "text/plain": [
       "-0.71*x22*(1 - x7)"
      ]
     },
     "metadata": {},
     "output_type": "display_data"
    },
    {
     "data": {
      "text/latex": [
       "$\\displaystyle - 0.89 x_{22} \\left(1 - x_{8}\\right)$"
      ],
      "text/plain": [
       "-0.89*x22*(1 - x8)"
      ]
     },
     "metadata": {},
     "output_type": "display_data"
    },
    {
     "data": {
      "text/latex": [
       "$\\displaystyle 0.53 x_{22} \\left(1 - x_{9}\\right)$"
      ],
      "text/plain": [
       "0.53*x22*(1 - x9)"
      ]
     },
     "metadata": {},
     "output_type": "display_data"
    },
    {
     "data": {
      "text/latex": [
       "$\\displaystyle 0.93 x_{22} \\left(1 - x_{10}\\right)$"
      ],
      "text/plain": [
       "0.93*x22*(1 - x10)"
      ]
     },
     "metadata": {},
     "output_type": "display_data"
    },
    {
     "data": {
      "text/latex": [
       "$\\displaystyle - 0.26 x_{22} \\left(1 - x_{11}\\right)$"
      ],
      "text/plain": [
       "-0.26*x22*(1 - x11)"
      ]
     },
     "metadata": {},
     "output_type": "display_data"
    },
    {
     "data": {
      "text/latex": [
       "$\\displaystyle 0.94 x_{22} \\left(1 - x_{12}\\right)$"
      ],
      "text/plain": [
       "0.94*x22*(1 - x12)"
      ]
     },
     "metadata": {},
     "output_type": "display_data"
    },
    {
     "data": {
      "text/latex": [
       "$\\displaystyle - 0.45 x_{22} \\left(1 - x_{13}\\right)$"
      ],
      "text/plain": [
       "-0.45*x22*(1 - x13)"
      ]
     },
     "metadata": {},
     "output_type": "display_data"
    },
    {
     "data": {
      "text/latex": [
       "$\\displaystyle - 0.45 x_{22} \\left(1 - x_{14}\\right)$"
      ],
      "text/plain": [
       "-0.45*x22*(1 - x14)"
      ]
     },
     "metadata": {},
     "output_type": "display_data"
    },
    {
     "data": {
      "text/latex": [
       "$\\displaystyle - 0.8 x_{22} \\left(1 - x_{15}\\right)$"
      ],
      "text/plain": [
       "-0.8*x22*(1 - x15)"
      ]
     },
     "metadata": {},
     "output_type": "display_data"
    },
    {
     "data": {
      "text/latex": [
       "$\\displaystyle - 0.8 x_{22} \\left(1 - x_{16}\\right)$"
      ],
      "text/plain": [
       "-0.8*x22*(1 - x16)"
      ]
     },
     "metadata": {},
     "output_type": "display_data"
    },
    {
     "data": {
      "text/latex": [
       "$\\displaystyle 0.17 x_{22} \\left(1 - x_{17}\\right)$"
      ],
      "text/plain": [
       "0.17*x22*(1 - x17)"
      ]
     },
     "metadata": {},
     "output_type": "display_data"
    },
    {
     "data": {
      "text/latex": [
       "$\\displaystyle - 0.94 x_{22} \\left(1 - x_{18}\\right)$"
      ],
      "text/plain": [
       "-0.94*x22*(1 - x18)"
      ]
     },
     "metadata": {},
     "output_type": "display_data"
    },
    {
     "data": {
      "text/latex": [
       "$\\displaystyle 0.92 x_{22} \\left(1 - x_{19}\\right)$"
      ],
      "text/plain": [
       "0.92*x22*(1 - x19)"
      ]
     },
     "metadata": {},
     "output_type": "display_data"
    },
    {
     "data": {
      "text/latex": [
       "$\\displaystyle 0.36 x_{22} \\left(1 - x_{20}\\right)$"
      ],
      "text/plain": [
       "0.36*x22*(1 - x20)"
      ]
     },
     "metadata": {},
     "output_type": "display_data"
    },
    {
     "data": {
      "text/latex": [
       "$\\displaystyle - 0.14 x_{22} \\left(1 - x_{21}\\right)$"
      ],
      "text/plain": [
       "-0.14*x22*(1 - x21)"
      ]
     },
     "metadata": {},
     "output_type": "display_data"
    },
    {
     "data": {
      "text/latex": [
       "$\\displaystyle 0$"
      ],
      "text/plain": [
       "0"
      ]
     },
     "metadata": {},
     "output_type": "display_data"
    },
    {
     "data": {
      "text/latex": [
       "$\\displaystyle 0.37 x_{22} \\left(1 - x_{23}\\right)$"
      ],
      "text/plain": [
       "0.37*x22*(1 - x23)"
      ]
     },
     "metadata": {},
     "output_type": "display_data"
    },
    {
     "data": {
      "text/latex": [
       "$\\displaystyle - 0.48 x_{22} \\left(1 - x_{24}\\right)$"
      ],
      "text/plain": [
       "-0.48*x22*(1 - x24)"
      ]
     },
     "metadata": {},
     "output_type": "display_data"
    },
    {
     "data": {
      "text/latex": [
       "$\\displaystyle - 0.99 x_{22} \\left(1 - x_{25}\\right)$"
      ],
      "text/plain": [
       "-0.99*x22*(1 - x25)"
      ]
     },
     "metadata": {},
     "output_type": "display_data"
    },
    {
     "data": {
      "text/latex": [
       "$\\displaystyle - 0.78 x_{22} \\left(1 - x_{26}\\right)$"
      ],
      "text/plain": [
       "-0.78*x22*(1 - x26)"
      ]
     },
     "metadata": {},
     "output_type": "display_data"
    },
    {
     "data": {
      "text/latex": [
       "$\\displaystyle - 0.04 x_{22} \\left(1 - x_{27}\\right)$"
      ],
      "text/plain": [
       "-0.04*x22*(1 - x27)"
      ]
     },
     "metadata": {},
     "output_type": "display_data"
    },
    {
     "data": {
      "text/latex": [
       "$\\displaystyle - 0.11 x_{22} \\left(1 - x_{28}\\right)$"
      ],
      "text/plain": [
       "-0.11*x22*(1 - x28)"
      ]
     },
     "metadata": {},
     "output_type": "display_data"
    },
    {
     "data": {
      "text/latex": [
       "$\\displaystyle - 0.08 x_{22} \\left(1 - x_{29}\\right)$"
      ],
      "text/plain": [
       "-0.08*x22*(1 - x29)"
      ]
     },
     "metadata": {},
     "output_type": "display_data"
    },
    {
     "data": {
      "text/latex": [
       "$\\displaystyle - 0.98 x_{22} \\left(1 - x_{30}\\right)$"
      ],
      "text/plain": [
       "-0.98*x22*(1 - x30)"
      ]
     },
     "metadata": {},
     "output_type": "display_data"
    },
    {
     "data": {
      "text/latex": [
       "$\\displaystyle 0.02 x_{23} \\left(1 - x_{1}\\right)$"
      ],
      "text/plain": [
       "0.02*x23*(1 - x1)"
      ]
     },
     "metadata": {},
     "output_type": "display_data"
    },
    {
     "data": {
      "text/latex": [
       "$\\displaystyle 0.69 x_{23} \\left(1 - x_{2}\\right)$"
      ],
      "text/plain": [
       "0.69*x23*(1 - x2)"
      ]
     },
     "metadata": {},
     "output_type": "display_data"
    },
    {
     "data": {
      "text/latex": [
       "$\\displaystyle 0.8 x_{23} \\left(1 - x_{3}\\right)$"
      ],
      "text/plain": [
       "0.8*x23*(1 - x3)"
      ]
     },
     "metadata": {},
     "output_type": "display_data"
    },
    {
     "data": {
      "text/latex": [
       "$\\displaystyle 0.5 x_{23} \\left(1 - x_{4}\\right)$"
      ],
      "text/plain": [
       "0.5*x23*(1 - x4)"
      ]
     },
     "metadata": {},
     "output_type": "display_data"
    },
    {
     "data": {
      "text/latex": [
       "$\\displaystyle 0.22 x_{23} \\left(1 - x_{5}\\right)$"
      ],
      "text/plain": [
       "0.22*x23*(1 - x5)"
      ]
     },
     "metadata": {},
     "output_type": "display_data"
    },
    {
     "data": {
      "text/latex": [
       "$\\displaystyle - 0.92 x_{23} \\left(1 - x_{6}\\right)$"
      ],
      "text/plain": [
       "-0.92*x23*(1 - x6)"
      ]
     },
     "metadata": {},
     "output_type": "display_data"
    },
    {
     "data": {
      "text/latex": [
       "$\\displaystyle 0.33 x_{23} \\left(1 - x_{7}\\right)$"
      ],
      "text/plain": [
       "0.33*x23*(1 - x7)"
      ]
     },
     "metadata": {},
     "output_type": "display_data"
    },
    {
     "data": {
      "text/latex": [
       "$\\displaystyle 0.5 x_{23} \\left(1 - x_{8}\\right)$"
      ],
      "text/plain": [
       "0.5*x23*(1 - x8)"
      ]
     },
     "metadata": {},
     "output_type": "display_data"
    },
    {
     "data": {
      "text/latex": [
       "$\\displaystyle 0.26 x_{23} \\left(1 - x_{9}\\right)$"
      ],
      "text/plain": [
       "0.26*x23*(1 - x9)"
      ]
     },
     "metadata": {},
     "output_type": "display_data"
    },
    {
     "data": {
      "text/latex": [
       "$\\displaystyle - 0.41 x_{23} \\left(1 - x_{10}\\right)$"
      ],
      "text/plain": [
       "-0.41*x23*(1 - x10)"
      ]
     },
     "metadata": {},
     "output_type": "display_data"
    },
    {
     "data": {
      "text/latex": [
       "$\\displaystyle - 0.68 x_{23} \\left(1 - x_{11}\\right)$"
      ],
      "text/plain": [
       "-0.68*x23*(1 - x11)"
      ]
     },
     "metadata": {},
     "output_type": "display_data"
    },
    {
     "data": {
      "text/latex": [
       "$\\displaystyle 0.05 x_{23} \\left(1 - x_{12}\\right)$"
      ],
      "text/plain": [
       "0.05*x23*(1 - x12)"
      ]
     },
     "metadata": {},
     "output_type": "display_data"
    },
    {
     "data": {
      "text/latex": [
       "$\\displaystyle 0.53 x_{23} \\left(1 - x_{13}\\right)$"
      ],
      "text/plain": [
       "0.53*x23*(1 - x13)"
      ]
     },
     "metadata": {},
     "output_type": "display_data"
    },
    {
     "data": {
      "text/latex": [
       "$\\displaystyle - 0.51 x_{23} \\left(1 - x_{14}\\right)$"
      ],
      "text/plain": [
       "-0.51*x23*(1 - x14)"
      ]
     },
     "metadata": {},
     "output_type": "display_data"
    },
    {
     "data": {
      "text/latex": [
       "$\\displaystyle 0.45 x_{23} \\left(1 - x_{15}\\right)$"
      ],
      "text/plain": [
       "0.45*x23*(1 - x15)"
      ]
     },
     "metadata": {},
     "output_type": "display_data"
    },
    {
     "data": {
      "text/latex": [
       "$\\displaystyle 0.61 x_{23} \\left(1 - x_{16}\\right)$"
      ],
      "text/plain": [
       "0.61*x23*(1 - x16)"
      ]
     },
     "metadata": {},
     "output_type": "display_data"
    },
    {
     "data": {
      "text/latex": [
       "$\\displaystyle 0.69 x_{23} \\left(1 - x_{17}\\right)$"
      ],
      "text/plain": [
       "0.69*x23*(1 - x17)"
      ]
     },
     "metadata": {},
     "output_type": "display_data"
    },
    {
     "data": {
      "text/latex": [
       "$\\displaystyle 0.26 x_{23} \\left(1 - x_{18}\\right)$"
      ],
      "text/plain": [
       "0.26*x23*(1 - x18)"
      ]
     },
     "metadata": {},
     "output_type": "display_data"
    },
    {
     "data": {
      "text/latex": [
       "$\\displaystyle 0.06 x_{23} \\left(1 - x_{19}\\right)$"
      ],
      "text/plain": [
       "0.06*x23*(1 - x19)"
      ]
     },
     "metadata": {},
     "output_type": "display_data"
    },
    {
     "data": {
      "text/latex": [
       "$\\displaystyle - 0.04 x_{23} \\left(1 - x_{20}\\right)$"
      ],
      "text/plain": [
       "-0.04*x23*(1 - x20)"
      ]
     },
     "metadata": {},
     "output_type": "display_data"
    },
    {
     "data": {
      "text/latex": [
       "$\\displaystyle - 0.05 x_{23} \\left(1 - x_{21}\\right)$"
      ],
      "text/plain": [
       "-0.05*x23*(1 - x21)"
      ]
     },
     "metadata": {},
     "output_type": "display_data"
    },
    {
     "data": {
      "text/latex": [
       "$\\displaystyle 0.37 x_{23} \\left(1 - x_{22}\\right)$"
      ],
      "text/plain": [
       "0.37*x23*(1 - x22)"
      ]
     },
     "metadata": {},
     "output_type": "display_data"
    },
    {
     "data": {
      "text/latex": [
       "$\\displaystyle 0$"
      ],
      "text/plain": [
       "0"
      ]
     },
     "metadata": {},
     "output_type": "display_data"
    },
    {
     "data": {
      "text/latex": [
       "$\\displaystyle 0.81 x_{23} \\left(1 - x_{24}\\right)$"
      ],
      "text/plain": [
       "0.81*x23*(1 - x24)"
      ]
     },
     "metadata": {},
     "output_type": "display_data"
    },
    {
     "data": {
      "text/latex": [
       "$\\displaystyle 0.12 x_{23} \\left(1 - x_{25}\\right)$"
      ],
      "text/plain": [
       "0.12*x23*(1 - x25)"
      ]
     },
     "metadata": {},
     "output_type": "display_data"
    },
    {
     "data": {
      "text/latex": [
       "$\\displaystyle 0.7 x_{23} \\left(1 - x_{26}\\right)$"
      ],
      "text/plain": [
       "0.7*x23*(1 - x26)"
      ]
     },
     "metadata": {},
     "output_type": "display_data"
    },
    {
     "data": {
      "text/latex": [
       "$\\displaystyle 0.87 x_{23} \\left(1 - x_{27}\\right)$"
      ],
      "text/plain": [
       "0.87*x23*(1 - x27)"
      ]
     },
     "metadata": {},
     "output_type": "display_data"
    },
    {
     "data": {
      "text/latex": [
       "$\\displaystyle 0.1 x_{23} \\left(1 - x_{28}\\right)$"
      ],
      "text/plain": [
       "0.1*x23*(1 - x28)"
      ]
     },
     "metadata": {},
     "output_type": "display_data"
    },
    {
     "data": {
      "text/latex": [
       "$\\displaystyle 0.95 x_{23} \\left(1 - x_{29}\\right)$"
      ],
      "text/plain": [
       "0.95*x23*(1 - x29)"
      ]
     },
     "metadata": {},
     "output_type": "display_data"
    },
    {
     "data": {
      "text/latex": [
       "$\\displaystyle 0.34 x_{23} \\left(1 - x_{30}\\right)$"
      ],
      "text/plain": [
       "0.34*x23*(1 - x30)"
      ]
     },
     "metadata": {},
     "output_type": "display_data"
    },
    {
     "data": {
      "text/latex": [
       "$\\displaystyle 0.39 x_{24} \\left(1 - x_{1}\\right)$"
      ],
      "text/plain": [
       "0.39*x24*(1 - x1)"
      ]
     },
     "metadata": {},
     "output_type": "display_data"
    },
    {
     "data": {
      "text/latex": [
       "$\\displaystyle - 0.29 x_{24} \\left(1 - x_{2}\\right)$"
      ],
      "text/plain": [
       "-0.29*x24*(1 - x2)"
      ]
     },
     "metadata": {},
     "output_type": "display_data"
    },
    {
     "data": {
      "text/latex": [
       "$\\displaystyle 0.01 x_{24} \\left(1 - x_{3}\\right)$"
      ],
      "text/plain": [
       "0.01*x24*(1 - x3)"
      ]
     },
     "metadata": {},
     "output_type": "display_data"
    },
    {
     "data": {
      "text/latex": [
       "$\\displaystyle - 0.36 x_{24} \\left(1 - x_{4}\\right)$"
      ],
      "text/plain": [
       "-0.36*x24*(1 - x4)"
      ]
     },
     "metadata": {},
     "output_type": "display_data"
    },
    {
     "data": {
      "text/latex": [
       "$\\displaystyle - 0.12 x_{24} \\left(1 - x_{5}\\right)$"
      ],
      "text/plain": [
       "-0.12*x24*(1 - x5)"
      ]
     },
     "metadata": {},
     "output_type": "display_data"
    },
    {
     "data": {
      "text/latex": [
       "$\\displaystyle 0.9 x_{24} \\left(1 - x_{6}\\right)$"
      ],
      "text/plain": [
       "0.9*x24*(1 - x6)"
      ]
     },
     "metadata": {},
     "output_type": "display_data"
    },
    {
     "data": {
      "text/latex": [
       "$\\displaystyle - 0.49 x_{24} \\left(1 - x_{7}\\right)$"
      ],
      "text/plain": [
       "-0.49*x24*(1 - x7)"
      ]
     },
     "metadata": {},
     "output_type": "display_data"
    },
    {
     "data": {
      "text/latex": [
       "$\\displaystyle - 0.66 x_{24} \\left(1 - x_{8}\\right)$"
      ],
      "text/plain": [
       "-0.66*x24*(1 - x8)"
      ]
     },
     "metadata": {},
     "output_type": "display_data"
    },
    {
     "data": {
      "text/latex": [
       "$\\displaystyle 0.32 x_{24} \\left(1 - x_{9}\\right)$"
      ],
      "text/plain": [
       "0.32*x24*(1 - x9)"
      ]
     },
     "metadata": {},
     "output_type": "display_data"
    },
    {
     "data": {
      "text/latex": [
       "$\\displaystyle - 0.85 x_{24} \\left(1 - x_{10}\\right)$"
      ],
      "text/plain": [
       "-0.85*x24*(1 - x10)"
      ]
     },
     "metadata": {},
     "output_type": "display_data"
    },
    {
     "data": {
      "text/latex": [
       "$\\displaystyle - 0.32 x_{24} \\left(1 - x_{11}\\right)$"
      ],
      "text/plain": [
       "-0.32*x24*(1 - x11)"
      ]
     },
     "metadata": {},
     "output_type": "display_data"
    },
    {
     "data": {
      "text/latex": [
       "$\\displaystyle 0.69 x_{24} \\left(1 - x_{12}\\right)$"
      ],
      "text/plain": [
       "0.69*x24*(1 - x12)"
      ]
     },
     "metadata": {},
     "output_type": "display_data"
    },
    {
     "data": {
      "text/latex": [
       "$\\displaystyle - 0.39 x_{24} \\left(1 - x_{13}\\right)$"
      ],
      "text/plain": [
       "-0.39*x24*(1 - x13)"
      ]
     },
     "metadata": {},
     "output_type": "display_data"
    },
    {
     "data": {
      "text/latex": [
       "$\\displaystyle - 0.36 x_{24} \\left(1 - x_{14}\\right)$"
      ],
      "text/plain": [
       "-0.36*x24*(1 - x14)"
      ]
     },
     "metadata": {},
     "output_type": "display_data"
    },
    {
     "data": {
      "text/latex": [
       "$\\displaystyle 0.55 x_{24} \\left(1 - x_{15}\\right)$"
      ],
      "text/plain": [
       "0.55*x24*(1 - x15)"
      ]
     },
     "metadata": {},
     "output_type": "display_data"
    },
    {
     "data": {
      "text/latex": [
       "$\\displaystyle 0.12 x_{24} \\left(1 - x_{16}\\right)$"
      ],
      "text/plain": [
       "0.12*x24*(1 - x16)"
      ]
     },
     "metadata": {},
     "output_type": "display_data"
    },
    {
     "data": {
      "text/latex": [
       "$\\displaystyle - 0.27 x_{24} \\left(1 - x_{17}\\right)$"
      ],
      "text/plain": [
       "-0.27*x24*(1 - x17)"
      ]
     },
     "metadata": {},
     "output_type": "display_data"
    },
    {
     "data": {
      "text/latex": [
       "$\\displaystyle - 0.16 x_{24} \\left(1 - x_{18}\\right)$"
      ],
      "text/plain": [
       "-0.16*x24*(1 - x18)"
      ]
     },
     "metadata": {},
     "output_type": "display_data"
    },
    {
     "data": {
      "text/latex": [
       "$\\displaystyle - 0.79 x_{24} \\left(1 - x_{19}\\right)$"
      ],
      "text/plain": [
       "-0.79*x24*(1 - x19)"
      ]
     },
     "metadata": {},
     "output_type": "display_data"
    },
    {
     "data": {
      "text/latex": [
       "$\\displaystyle - 0.26 x_{24} \\left(1 - x_{20}\\right)$"
      ],
      "text/plain": [
       "-0.26*x24*(1 - x20)"
      ]
     },
     "metadata": {},
     "output_type": "display_data"
    },
    {
     "data": {
      "text/latex": [
       "$\\displaystyle 0.86 x_{24} \\left(1 - x_{21}\\right)$"
      ],
      "text/plain": [
       "0.86*x24*(1 - x21)"
      ]
     },
     "metadata": {},
     "output_type": "display_data"
    },
    {
     "data": {
      "text/latex": [
       "$\\displaystyle - 0.48 x_{24} \\left(1 - x_{22}\\right)$"
      ],
      "text/plain": [
       "-0.48*x24*(1 - x22)"
      ]
     },
     "metadata": {},
     "output_type": "display_data"
    },
    {
     "data": {
      "text/latex": [
       "$\\displaystyle 0.81 x_{24} \\left(1 - x_{23}\\right)$"
      ],
      "text/plain": [
       "0.81*x24*(1 - x23)"
      ]
     },
     "metadata": {},
     "output_type": "display_data"
    },
    {
     "data": {
      "text/latex": [
       "$\\displaystyle 0$"
      ],
      "text/plain": [
       "0"
      ]
     },
     "metadata": {},
     "output_type": "display_data"
    },
    {
     "data": {
      "text/latex": [
       "$\\displaystyle 0.42 x_{24} \\left(1 - x_{25}\\right)$"
      ],
      "text/plain": [
       "0.42*x24*(1 - x25)"
      ]
     },
     "metadata": {},
     "output_type": "display_data"
    },
    {
     "data": {
      "text/latex": [
       "$\\displaystyle - 0.09 x_{24} \\left(1 - x_{26}\\right)$"
      ],
      "text/plain": [
       "-0.09*x24*(1 - x26)"
      ]
     },
     "metadata": {},
     "output_type": "display_data"
    },
    {
     "data": {
      "text/latex": [
       "$\\displaystyle 0.13 x_{24} \\left(1 - x_{27}\\right)$"
      ],
      "text/plain": [
       "0.13*x24*(1 - x27)"
      ]
     },
     "metadata": {},
     "output_type": "display_data"
    },
    {
     "data": {
      "text/latex": [
       "$\\displaystyle - 0.02 x_{24} \\left(1 - x_{28}\\right)$"
      ],
      "text/plain": [
       "-0.02*x24*(1 - x28)"
      ]
     },
     "metadata": {},
     "output_type": "display_data"
    },
    {
     "data": {
      "text/latex": [
       "$\\displaystyle - 0.27 x_{24} \\left(1 - x_{29}\\right)$"
      ],
      "text/plain": [
       "-0.27*x24*(1 - x29)"
      ]
     },
     "metadata": {},
     "output_type": "display_data"
    },
    {
     "data": {
      "text/latex": [
       "$\\displaystyle - 0.34 x_{24} \\left(1 - x_{30}\\right)$"
      ],
      "text/plain": [
       "-0.34*x24*(1 - x30)"
      ]
     },
     "metadata": {},
     "output_type": "display_data"
    },
    {
     "data": {
      "text/latex": [
       "$\\displaystyle 0.34 x_{25} \\left(1 - x_{1}\\right)$"
      ],
      "text/plain": [
       "0.34*x25*(1 - x1)"
      ]
     },
     "metadata": {},
     "output_type": "display_data"
    },
    {
     "data": {
      "text/latex": [
       "$\\displaystyle - 0.33 x_{25} \\left(1 - x_{2}\\right)$"
      ],
      "text/plain": [
       "-0.33*x25*(1 - x2)"
      ]
     },
     "metadata": {},
     "output_type": "display_data"
    },
    {
     "data": {
      "text/latex": [
       "$\\displaystyle 0.34 x_{25} \\left(1 - x_{3}\\right)$"
      ],
      "text/plain": [
       "0.34*x25*(1 - x3)"
      ]
     },
     "metadata": {},
     "output_type": "display_data"
    },
    {
     "data": {
      "text/latex": [
       "$\\displaystyle 0.07 x_{25} \\left(1 - x_{4}\\right)$"
      ],
      "text/plain": [
       "0.07*x25*(1 - x4)"
      ]
     },
     "metadata": {},
     "output_type": "display_data"
    },
    {
     "data": {
      "text/latex": [
       "$\\displaystyle - 0.49 x_{25} \\left(1 - x_{5}\\right)$"
      ],
      "text/plain": [
       "-0.49*x25*(1 - x5)"
      ]
     },
     "metadata": {},
     "output_type": "display_data"
    },
    {
     "data": {
      "text/latex": [
       "$\\displaystyle 0.47 x_{25} \\left(1 - x_{6}\\right)$"
      ],
      "text/plain": [
       "0.47*x25*(1 - x6)"
      ]
     },
     "metadata": {},
     "output_type": "display_data"
    },
    {
     "data": {
      "text/latex": [
       "$\\displaystyle 0.96 x_{25} \\left(1 - x_{7}\\right)$"
      ],
      "text/plain": [
       "0.96*x25*(1 - x7)"
      ]
     },
     "metadata": {},
     "output_type": "display_data"
    },
    {
     "data": {
      "text/latex": [
       "$\\displaystyle 0.07 x_{25} \\left(1 - x_{8}\\right)$"
      ],
      "text/plain": [
       "0.07*x25*(1 - x8)"
      ]
     },
     "metadata": {},
     "output_type": "display_data"
    },
    {
     "data": {
      "text/latex": [
       "$\\displaystyle 0.94 x_{25} \\left(1 - x_{9}\\right)$"
      ],
      "text/plain": [
       "0.94*x25*(1 - x9)"
      ]
     },
     "metadata": {},
     "output_type": "display_data"
    },
    {
     "data": {
      "text/latex": [
       "$\\displaystyle 0.05 x_{25} \\left(1 - x_{10}\\right)$"
      ],
      "text/plain": [
       "0.05*x25*(1 - x10)"
      ]
     },
     "metadata": {},
     "output_type": "display_data"
    },
    {
     "data": {
      "text/latex": [
       "$\\displaystyle 0.37 x_{25} \\left(1 - x_{11}\\right)$"
      ],
      "text/plain": [
       "0.37*x25*(1 - x11)"
      ]
     },
     "metadata": {},
     "output_type": "display_data"
    },
    {
     "data": {
      "text/latex": [
       "$\\displaystyle - 0.49 x_{25} \\left(1 - x_{12}\\right)$"
      ],
      "text/plain": [
       "-0.49*x25*(1 - x12)"
      ]
     },
     "metadata": {},
     "output_type": "display_data"
    },
    {
     "data": {
      "text/latex": [
       "$\\displaystyle 0.22 x_{25} \\left(1 - x_{13}\\right)$"
      ],
      "text/plain": [
       "0.22*x25*(1 - x13)"
      ]
     },
     "metadata": {},
     "output_type": "display_data"
    },
    {
     "data": {
      "text/latex": [
       "$\\displaystyle - 0.66 x_{25} \\left(1 - x_{14}\\right)$"
      ],
      "text/plain": [
       "-0.66*x25*(1 - x14)"
      ]
     },
     "metadata": {},
     "output_type": "display_data"
    },
    {
     "data": {
      "text/latex": [
       "$\\displaystyle - 0.09 x_{25} \\left(1 - x_{15}\\right)$"
      ],
      "text/plain": [
       "-0.09*x25*(1 - x15)"
      ]
     },
     "metadata": {},
     "output_type": "display_data"
    },
    {
     "data": {
      "text/latex": [
       "$\\displaystyle 0.22 x_{25} \\left(1 - x_{16}\\right)$"
      ],
      "text/plain": [
       "0.22*x25*(1 - x16)"
      ]
     },
     "metadata": {},
     "output_type": "display_data"
    },
    {
     "data": {
      "text/latex": [
       "$\\displaystyle - 0.04 x_{25} \\left(1 - x_{17}\\right)$"
      ],
      "text/plain": [
       "-0.04*x25*(1 - x17)"
      ]
     },
     "metadata": {},
     "output_type": "display_data"
    },
    {
     "data": {
      "text/latex": [
       "$\\displaystyle - 0.44 x_{25} \\left(1 - x_{18}\\right)$"
      ],
      "text/plain": [
       "-0.44*x25*(1 - x18)"
      ]
     },
     "metadata": {},
     "output_type": "display_data"
    },
    {
     "data": {
      "text/latex": [
       "$\\displaystyle 0.59 x_{25} \\left(1 - x_{19}\\right)$"
      ],
      "text/plain": [
       "0.59*x25*(1 - x19)"
      ]
     },
     "metadata": {},
     "output_type": "display_data"
    },
    {
     "data": {
      "text/latex": [
       "$\\displaystyle 0.45 x_{25} \\left(1 - x_{20}\\right)$"
      ],
      "text/plain": [
       "0.45*x25*(1 - x20)"
      ]
     },
     "metadata": {},
     "output_type": "display_data"
    },
    {
     "data": {
      "text/latex": [
       "$\\displaystyle 0.09 x_{25} \\left(1 - x_{21}\\right)$"
      ],
      "text/plain": [
       "0.09*x25*(1 - x21)"
      ]
     },
     "metadata": {},
     "output_type": "display_data"
    },
    {
     "data": {
      "text/latex": [
       "$\\displaystyle - 0.99 x_{25} \\left(1 - x_{22}\\right)$"
      ],
      "text/plain": [
       "-0.99*x25*(1 - x22)"
      ]
     },
     "metadata": {},
     "output_type": "display_data"
    },
    {
     "data": {
      "text/latex": [
       "$\\displaystyle 0.12 x_{25} \\left(1 - x_{23}\\right)$"
      ],
      "text/plain": [
       "0.12*x25*(1 - x23)"
      ]
     },
     "metadata": {},
     "output_type": "display_data"
    },
    {
     "data": {
      "text/latex": [
       "$\\displaystyle 0.42 x_{25} \\left(1 - x_{24}\\right)$"
      ],
      "text/plain": [
       "0.42*x25*(1 - x24)"
      ]
     },
     "metadata": {},
     "output_type": "display_data"
    },
    {
     "data": {
      "text/latex": [
       "$\\displaystyle 0$"
      ],
      "text/plain": [
       "0"
      ]
     },
     "metadata": {},
     "output_type": "display_data"
    },
    {
     "data": {
      "text/latex": [
       "$\\displaystyle 0.41 x_{25} \\left(1 - x_{26}\\right)$"
      ],
      "text/plain": [
       "0.41*x25*(1 - x26)"
      ]
     },
     "metadata": {},
     "output_type": "display_data"
    },
    {
     "data": {
      "text/latex": [
       "$\\displaystyle 0.06 x_{25} \\left(1 - x_{27}\\right)$"
      ],
      "text/plain": [
       "0.06*x25*(1 - x27)"
      ]
     },
     "metadata": {},
     "output_type": "display_data"
    },
    {
     "data": {
      "text/latex": [
       "$\\displaystyle - 0.71 x_{25} \\left(1 - x_{28}\\right)$"
      ],
      "text/plain": [
       "-0.71*x25*(1 - x28)"
      ]
     },
     "metadata": {},
     "output_type": "display_data"
    },
    {
     "data": {
      "text/latex": [
       "$\\displaystyle 0.48 x_{25} \\left(1 - x_{29}\\right)$"
      ],
      "text/plain": [
       "0.48*x25*(1 - x29)"
      ]
     },
     "metadata": {},
     "output_type": "display_data"
    },
    {
     "data": {
      "text/latex": [
       "$\\displaystyle - 0.74 x_{25} \\left(1 - x_{30}\\right)$"
      ],
      "text/plain": [
       "-0.74*x25*(1 - x30)"
      ]
     },
     "metadata": {},
     "output_type": "display_data"
    },
    {
     "data": {
      "text/latex": [
       "$\\displaystyle 0.22 x_{26} \\left(1 - x_{1}\\right)$"
      ],
      "text/plain": [
       "0.22*x26*(1 - x1)"
      ]
     },
     "metadata": {},
     "output_type": "display_data"
    },
    {
     "data": {
      "text/latex": [
       "$\\displaystyle - 0.01 x_{26} \\left(1 - x_{2}\\right)$"
      ],
      "text/plain": [
       "-0.01*x26*(1 - x2)"
      ]
     },
     "metadata": {},
     "output_type": "display_data"
    },
    {
     "data": {
      "text/latex": [
       "$\\displaystyle 0.43 x_{26} \\left(1 - x_{3}\\right)$"
      ],
      "text/plain": [
       "0.43*x26*(1 - x3)"
      ]
     },
     "metadata": {},
     "output_type": "display_data"
    },
    {
     "data": {
      "text/latex": [
       "$\\displaystyle - 0.43 x_{26} \\left(1 - x_{4}\\right)$"
      ],
      "text/plain": [
       "-0.43*x26*(1 - x4)"
      ]
     },
     "metadata": {},
     "output_type": "display_data"
    },
    {
     "data": {
      "text/latex": [
       "$\\displaystyle 0$"
      ],
      "text/plain": [
       "0"
      ]
     },
     "metadata": {},
     "output_type": "display_data"
    },
    {
     "data": {
      "text/latex": [
       "$\\displaystyle - 0.64 x_{26} \\left(1 - x_{6}\\right)$"
      ],
      "text/plain": [
       "-0.64*x26*(1 - x6)"
      ]
     },
     "metadata": {},
     "output_type": "display_data"
    },
    {
     "data": {
      "text/latex": [
       "$\\displaystyle - 0.52 x_{26} \\left(1 - x_{7}\\right)$"
      ],
      "text/plain": [
       "-0.52*x26*(1 - x7)"
      ]
     },
     "metadata": {},
     "output_type": "display_data"
    },
    {
     "data": {
      "text/latex": [
       "$\\displaystyle - 0.97 x_{26} \\left(1 - x_{8}\\right)$"
      ],
      "text/plain": [
       "-0.97*x26*(1 - x8)"
      ]
     },
     "metadata": {},
     "output_type": "display_data"
    },
    {
     "data": {
      "text/latex": [
       "$\\displaystyle 0.37 x_{26} \\left(1 - x_{9}\\right)$"
      ],
      "text/plain": [
       "0.37*x26*(1 - x9)"
      ]
     },
     "metadata": {},
     "output_type": "display_data"
    },
    {
     "data": {
      "text/latex": [
       "$\\displaystyle - 0.33 x_{26} \\left(1 - x_{10}\\right)$"
      ],
      "text/plain": [
       "-0.33*x26*(1 - x10)"
      ]
     },
     "metadata": {},
     "output_type": "display_data"
    },
    {
     "data": {
      "text/latex": [
       "$\\displaystyle 0.42 x_{26} \\left(1 - x_{11}\\right)$"
      ],
      "text/plain": [
       "0.42*x26*(1 - x11)"
      ]
     },
     "metadata": {},
     "output_type": "display_data"
    },
    {
     "data": {
      "text/latex": [
       "$\\displaystyle - 0.74 x_{26} \\left(1 - x_{12}\\right)$"
      ],
      "text/plain": [
       "-0.74*x26*(1 - x12)"
      ]
     },
     "metadata": {},
     "output_type": "display_data"
    },
    {
     "data": {
      "text/latex": [
       "$\\displaystyle - 0.32 x_{26} \\left(1 - x_{13}\\right)$"
      ],
      "text/plain": [
       "-0.32*x26*(1 - x13)"
      ]
     },
     "metadata": {},
     "output_type": "display_data"
    },
    {
     "data": {
      "text/latex": [
       "$\\displaystyle - 0.96 x_{26} \\left(1 - x_{14}\\right)$"
      ],
      "text/plain": [
       "-0.96*x26*(1 - x14)"
      ]
     },
     "metadata": {},
     "output_type": "display_data"
    },
    {
     "data": {
      "text/latex": [
       "$\\displaystyle - 0.09 x_{26} \\left(1 - x_{15}\\right)$"
      ],
      "text/plain": [
       "-0.09*x26*(1 - x15)"
      ]
     },
     "metadata": {},
     "output_type": "display_data"
    },
    {
     "data": {
      "text/latex": [
       "$\\displaystyle - 0.16 x_{26} \\left(1 - x_{16}\\right)$"
      ],
      "text/plain": [
       "-0.16*x26*(1 - x16)"
      ]
     },
     "metadata": {},
     "output_type": "display_data"
    },
    {
     "data": {
      "text/latex": [
       "$\\displaystyle 0.19 x_{26} \\left(1 - x_{17}\\right)$"
      ],
      "text/plain": [
       "0.19*x26*(1 - x17)"
      ]
     },
     "metadata": {},
     "output_type": "display_data"
    },
    {
     "data": {
      "text/latex": [
       "$\\displaystyle - 0.8 x_{26} \\left(1 - x_{18}\\right)$"
      ],
      "text/plain": [
       "-0.8*x26*(1 - x18)"
      ]
     },
     "metadata": {},
     "output_type": "display_data"
    },
    {
     "data": {
      "text/latex": [
       "$\\displaystyle - 0.97 x_{26} \\left(1 - x_{19}\\right)$"
      ],
      "text/plain": [
       "-0.97*x26*(1 - x19)"
      ]
     },
     "metadata": {},
     "output_type": "display_data"
    },
    {
     "data": {
      "text/latex": [
       "$\\displaystyle 0.22 x_{26} \\left(1 - x_{20}\\right)$"
      ],
      "text/plain": [
       "0.22*x26*(1 - x20)"
      ]
     },
     "metadata": {},
     "output_type": "display_data"
    },
    {
     "data": {
      "text/latex": [
       "$\\displaystyle 0.12 x_{26} \\left(1 - x_{21}\\right)$"
      ],
      "text/plain": [
       "0.12*x26*(1 - x21)"
      ]
     },
     "metadata": {},
     "output_type": "display_data"
    },
    {
     "data": {
      "text/latex": [
       "$\\displaystyle - 0.78 x_{26} \\left(1 - x_{22}\\right)$"
      ],
      "text/plain": [
       "-0.78*x26*(1 - x22)"
      ]
     },
     "metadata": {},
     "output_type": "display_data"
    },
    {
     "data": {
      "text/latex": [
       "$\\displaystyle 0.7 x_{26} \\left(1 - x_{23}\\right)$"
      ],
      "text/plain": [
       "0.7*x26*(1 - x23)"
      ]
     },
     "metadata": {},
     "output_type": "display_data"
    },
    {
     "data": {
      "text/latex": [
       "$\\displaystyle - 0.09 x_{26} \\left(1 - x_{24}\\right)$"
      ],
      "text/plain": [
       "-0.09*x26*(1 - x24)"
      ]
     },
     "metadata": {},
     "output_type": "display_data"
    },
    {
     "data": {
      "text/latex": [
       "$\\displaystyle 0.41 x_{26} \\left(1 - x_{25}\\right)$"
      ],
      "text/plain": [
       "0.41*x26*(1 - x25)"
      ]
     },
     "metadata": {},
     "output_type": "display_data"
    },
    {
     "data": {
      "text/latex": [
       "$\\displaystyle 0$"
      ],
      "text/plain": [
       "0"
      ]
     },
     "metadata": {},
     "output_type": "display_data"
    },
    {
     "data": {
      "text/latex": [
       "$\\displaystyle - 0.94 x_{26} \\left(1 - x_{27}\\right)$"
      ],
      "text/plain": [
       "-0.94*x26*(1 - x27)"
      ]
     },
     "metadata": {},
     "output_type": "display_data"
    },
    {
     "data": {
      "text/latex": [
       "$\\displaystyle 0.02 x_{26} \\left(1 - x_{28}\\right)$"
      ],
      "text/plain": [
       "0.02*x26*(1 - x28)"
      ]
     },
     "metadata": {},
     "output_type": "display_data"
    },
    {
     "data": {
      "text/latex": [
       "$\\displaystyle 0.09 x_{26} \\left(1 - x_{29}\\right)$"
      ],
      "text/plain": [
       "0.09*x26*(1 - x29)"
      ]
     },
     "metadata": {},
     "output_type": "display_data"
    },
    {
     "data": {
      "text/latex": [
       "$\\displaystyle 0.21 x_{26} \\left(1 - x_{30}\\right)$"
      ],
      "text/plain": [
       "0.21*x26*(1 - x30)"
      ]
     },
     "metadata": {},
     "output_type": "display_data"
    },
    {
     "data": {
      "text/latex": [
       "$\\displaystyle 0.75 x_{27} \\left(1 - x_{1}\\right)$"
      ],
      "text/plain": [
       "0.75*x27*(1 - x1)"
      ]
     },
     "metadata": {},
     "output_type": "display_data"
    },
    {
     "data": {
      "text/latex": [
       "$\\displaystyle - 0.77 x_{27} \\left(1 - x_{2}\\right)$"
      ],
      "text/plain": [
       "-0.77*x27*(1 - x2)"
      ]
     },
     "metadata": {},
     "output_type": "display_data"
    },
    {
     "data": {
      "text/latex": [
       "$\\displaystyle 0.95 x_{27} \\left(1 - x_{3}\\right)$"
      ],
      "text/plain": [
       "0.95*x27*(1 - x3)"
      ]
     },
     "metadata": {},
     "output_type": "display_data"
    },
    {
     "data": {
      "text/latex": [
       "$\\displaystyle - 0.5 x_{27} \\left(1 - x_{4}\\right)$"
      ],
      "text/plain": [
       "-0.5*x27*(1 - x4)"
      ]
     },
     "metadata": {},
     "output_type": "display_data"
    },
    {
     "data": {
      "text/latex": [
       "$\\displaystyle 0.33 x_{27} \\left(1 - x_{5}\\right)$"
      ],
      "text/plain": [
       "0.33*x27*(1 - x5)"
      ]
     },
     "metadata": {},
     "output_type": "display_data"
    },
    {
     "data": {
      "text/latex": [
       "$\\displaystyle - 0.36 x_{27} \\left(1 - x_{6}\\right)$"
      ],
      "text/plain": [
       "-0.36*x27*(1 - x6)"
      ]
     },
     "metadata": {},
     "output_type": "display_data"
    },
    {
     "data": {
      "text/latex": [
       "$\\displaystyle - 0.14 x_{27} \\left(1 - x_{7}\\right)$"
      ],
      "text/plain": [
       "-0.14*x27*(1 - x7)"
      ]
     },
     "metadata": {},
     "output_type": "display_data"
    },
    {
     "data": {
      "text/latex": [
       "$\\displaystyle 0.78 x_{27} \\left(1 - x_{8}\\right)$"
      ],
      "text/plain": [
       "0.78*x27*(1 - x8)"
      ]
     },
     "metadata": {},
     "output_type": "display_data"
    },
    {
     "data": {
      "text/latex": [
       "$\\displaystyle 0.14 x_{27} \\left(1 - x_{9}\\right)$"
      ],
      "text/plain": [
       "0.14*x27*(1 - x9)"
      ]
     },
     "metadata": {},
     "output_type": "display_data"
    },
    {
     "data": {
      "text/latex": [
       "$\\displaystyle 0.98 x_{27} \\left(1 - x_{10}\\right)$"
      ],
      "text/plain": [
       "0.98*x27*(1 - x10)"
      ]
     },
     "metadata": {},
     "output_type": "display_data"
    },
    {
     "data": {
      "text/latex": [
       "$\\displaystyle - 0.68 x_{27} \\left(1 - x_{11}\\right)$"
      ],
      "text/plain": [
       "-0.68*x27*(1 - x11)"
      ]
     },
     "metadata": {},
     "output_type": "display_data"
    },
    {
     "data": {
      "text/latex": [
       "$\\displaystyle - 0.36 x_{27} \\left(1 - x_{12}\\right)$"
      ],
      "text/plain": [
       "-0.36*x27*(1 - x12)"
      ]
     },
     "metadata": {},
     "output_type": "display_data"
    },
    {
     "data": {
      "text/latex": [
       "$\\displaystyle 0.85 x_{27} \\left(1 - x_{13}\\right)$"
      ],
      "text/plain": [
       "0.85*x27*(1 - x13)"
      ]
     },
     "metadata": {},
     "output_type": "display_data"
    },
    {
     "data": {
      "text/latex": [
       "$\\displaystyle - 0.85 x_{27} \\left(1 - x_{14}\\right)$"
      ],
      "text/plain": [
       "-0.85*x27*(1 - x14)"
      ]
     },
     "metadata": {},
     "output_type": "display_data"
    },
    {
     "data": {
      "text/latex": [
       "$\\displaystyle 0.83 x_{27} \\left(1 - x_{15}\\right)$"
      ],
      "text/plain": [
       "0.83*x27*(1 - x15)"
      ]
     },
     "metadata": {},
     "output_type": "display_data"
    },
    {
     "data": {
      "text/latex": [
       "$\\displaystyle - 0.17 x_{27} \\left(1 - x_{16}\\right)$"
      ],
      "text/plain": [
       "-0.17*x27*(1 - x16)"
      ]
     },
     "metadata": {},
     "output_type": "display_data"
    },
    {
     "data": {
      "text/latex": [
       "$\\displaystyle 0.04 x_{27} \\left(1 - x_{17}\\right)$"
      ],
      "text/plain": [
       "0.04*x27*(1 - x17)"
      ]
     },
     "metadata": {},
     "output_type": "display_data"
    },
    {
     "data": {
      "text/latex": [
       "$\\displaystyle 0.93 x_{27} \\left(1 - x_{18}\\right)$"
      ],
      "text/plain": [
       "0.93*x27*(1 - x18)"
      ]
     },
     "metadata": {},
     "output_type": "display_data"
    },
    {
     "data": {
      "text/latex": [
       "$\\displaystyle - 0.36 x_{27} \\left(1 - x_{19}\\right)$"
      ],
      "text/plain": [
       "-0.36*x27*(1 - x19)"
      ]
     },
     "metadata": {},
     "output_type": "display_data"
    },
    {
     "data": {
      "text/latex": [
       "$\\displaystyle - 0.43 x_{27} \\left(1 - x_{20}\\right)$"
      ],
      "text/plain": [
       "-0.43*x27*(1 - x20)"
      ]
     },
     "metadata": {},
     "output_type": "display_data"
    },
    {
     "data": {
      "text/latex": [
       "$\\displaystyle 0.41 x_{27} \\left(1 - x_{21}\\right)$"
      ],
      "text/plain": [
       "0.41*x27*(1 - x21)"
      ]
     },
     "metadata": {},
     "output_type": "display_data"
    },
    {
     "data": {
      "text/latex": [
       "$\\displaystyle - 0.04 x_{27} \\left(1 - x_{22}\\right)$"
      ],
      "text/plain": [
       "-0.04*x27*(1 - x22)"
      ]
     },
     "metadata": {},
     "output_type": "display_data"
    },
    {
     "data": {
      "text/latex": [
       "$\\displaystyle 0.87 x_{27} \\left(1 - x_{23}\\right)$"
      ],
      "text/plain": [
       "0.87*x27*(1 - x23)"
      ]
     },
     "metadata": {},
     "output_type": "display_data"
    },
    {
     "data": {
      "text/latex": [
       "$\\displaystyle 0.13 x_{27} \\left(1 - x_{24}\\right)$"
      ],
      "text/plain": [
       "0.13*x27*(1 - x24)"
      ]
     },
     "metadata": {},
     "output_type": "display_data"
    },
    {
     "data": {
      "text/latex": [
       "$\\displaystyle 0.06 x_{27} \\left(1 - x_{25}\\right)$"
      ],
      "text/plain": [
       "0.06*x27*(1 - x25)"
      ]
     },
     "metadata": {},
     "output_type": "display_data"
    },
    {
     "data": {
      "text/latex": [
       "$\\displaystyle - 0.94 x_{27} \\left(1 - x_{26}\\right)$"
      ],
      "text/plain": [
       "-0.94*x27*(1 - x26)"
      ]
     },
     "metadata": {},
     "output_type": "display_data"
    },
    {
     "data": {
      "text/latex": [
       "$\\displaystyle 0$"
      ],
      "text/plain": [
       "0"
      ]
     },
     "metadata": {},
     "output_type": "display_data"
    },
    {
     "data": {
      "text/latex": [
       "$\\displaystyle - 0.47 x_{27} \\left(1 - x_{28}\\right)$"
      ],
      "text/plain": [
       "-0.47*x27*(1 - x28)"
      ]
     },
     "metadata": {},
     "output_type": "display_data"
    },
    {
     "data": {
      "text/latex": [
       "$\\displaystyle - 0.98 x_{27} \\left(1 - x_{29}\\right)$"
      ],
      "text/plain": [
       "-0.98*x27*(1 - x29)"
      ]
     },
     "metadata": {},
     "output_type": "display_data"
    },
    {
     "data": {
      "text/latex": [
       "$\\displaystyle 0.05 x_{27} \\left(1 - x_{30}\\right)$"
      ],
      "text/plain": [
       "0.05*x27*(1 - x30)"
      ]
     },
     "metadata": {},
     "output_type": "display_data"
    },
    {
     "data": {
      "text/latex": [
       "$\\displaystyle 0.31 x_{28} \\left(1 - x_{1}\\right)$"
      ],
      "text/plain": [
       "0.31*x28*(1 - x1)"
      ]
     },
     "metadata": {},
     "output_type": "display_data"
    },
    {
     "data": {
      "text/latex": [
       "$\\displaystyle - 0.01 x_{28} \\left(1 - x_{2}\\right)$"
      ],
      "text/plain": [
       "-0.01*x28*(1 - x2)"
      ]
     },
     "metadata": {},
     "output_type": "display_data"
    },
    {
     "data": {
      "text/latex": [
       "$\\displaystyle - 0.68 x_{28} \\left(1 - x_{3}\\right)$"
      ],
      "text/plain": [
       "-0.68*x28*(1 - x3)"
      ]
     },
     "metadata": {},
     "output_type": "display_data"
    },
    {
     "data": {
      "text/latex": [
       "$\\displaystyle - 0.07 x_{28} \\left(1 - x_{4}\\right)$"
      ],
      "text/plain": [
       "-0.07*x28*(1 - x4)"
      ]
     },
     "metadata": {},
     "output_type": "display_data"
    },
    {
     "data": {
      "text/latex": [
       "$\\displaystyle - 0.97 x_{28} \\left(1 - x_{5}\\right)$"
      ],
      "text/plain": [
       "-0.97*x28*(1 - x5)"
      ]
     },
     "metadata": {},
     "output_type": "display_data"
    },
    {
     "data": {
      "text/latex": [
       "$\\displaystyle - 0.44 x_{28} \\left(1 - x_{6}\\right)$"
      ],
      "text/plain": [
       "-0.44*x28*(1 - x6)"
      ]
     },
     "metadata": {},
     "output_type": "display_data"
    },
    {
     "data": {
      "text/latex": [
       "$\\displaystyle 0.6 x_{28} \\left(1 - x_{7}\\right)$"
      ],
      "text/plain": [
       "0.6*x28*(1 - x7)"
      ]
     },
     "metadata": {},
     "output_type": "display_data"
    },
    {
     "data": {
      "text/latex": [
       "$\\displaystyle - 0.77 x_{28} \\left(1 - x_{8}\\right)$"
      ],
      "text/plain": [
       "-0.77*x28*(1 - x8)"
      ]
     },
     "metadata": {},
     "output_type": "display_data"
    },
    {
     "data": {
      "text/latex": [
       "$\\displaystyle 0.85 x_{28} \\left(1 - x_{9}\\right)$"
      ],
      "text/plain": [
       "0.85*x28*(1 - x9)"
      ]
     },
     "metadata": {},
     "output_type": "display_data"
    },
    {
     "data": {
      "text/latex": [
       "$\\displaystyle 0.16 x_{28} \\left(1 - x_{10}\\right)$"
      ],
      "text/plain": [
       "0.16*x28*(1 - x10)"
      ]
     },
     "metadata": {},
     "output_type": "display_data"
    },
    {
     "data": {
      "text/latex": [
       "$\\displaystyle 0.26 x_{28} \\left(1 - x_{11}\\right)$"
      ],
      "text/plain": [
       "0.26*x28*(1 - x11)"
      ]
     },
     "metadata": {},
     "output_type": "display_data"
    },
    {
     "data": {
      "text/latex": [
       "$\\displaystyle - 0.63 x_{28} \\left(1 - x_{12}\\right)$"
      ],
      "text/plain": [
       "-0.63*x28*(1 - x12)"
      ]
     },
     "metadata": {},
     "output_type": "display_data"
    },
    {
     "data": {
      "text/latex": [
       "$\\displaystyle - 0.46 x_{28} \\left(1 - x_{13}\\right)$"
      ],
      "text/plain": [
       "-0.46*x28*(1 - x13)"
      ]
     },
     "metadata": {},
     "output_type": "display_data"
    },
    {
     "data": {
      "text/latex": [
       "$\\displaystyle 0.95 x_{28} \\left(1 - x_{14}\\right)$"
      ],
      "text/plain": [
       "0.95*x28*(1 - x14)"
      ]
     },
     "metadata": {},
     "output_type": "display_data"
    },
    {
     "data": {
      "text/latex": [
       "$\\displaystyle - 0.59 x_{28} \\left(1 - x_{15}\\right)$"
      ],
      "text/plain": [
       "-0.59*x28*(1 - x15)"
      ]
     },
     "metadata": {},
     "output_type": "display_data"
    },
    {
     "data": {
      "text/latex": [
       "$\\displaystyle - 0.63 x_{28} \\left(1 - x_{16}\\right)$"
      ],
      "text/plain": [
       "-0.63*x28*(1 - x16)"
      ]
     },
     "metadata": {},
     "output_type": "display_data"
    },
    {
     "data": {
      "text/latex": [
       "$\\displaystyle 0.01 x_{28} \\left(1 - x_{17}\\right)$"
      ],
      "text/plain": [
       "0.01*x28*(1 - x17)"
      ]
     },
     "metadata": {},
     "output_type": "display_data"
    },
    {
     "data": {
      "text/latex": [
       "$\\displaystyle 0.6 x_{28} \\left(1 - x_{18}\\right)$"
      ],
      "text/plain": [
       "0.6*x28*(1 - x18)"
      ]
     },
     "metadata": {},
     "output_type": "display_data"
    },
    {
     "data": {
      "text/latex": [
       "$\\displaystyle - 0.93 x_{28} \\left(1 - x_{19}\\right)$"
      ],
      "text/plain": [
       "-0.93*x28*(1 - x19)"
      ]
     },
     "metadata": {},
     "output_type": "display_data"
    },
    {
     "data": {
      "text/latex": [
       "$\\displaystyle - 0.86 x_{28} \\left(1 - x_{20}\\right)$"
      ],
      "text/plain": [
       "-0.86*x28*(1 - x20)"
      ]
     },
     "metadata": {},
     "output_type": "display_data"
    },
    {
     "data": {
      "text/latex": [
       "$\\displaystyle 0.4 x_{28} \\left(1 - x_{21}\\right)$"
      ],
      "text/plain": [
       "0.4*x28*(1 - x21)"
      ]
     },
     "metadata": {},
     "output_type": "display_data"
    },
    {
     "data": {
      "text/latex": [
       "$\\displaystyle - 0.11 x_{28} \\left(1 - x_{22}\\right)$"
      ],
      "text/plain": [
       "-0.11*x28*(1 - x22)"
      ]
     },
     "metadata": {},
     "output_type": "display_data"
    },
    {
     "data": {
      "text/latex": [
       "$\\displaystyle 0.1 x_{28} \\left(1 - x_{23}\\right)$"
      ],
      "text/plain": [
       "0.1*x28*(1 - x23)"
      ]
     },
     "metadata": {},
     "output_type": "display_data"
    },
    {
     "data": {
      "text/latex": [
       "$\\displaystyle - 0.02 x_{28} \\left(1 - x_{24}\\right)$"
      ],
      "text/plain": [
       "-0.02*x28*(1 - x24)"
      ]
     },
     "metadata": {},
     "output_type": "display_data"
    },
    {
     "data": {
      "text/latex": [
       "$\\displaystyle - 0.71 x_{28} \\left(1 - x_{25}\\right)$"
      ],
      "text/plain": [
       "-0.71*x28*(1 - x25)"
      ]
     },
     "metadata": {},
     "output_type": "display_data"
    },
    {
     "data": {
      "text/latex": [
       "$\\displaystyle 0.02 x_{28} \\left(1 - x_{26}\\right)$"
      ],
      "text/plain": [
       "0.02*x28*(1 - x26)"
      ]
     },
     "metadata": {},
     "output_type": "display_data"
    },
    {
     "data": {
      "text/latex": [
       "$\\displaystyle - 0.47 x_{28} \\left(1 - x_{27}\\right)$"
      ],
      "text/plain": [
       "-0.47*x28*(1 - x27)"
      ]
     },
     "metadata": {},
     "output_type": "display_data"
    },
    {
     "data": {
      "text/latex": [
       "$\\displaystyle 0$"
      ],
      "text/plain": [
       "0"
      ]
     },
     "metadata": {},
     "output_type": "display_data"
    },
    {
     "data": {
      "text/latex": [
       "$\\displaystyle - 0.15 x_{28} \\left(1 - x_{29}\\right)$"
      ],
      "text/plain": [
       "-0.15*x28*(1 - x29)"
      ]
     },
     "metadata": {},
     "output_type": "display_data"
    },
    {
     "data": {
      "text/latex": [
       "$\\displaystyle 0.02 x_{28} \\left(1 - x_{30}\\right)$"
      ],
      "text/plain": [
       "0.02*x28*(1 - x30)"
      ]
     },
     "metadata": {},
     "output_type": "display_data"
    },
    {
     "data": {
      "text/latex": [
       "$\\displaystyle 0.39 x_{29} \\left(1 - x_{1}\\right)$"
      ],
      "text/plain": [
       "0.39*x29*(1 - x1)"
      ]
     },
     "metadata": {},
     "output_type": "display_data"
    },
    {
     "data": {
      "text/latex": [
       "$\\displaystyle - 0.95 x_{29} \\left(1 - x_{2}\\right)$"
      ],
      "text/plain": [
       "-0.95*x29*(1 - x2)"
      ]
     },
     "metadata": {},
     "output_type": "display_data"
    },
    {
     "data": {
      "text/latex": [
       "$\\displaystyle - 0.27 x_{29} \\left(1 - x_{3}\\right)$"
      ],
      "text/plain": [
       "-0.27*x29*(1 - x3)"
      ]
     },
     "metadata": {},
     "output_type": "display_data"
    },
    {
     "data": {
      "text/latex": [
       "$\\displaystyle 0.41 x_{29} \\left(1 - x_{4}\\right)$"
      ],
      "text/plain": [
       "0.41*x29*(1 - x4)"
      ]
     },
     "metadata": {},
     "output_type": "display_data"
    },
    {
     "data": {
      "text/latex": [
       "$\\displaystyle 0.29 x_{29} \\left(1 - x_{5}\\right)$"
      ],
      "text/plain": [
       "0.29*x29*(1 - x5)"
      ]
     },
     "metadata": {},
     "output_type": "display_data"
    },
    {
     "data": {
      "text/latex": [
       "$\\displaystyle - 0.54 x_{29} \\left(1 - x_{6}\\right)$"
      ],
      "text/plain": [
       "-0.54*x29*(1 - x6)"
      ]
     },
     "metadata": {},
     "output_type": "display_data"
    },
    {
     "data": {
      "text/latex": [
       "$\\displaystyle - 0.85 x_{29} \\left(1 - x_{7}\\right)$"
      ],
      "text/plain": [
       "-0.85*x29*(1 - x7)"
      ]
     },
     "metadata": {},
     "output_type": "display_data"
    },
    {
     "data": {
      "text/latex": [
       "$\\displaystyle - 0.45 x_{29} \\left(1 - x_{8}\\right)$"
      ],
      "text/plain": [
       "-0.45*x29*(1 - x8)"
      ]
     },
     "metadata": {},
     "output_type": "display_data"
    },
    {
     "data": {
      "text/latex": [
       "$\\displaystyle 0.22 x_{29} \\left(1 - x_{9}\\right)$"
      ],
      "text/plain": [
       "0.22*x29*(1 - x9)"
      ]
     },
     "metadata": {},
     "output_type": "display_data"
    },
    {
     "data": {
      "text/latex": [
       "$\\displaystyle - 0.81 x_{29} \\left(1 - x_{10}\\right)$"
      ],
      "text/plain": [
       "-0.81*x29*(1 - x10)"
      ]
     },
     "metadata": {},
     "output_type": "display_data"
    },
    {
     "data": {
      "text/latex": [
       "$\\displaystyle 0.24 x_{29} \\left(1 - x_{11}\\right)$"
      ],
      "text/plain": [
       "0.24*x29*(1 - x11)"
      ]
     },
     "metadata": {},
     "output_type": "display_data"
    },
    {
     "data": {
      "text/latex": [
       "$\\displaystyle 0.8 x_{29} \\left(1 - x_{12}\\right)$"
      ],
      "text/plain": [
       "0.8*x29*(1 - x12)"
      ]
     },
     "metadata": {},
     "output_type": "display_data"
    },
    {
     "data": {
      "text/latex": [
       "$\\displaystyle - 0.24 x_{29} \\left(1 - x_{13}\\right)$"
      ],
      "text/plain": [
       "-0.24*x29*(1 - x13)"
      ]
     },
     "metadata": {},
     "output_type": "display_data"
    },
    {
     "data": {
      "text/latex": [
       "$\\displaystyle 0.97 x_{29} \\left(1 - x_{14}\\right)$"
      ],
      "text/plain": [
       "0.97*x29*(1 - x14)"
      ]
     },
     "metadata": {},
     "output_type": "display_data"
    },
    {
     "data": {
      "text/latex": [
       "$\\displaystyle - 0.54 x_{29} \\left(1 - x_{15}\\right)$"
      ],
      "text/plain": [
       "-0.54*x29*(1 - x15)"
      ]
     },
     "metadata": {},
     "output_type": "display_data"
    },
    {
     "data": {
      "text/latex": [
       "$\\displaystyle - 0.45 x_{29} \\left(1 - x_{16}\\right)$"
      ],
      "text/plain": [
       "-0.45*x29*(1 - x16)"
      ]
     },
     "metadata": {},
     "output_type": "display_data"
    },
    {
     "data": {
      "text/latex": [
       "$\\displaystyle - 0.32 x_{29} \\left(1 - x_{17}\\right)$"
      ],
      "text/plain": [
       "-0.32*x29*(1 - x17)"
      ]
     },
     "metadata": {},
     "output_type": "display_data"
    },
    {
     "data": {
      "text/latex": [
       "$\\displaystyle 0.71 x_{29} \\left(1 - x_{18}\\right)$"
      ],
      "text/plain": [
       "0.71*x29*(1 - x18)"
      ]
     },
     "metadata": {},
     "output_type": "display_data"
    },
    {
     "data": {
      "text/latex": [
       "$\\displaystyle - 0.48 x_{29} \\left(1 - x_{19}\\right)$"
      ],
      "text/plain": [
       "-0.48*x29*(1 - x19)"
      ]
     },
     "metadata": {},
     "output_type": "display_data"
    },
    {
     "data": {
      "text/latex": [
       "$\\displaystyle - 0.22 x_{29} \\left(1 - x_{20}\\right)$"
      ],
      "text/plain": [
       "-0.22*x29*(1 - x20)"
      ]
     },
     "metadata": {},
     "output_type": "display_data"
    },
    {
     "data": {
      "text/latex": [
       "$\\displaystyle 0.45 x_{29} \\left(1 - x_{21}\\right)$"
      ],
      "text/plain": [
       "0.45*x29*(1 - x21)"
      ]
     },
     "metadata": {},
     "output_type": "display_data"
    },
    {
     "data": {
      "text/latex": [
       "$\\displaystyle - 0.08 x_{29} \\left(1 - x_{22}\\right)$"
      ],
      "text/plain": [
       "-0.08*x29*(1 - x22)"
      ]
     },
     "metadata": {},
     "output_type": "display_data"
    },
    {
     "data": {
      "text/latex": [
       "$\\displaystyle 0.95 x_{29} \\left(1 - x_{23}\\right)$"
      ],
      "text/plain": [
       "0.95*x29*(1 - x23)"
      ]
     },
     "metadata": {},
     "output_type": "display_data"
    },
    {
     "data": {
      "text/latex": [
       "$\\displaystyle - 0.27 x_{29} \\left(1 - x_{24}\\right)$"
      ],
      "text/plain": [
       "-0.27*x29*(1 - x24)"
      ]
     },
     "metadata": {},
     "output_type": "display_data"
    },
    {
     "data": {
      "text/latex": [
       "$\\displaystyle 0.48 x_{29} \\left(1 - x_{25}\\right)$"
      ],
      "text/plain": [
       "0.48*x29*(1 - x25)"
      ]
     },
     "metadata": {},
     "output_type": "display_data"
    },
    {
     "data": {
      "text/latex": [
       "$\\displaystyle 0.09 x_{29} \\left(1 - x_{26}\\right)$"
      ],
      "text/plain": [
       "0.09*x29*(1 - x26)"
      ]
     },
     "metadata": {},
     "output_type": "display_data"
    },
    {
     "data": {
      "text/latex": [
       "$\\displaystyle - 0.98 x_{29} \\left(1 - x_{27}\\right)$"
      ],
      "text/plain": [
       "-0.98*x29*(1 - x27)"
      ]
     },
     "metadata": {},
     "output_type": "display_data"
    },
    {
     "data": {
      "text/latex": [
       "$\\displaystyle - 0.15 x_{29} \\left(1 - x_{28}\\right)$"
      ],
      "text/plain": [
       "-0.15*x29*(1 - x28)"
      ]
     },
     "metadata": {},
     "output_type": "display_data"
    },
    {
     "data": {
      "text/latex": [
       "$\\displaystyle 0$"
      ],
      "text/plain": [
       "0"
      ]
     },
     "metadata": {},
     "output_type": "display_data"
    },
    {
     "data": {
      "text/latex": [
       "$\\displaystyle - 0.2 x_{29} \\left(1 - x_{30}\\right)$"
      ],
      "text/plain": [
       "-0.2*x29*(1 - x30)"
      ]
     },
     "metadata": {},
     "output_type": "display_data"
    },
    {
     "data": {
      "text/latex": [
       "$\\displaystyle 0.9 x_{30} \\left(1 - x_{1}\\right)$"
      ],
      "text/plain": [
       "0.9*x30*(1 - x1)"
      ]
     },
     "metadata": {},
     "output_type": "display_data"
    },
    {
     "data": {
      "text/latex": [
       "$\\displaystyle 0.14 x_{30} \\left(1 - x_{2}\\right)$"
      ],
      "text/plain": [
       "0.14*x30*(1 - x2)"
      ]
     },
     "metadata": {},
     "output_type": "display_data"
    },
    {
     "data": {
      "text/latex": [
       "$\\displaystyle - 0.53 x_{30} \\left(1 - x_{3}\\right)$"
      ],
      "text/plain": [
       "-0.53*x30*(1 - x3)"
      ]
     },
     "metadata": {},
     "output_type": "display_data"
    },
    {
     "data": {
      "text/latex": [
       "$\\displaystyle 0.19 x_{30} \\left(1 - x_{4}\\right)$"
      ],
      "text/plain": [
       "0.19*x30*(1 - x4)"
      ]
     },
     "metadata": {},
     "output_type": "display_data"
    },
    {
     "data": {
      "text/latex": [
       "$\\displaystyle 0.12 x_{30} \\left(1 - x_{5}\\right)$"
      ],
      "text/plain": [
       "0.12*x30*(1 - x5)"
      ]
     },
     "metadata": {},
     "output_type": "display_data"
    },
    {
     "data": {
      "text/latex": [
       "$\\displaystyle 0.78 x_{30} \\left(1 - x_{6}\\right)$"
      ],
      "text/plain": [
       "0.78*x30*(1 - x6)"
      ]
     },
     "metadata": {},
     "output_type": "display_data"
    },
    {
     "data": {
      "text/latex": [
       "$\\displaystyle - 0.34 x_{30} \\left(1 - x_{7}\\right)$"
      ],
      "text/plain": [
       "-0.34*x30*(1 - x7)"
      ]
     },
     "metadata": {},
     "output_type": "display_data"
    },
    {
     "data": {
      "text/latex": [
       "$\\displaystyle 0.82 x_{30} \\left(1 - x_{8}\\right)$"
      ],
      "text/plain": [
       "0.82*x30*(1 - x8)"
      ]
     },
     "metadata": {},
     "output_type": "display_data"
    },
    {
     "data": {
      "text/latex": [
       "$\\displaystyle 0.29 x_{30} \\left(1 - x_{9}\\right)$"
      ],
      "text/plain": [
       "0.29*x30*(1 - x9)"
      ]
     },
     "metadata": {},
     "output_type": "display_data"
    },
    {
     "data": {
      "text/latex": [
       "$\\displaystyle 0.48 x_{30} \\left(1 - x_{10}\\right)$"
      ],
      "text/plain": [
       "0.48*x30*(1 - x10)"
      ]
     },
     "metadata": {},
     "output_type": "display_data"
    },
    {
     "data": {
      "text/latex": [
       "$\\displaystyle - 0.02 x_{30} \\left(1 - x_{11}\\right)$"
      ],
      "text/plain": [
       "-0.02*x30*(1 - x11)"
      ]
     },
     "metadata": {},
     "output_type": "display_data"
    },
    {
     "data": {
      "text/latex": [
       "$\\displaystyle 0.66 x_{30} \\left(1 - x_{12}\\right)$"
      ],
      "text/plain": [
       "0.66*x30*(1 - x12)"
      ]
     },
     "metadata": {},
     "output_type": "display_data"
    },
    {
     "data": {
      "text/latex": [
       "$\\displaystyle - 0.53 x_{30} \\left(1 - x_{13}\\right)$"
      ],
      "text/plain": [
       "-0.53*x30*(1 - x13)"
      ]
     },
     "metadata": {},
     "output_type": "display_data"
    },
    {
     "data": {
      "text/latex": [
       "$\\displaystyle 0.5 x_{30} \\left(1 - x_{14}\\right)$"
      ],
      "text/plain": [
       "0.5*x30*(1 - x14)"
      ]
     },
     "metadata": {},
     "output_type": "display_data"
    },
    {
     "data": {
      "text/latex": [
       "$\\displaystyle 0.29 x_{30} \\left(1 - x_{15}\\right)$"
      ],
      "text/plain": [
       "0.29*x30*(1 - x15)"
      ]
     },
     "metadata": {},
     "output_type": "display_data"
    },
    {
     "data": {
      "text/latex": [
       "$\\displaystyle - 0.54 x_{30} \\left(1 - x_{16}\\right)$"
      ],
      "text/plain": [
       "-0.54*x30*(1 - x16)"
      ]
     },
     "metadata": {},
     "output_type": "display_data"
    },
    {
     "data": {
      "text/latex": [
       "$\\displaystyle - 0.42 x_{30} \\left(1 - x_{17}\\right)$"
      ],
      "text/plain": [
       "-0.42*x30*(1 - x17)"
      ]
     },
     "metadata": {},
     "output_type": "display_data"
    },
    {
     "data": {
      "text/latex": [
       "$\\displaystyle - 0.91 x_{30} \\left(1 - x_{18}\\right)$"
      ],
      "text/plain": [
       "-0.91*x30*(1 - x18)"
      ]
     },
     "metadata": {},
     "output_type": "display_data"
    },
    {
     "data": {
      "text/latex": [
       "$\\displaystyle 0.64 x_{30} \\left(1 - x_{19}\\right)$"
      ],
      "text/plain": [
       "0.64*x30*(1 - x19)"
      ]
     },
     "metadata": {},
     "output_type": "display_data"
    },
    {
     "data": {
      "text/latex": [
       "$\\displaystyle 0.1 x_{30} \\left(1 - x_{20}\\right)$"
      ],
      "text/plain": [
       "0.1*x30*(1 - x20)"
      ]
     },
     "metadata": {},
     "output_type": "display_data"
    },
    {
     "data": {
      "text/latex": [
       "$\\displaystyle - 0.15 x_{30} \\left(1 - x_{21}\\right)$"
      ],
      "text/plain": [
       "-0.15*x30*(1 - x21)"
      ]
     },
     "metadata": {},
     "output_type": "display_data"
    },
    {
     "data": {
      "text/latex": [
       "$\\displaystyle - 0.98 x_{30} \\left(1 - x_{22}\\right)$"
      ],
      "text/plain": [
       "-0.98*x30*(1 - x22)"
      ]
     },
     "metadata": {},
     "output_type": "display_data"
    },
    {
     "data": {
      "text/latex": [
       "$\\displaystyle 0.34 x_{30} \\left(1 - x_{23}\\right)$"
      ],
      "text/plain": [
       "0.34*x30*(1 - x23)"
      ]
     },
     "metadata": {},
     "output_type": "display_data"
    },
    {
     "data": {
      "text/latex": [
       "$\\displaystyle - 0.34 x_{30} \\left(1 - x_{24}\\right)$"
      ],
      "text/plain": [
       "-0.34*x30*(1 - x24)"
      ]
     },
     "metadata": {},
     "output_type": "display_data"
    },
    {
     "data": {
      "text/latex": [
       "$\\displaystyle - 0.74 x_{30} \\left(1 - x_{25}\\right)$"
      ],
      "text/plain": [
       "-0.74*x30*(1 - x25)"
      ]
     },
     "metadata": {},
     "output_type": "display_data"
    },
    {
     "data": {
      "text/latex": [
       "$\\displaystyle 0.21 x_{30} \\left(1 - x_{26}\\right)$"
      ],
      "text/plain": [
       "0.21*x30*(1 - x26)"
      ]
     },
     "metadata": {},
     "output_type": "display_data"
    },
    {
     "data": {
      "text/latex": [
       "$\\displaystyle 0.05 x_{30} \\left(1 - x_{27}\\right)$"
      ],
      "text/plain": [
       "0.05*x30*(1 - x27)"
      ]
     },
     "metadata": {},
     "output_type": "display_data"
    },
    {
     "data": {
      "text/latex": [
       "$\\displaystyle 0.02 x_{30} \\left(1 - x_{28}\\right)$"
      ],
      "text/plain": [
       "0.02*x30*(1 - x28)"
      ]
     },
     "metadata": {},
     "output_type": "display_data"
    },
    {
     "data": {
      "text/latex": [
       "$\\displaystyle - 0.2 x_{30} \\left(1 - x_{29}\\right)$"
      ],
      "text/plain": [
       "-0.2*x30*(1 - x29)"
      ]
     },
     "metadata": {},
     "output_type": "display_data"
    },
    {
     "data": {
      "text/latex": [
       "$\\displaystyle 0$"
      ],
      "text/plain": [
       "0"
      ]
     },
     "metadata": {},
     "output_type": "display_data"
    },
    {
     "data": {
      "text/latex": [
       "$\\displaystyle 0.89 x_{1} \\left(1 - x_{10}\\right) - 0.55 x_{1} \\left(1 - x_{11}\\right) + 0.38 x_{1} \\left(1 - x_{12}\\right) + 0.09 x_{1} \\left(1 - x_{13}\\right) - 0.27 x_{1} \\left(1 - x_{14}\\right) - 0.02 x_{1} \\left(1 - x_{15}\\right) - 0.35 x_{1} \\left(1 - x_{16}\\right) - 0.19 x_{1} \\left(1 - x_{17}\\right) - 0.19 x_{1} \\left(1 - x_{18}\\right) + 0.59 x_{1} \\left(1 - x_{19}\\right) + 0.87 x_{1} \\left(1 - x_{2}\\right) + 0.61 x_{1} \\left(1 - x_{20}\\right) - 0.31 x_{1} \\left(1 - x_{21}\\right) - 0.53 x_{1} \\left(1 - x_{22}\\right) + 0.02 x_{1} \\left(1 - x_{23}\\right) + 0.39 x_{1} \\left(1 - x_{24}\\right) + 0.34 x_{1} \\left(1 - x_{25}\\right) + 0.22 x_{1} \\left(1 - x_{26}\\right) + 0.75 x_{1} \\left(1 - x_{27}\\right) + 0.31 x_{1} \\left(1 - x_{28}\\right) + 0.39 x_{1} \\left(1 - x_{29}\\right) - 0.28 x_{1} \\left(1 - x_{3}\\right) + 0.9 x_{1} \\left(1 - x_{30}\\right) - 0.28 x_{1} \\left(1 - x_{4}\\right) + 0.43 x_{1} \\left(1 - x_{5}\\right) - 0.83 x_{1} \\left(1 - x_{6}\\right) - 0.72 x_{1} \\left(1 - x_{7}\\right) - 0.73 x_{1} \\left(1 - x_{8}\\right) + 0.42 x_{1} \\left(1 - x_{9}\\right) + 0.89 x_{10} \\left(1 - x_{1}\\right) + 0.72 x_{10} \\left(1 - x_{11}\\right) + 0.57 x_{10} \\left(1 - x_{12}\\right) + 0.96 x_{10} \\left(1 - x_{13}\\right) + 0.54 x_{10} \\left(1 - x_{14}\\right) + 0.14 x_{10} \\left(1 - x_{15}\\right) + 0.2 x_{10} \\left(1 - x_{16}\\right) + 0.74 x_{10} \\left(1 - x_{17}\\right) + 0.21 x_{10} \\left(1 - x_{18}\\right) - 0.27 x_{10} \\left(1 - x_{19}\\right) + 0.17 x_{10} \\left(1 - x_{2}\\right) + 0.85 x_{10} \\left(1 - x_{20}\\right) + 0.75 x_{10} \\left(1 - x_{21}\\right) + 0.93 x_{10} \\left(1 - x_{22}\\right) - 0.41 x_{10} \\left(1 - x_{23}\\right) - 0.85 x_{10} \\left(1 - x_{24}\\right) + 0.05 x_{10} \\left(1 - x_{25}\\right) - 0.33 x_{10} \\left(1 - x_{26}\\right) + 0.98 x_{10} \\left(1 - x_{27}\\right) + 0.16 x_{10} \\left(1 - x_{28}\\right) - 0.81 x_{10} \\left(1 - x_{29}\\right) - 0.5 x_{10} \\left(1 - x_{3}\\right) + 0.48 x_{10} \\left(1 - x_{30}\\right) - 0.09 x_{10} \\left(1 - x_{4}\\right) + 0.7 x_{10} \\left(1 - x_{5}\\right) - 0.95 x_{10} \\left(1 - x_{6}\\right) + 0.87 x_{10} \\left(1 - x_{7}\\right) - 0.36 x_{10} \\left(1 - x_{8}\\right) + 0.28 x_{10} \\left(1 - x_{9}\\right) - 0.55 x_{11} \\left(1 - x_{1}\\right) + 0.72 x_{11} \\left(1 - x_{10}\\right) + 0.16 x_{11} \\left(1 - x_{12}\\right) - 0.25 x_{11} \\left(1 - x_{13}\\right) - 0.26 x_{11} \\left(1 - x_{14}\\right) - 0.92 x_{11} \\left(1 - x_{15}\\right) - 0.95 x_{11} \\left(1 - x_{16}\\right) + 0.01 x_{11} \\left(1 - x_{17}\\right) + 0.87 x_{11} \\left(1 - x_{18}\\right) + 0.78 x_{11} \\left(1 - x_{19}\\right) + 0.98 x_{11} \\left(1 - x_{2}\\right) + 0.17 x_{11} \\left(1 - x_{20}\\right) + 0.63 x_{11} \\left(1 - x_{21}\\right) - 0.26 x_{11} \\left(1 - x_{22}\\right) - 0.68 x_{11} \\left(1 - x_{23}\\right) - 0.32 x_{11} \\left(1 - x_{24}\\right) + 0.37 x_{11} \\left(1 - x_{25}\\right) + 0.42 x_{11} \\left(1 - x_{26}\\right) - 0.68 x_{11} \\left(1 - x_{27}\\right) + 0.26 x_{11} \\left(1 - x_{28}\\right) + 0.24 x_{11} \\left(1 - x_{29}\\right) + 0.14 x_{11} \\left(1 - x_{3}\\right) - 0.02 x_{11} \\left(1 - x_{30}\\right) - 1.0 x_{11} \\left(1 - x_{4}\\right) + 0.44 x_{11} \\left(1 - x_{5}\\right) - 0.67 x_{11} \\left(1 - x_{6}\\right) + 0.89 x_{11} \\left(1 - x_{7}\\right) + 0.61 x_{11} \\left(1 - x_{8}\\right) - 0.01 x_{11} \\left(1 - x_{9}\\right) + 0.38 x_{12} \\left(1 - x_{1}\\right) + 0.57 x_{12} \\left(1 - x_{10}\\right) + 0.16 x_{12} \\left(1 - x_{11}\\right) + 0.36 x_{12} \\left(1 - x_{13}\\right) - 0.49 x_{12} \\left(1 - x_{14}\\right) + 0.64 x_{12} \\left(1 - x_{15}\\right) + 0.5 x_{12} \\left(1 - x_{16}\\right) + 0.08 x_{12} \\left(1 - x_{17}\\right) - 0.16 x_{12} \\left(1 - x_{18}\\right) - 0.46 x_{12} \\left(1 - x_{19}\\right) - 0.85 x_{12} \\left(1 - x_{2}\\right) - 0.23 x_{12} \\left(1 - x_{20}\\right) + 0.53 x_{12} \\left(1 - x_{21}\\right) + 0.94 x_{12} \\left(1 - x_{22}\\right) + 0.05 x_{12} \\left(1 - x_{23}\\right) + 0.69 x_{12} \\left(1 - x_{24}\\right) - 0.49 x_{12} \\left(1 - x_{25}\\right) - 0.74 x_{12} \\left(1 - x_{26}\\right) - 0.36 x_{12} \\left(1 - x_{27}\\right) - 0.63 x_{12} \\left(1 - x_{28}\\right) + 0.8 x_{12} \\left(1 - x_{29}\\right) - 0.2 x_{12} \\left(1 - x_{3}\\right) + 0.66 x_{12} \\left(1 - x_{30}\\right) - 0.71 x_{12} \\left(1 - x_{4}\\right) - 0.24 x_{12} \\left(1 - x_{5}\\right) - 0.09 x_{12} \\left(1 - x_{6}\\right) - 0.38 x_{12} \\left(1 - x_{7}\\right) + 0.69 x_{12} \\left(1 - x_{8}\\right) - 0.58 x_{12} \\left(1 - x_{9}\\right) + 0.09 x_{13} \\left(1 - x_{1}\\right) + 0.96 x_{13} \\left(1 - x_{10}\\right) - 0.25 x_{13} \\left(1 - x_{11}\\right) + 0.36 x_{13} \\left(1 - x_{12}\\right) - 0.36 x_{13} \\left(1 - x_{14}\\right) + 0.67 x_{13} \\left(1 - x_{15}\\right) - 0.27 x_{13} \\left(1 - x_{16}\\right) - 0.52 x_{13} \\left(1 - x_{17}\\right) - 0.5 x_{13} \\left(1 - x_{18}\\right) - 0.45 x_{13} \\left(1 - x_{19}\\right) + 0.34 x_{13} \\left(1 - x_{2}\\right) + 0.64 x_{13} \\left(1 - x_{20}\\right) - 0.47 x_{13} \\left(1 - x_{21}\\right) - 0.45 x_{13} \\left(1 - x_{22}\\right) + 0.53 x_{13} \\left(1 - x_{23}\\right) - 0.39 x_{13} \\left(1 - x_{24}\\right) + 0.22 x_{13} \\left(1 - x_{25}\\right) - 0.32 x_{13} \\left(1 - x_{26}\\right) + 0.85 x_{13} \\left(1 - x_{27}\\right) - 0.46 x_{13} \\left(1 - x_{28}\\right) - 0.24 x_{13} \\left(1 - x_{29}\\right) + 0.79 x_{13} \\left(1 - x_{3}\\right) - 0.53 x_{13} \\left(1 - x_{30}\\right) + 0.85 x_{13} \\left(1 - x_{4}\\right) + 0.35 x_{13} \\left(1 - x_{5}\\right) - 0.27 x_{13} \\left(1 - x_{6}\\right) - 0.71 x_{13} \\left(1 - x_{7}\\right) - 0.4 x_{13} \\left(1 - x_{8}\\right) - 0.41 x_{13} \\left(1 - x_{9}\\right) - 0.27 x_{14} \\left(1 - x_{1}\\right) + 0.54 x_{14} \\left(1 - x_{10}\\right) - 0.26 x_{14} \\left(1 - x_{11}\\right) - 0.49 x_{14} \\left(1 - x_{12}\\right) - 0.36 x_{14} \\left(1 - x_{13}\\right) + 0.68 x_{14} \\left(1 - x_{15}\\right) - 0.31 x_{14} \\left(1 - x_{16}\\right) - 0.94 x_{14} \\left(1 - x_{17}\\right) - 0.88 x_{14} \\left(1 - x_{18}\\right) + 0.85 x_{14} \\left(1 - x_{19}\\right) - 0.43 x_{14} \\left(1 - x_{2}\\right) + 0.06 x_{14} \\left(1 - x_{20}\\right) + 0.53 x_{14} \\left(1 - x_{21}\\right) - 0.45 x_{14} \\left(1 - x_{22}\\right) - 0.51 x_{14} \\left(1 - x_{23}\\right) - 0.36 x_{14} \\left(1 - x_{24}\\right) - 0.66 x_{14} \\left(1 - x_{25}\\right) - 0.96 x_{14} \\left(1 - x_{26}\\right) - 0.85 x_{14} \\left(1 - x_{27}\\right) + 0.95 x_{14} \\left(1 - x_{28}\\right) + 0.97 x_{14} \\left(1 - x_{29}\\right) - 0.72 x_{14} \\left(1 - x_{3}\\right) + 0.5 x_{14} \\left(1 - x_{30}\\right) + 0.99 x_{14} \\left(1 - x_{4}\\right) - 0.01 x_{14} \\left(1 - x_{5}\\right) - 0.89 x_{14} \\left(1 - x_{6}\\right) + 0.03 x_{14} \\left(1 - x_{7}\\right) - 0.54 x_{14} \\left(1 - x_{8}\\right) + 0.19 x_{14} \\left(1 - x_{9}\\right) - 0.02 x_{15} \\left(1 - x_{1}\\right) + 0.14 x_{15} \\left(1 - x_{10}\\right) - 0.92 x_{15} \\left(1 - x_{11}\\right) + 0.64 x_{15} \\left(1 - x_{12}\\right) + 0.67 x_{15} \\left(1 - x_{13}\\right) + 0.68 x_{15} \\left(1 - x_{14}\\right) - 0.19 x_{15} \\left(1 - x_{16}\\right) - 0.42 x_{15} \\left(1 - x_{17}\\right) - 0.54 x_{15} \\left(1 - x_{18}\\right) + 0.34 x_{15} \\left(1 - x_{19}\\right) + 0.83 x_{15} \\left(1 - x_{2}\\right) + 0.66 x_{15} \\left(1 - x_{20}\\right) + 0.9 x_{15} \\left(1 - x_{21}\\right) - 0.8 x_{15} \\left(1 - x_{22}\\right) + 0.45 x_{15} \\left(1 - x_{23}\\right) + 0.55 x_{15} \\left(1 - x_{24}\\right) - 0.09 x_{15} \\left(1 - x_{25}\\right) - 0.09 x_{15} \\left(1 - x_{26}\\right) + 0.83 x_{15} \\left(1 - x_{27}\\right) - 0.59 x_{15} \\left(1 - x_{28}\\right) - 0.54 x_{15} \\left(1 - x_{29}\\right) - 0.55 x_{15} \\left(1 - x_{3}\\right) + 0.29 x_{15} \\left(1 - x_{30}\\right) + 0.4 x_{15} \\left(1 - x_{4}\\right) + 0.59 x_{15} \\left(1 - x_{5}\\right) + 0.93 x_{15} \\left(1 - x_{6}\\right) - 0.74 x_{15} \\left(1 - x_{7}\\right) + 0.38 x_{15} \\left(1 - x_{8}\\right) - 0.58 x_{15} \\left(1 - x_{9}\\right) - 0.35 x_{16} \\left(1 - x_{1}\\right) + 0.2 x_{16} \\left(1 - x_{10}\\right) - 0.95 x_{16} \\left(1 - x_{11}\\right) + 0.5 x_{16} \\left(1 - x_{12}\\right) - 0.27 x_{16} \\left(1 - x_{13}\\right) - 0.31 x_{16} \\left(1 - x_{14}\\right) - 0.19 x_{16} \\left(1 - x_{15}\\right) - 0.27 x_{16} \\left(1 - x_{17}\\right) - 0.15 x_{16} \\left(1 - x_{18}\\right) + 0.03 x_{16} \\left(1 - x_{19}\\right) + 0.77 x_{16} \\left(1 - x_{2}\\right) - 0.23 x_{16} \\left(1 - x_{20}\\right) - 0.87 x_{16} \\left(1 - x_{21}\\right) - 0.8 x_{16} \\left(1 - x_{22}\\right) + 0.61 x_{16} \\left(1 - x_{23}\\right) + 0.12 x_{16} \\left(1 - x_{24}\\right) + 0.22 x_{16} \\left(1 - x_{25}\\right) - 0.16 x_{16} \\left(1 - x_{26}\\right) - 0.17 x_{16} \\left(1 - x_{27}\\right) - 0.63 x_{16} \\left(1 - x_{28}\\right) - 0.45 x_{16} \\left(1 - x_{29}\\right) - 0.01 x_{16} \\left(1 - x_{3}\\right) - 0.54 x_{16} \\left(1 - x_{30}\\right) + 0.31 x_{16} \\left(1 - x_{4}\\right) - 0.42 x_{16} \\left(1 - x_{5}\\right) + 0.22 x_{16} \\left(1 - x_{6}\\right) - 0.91 x_{16} \\left(1 - x_{7}\\right) + 0.34 x_{16} \\left(1 - x_{8}\\right) + 0.18 x_{16} \\left(1 - x_{9}\\right) - 0.19 x_{17} \\left(1 - x_{1}\\right) + 0.74 x_{17} \\left(1 - x_{10}\\right) + 0.01 x_{17} \\left(1 - x_{11}\\right) + 0.08 x_{17} \\left(1 - x_{12}\\right) - 0.52 x_{17} \\left(1 - x_{13}\\right) - 0.94 x_{17} \\left(1 - x_{14}\\right) - 0.42 x_{17} \\left(1 - x_{15}\\right) - 0.27 x_{17} \\left(1 - x_{16}\\right) - 0.35 x_{17} \\left(1 - x_{18}\\right) + 0.27 x_{17} \\left(1 - x_{19}\\right) + 0.57 x_{17} \\left(1 - x_{2}\\right) + 0.41 x_{17} \\left(1 - x_{20}\\right) + 0.62 x_{17} \\left(1 - x_{21}\\right) + 0.17 x_{17} \\left(1 - x_{22}\\right) + 0.69 x_{17} \\left(1 - x_{23}\\right) - 0.27 x_{17} \\left(1 - x_{24}\\right) - 0.04 x_{17} \\left(1 - x_{25}\\right) + 0.19 x_{17} \\left(1 - x_{26}\\right) + 0.04 x_{17} \\left(1 - x_{27}\\right) + 0.01 x_{17} \\left(1 - x_{28}\\right) - 0.32 x_{17} \\left(1 - x_{29}\\right) + 0.9 x_{17} \\left(1 - x_{3}\\right) - 0.42 x_{17} \\left(1 - x_{30}\\right) - 0.6 x_{17} \\left(1 - x_{4}\\right) - 0.49 x_{17} \\left(1 - x_{5}\\right) - 0.21 x_{17} \\left(1 - x_{6}\\right) - 0.34 x_{17} \\left(1 - x_{7}\\right) - 0.64 x_{17} \\left(1 - x_{8}\\right) + 0.65 x_{17} \\left(1 - x_{9}\\right) - 0.19 x_{18} \\left(1 - x_{1}\\right) + 0.21 x_{18} \\left(1 - x_{10}\\right) + 0.87 x_{18} \\left(1 - x_{11}\\right) - 0.16 x_{18} \\left(1 - x_{12}\\right) - 0.5 x_{18} \\left(1 - x_{13}\\right) - 0.88 x_{18} \\left(1 - x_{14}\\right) - 0.54 x_{18} \\left(1 - x_{15}\\right) - 0.15 x_{18} \\left(1 - x_{16}\\right) - 0.35 x_{18} \\left(1 - x_{17}\\right) - 0.74 x_{18} \\left(1 - x_{19}\\right) - 0.03 x_{18} \\left(1 - x_{2}\\right) - 0.65 x_{18} \\left(1 - x_{20}\\right) + 0.95 x_{18} \\left(1 - x_{21}\\right) - 0.94 x_{18} \\left(1 - x_{22}\\right) + 0.26 x_{18} \\left(1 - x_{23}\\right) - 0.16 x_{18} \\left(1 - x_{24}\\right) - 0.44 x_{18} \\left(1 - x_{25}\\right) - 0.8 x_{18} \\left(1 - x_{26}\\right) + 0.93 x_{18} \\left(1 - x_{27}\\right) + 0.6 x_{18} \\left(1 - x_{28}\\right) + 0.71 x_{18} \\left(1 - x_{29}\\right) - 0.88 x_{18} \\left(1 - x_{3}\\right) - 0.91 x_{18} \\left(1 - x_{30}\\right) - 0.46 x_{18} \\left(1 - x_{4}\\right) - 0.49 x_{18} \\left(1 - x_{5}\\right) + 0.34 x_{18} \\left(1 - x_{6}\\right) - 0.23 x_{18} \\left(1 - x_{7}\\right) + 0.94 x_{18} \\left(1 - x_{8}\\right) + 0.5 x_{18} \\left(1 - x_{9}\\right) + 0.59 x_{19} \\left(1 - x_{1}\\right) - 0.27 x_{19} \\left(1 - x_{10}\\right) + 0.78 x_{19} \\left(1 - x_{11}\\right) - 0.46 x_{19} \\left(1 - x_{12}\\right) - 0.45 x_{19} \\left(1 - x_{13}\\right) + 0.85 x_{19} \\left(1 - x_{14}\\right) + 0.34 x_{19} \\left(1 - x_{15}\\right) + 0.03 x_{19} \\left(1 - x_{16}\\right) + 0.27 x_{19} \\left(1 - x_{17}\\right) - 0.74 x_{19} \\left(1 - x_{18}\\right) + 0.06 x_{19} \\left(1 - x_{2}\\right) + 0.32 x_{19} \\left(1 - x_{20}\\right) - 0.96 x_{19} \\left(1 - x_{21}\\right) + 0.92 x_{19} \\left(1 - x_{22}\\right) + 0.06 x_{19} \\left(1 - x_{23}\\right) - 0.79 x_{19} \\left(1 - x_{24}\\right) + 0.59 x_{19} \\left(1 - x_{25}\\right) - 0.97 x_{19} \\left(1 - x_{26}\\right) - 0.36 x_{19} \\left(1 - x_{27}\\right) - 0.93 x_{19} \\left(1 - x_{28}\\right) - 0.48 x_{19} \\left(1 - x_{29}\\right) - 0.37 x_{19} \\left(1 - x_{3}\\right) + 0.64 x_{19} \\left(1 - x_{30}\\right) - 0.38 x_{19} \\left(1 - x_{4}\\right) - 0.63 x_{19} \\left(1 - x_{5}\\right) + 0.26 x_{19} \\left(1 - x_{6}\\right) + 0.94 x_{19} \\left(1 - x_{7}\\right) + 0.73 x_{19} \\left(1 - x_{8}\\right) - 0.25 x_{19} \\left(1 - x_{9}\\right) + 0.87 x_{2} \\left(1 - x_{1}\\right) + 0.17 x_{2} \\left(1 - x_{10}\\right) + 0.98 x_{2} \\left(1 - x_{11}\\right) - 0.85 x_{2} \\left(1 - x_{12}\\right) + 0.34 x_{2} \\left(1 - x_{13}\\right) - 0.43 x_{2} \\left(1 - x_{14}\\right) + 0.83 x_{2} \\left(1 - x_{15}\\right) + 0.77 x_{2} \\left(1 - x_{16}\\right) + 0.57 x_{2} \\left(1 - x_{17}\\right) - 0.03 x_{2} \\left(1 - x_{18}\\right) + 0.06 x_{2} \\left(1 - x_{19}\\right) + 0.87 x_{2} \\left(1 - x_{20}\\right) + 0.83 x_{2} \\left(1 - x_{21}\\right) + 0.82 x_{2} \\left(1 - x_{22}\\right) + 0.69 x_{2} \\left(1 - x_{23}\\right) - 0.29 x_{2} \\left(1 - x_{24}\\right) - 0.33 x_{2} \\left(1 - x_{25}\\right) - 0.01 x_{2} \\left(1 - x_{26}\\right) - 0.77 x_{2} \\left(1 - x_{27}\\right) - 0.01 x_{2} \\left(1 - x_{28}\\right) - 0.95 x_{2} \\left(1 - x_{29}\\right) - 0.02 x_{2} \\left(1 - x_{3}\\right) + 0.14 x_{2} \\left(1 - x_{30}\\right) + 0.5 x_{2} \\left(1 - x_{4}\\right) + 0.22 x_{2} \\left(1 - x_{5}\\right) + 0.78 x_{2} \\left(1 - x_{6}\\right) + 0.82 x_{2} \\left(1 - x_{7}\\right) + 0.53 x_{2} \\left(1 - x_{8}\\right) + 0.53 x_{2} \\left(1 - x_{9}\\right) + 0.61 x_{20} \\left(1 - x_{1}\\right) + 0.85 x_{20} \\left(1 - x_{10}\\right) + 0.17 x_{20} \\left(1 - x_{11}\\right) - 0.23 x_{20} \\left(1 - x_{12}\\right) + 0.64 x_{20} \\left(1 - x_{13}\\right) + 0.06 x_{20} \\left(1 - x_{14}\\right) + 0.66 x_{20} \\left(1 - x_{15}\\right) - 0.23 x_{20} \\left(1 - x_{16}\\right) + 0.41 x_{20} \\left(1 - x_{17}\\right) - 0.65 x_{20} \\left(1 - x_{18}\\right) + 0.32 x_{20} \\left(1 - x_{19}\\right) + 0.87 x_{20} \\left(1 - x_{2}\\right) - 0.87 x_{20} \\left(1 - x_{21}\\right) + 0.36 x_{20} \\left(1 - x_{22}\\right) - 0.04 x_{20} \\left(1 - x_{23}\\right) - 0.26 x_{20} \\left(1 - x_{24}\\right) + 0.45 x_{20} \\left(1 - x_{25}\\right) + 0.22 x_{20} \\left(1 - x_{26}\\right) - 0.43 x_{20} \\left(1 - x_{27}\\right) - 0.86 x_{20} \\left(1 - x_{28}\\right) - 0.22 x_{20} \\left(1 - x_{29}\\right) + 0.68 x_{20} \\left(1 - x_{3}\\right) + 0.1 x_{20} \\left(1 - x_{30}\\right) - 0.71 x_{20} \\left(1 - x_{4}\\right) + 0.64 x_{20} \\left(1 - x_{5}\\right) + 0.41 x_{20} \\left(1 - x_{6}\\right) + 0.48 x_{20} \\left(1 - x_{7}\\right) - 0.21 x_{20} \\left(1 - x_{8}\\right) - 0.78 x_{20} \\left(1 - x_{9}\\right) - 0.31 x_{21} \\left(1 - x_{1}\\right) + 0.75 x_{21} \\left(1 - x_{10}\\right) + 0.63 x_{21} \\left(1 - x_{11}\\right) + 0.53 x_{21} \\left(1 - x_{12}\\right) - 0.47 x_{21} \\left(1 - x_{13}\\right) + 0.53 x_{21} \\left(1 - x_{14}\\right) + 0.9 x_{21} \\left(1 - x_{15}\\right) - 0.87 x_{21} \\left(1 - x_{16}\\right) + 0.62 x_{21} \\left(1 - x_{17}\\right) + 0.95 x_{21} \\left(1 - x_{18}\\right) - 0.96 x_{21} \\left(1 - x_{19}\\right) + 0.83 x_{21} \\left(1 - x_{2}\\right) - 0.87 x_{21} \\left(1 - x_{20}\\right) - 0.14 x_{21} \\left(1 - x_{22}\\right) - 0.05 x_{21} \\left(1 - x_{23}\\right) + 0.86 x_{21} \\left(1 - x_{24}\\right) + 0.09 x_{21} \\left(1 - x_{25}\\right) + 0.12 x_{21} \\left(1 - x_{26}\\right) + 0.41 x_{21} \\left(1 - x_{27}\\right) + 0.4 x_{21} \\left(1 - x_{28}\\right) + 0.45 x_{21} \\left(1 - x_{29}\\right) - 0.94 x_{21} \\left(1 - x_{3}\\right) - 0.15 x_{21} \\left(1 - x_{30}\\right) - 0.86 x_{21} \\left(1 - x_{4}\\right) + 0.74 x_{21} \\left(1 - x_{5}\\right) - 0.15 x_{21} \\left(1 - x_{6}\\right) - 0.41 x_{21} \\left(1 - x_{7}\\right) + 0.5 x_{21} \\left(1 - x_{8}\\right) + 0.64 x_{21} \\left(1 - x_{9}\\right) - 0.53 x_{22} \\left(1 - x_{1}\\right) + 0.93 x_{22} \\left(1 - x_{10}\\right) - 0.26 x_{22} \\left(1 - x_{11}\\right) + 0.94 x_{22} \\left(1 - x_{12}\\right) - 0.45 x_{22} \\left(1 - x_{13}\\right) - 0.45 x_{22} \\left(1 - x_{14}\\right) - 0.8 x_{22} \\left(1 - x_{15}\\right) - 0.8 x_{22} \\left(1 - x_{16}\\right) + 0.17 x_{22} \\left(1 - x_{17}\\right) - 0.94 x_{22} \\left(1 - x_{18}\\right) + 0.92 x_{22} \\left(1 - x_{19}\\right) + 0.82 x_{22} \\left(1 - x_{2}\\right) + 0.36 x_{22} \\left(1 - x_{20}\\right) - 0.14 x_{22} \\left(1 - x_{21}\\right) + 0.37 x_{22} \\left(1 - x_{23}\\right) - 0.48 x_{22} \\left(1 - x_{24}\\right) - 0.99 x_{22} \\left(1 - x_{25}\\right) - 0.78 x_{22} \\left(1 - x_{26}\\right) - 0.04 x_{22} \\left(1 - x_{27}\\right) - 0.11 x_{22} \\left(1 - x_{28}\\right) - 0.08 x_{22} \\left(1 - x_{29}\\right) + 0.61 x_{22} \\left(1 - x_{3}\\right) - 0.98 x_{22} \\left(1 - x_{30}\\right) + 0.89 x_{22} \\left(1 - x_{4}\\right) - 0.64 x_{22} \\left(1 - x_{5}\\right) - 0.31 x_{22} \\left(1 - x_{6}\\right) - 0.71 x_{22} \\left(1 - x_{7}\\right) - 0.89 x_{22} \\left(1 - x_{8}\\right) + 0.53 x_{22} \\left(1 - x_{9}\\right) + 0.02 x_{23} \\left(1 - x_{1}\\right) - 0.41 x_{23} \\left(1 - x_{10}\\right) - 0.68 x_{23} \\left(1 - x_{11}\\right) + 0.05 x_{23} \\left(1 - x_{12}\\right) + 0.53 x_{23} \\left(1 - x_{13}\\right) - 0.51 x_{23} \\left(1 - x_{14}\\right) + 0.45 x_{23} \\left(1 - x_{15}\\right) + 0.61 x_{23} \\left(1 - x_{16}\\right) + 0.69 x_{23} \\left(1 - x_{17}\\right) + 0.26 x_{23} \\left(1 - x_{18}\\right) + 0.06 x_{23} \\left(1 - x_{19}\\right) + 0.69 x_{23} \\left(1 - x_{2}\\right) - 0.04 x_{23} \\left(1 - x_{20}\\right) - 0.05 x_{23} \\left(1 - x_{21}\\right) + 0.37 x_{23} \\left(1 - x_{22}\\right) + 0.81 x_{23} \\left(1 - x_{24}\\right) + 0.12 x_{23} \\left(1 - x_{25}\\right) + 0.7 x_{23} \\left(1 - x_{26}\\right) + 0.87 x_{23} \\left(1 - x_{27}\\right) + 0.1 x_{23} \\left(1 - x_{28}\\right) + 0.95 x_{23} \\left(1 - x_{29}\\right) + 0.8 x_{23} \\left(1 - x_{3}\\right) + 0.34 x_{23} \\left(1 - x_{30}\\right) + 0.5 x_{23} \\left(1 - x_{4}\\right) + 0.22 x_{23} \\left(1 - x_{5}\\right) - 0.92 x_{23} \\left(1 - x_{6}\\right) + 0.33 x_{23} \\left(1 - x_{7}\\right) + 0.5 x_{23} \\left(1 - x_{8}\\right) + 0.26 x_{23} \\left(1 - x_{9}\\right) + 0.39 x_{24} \\left(1 - x_{1}\\right) - 0.85 x_{24} \\left(1 - x_{10}\\right) - 0.32 x_{24} \\left(1 - x_{11}\\right) + 0.69 x_{24} \\left(1 - x_{12}\\right) - 0.39 x_{24} \\left(1 - x_{13}\\right) - 0.36 x_{24} \\left(1 - x_{14}\\right) + 0.55 x_{24} \\left(1 - x_{15}\\right) + 0.12 x_{24} \\left(1 - x_{16}\\right) - 0.27 x_{24} \\left(1 - x_{17}\\right) - 0.16 x_{24} \\left(1 - x_{18}\\right) - 0.79 x_{24} \\left(1 - x_{19}\\right) - 0.29 x_{24} \\left(1 - x_{2}\\right) - 0.26 x_{24} \\left(1 - x_{20}\\right) + 0.86 x_{24} \\left(1 - x_{21}\\right) - 0.48 x_{24} \\left(1 - x_{22}\\right) + 0.81 x_{24} \\left(1 - x_{23}\\right) + 0.42 x_{24} \\left(1 - x_{25}\\right) - 0.09 x_{24} \\left(1 - x_{26}\\right) + 0.13 x_{24} \\left(1 - x_{27}\\right) - 0.02 x_{24} \\left(1 - x_{28}\\right) - 0.27 x_{24} \\left(1 - x_{29}\\right) + 0.01 x_{24} \\left(1 - x_{3}\\right) - 0.34 x_{24} \\left(1 - x_{30}\\right) - 0.36 x_{24} \\left(1 - x_{4}\\right) - 0.12 x_{24} \\left(1 - x_{5}\\right) + 0.9 x_{24} \\left(1 - x_{6}\\right) - 0.49 x_{24} \\left(1 - x_{7}\\right) - 0.66 x_{24} \\left(1 - x_{8}\\right) + 0.32 x_{24} \\left(1 - x_{9}\\right) + 0.34 x_{25} \\left(1 - x_{1}\\right) + 0.05 x_{25} \\left(1 - x_{10}\\right) + 0.37 x_{25} \\left(1 - x_{11}\\right) - 0.49 x_{25} \\left(1 - x_{12}\\right) + 0.22 x_{25} \\left(1 - x_{13}\\right) - 0.66 x_{25} \\left(1 - x_{14}\\right) - 0.09 x_{25} \\left(1 - x_{15}\\right) + 0.22 x_{25} \\left(1 - x_{16}\\right) - 0.04 x_{25} \\left(1 - x_{17}\\right) - 0.44 x_{25} \\left(1 - x_{18}\\right) + 0.59 x_{25} \\left(1 - x_{19}\\right) - 0.33 x_{25} \\left(1 - x_{2}\\right) + 0.45 x_{25} \\left(1 - x_{20}\\right) + 0.09 x_{25} \\left(1 - x_{21}\\right) - 0.99 x_{25} \\left(1 - x_{22}\\right) + 0.12 x_{25} \\left(1 - x_{23}\\right) + 0.42 x_{25} \\left(1 - x_{24}\\right) + 0.41 x_{25} \\left(1 - x_{26}\\right) + 0.06 x_{25} \\left(1 - x_{27}\\right) - 0.71 x_{25} \\left(1 - x_{28}\\right) + 0.48 x_{25} \\left(1 - x_{29}\\right) + 0.34 x_{25} \\left(1 - x_{3}\\right) - 0.74 x_{25} \\left(1 - x_{30}\\right) + 0.07 x_{25} \\left(1 - x_{4}\\right) - 0.49 x_{25} \\left(1 - x_{5}\\right) + 0.47 x_{25} \\left(1 - x_{6}\\right) + 0.96 x_{25} \\left(1 - x_{7}\\right) + 0.07 x_{25} \\left(1 - x_{8}\\right) + 0.94 x_{25} \\left(1 - x_{9}\\right) + 0.22 x_{26} \\left(1 - x_{1}\\right) - 0.33 x_{26} \\left(1 - x_{10}\\right) + 0.42 x_{26} \\left(1 - x_{11}\\right) - 0.74 x_{26} \\left(1 - x_{12}\\right) - 0.32 x_{26} \\left(1 - x_{13}\\right) - 0.96 x_{26} \\left(1 - x_{14}\\right) - 0.09 x_{26} \\left(1 - x_{15}\\right) - 0.16 x_{26} \\left(1 - x_{16}\\right) + 0.19 x_{26} \\left(1 - x_{17}\\right) - 0.8 x_{26} \\left(1 - x_{18}\\right) - 0.97 x_{26} \\left(1 - x_{19}\\right) - 0.01 x_{26} \\left(1 - x_{2}\\right) + 0.22 x_{26} \\left(1 - x_{20}\\right) + 0.12 x_{26} \\left(1 - x_{21}\\right) - 0.78 x_{26} \\left(1 - x_{22}\\right) + 0.7 x_{26} \\left(1 - x_{23}\\right) - 0.09 x_{26} \\left(1 - x_{24}\\right) + 0.41 x_{26} \\left(1 - x_{25}\\right) - 0.94 x_{26} \\left(1 - x_{27}\\right) + 0.02 x_{26} \\left(1 - x_{28}\\right) + 0.09 x_{26} \\left(1 - x_{29}\\right) + 0.43 x_{26} \\left(1 - x_{3}\\right) + 0.21 x_{26} \\left(1 - x_{30}\\right) - 0.43 x_{26} \\left(1 - x_{4}\\right) - 0.64 x_{26} \\left(1 - x_{6}\\right) - 0.52 x_{26} \\left(1 - x_{7}\\right) - 0.97 x_{26} \\left(1 - x_{8}\\right) + 0.37 x_{26} \\left(1 - x_{9}\\right) + 0.75 x_{27} \\left(1 - x_{1}\\right) + 0.98 x_{27} \\left(1 - x_{10}\\right) - 0.68 x_{27} \\left(1 - x_{11}\\right) - 0.36 x_{27} \\left(1 - x_{12}\\right) + 0.85 x_{27} \\left(1 - x_{13}\\right) - 0.85 x_{27} \\left(1 - x_{14}\\right) + 0.83 x_{27} \\left(1 - x_{15}\\right) - 0.17 x_{27} \\left(1 - x_{16}\\right) + 0.04 x_{27} \\left(1 - x_{17}\\right) + 0.93 x_{27} \\left(1 - x_{18}\\right) - 0.36 x_{27} \\left(1 - x_{19}\\right) - 0.77 x_{27} \\left(1 - x_{2}\\right) - 0.43 x_{27} \\left(1 - x_{20}\\right) + 0.41 x_{27} \\left(1 - x_{21}\\right) - 0.04 x_{27} \\left(1 - x_{22}\\right) + 0.87 x_{27} \\left(1 - x_{23}\\right) + 0.13 x_{27} \\left(1 - x_{24}\\right) + 0.06 x_{27} \\left(1 - x_{25}\\right) - 0.94 x_{27} \\left(1 - x_{26}\\right) - 0.47 x_{27} \\left(1 - x_{28}\\right) - 0.98 x_{27} \\left(1 - x_{29}\\right) + 0.95 x_{27} \\left(1 - x_{3}\\right) + 0.05 x_{27} \\left(1 - x_{30}\\right) - 0.5 x_{27} \\left(1 - x_{4}\\right) + 0.33 x_{27} \\left(1 - x_{5}\\right) - 0.36 x_{27} \\left(1 - x_{6}\\right) - 0.14 x_{27} \\left(1 - x_{7}\\right) + 0.78 x_{27} \\left(1 - x_{8}\\right) + 0.14 x_{27} \\left(1 - x_{9}\\right) + 0.31 x_{28} \\left(1 - x_{1}\\right) + 0.16 x_{28} \\left(1 - x_{10}\\right) + 0.26 x_{28} \\left(1 - x_{11}\\right) - 0.63 x_{28} \\left(1 - x_{12}\\right) - 0.46 x_{28} \\left(1 - x_{13}\\right) + 0.95 x_{28} \\left(1 - x_{14}\\right) - 0.59 x_{28} \\left(1 - x_{15}\\right) - 0.63 x_{28} \\left(1 - x_{16}\\right) + 0.01 x_{28} \\left(1 - x_{17}\\right) + 0.6 x_{28} \\left(1 - x_{18}\\right) - 0.93 x_{28} \\left(1 - x_{19}\\right) - 0.01 x_{28} \\left(1 - x_{2}\\right) - 0.86 x_{28} \\left(1 - x_{20}\\right) + 0.4 x_{28} \\left(1 - x_{21}\\right) - 0.11 x_{28} \\left(1 - x_{22}\\right) + 0.1 x_{28} \\left(1 - x_{23}\\right) - 0.02 x_{28} \\left(1 - x_{24}\\right) - 0.71 x_{28} \\left(1 - x_{25}\\right) + 0.02 x_{28} \\left(1 - x_{26}\\right) - 0.47 x_{28} \\left(1 - x_{27}\\right) - 0.15 x_{28} \\left(1 - x_{29}\\right) - 0.68 x_{28} \\left(1 - x_{3}\\right) + 0.02 x_{28} \\left(1 - x_{30}\\right) - 0.07 x_{28} \\left(1 - x_{4}\\right) - 0.97 x_{28} \\left(1 - x_{5}\\right) - 0.44 x_{28} \\left(1 - x_{6}\\right) + 0.6 x_{28} \\left(1 - x_{7}\\right) - 0.77 x_{28} \\left(1 - x_{8}\\right) + 0.85 x_{28} \\left(1 - x_{9}\\right) + 0.39 x_{29} \\left(1 - x_{1}\\right) - 0.81 x_{29} \\left(1 - x_{10}\\right) + 0.24 x_{29} \\left(1 - x_{11}\\right) + 0.8 x_{29} \\left(1 - x_{12}\\right) - 0.24 x_{29} \\left(1 - x_{13}\\right) + 0.97 x_{29} \\left(1 - x_{14}\\right) - 0.54 x_{29} \\left(1 - x_{15}\\right) - 0.45 x_{29} \\left(1 - x_{16}\\right) - 0.32 x_{29} \\left(1 - x_{17}\\right) + 0.71 x_{29} \\left(1 - x_{18}\\right) - 0.48 x_{29} \\left(1 - x_{19}\\right) - 0.95 x_{29} \\left(1 - x_{2}\\right) - 0.22 x_{29} \\left(1 - x_{20}\\right) + 0.45 x_{29} \\left(1 - x_{21}\\right) - 0.08 x_{29} \\left(1 - x_{22}\\right) + 0.95 x_{29} \\left(1 - x_{23}\\right) - 0.27 x_{29} \\left(1 - x_{24}\\right) + 0.48 x_{29} \\left(1 - x_{25}\\right) + 0.09 x_{29} \\left(1 - x_{26}\\right) - 0.98 x_{29} \\left(1 - x_{27}\\right) - 0.15 x_{29} \\left(1 - x_{28}\\right) - 0.27 x_{29} \\left(1 - x_{3}\\right) - 0.2 x_{29} \\left(1 - x_{30}\\right) + 0.41 x_{29} \\left(1 - x_{4}\\right) + 0.29 x_{29} \\left(1 - x_{5}\\right) - 0.54 x_{29} \\left(1 - x_{6}\\right) - 0.85 x_{29} \\left(1 - x_{7}\\right) - 0.45 x_{29} \\left(1 - x_{8}\\right) + 0.22 x_{29} \\left(1 - x_{9}\\right) - 0.28 x_{3} \\left(1 - x_{1}\\right) - 0.5 x_{3} \\left(1 - x_{10}\\right) + 0.14 x_{3} \\left(1 - x_{11}\\right) - 0.2 x_{3} \\left(1 - x_{12}\\right) + 0.79 x_{3} \\left(1 - x_{13}\\right) - 0.72 x_{3} \\left(1 - x_{14}\\right) - 0.55 x_{3} \\left(1 - x_{15}\\right) - 0.01 x_{3} \\left(1 - x_{16}\\right) + 0.9 x_{3} \\left(1 - x_{17}\\right) - 0.88 x_{3} \\left(1 - x_{18}\\right) - 0.37 x_{3} \\left(1 - x_{19}\\right) - 0.02 x_{3} \\left(1 - x_{2}\\right) + 0.68 x_{3} \\left(1 - x_{20}\\right) - 0.94 x_{3} \\left(1 - x_{21}\\right) + 0.61 x_{3} \\left(1 - x_{22}\\right) + 0.8 x_{3} \\left(1 - x_{23}\\right) + 0.01 x_{3} \\left(1 - x_{24}\\right) + 0.34 x_{3} \\left(1 - x_{25}\\right) + 0.43 x_{3} \\left(1 - x_{26}\\right) + 0.95 x_{3} \\left(1 - x_{27}\\right) - 0.68 x_{3} \\left(1 - x_{28}\\right) - 0.27 x_{3} \\left(1 - x_{29}\\right) - 0.53 x_{3} \\left(1 - x_{30}\\right) + 0.13 x_{3} \\left(1 - x_{4}\\right) + 0.25 x_{3} \\left(1 - x_{5}\\right) - 0.92 x_{3} \\left(1 - x_{6}\\right) - 0.39 x_{3} \\left(1 - x_{7}\\right) - 0.34 x_{3} \\left(1 - x_{8}\\right) + 0.46 x_{3} \\left(1 - x_{9}\\right) + 0.9 x_{30} \\left(1 - x_{1}\\right) + 0.48 x_{30} \\left(1 - x_{10}\\right) - 0.02 x_{30} \\left(1 - x_{11}\\right) + 0.66 x_{30} \\left(1 - x_{12}\\right) - 0.53 x_{30} \\left(1 - x_{13}\\right) + 0.5 x_{30} \\left(1 - x_{14}\\right) + 0.29 x_{30} \\left(1 - x_{15}\\right) - 0.54 x_{30} \\left(1 - x_{16}\\right) - 0.42 x_{30} \\left(1 - x_{17}\\right) - 0.91 x_{30} \\left(1 - x_{18}\\right) + 0.64 x_{30} \\left(1 - x_{19}\\right) + 0.14 x_{30} \\left(1 - x_{2}\\right) + 0.1 x_{30} \\left(1 - x_{20}\\right) - 0.15 x_{30} \\left(1 - x_{21}\\right) - 0.98 x_{30} \\left(1 - x_{22}\\right) + 0.34 x_{30} \\left(1 - x_{23}\\right) - 0.34 x_{30} \\left(1 - x_{24}\\right) - 0.74 x_{30} \\left(1 - x_{25}\\right) + 0.21 x_{30} \\left(1 - x_{26}\\right) + 0.05 x_{30} \\left(1 - x_{27}\\right) + 0.02 x_{30} \\left(1 - x_{28}\\right) - 0.2 x_{30} \\left(1 - x_{29}\\right) - 0.53 x_{30} \\left(1 - x_{3}\\right) + 0.19 x_{30} \\left(1 - x_{4}\\right) + 0.12 x_{30} \\left(1 - x_{5}\\right) + 0.78 x_{30} \\left(1 - x_{6}\\right) - 0.34 x_{30} \\left(1 - x_{7}\\right) + 0.82 x_{30} \\left(1 - x_{8}\\right) + 0.29 x_{30} \\left(1 - x_{9}\\right) - 0.28 x_{4} \\left(1 - x_{1}\\right) - 0.09 x_{4} \\left(1 - x_{10}\\right) - 1.0 x_{4} \\left(1 - x_{11}\\right) - 0.71 x_{4} \\left(1 - x_{12}\\right) + 0.85 x_{4} \\left(1 - x_{13}\\right) + 0.99 x_{4} \\left(1 - x_{14}\\right) + 0.4 x_{4} \\left(1 - x_{15}\\right) + 0.31 x_{4} \\left(1 - x_{16}\\right) - 0.6 x_{4} \\left(1 - x_{17}\\right) - 0.46 x_{4} \\left(1 - x_{18}\\right) - 0.38 x_{4} \\left(1 - x_{19}\\right) + 0.5 x_{4} \\left(1 - x_{2}\\right) - 0.71 x_{4} \\left(1 - x_{20}\\right) - 0.86 x_{4} \\left(1 - x_{21}\\right) + 0.89 x_{4} \\left(1 - x_{22}\\right) + 0.5 x_{4} \\left(1 - x_{23}\\right) - 0.36 x_{4} \\left(1 - x_{24}\\right) + 0.07 x_{4} \\left(1 - x_{25}\\right) - 0.43 x_{4} \\left(1 - x_{26}\\right) - 0.5 x_{4} \\left(1 - x_{27}\\right) - 0.07 x_{4} \\left(1 - x_{28}\\right) + 0.41 x_{4} \\left(1 - x_{29}\\right) + 0.13 x_{4} \\left(1 - x_{3}\\right) + 0.19 x_{4} \\left(1 - x_{30}\\right) - 0.3 x_{4} \\left(1 - x_{5}\\right) + 0.16 x_{4} \\left(1 - x_{6}\\right) - 0.33 x_{4} \\left(1 - x_{7}\\right) + 0.68 x_{4} \\left(1 - x_{8}\\right) + 0.84 x_{4} \\left(1 - x_{9}\\right) + 0.43 x_{5} \\left(1 - x_{1}\\right) + 0.7 x_{5} \\left(1 - x_{10}\\right) + 0.44 x_{5} \\left(1 - x_{11}\\right) - 0.24 x_{5} \\left(1 - x_{12}\\right) + 0.35 x_{5} \\left(1 - x_{13}\\right) - 0.01 x_{5} \\left(1 - x_{14}\\right) + 0.59 x_{5} \\left(1 - x_{15}\\right) - 0.42 x_{5} \\left(1 - x_{16}\\right) - 0.49 x_{5} \\left(1 - x_{17}\\right) - 0.49 x_{5} \\left(1 - x_{18}\\right) - 0.63 x_{5} \\left(1 - x_{19}\\right) + 0.22 x_{5} \\left(1 - x_{2}\\right) + 0.64 x_{5} \\left(1 - x_{20}\\right) + 0.74 x_{5} \\left(1 - x_{21}\\right) - 0.64 x_{5} \\left(1 - x_{22}\\right) + 0.22 x_{5} \\left(1 - x_{23}\\right) - 0.12 x_{5} \\left(1 - x_{24}\\right) - 0.49 x_{5} \\left(1 - x_{25}\\right) + 0.33 x_{5} \\left(1 - x_{27}\\right) - 0.97 x_{5} \\left(1 - x_{28}\\right) + 0.29 x_{5} \\left(1 - x_{29}\\right) + 0.25 x_{5} \\left(1 - x_{3}\\right) + 0.12 x_{5} \\left(1 - x_{30}\\right) - 0.3 x_{5} \\left(1 - x_{4}\\right) - 0.49 x_{5} \\left(1 - x_{6}\\right) - 0.6 x_{5} \\left(1 - x_{7}\\right) - 0.41 x_{5} \\left(1 - x_{8}\\right) - 0.95 x_{5} \\left(1 - x_{9}\\right) - 0.83 x_{6} \\left(1 - x_{1}\\right) - 0.95 x_{6} \\left(1 - x_{10}\\right) - 0.67 x_{6} \\left(1 - x_{11}\\right) - 0.09 x_{6} \\left(1 - x_{12}\\right) - 0.27 x_{6} \\left(1 - x_{13}\\right) - 0.89 x_{6} \\left(1 - x_{14}\\right) + 0.93 x_{6} \\left(1 - x_{15}\\right) + 0.22 x_{6} \\left(1 - x_{16}\\right) - 0.21 x_{6} \\left(1 - x_{17}\\right) + 0.34 x_{6} \\left(1 - x_{18}\\right) + 0.26 x_{6} \\left(1 - x_{19}\\right) + 0.78 x_{6} \\left(1 - x_{2}\\right) + 0.41 x_{6} \\left(1 - x_{20}\\right) - 0.15 x_{6} \\left(1 - x_{21}\\right) - 0.31 x_{6} \\left(1 - x_{22}\\right) - 0.92 x_{6} \\left(1 - x_{23}\\right) + 0.9 x_{6} \\left(1 - x_{24}\\right) + 0.47 x_{6} \\left(1 - x_{25}\\right) - 0.64 x_{6} \\left(1 - x_{26}\\right) - 0.36 x_{6} \\left(1 - x_{27}\\right) - 0.44 x_{6} \\left(1 - x_{28}\\right) - 0.54 x_{6} \\left(1 - x_{29}\\right) - 0.92 x_{6} \\left(1 - x_{3}\\right) + 0.78 x_{6} \\left(1 - x_{30}\\right) + 0.16 x_{6} \\left(1 - x_{4}\\right) - 0.49 x_{6} \\left(1 - x_{5}\\right) - 0.75 x_{6} \\left(1 - x_{7}\\right) - 0.97 x_{6} \\left(1 - x_{8}\\right) - 0.39 x_{6} \\left(1 - x_{9}\\right) - 0.72 x_{7} \\left(1 - x_{1}\\right) + 0.87 x_{7} \\left(1 - x_{10}\\right) + 0.89 x_{7} \\left(1 - x_{11}\\right) - 0.38 x_{7} \\left(1 - x_{12}\\right) - 0.71 x_{7} \\left(1 - x_{13}\\right) + 0.03 x_{7} \\left(1 - x_{14}\\right) - 0.74 x_{7} \\left(1 - x_{15}\\right) - 0.91 x_{7} \\left(1 - x_{16}\\right) - 0.34 x_{7} \\left(1 - x_{17}\\right) - 0.23 x_{7} \\left(1 - x_{18}\\right) + 0.94 x_{7} \\left(1 - x_{19}\\right) + 0.82 x_{7} \\left(1 - x_{2}\\right) + 0.48 x_{7} \\left(1 - x_{20}\\right) - 0.41 x_{7} \\left(1 - x_{21}\\right) - 0.71 x_{7} \\left(1 - x_{22}\\right) + 0.33 x_{7} \\left(1 - x_{23}\\right) - 0.49 x_{7} \\left(1 - x_{24}\\right) + 0.96 x_{7} \\left(1 - x_{25}\\right) - 0.52 x_{7} \\left(1 - x_{26}\\right) - 0.14 x_{7} \\left(1 - x_{27}\\right) + 0.6 x_{7} \\left(1 - x_{28}\\right) - 0.85 x_{7} \\left(1 - x_{29}\\right) - 0.39 x_{7} \\left(1 - x_{3}\\right) - 0.34 x_{7} \\left(1 - x_{30}\\right) - 0.33 x_{7} \\left(1 - x_{4}\\right) - 0.6 x_{7} \\left(1 - x_{5}\\right) - 0.75 x_{7} \\left(1 - x_{6}\\right) - 0.79 x_{7} \\left(1 - x_{8}\\right) + 0.18 x_{7} \\left(1 - x_{9}\\right) - 0.73 x_{8} \\left(1 - x_{1}\\right) - 0.36 x_{8} \\left(1 - x_{10}\\right) + 0.61 x_{8} \\left(1 - x_{11}\\right) + 0.69 x_{8} \\left(1 - x_{12}\\right) - 0.4 x_{8} \\left(1 - x_{13}\\right) - 0.54 x_{8} \\left(1 - x_{14}\\right) + 0.38 x_{8} \\left(1 - x_{15}\\right) + 0.34 x_{8} \\left(1 - x_{16}\\right) - 0.64 x_{8} \\left(1 - x_{17}\\right) + 0.94 x_{8} \\left(1 - x_{18}\\right) + 0.73 x_{8} \\left(1 - x_{19}\\right) + 0.53 x_{8} \\left(1 - x_{2}\\right) - 0.21 x_{8} \\left(1 - x_{20}\\right) + 0.5 x_{8} \\left(1 - x_{21}\\right) - 0.89 x_{8} \\left(1 - x_{22}\\right) + 0.5 x_{8} \\left(1 - x_{23}\\right) - 0.66 x_{8} \\left(1 - x_{24}\\right) + 0.07 x_{8} \\left(1 - x_{25}\\right) - 0.97 x_{8} \\left(1 - x_{26}\\right) + 0.78 x_{8} \\left(1 - x_{27}\\right) - 0.77 x_{8} \\left(1 - x_{28}\\right) - 0.45 x_{8} \\left(1 - x_{29}\\right) - 0.34 x_{8} \\left(1 - x_{3}\\right) + 0.82 x_{8} \\left(1 - x_{30}\\right) + 0.68 x_{8} \\left(1 - x_{4}\\right) - 0.41 x_{8} \\left(1 - x_{5}\\right) - 0.97 x_{8} \\left(1 - x_{6}\\right) - 0.79 x_{8} \\left(1 - x_{7}\\right) - 0.05 x_{8} \\left(1 - x_{9}\\right) + 0.42 x_{9} \\left(1 - x_{1}\\right) + 0.28 x_{9} \\left(1 - x_{10}\\right) - 0.01 x_{9} \\left(1 - x_{11}\\right) - 0.58 x_{9} \\left(1 - x_{12}\\right) - 0.41 x_{9} \\left(1 - x_{13}\\right) + 0.19 x_{9} \\left(1 - x_{14}\\right) - 0.58 x_{9} \\left(1 - x_{15}\\right) + 0.18 x_{9} \\left(1 - x_{16}\\right) + 0.65 x_{9} \\left(1 - x_{17}\\right) + 0.5 x_{9} \\left(1 - x_{18}\\right) - 0.25 x_{9} \\left(1 - x_{19}\\right) + 0.53 x_{9} \\left(1 - x_{2}\\right) - 0.78 x_{9} \\left(1 - x_{20}\\right) + 0.64 x_{9} \\left(1 - x_{21}\\right) + 0.53 x_{9} \\left(1 - x_{22}\\right) + 0.26 x_{9} \\left(1 - x_{23}\\right) + 0.32 x_{9} \\left(1 - x_{24}\\right) + 0.94 x_{9} \\left(1 - x_{25}\\right) + 0.37 x_{9} \\left(1 - x_{26}\\right) + 0.14 x_{9} \\left(1 - x_{27}\\right) + 0.85 x_{9} \\left(1 - x_{28}\\right) + 0.22 x_{9} \\left(1 - x_{29}\\right) + 0.46 x_{9} \\left(1 - x_{3}\\right) + 0.29 x_{9} \\left(1 - x_{30}\\right) + 0.84 x_{9} \\left(1 - x_{4}\\right) - 0.95 x_{9} \\left(1 - x_{5}\\right) - 0.39 x_{9} \\left(1 - x_{6}\\right) + 0.18 x_{9} \\left(1 - x_{7}\\right) - 0.05 x_{9} \\left(1 - x_{8}\\right)$"
      ],
      "text/plain": [
       "0.89*x1*(1 - x10) - 0.55*x1*(1 - x11) + 0.38*x1*(1 - x12) + 0.09*x1*(1 - x13) - 0.27*x1*(1 - x14) - 0.02*x1*(1 - x15) - 0.35*x1*(1 - x16) - 0.19*x1*(1 - x17) - 0.19*x1*(1 - x18) + 0.59*x1*(1 - x19) + 0.87*x1*(1 - x2) + 0.61*x1*(1 - x20) - 0.31*x1*(1 - x21) - 0.53*x1*(1 - x22) + 0.02*x1*(1 - x23) + 0.39*x1*(1 - x24) + 0.34*x1*(1 - x25) + 0.22*x1*(1 - x26) + 0.75*x1*(1 - x27) + 0.31*x1*(1 - x28) + 0.39*x1*(1 - x29) - 0.28*x1*(1 - x3) + 0.9*x1*(1 - x30) - 0.28*x1*(1 - x4) + 0.43*x1*(1 - x5) - 0.83*x1*(1 - x6) - 0.72*x1*(1 - x7) - 0.73*x1*(1 - x8) + 0.42*x1*(1 - x9) + 0.89*x10*(1 - x1) + 0.72*x10*(1 - x11) + 0.57*x10*(1 - x12) + 0.96*x10*(1 - x13) + 0.54*x10*(1 - x14) + 0.14*x10*(1 - x15) + 0.2*x10*(1 - x16) + 0.74*x10*(1 - x17) + 0.21*x10*(1 - x18) - 0.27*x10*(1 - x19) + 0.17*x10*(1 - x2) + 0.85*x10*(1 - x20) + 0.75*x10*(1 - x21) + 0.93*x10*(1 - x22) - 0.41*x10*(1 - x23) - 0.85*x10*(1 - x24) + 0.05*x10*(1 - x25) - 0.33*x10*(1 - x26) + 0.98*x10*(1 - x27) + 0.16*x10*(1 - x28) - 0.81*x10*(1 - x29) - 0.5*x10*(1 - x3) + 0.48*x10*(1 - x30) - 0.09*x10*(1 - x4) + 0.7*x10*(1 - x5) - 0.95*x10*(1 - x6) + 0.87*x10*(1 - x7) - 0.36*x10*(1 - x8) + 0.28*x10*(1 - x9) - 0.55*x11*(1 - x1) + 0.72*x11*(1 - x10) + 0.16*x11*(1 - x12) - 0.25*x11*(1 - x13) - 0.26*x11*(1 - x14) - 0.92*x11*(1 - x15) - 0.95*x11*(1 - x16) + 0.01*x11*(1 - x17) + 0.87*x11*(1 - x18) + 0.78*x11*(1 - x19) + 0.98*x11*(1 - x2) + 0.17*x11*(1 - x20) + 0.63*x11*(1 - x21) - 0.26*x11*(1 - x22) - 0.68*x11*(1 - x23) - 0.32*x11*(1 - x24) + 0.37*x11*(1 - x25) + 0.42*x11*(1 - x26) - 0.68*x11*(1 - x27) + 0.26*x11*(1 - x28) + 0.24*x11*(1 - x29) + 0.14*x11*(1 - x3) - 0.02*x11*(1 - x30) - 1.0*x11*(1 - x4) + 0.44*x11*(1 - x5) - 0.67*x11*(1 - x6) + 0.89*x11*(1 - x7) + 0.61*x11*(1 - x8) - 0.01*x11*(1 - x9) + 0.38*x12*(1 - x1) + 0.57*x12*(1 - x10) + 0.16*x12*(1 - x11) + 0.36*x12*(1 - x13) - 0.49*x12*(1 - x14) + 0.64*x12*(1 - x15) + 0.5*x12*(1 - x16) + 0.08*x12*(1 - x17) - 0.16*x12*(1 - x18) - 0.46*x12*(1 - x19) - 0.85*x12*(1 - x2) - 0.23*x12*(1 - x20) + 0.53*x12*(1 - x21) + 0.94*x12*(1 - x22) + 0.05*x12*(1 - x23) + 0.69*x12*(1 - x24) - 0.49*x12*(1 - x25) - 0.74*x12*(1 - x26) - 0.36*x12*(1 - x27) - 0.63*x12*(1 - x28) + 0.8*x12*(1 - x29) - 0.2*x12*(1 - x3) + 0.66*x12*(1 - x30) - 0.71*x12*(1 - x4) - 0.24*x12*(1 - x5) - 0.09*x12*(1 - x6) - 0.38*x12*(1 - x7) + 0.69*x12*(1 - x8) - 0.58*x12*(1 - x9) + 0.09*x13*(1 - x1) + 0.96*x13*(1 - x10) - 0.25*x13*(1 - x11) + 0.36*x13*(1 - x12) - 0.36*x13*(1 - x14) + 0.67*x13*(1 - x15) - 0.27*x13*(1 - x16) - 0.52*x13*(1 - x17) - 0.5*x13*(1 - x18) - 0.45*x13*(1 - x19) + 0.34*x13*(1 - x2) + 0.64*x13*(1 - x20) - 0.47*x13*(1 - x21) - 0.45*x13*(1 - x22) + 0.53*x13*(1 - x23) - 0.39*x13*(1 - x24) + 0.22*x13*(1 - x25) - 0.32*x13*(1 - x26) + 0.85*x13*(1 - x27) - 0.46*x13*(1 - x28) - 0.24*x13*(1 - x29) + 0.79*x13*(1 - x3) - 0.53*x13*(1 - x30) + 0.85*x13*(1 - x4) + 0.35*x13*(1 - x5) - 0.27*x13*(1 - x6) - 0.71*x13*(1 - x7) - 0.4*x13*(1 - x8) - 0.41*x13*(1 - x9) - 0.27*x14*(1 - x1) + 0.54*x14*(1 - x10) - 0.26*x14*(1 - x11) - 0.49*x14*(1 - x12) - 0.36*x14*(1 - x13) + 0.68*x14*(1 - x15) - 0.31*x14*(1 - x16) - 0.94*x14*(1 - x17) - 0.88*x14*(1 - x18) + 0.85*x14*(1 - x19) - 0.43*x14*(1 - x2) + 0.06*x14*(1 - x20) + 0.53*x14*(1 - x21) - 0.45*x14*(1 - x22) - 0.51*x14*(1 - x23) - 0.36*x14*(1 - x24) - 0.66*x14*(1 - x25) - 0.96*x14*(1 - x26) - 0.85*x14*(1 - x27) + 0.95*x14*(1 - x28) + 0.97*x14*(1 - x29) - 0.72*x14*(1 - x3) + 0.5*x14*(1 - x30) + 0.99*x14*(1 - x4) - 0.01*x14*(1 - x5) - 0.89*x14*(1 - x6) + 0.03*x14*(1 - x7) - 0.54*x14*(1 - x8) + 0.19*x14*(1 - x9) - 0.02*x15*(1 - x1) + 0.14*x15*(1 - x10) - 0.92*x15*(1 - x11) + 0.64*x15*(1 - x12) + 0.67*x15*(1 - x13) + 0.68*x15*(1 - x14) - 0.19*x15*(1 - x16) - 0.42*x15*(1 - x17) - 0.54*x15*(1 - x18) + 0.34*x15*(1 - x19) + 0.83*x15*(1 - x2) + 0.66*x15*(1 - x20) + 0.9*x15*(1 - x21) - 0.8*x15*(1 - x22) + 0.45*x15*(1 - x23) + 0.55*x15*(1 - x24) - 0.09*x15*(1 - x25) - 0.09*x15*(1 - x26) + 0.83*x15*(1 - x27) - 0.59*x15*(1 - x28) - 0.54*x15*(1 - x29) - 0.55*x15*(1 - x3) + 0.29*x15*(1 - x30) + 0.4*x15*(1 - x4) + 0.59*x15*(1 - x5) + 0.93*x15*(1 - x6) - 0.74*x15*(1 - x7) + 0.38*x15*(1 - x8) - 0.58*x15*(1 - x9) - 0.35*x16*(1 - x1) + 0.2*x16*(1 - x10) - 0.95*x16*(1 - x11) + 0.5*x16*(1 - x12) - 0.27*x16*(1 - x13) - 0.31*x16*(1 - x14) - 0.19*x16*(1 - x15) - 0.27*x16*(1 - x17) - 0.15*x16*(1 - x18) + 0.03*x16*(1 - x19) + 0.77*x16*(1 - x2) - 0.23*x16*(1 - x20) - 0.87*x16*(1 - x21) - 0.8*x16*(1 - x22) + 0.61*x16*(1 - x23) + 0.12*x16*(1 - x24) + 0.22*x16*(1 - x25) - 0.16*x16*(1 - x26) - 0.17*x16*(1 - x27) - 0.63*x16*(1 - x28) - 0.45*x16*(1 - x29) - 0.01*x16*(1 - x3) - 0.54*x16*(1 - x30) + 0.31*x16*(1 - x4) - 0.42*x16*(1 - x5) + 0.22*x16*(1 - x6) - 0.91*x16*(1 - x7) + 0.34*x16*(1 - x8) + 0.18*x16*(1 - x9) - 0.19*x17*(1 - x1) + 0.74*x17*(1 - x10) + 0.01*x17*(1 - x11) + 0.08*x17*(1 - x12) - 0.52*x17*(1 - x13) - 0.94*x17*(1 - x14) - 0.42*x17*(1 - x15) - 0.27*x17*(1 - x16) - 0.35*x17*(1 - x18) + 0.27*x17*(1 - x19) + 0.57*x17*(1 - x2) + 0.41*x17*(1 - x20) + 0.62*x17*(1 - x21) + 0.17*x17*(1 - x22) + 0.69*x17*(1 - x23) - 0.27*x17*(1 - x24) - 0.04*x17*(1 - x25) + 0.19*x17*(1 - x26) + 0.04*x17*(1 - x27) + 0.01*x17*(1 - x28) - 0.32*x17*(1 - x29) + 0.9*x17*(1 - x3) - 0.42*x17*(1 - x30) - 0.6*x17*(1 - x4) - 0.49*x17*(1 - x5) - 0.21*x17*(1 - x6) - 0.34*x17*(1 - x7) - 0.64*x17*(1 - x8) + 0.65*x17*(1 - x9) - 0.19*x18*(1 - x1) + 0.21*x18*(1 - x10) + 0.87*x18*(1 - x11) - 0.16*x18*(1 - x12) - 0.5*x18*(1 - x13) - 0.88*x18*(1 - x14) - 0.54*x18*(1 - x15) - 0.15*x18*(1 - x16) - 0.35*x18*(1 - x17) - 0.74*x18*(1 - x19) - 0.03*x18*(1 - x2) - 0.65*x18*(1 - x20) + 0.95*x18*(1 - x21) - 0.94*x18*(1 - x22) + 0.26*x18*(1 - x23) - 0.16*x18*(1 - x24) - 0.44*x18*(1 - x25) - 0.8*x18*(1 - x26) + 0.93*x18*(1 - x27) + 0.6*x18*(1 - x28) + 0.71*x18*(1 - x29) - 0.88*x18*(1 - x3) - 0.91*x18*(1 - x30) - 0.46*x18*(1 - x4) - 0.49*x18*(1 - x5) + 0.34*x18*(1 - x6) - 0.23*x18*(1 - x7) + 0.94*x18*(1 - x8) + 0.5*x18*(1 - x9) + 0.59*x19*(1 - x1) - 0.27*x19*(1 - x10) + 0.78*x19*(1 - x11) - 0.46*x19*(1 - x12) - 0.45*x19*(1 - x13) + 0.85*x19*(1 - x14) + 0.34*x19*(1 - x15) + 0.03*x19*(1 - x16) + 0.27*x19*(1 - x17) - 0.74*x19*(1 - x18) + 0.06*x19*(1 - x2) + 0.32*x19*(1 - x20) - 0.96*x19*(1 - x21) + 0.92*x19*(1 - x22) + 0.06*x19*(1 - x23) - 0.79*x19*(1 - x24) + 0.59*x19*(1 - x25) - 0.97*x19*(1 - x26) - 0.36*x19*(1 - x27) - 0.93*x19*(1 - x28) - 0.48*x19*(1 - x29) - 0.37*x19*(1 - x3) + 0.64*x19*(1 - x30) - 0.38*x19*(1 - x4) - 0.63*x19*(1 - x5) + 0.26*x19*(1 - x6) + 0.94*x19*(1 - x7) + 0.73*x19*(1 - x8) - 0.25*x19*(1 - x9) + 0.87*x2*(1 - x1) + 0.17*x2*(1 - x10) + 0.98*x2*(1 - x11) - 0.85*x2*(1 - x12) + 0.34*x2*(1 - x13) - 0.43*x2*(1 - x14) + 0.83*x2*(1 - x15) + 0.77*x2*(1 - x16) + 0.57*x2*(1 - x17) - 0.03*x2*(1 - x18) + 0.06*x2*(1 - x19) + 0.87*x2*(1 - x20) + 0.83*x2*(1 - x21) + 0.82*x2*(1 - x22) + 0.69*x2*(1 - x23) - 0.29*x2*(1 - x24) - 0.33*x2*(1 - x25) - 0.01*x2*(1 - x26) - 0.77*x2*(1 - x27) - 0.01*x2*(1 - x28) - 0.95*x2*(1 - x29) - 0.02*x2*(1 - x3) + 0.14*x2*(1 - x30) + 0.5*x2*(1 - x4) + 0.22*x2*(1 - x5) + 0.78*x2*(1 - x6) + 0.82*x2*(1 - x7) + 0.53*x2*(1 - x8) + 0.53*x2*(1 - x9) + 0.61*x20*(1 - x1) + 0.85*x20*(1 - x10) + 0.17*x20*(1 - x11) - 0.23*x20*(1 - x12) + 0.64*x20*(1 - x13) + 0.06*x20*(1 - x14) + 0.66*x20*(1 - x15) - 0.23*x20*(1 - x16) + 0.41*x20*(1 - x17) - 0.65*x20*(1 - x18) + 0.32*x20*(1 - x19) + 0.87*x20*(1 - x2) - 0.87*x20*(1 - x21) + 0.36*x20*(1 - x22) - 0.04*x20*(1 - x23) - 0.26*x20*(1 - x24) + 0.45*x20*(1 - x25) + 0.22*x20*(1 - x26) - 0.43*x20*(1 - x27) - 0.86*x20*(1 - x28) - 0.22*x20*(1 - x29) + 0.68*x20*(1 - x3) + 0.1*x20*(1 - x30) - 0.71*x20*(1 - x4) + 0.64*x20*(1 - x5) + 0.41*x20*(1 - x6) + 0.48*x20*(1 - x7) - 0.21*x20*(1 - x8) - 0.78*x20*(1 - x9) - 0.31*x21*(1 - x1) + 0.75*x21*(1 - x10) + 0.63*x21*(1 - x11) + 0.53*x21*(1 - x12) - 0.47*x21*(1 - x13) + 0.53*x21*(1 - x14) + 0.9*x21*(1 - x15) - 0.87*x21*(1 - x16) + 0.62*x21*(1 - x17) + 0.95*x21*(1 - x18) - 0.96*x21*(1 - x19) + 0.83*x21*(1 - x2) - 0.87*x21*(1 - x20) - 0.14*x21*(1 - x22) - 0.05*x21*(1 - x23) + 0.86*x21*(1 - x24) + 0.09*x21*(1 - x25) + 0.12*x21*(1 - x26) + 0.41*x21*(1 - x27) + 0.4*x21*(1 - x28) + 0.45*x21*(1 - x29) - 0.94*x21*(1 - x3) - 0.15*x21*(1 - x30) - 0.86*x21*(1 - x4) + 0.74*x21*(1 - x5) - 0.15*x21*(1 - x6) - 0.41*x21*(1 - x7) + 0.5*x21*(1 - x8) + 0.64*x21*(1 - x9) - 0.53*x22*(1 - x1) + 0.93*x22*(1 - x10) - 0.26*x22*(1 - x11) + 0.94*x22*(1 - x12) - 0.45*x22*(1 - x13) - 0.45*x22*(1 - x14) - 0.8*x22*(1 - x15) - 0.8*x22*(1 - x16) + 0.17*x22*(1 - x17) - 0.94*x22*(1 - x18) + 0.92*x22*(1 - x19) + 0.82*x22*(1 - x2) + 0.36*x22*(1 - x20) - 0.14*x22*(1 - x21) + 0.37*x22*(1 - x23) - 0.48*x22*(1 - x24) - 0.99*x22*(1 - x25) - 0.78*x22*(1 - x26) - 0.04*x22*(1 - x27) - 0.11*x22*(1 - x28) - 0.08*x22*(1 - x29) + 0.61*x22*(1 - x3) - 0.98*x22*(1 - x30) + 0.89*x22*(1 - x4) - 0.64*x22*(1 - x5) - 0.31*x22*(1 - x6) - 0.71*x22*(1 - x7) - 0.89*x22*(1 - x8) + 0.53*x22*(1 - x9) + 0.02*x23*(1 - x1) - 0.41*x23*(1 - x10) - 0.68*x23*(1 - x11) + 0.05*x23*(1 - x12) + 0.53*x23*(1 - x13) - 0.51*x23*(1 - x14) + 0.45*x23*(1 - x15) + 0.61*x23*(1 - x16) + 0.69*x23*(1 - x17) + 0.26*x23*(1 - x18) + 0.06*x23*(1 - x19) + 0.69*x23*(1 - x2) - 0.04*x23*(1 - x20) - 0.05*x23*(1 - x21) + 0.37*x23*(1 - x22) + 0.81*x23*(1 - x24) + 0.12*x23*(1 - x25) + 0.7*x23*(1 - x26) + 0.87*x23*(1 - x27) + 0.1*x23*(1 - x28) + 0.95*x23*(1 - x29) + 0.8*x23*(1 - x3) + 0.34*x23*(1 - x30) + 0.5*x23*(1 - x4) + 0.22*x23*(1 - x5) - 0.92*x23*(1 - x6) + 0.33*x23*(1 - x7) + 0.5*x23*(1 - x8) + 0.26*x23*(1 - x9) + 0.39*x24*(1 - x1) - 0.85*x24*(1 - x10) - 0.32*x24*(1 - x11) + 0.69*x24*(1 - x12) - 0.39*x24*(1 - x13) - 0.36*x24*(1 - x14) + 0.55*x24*(1 - x15) + 0.12*x24*(1 - x16) - 0.27*x24*(1 - x17) - 0.16*x24*(1 - x18) - 0.79*x24*(1 - x19) - 0.29*x24*(1 - x2) - 0.26*x24*(1 - x20) + 0.86*x24*(1 - x21) - 0.48*x24*(1 - x22) + 0.81*x24*(1 - x23) + 0.42*x24*(1 - x25) - 0.09*x24*(1 - x26) + 0.13*x24*(1 - x27) - 0.02*x24*(1 - x28) - 0.27*x24*(1 - x29) + 0.01*x24*(1 - x3) - 0.34*x24*(1 - x30) - 0.36*x24*(1 - x4) - 0.12*x24*(1 - x5) + 0.9*x24*(1 - x6) - 0.49*x24*(1 - x7) - 0.66*x24*(1 - x8) + 0.32*x24*(1 - x9) + 0.34*x25*(1 - x1) + 0.05*x25*(1 - x10) + 0.37*x25*(1 - x11) - 0.49*x25*(1 - x12) + 0.22*x25*(1 - x13) - 0.66*x25*(1 - x14) - 0.09*x25*(1 - x15) + 0.22*x25*(1 - x16) - 0.04*x25*(1 - x17) - 0.44*x25*(1 - x18) + 0.59*x25*(1 - x19) - 0.33*x25*(1 - x2) + 0.45*x25*(1 - x20) + 0.09*x25*(1 - x21) - 0.99*x25*(1 - x22) + 0.12*x25*(1 - x23) + 0.42*x25*(1 - x24) + 0.41*x25*(1 - x26) + 0.06*x25*(1 - x27) - 0.71*x25*(1 - x28) + 0.48*x25*(1 - x29) + 0.34*x25*(1 - x3) - 0.74*x25*(1 - x30) + 0.07*x25*(1 - x4) - 0.49*x25*(1 - x5) + 0.47*x25*(1 - x6) + 0.96*x25*(1 - x7) + 0.07*x25*(1 - x8) + 0.94*x25*(1 - x9) + 0.22*x26*(1 - x1) - 0.33*x26*(1 - x10) + 0.42*x26*(1 - x11) - 0.74*x26*(1 - x12) - 0.32*x26*(1 - x13) - 0.96*x26*(1 - x14) - 0.09*x26*(1 - x15) - 0.16*x26*(1 - x16) + 0.19*x26*(1 - x17) - 0.8*x26*(1 - x18) - 0.97*x26*(1 - x19) - 0.01*x26*(1 - x2) + 0.22*x26*(1 - x20) + 0.12*x26*(1 - x21) - 0.78*x26*(1 - x22) + 0.7*x26*(1 - x23) - 0.09*x26*(1 - x24) + 0.41*x26*(1 - x25) - 0.94*x26*(1 - x27) + 0.02*x26*(1 - x28) + 0.09*x26*(1 - x29) + 0.43*x26*(1 - x3) + 0.21*x26*(1 - x30) - 0.43*x26*(1 - x4) - 0.64*x26*(1 - x6) - 0.52*x26*(1 - x7) - 0.97*x26*(1 - x8) + 0.37*x26*(1 - x9) + 0.75*x27*(1 - x1) + 0.98*x27*(1 - x10) - 0.68*x27*(1 - x11) - 0.36*x27*(1 - x12) + 0.85*x27*(1 - x13) - 0.85*x27*(1 - x14) + 0.83*x27*(1 - x15) - 0.17*x27*(1 - x16) + 0.04*x27*(1 - x17) + 0.93*x27*(1 - x18) - 0.36*x27*(1 - x19) - 0.77*x27*(1 - x2) - 0.43*x27*(1 - x20) + 0.41*x27*(1 - x21) - 0.04*x27*(1 - x22) + 0.87*x27*(1 - x23) + 0.13*x27*(1 - x24) + 0.06*x27*(1 - x25) - 0.94*x27*(1 - x26) - 0.47*x27*(1 - x28) - 0.98*x27*(1 - x29) + 0.95*x27*(1 - x3) + 0.05*x27*(1 - x30) - 0.5*x27*(1 - x4) + 0.33*x27*(1 - x5) - 0.36*x27*(1 - x6) - 0.14*x27*(1 - x7) + 0.78*x27*(1 - x8) + 0.14*x27*(1 - x9) + 0.31*x28*(1 - x1) + 0.16*x28*(1 - x10) + 0.26*x28*(1 - x11) - 0.63*x28*(1 - x12) - 0.46*x28*(1 - x13) + 0.95*x28*(1 - x14) - 0.59*x28*(1 - x15) - 0.63*x28*(1 - x16) + 0.01*x28*(1 - x17) + 0.6*x28*(1 - x18) - 0.93*x28*(1 - x19) - 0.01*x28*(1 - x2) - 0.86*x28*(1 - x20) + 0.4*x28*(1 - x21) - 0.11*x28*(1 - x22) + 0.1*x28*(1 - x23) - 0.02*x28*(1 - x24) - 0.71*x28*(1 - x25) + 0.02*x28*(1 - x26) - 0.47*x28*(1 - x27) - 0.15*x28*(1 - x29) - 0.68*x28*(1 - x3) + 0.02*x28*(1 - x30) - 0.07*x28*(1 - x4) - 0.97*x28*(1 - x5) - 0.44*x28*(1 - x6) + 0.6*x28*(1 - x7) - 0.77*x28*(1 - x8) + 0.85*x28*(1 - x9) + 0.39*x29*(1 - x1) - 0.81*x29*(1 - x10) + 0.24*x29*(1 - x11) + 0.8*x29*(1 - x12) - 0.24*x29*(1 - x13) + 0.97*x29*(1 - x14) - 0.54*x29*(1 - x15) - 0.45*x29*(1 - x16) - 0.32*x29*(1 - x17) + 0.71*x29*(1 - x18) - 0.48*x29*(1 - x19) - 0.95*x29*(1 - x2) - 0.22*x29*(1 - x20) + 0.45*x29*(1 - x21) - 0.08*x29*(1 - x22) + 0.95*x29*(1 - x23) - 0.27*x29*(1 - x24) + 0.48*x29*(1 - x25) + 0.09*x29*(1 - x26) - 0.98*x29*(1 - x27) - 0.15*x29*(1 - x28) - 0.27*x29*(1 - x3) - 0.2*x29*(1 - x30) + 0.41*x29*(1 - x4) + 0.29*x29*(1 - x5) - 0.54*x29*(1 - x6) - 0.85*x29*(1 - x7) - 0.45*x29*(1 - x8) + 0.22*x29*(1 - x9) - 0.28*x3*(1 - x1) - 0.5*x3*(1 - x10) + 0.14*x3*(1 - x11) - 0.2*x3*(1 - x12) + 0.79*x3*(1 - x13) - 0.72*x3*(1 - x14) - 0.55*x3*(1 - x15) - 0.01*x3*(1 - x16) + 0.9*x3*(1 - x17) - 0.88*x3*(1 - x18) - 0.37*x3*(1 - x19) - 0.02*x3*(1 - x2) + 0.68*x3*(1 - x20) - 0.94*x3*(1 - x21) + 0.61*x3*(1 - x22) + 0.8*x3*(1 - x23) + 0.01*x3*(1 - x24) + 0.34*x3*(1 - x25) + 0.43*x3*(1 - x26) + 0.95*x3*(1 - x27) - 0.68*x3*(1 - x28) - 0.27*x3*(1 - x29) - 0.53*x3*(1 - x30) + 0.13*x3*(1 - x4) + 0.25*x3*(1 - x5) - 0.92*x3*(1 - x6) - 0.39*x3*(1 - x7) - 0.34*x3*(1 - x8) + 0.46*x3*(1 - x9) + 0.9*x30*(1 - x1) + 0.48*x30*(1 - x10) - 0.02*x30*(1 - x11) + 0.66*x30*(1 - x12) - 0.53*x30*(1 - x13) + 0.5*x30*(1 - x14) + 0.29*x30*(1 - x15) - 0.54*x30*(1 - x16) - 0.42*x30*(1 - x17) - 0.91*x30*(1 - x18) + 0.64*x30*(1 - x19) + 0.14*x30*(1 - x2) + 0.1*x30*(1 - x20) - 0.15*x30*(1 - x21) - 0.98*x30*(1 - x22) + 0.34*x30*(1 - x23) - 0.34*x30*(1 - x24) - 0.74*x30*(1 - x25) + 0.21*x30*(1 - x26) + 0.05*x30*(1 - x27) + 0.02*x30*(1 - x28) - 0.2*x30*(1 - x29) - 0.53*x30*(1 - x3) + 0.19*x30*(1 - x4) + 0.12*x30*(1 - x5) + 0.78*x30*(1 - x6) - 0.34*x30*(1 - x7) + 0.82*x30*(1 - x8) + 0.29*x30*(1 - x9) - 0.28*x4*(1 - x1) - 0.09*x4*(1 - x10) - 1.0*x4*(1 - x11) - 0.71*x4*(1 - x12) + 0.85*x4*(1 - x13) + 0.99*x4*(1 - x14) + 0.4*x4*(1 - x15) + 0.31*x4*(1 - x16) - 0.6*x4*(1 - x17) - 0.46*x4*(1 - x18) - 0.38*x4*(1 - x19) + 0.5*x4*(1 - x2) - 0.71*x4*(1 - x20) - 0.86*x4*(1 - x21) + 0.89*x4*(1 - x22) + 0.5*x4*(1 - x23) - 0.36*x4*(1 - x24) + 0.07*x4*(1 - x25) - 0.43*x4*(1 - x26) - 0.5*x4*(1 - x27) - 0.07*x4*(1 - x28) + 0.41*x4*(1 - x29) + 0.13*x4*(1 - x3) + 0.19*x4*(1 - x30) - 0.3*x4*(1 - x5) + 0.16*x4*(1 - x6) - 0.33*x4*(1 - x7) + 0.68*x4*(1 - x8) + 0.84*x4*(1 - x9) + 0.43*x5*(1 - x1) + 0.7*x5*(1 - x10) + 0.44*x5*(1 - x11) - 0.24*x5*(1 - x12) + 0.35*x5*(1 - x13) - 0.01*x5*(1 - x14) + 0.59*x5*(1 - x15) - 0.42*x5*(1 - x16) - 0.49*x5*(1 - x17) - 0.49*x5*(1 - x18) - 0.63*x5*(1 - x19) + 0.22*x5*(1 - x2) + 0.64*x5*(1 - x20) + 0.74*x5*(1 - x21) - 0.64*x5*(1 - x22) + 0.22*x5*(1 - x23) - 0.12*x5*(1 - x24) - 0.49*x5*(1 - x25) + 0.33*x5*(1 - x27) - 0.97*x5*(1 - x28) + 0.29*x5*(1 - x29) + 0.25*x5*(1 - x3) + 0.12*x5*(1 - x30) - 0.3*x5*(1 - x4) - 0.49*x5*(1 - x6) - 0.6*x5*(1 - x7) - 0.41*x5*(1 - x8) - 0.95*x5*(1 - x9) - 0.83*x6*(1 - x1) - 0.95*x6*(1 - x10) - 0.67*x6*(1 - x11) - 0.09*x6*(1 - x12) - 0.27*x6*(1 - x13) - 0.89*x6*(1 - x14) + 0.93*x6*(1 - x15) + 0.22*x6*(1 - x16) - 0.21*x6*(1 - x17) + 0.34*x6*(1 - x18) + 0.26*x6*(1 - x19) + 0.78*x6*(1 - x2) + 0.41*x6*(1 - x20) - 0.15*x6*(1 - x21) - 0.31*x6*(1 - x22) - 0.92*x6*(1 - x23) + 0.9*x6*(1 - x24) + 0.47*x6*(1 - x25) - 0.64*x6*(1 - x26) - 0.36*x6*(1 - x27) - 0.44*x6*(1 - x28) - 0.54*x6*(1 - x29) - 0.92*x6*(1 - x3) + 0.78*x6*(1 - x30) + 0.16*x6*(1 - x4) - 0.49*x6*(1 - x5) - 0.75*x6*(1 - x7) - 0.97*x6*(1 - x8) - 0.39*x6*(1 - x9) - 0.72*x7*(1 - x1) + 0.87*x7*(1 - x10) + 0.89*x7*(1 - x11) - 0.38*x7*(1 - x12) - 0.71*x7*(1 - x13) + 0.03*x7*(1 - x14) - 0.74*x7*(1 - x15) - 0.91*x7*(1 - x16) - 0.34*x7*(1 - x17) - 0.23*x7*(1 - x18) + 0.94*x7*(1 - x19) + 0.82*x7*(1 - x2) + 0.48*x7*(1 - x20) - 0.41*x7*(1 - x21) - 0.71*x7*(1 - x22) + 0.33*x7*(1 - x23) - 0.49*x7*(1 - x24) + 0.96*x7*(1 - x25) - 0.52*x7*(1 - x26) - 0.14*x7*(1 - x27) + 0.6*x7*(1 - x28) - 0.85*x7*(1 - x29) - 0.39*x7*(1 - x3) - 0.34*x7*(1 - x30) - 0.33*x7*(1 - x4) - 0.6*x7*(1 - x5) - 0.75*x7*(1 - x6) - 0.79*x7*(1 - x8) + 0.18*x7*(1 - x9) - 0.73*x8*(1 - x1) - 0.36*x8*(1 - x10) + 0.61*x8*(1 - x11) + 0.69*x8*(1 - x12) - 0.4*x8*(1 - x13) - 0.54*x8*(1 - x14) + 0.38*x8*(1 - x15) + 0.34*x8*(1 - x16) - 0.64*x8*(1 - x17) + 0.94*x8*(1 - x18) + 0.73*x8*(1 - x19) + 0.53*x8*(1 - x2) - 0.21*x8*(1 - x20) + 0.5*x8*(1 - x21) - 0.89*x8*(1 - x22) + 0.5*x8*(1 - x23) - 0.66*x8*(1 - x24) + 0.07*x8*(1 - x25) - 0.97*x8*(1 - x26) + 0.78*x8*(1 - x27) - 0.77*x8*(1 - x28) - 0.45*x8*(1 - x29) - 0.34*x8*(1 - x3) + 0.82*x8*(1 - x30) + 0.68*x8*(1 - x4) - 0.41*x8*(1 - x5) - 0.97*x8*(1 - x6) - 0.79*x8*(1 - x7) - 0.05*x8*(1 - x9) + 0.42*x9*(1 - x1) + 0.28*x9*(1 - x10) - 0.01*x9*(1 - x11) - 0.58*x9*(1 - x12) - 0.41*x9*(1 - x13) + 0.19*x9*(1 - x14) - 0.58*x9*(1 - x15) + 0.18*x9*(1 - x16) + 0.65*x9*(1 - x17) + 0.5*x9*(1 - x18) - 0.25*x9*(1 - x19) + 0.53*x9*(1 - x2) - 0.78*x9*(1 - x20) + 0.64*x9*(1 - x21) + 0.53*x9*(1 - x22) + 0.26*x9*(1 - x23) + 0.32*x9*(1 - x24) + 0.94*x9*(1 - x25) + 0.37*x9*(1 - x26) + 0.14*x9*(1 - x27) + 0.85*x9*(1 - x28) + 0.22*x9*(1 - x29) + 0.46*x9*(1 - x3) + 0.29*x9*(1 - x30) + 0.84*x9*(1 - x4) - 0.95*x9*(1 - x5) - 0.39*x9*(1 - x6) + 0.18*x9*(1 - x7) - 0.05*x9*(1 - x8)"
      ]
     },
     "execution_count": 66,
     "metadata": {},
     "output_type": "execute_result"
    }
   ],
   "source": [
    "n = adjacency_matrix.shape[0]\n",
    "x = symbols(f\"x1:{n+1}\")\n",
    "\n",
    "for i in range(n):\n",
    "    for j in range(n):\n",
    "        display(adjacency_matrix[i, j] * x[i] * (1 - x[j]))\n",
    "\n",
    "qubo_expr = sum([adjacency_matrix[i, j] * x[i] * (1 - x[j]) for i in range(n) for j in range(n)])\n",
    "\n",
    "qubo_expr"
   ]
  },
  {
   "cell_type": "code",
   "execution_count": 67,
   "metadata": {
    "colab": {
     "base_uri": "https://localhost:8080/",
     "height": 38
    },
    "id": "xfsokItp9E7O",
    "outputId": "15a34f72-4b10-44a4-8270-f3586e4438f4"
   },
   "outputs": [
    {
     "data": {
      "text/latex": [
       "$\\displaystyle - 1.78 x_{1} x_{10} + 1.1 x_{1} x_{11} - 0.76 x_{1} x_{12} - 0.18 x_{1} x_{13} + 0.54 x_{1} x_{14} + 0.04 x_{1} x_{15} + 0.7 x_{1} x_{16} + 0.38 x_{1} x_{17} + 0.38 x_{1} x_{18} - 1.18 x_{1} x_{19} - 1.74 x_{1} x_{2} - 1.22 x_{1} x_{20} + 0.62 x_{1} x_{21} + 1.06 x_{1} x_{22} - 0.04 x_{1} x_{23} - 0.78 x_{1} x_{24} - 0.68 x_{1} x_{25} - 0.44 x_{1} x_{26} - 1.5 x_{1} x_{27} - 0.62 x_{1} x_{28} - 0.78 x_{1} x_{29} + 0.56 x_{1} x_{3} - 1.8 x_{1} x_{30} + 0.56 x_{1} x_{4} - 0.86 x_{1} x_{5} + 1.66 x_{1} x_{6} + 1.44 x_{1} x_{7} + 1.46 x_{1} x_{8} - 0.84 x_{1} x_{9} + 2.35 x_{1} - 1.44 x_{10} x_{11} - 1.14 x_{10} x_{12} - 1.92 x_{10} x_{13} - 1.08 x_{10} x_{14} - 0.28 x_{10} x_{15} - 0.4 x_{10} x_{16} - 1.48 x_{10} x_{17} - 0.42 x_{10} x_{18} + 0.54 x_{10} x_{19} - 0.34 x_{10} x_{2} - 1.7 x_{10} x_{20} - 1.5 x_{10} x_{21} - 1.86 x_{10} x_{22} + 0.82 x_{10} x_{23} + 1.7 x_{10} x_{24} - 0.1 x_{10} x_{25} + 0.66 x_{10} x_{26} - 1.96 x_{10} x_{27} - 0.32 x_{10} x_{28} + 1.62 x_{10} x_{29} + 1.0 x_{10} x_{3} - 0.96 x_{10} x_{30} + 0.18 x_{10} x_{4} - 1.4 x_{10} x_{5} + 1.9 x_{10} x_{6} - 1.74 x_{10} x_{7} + 0.72 x_{10} x_{8} - 0.56 x_{10} x_{9} + 6.62 x_{10} - 0.32 x_{11} x_{12} + 0.5 x_{11} x_{13} + 0.52 x_{11} x_{14} + 1.84 x_{11} x_{15} + 1.9 x_{11} x_{16} - 0.02 x_{11} x_{17} - 1.74 x_{11} x_{18} - 1.56 x_{11} x_{19} - 1.96 x_{11} x_{2} - 0.34 x_{11} x_{20} - 1.26 x_{11} x_{21} + 0.52 x_{11} x_{22} + 1.36 x_{11} x_{23} + 0.64 x_{11} x_{24} - 0.74 x_{11} x_{25} - 0.84 x_{11} x_{26} + 1.36 x_{11} x_{27} - 0.52 x_{11} x_{28} - 0.48 x_{11} x_{29} - 0.28 x_{11} x_{3} + 0.04 x_{11} x_{30} + 2.0 x_{11} x_{4} - 0.88 x_{11} x_{5} + 1.34 x_{11} x_{6} - 1.78 x_{11} x_{7} - 1.22 x_{11} x_{8} + 0.02 x_{11} x_{9} + 1.12 x_{11} - 0.72 x_{12} x_{13} + 0.98 x_{12} x_{14} - 1.28 x_{12} x_{15} - 1.0 x_{12} x_{16} - 0.16 x_{12} x_{17} + 0.32 x_{12} x_{18} + 0.92 x_{12} x_{19} + 1.7 x_{12} x_{2} + 0.46 x_{12} x_{20} - 1.06 x_{12} x_{21} - 1.88 x_{12} x_{22} - 0.1 x_{12} x_{23} - 1.38 x_{12} x_{24} + 0.98 x_{12} x_{25} + 1.48 x_{12} x_{26} + 0.72 x_{12} x_{27} + 1.26 x_{12} x_{28} - 1.6 x_{12} x_{29} + 0.4 x_{12} x_{3} - 1.32 x_{12} x_{30} + 1.42 x_{12} x_{4} + 0.48 x_{12} x_{5} + 0.18 x_{12} x_{6} + 0.76 x_{12} x_{7} - 1.38 x_{12} x_{8} + 1.16 x_{12} x_{9} + 0.439999999999999 x_{12} + 0.72 x_{13} x_{14} - 1.34 x_{13} x_{15} + 0.54 x_{13} x_{16} + 1.04 x_{13} x_{17} + 1.0 x_{13} x_{18} + 0.9 x_{13} x_{19} - 0.68 x_{13} x_{2} - 1.28 x_{13} x_{20} + 0.94 x_{13} x_{21} + 0.9 x_{13} x_{22} - 1.06 x_{13} x_{23} + 0.78 x_{13} x_{24} - 0.44 x_{13} x_{25} + 0.64 x_{13} x_{26} - 1.7 x_{13} x_{27} + 0.92 x_{13} x_{28} + 0.48 x_{13} x_{29} - 1.58 x_{13} x_{3} + 1.06 x_{13} x_{30} - 1.7 x_{13} x_{4} - 0.7 x_{13} x_{5} + 0.54 x_{13} x_{6} + 1.42 x_{13} x_{7} + 0.8 x_{13} x_{8} + 0.82 x_{13} x_{9} - 0.350000000000002 x_{13} - 1.36 x_{14} x_{15} + 0.62 x_{14} x_{16} + 1.88 x_{14} x_{17} + 1.76 x_{14} x_{18} - 1.7 x_{14} x_{19} + 0.86 x_{14} x_{2} - 0.12 x_{14} x_{20} - 1.06 x_{14} x_{21} + 0.9 x_{14} x_{22} + 1.02 x_{14} x_{23} + 0.72 x_{14} x_{24} + 1.32 x_{14} x_{25} + 1.92 x_{14} x_{26} + 1.7 x_{14} x_{27} - 1.9 x_{14} x_{28} - 1.94 x_{14} x_{29} + 1.44 x_{14} x_{3} - 1.0 x_{14} x_{30} - 1.98 x_{14} x_{4} + 0.02 x_{14} x_{5} + 1.78 x_{14} x_{6} - 0.06 x_{14} x_{7} + 1.08 x_{14} x_{8} - 0.38 x_{14} x_{9} - 3.6 x_{14} + 0.38 x_{15} x_{16} + 0.84 x_{15} x_{17} + 1.08 x_{15} x_{18} - 0.68 x_{15} x_{19} - 1.66 x_{15} x_{2} - 1.32 x_{15} x_{20} - 1.8 x_{15} x_{21} + 1.6 x_{15} x_{22} - 0.9 x_{15} x_{23} - 1.1 x_{15} x_{24} + 0.18 x_{15} x_{25} + 0.18 x_{15} x_{26} - 1.66 x_{15} x_{27} + 1.18 x_{15} x_{28} + 1.08 x_{15} x_{29} + 1.1 x_{15} x_{3} - 0.58 x_{15} x_{30} - 0.8 x_{15} x_{4} - 1.18 x_{15} x_{5} - 1.86 x_{15} x_{6} + 1.48 x_{15} x_{7} - 0.76 x_{15} x_{8} + 1.16 x_{15} x_{9} + 3.21 x_{15} + 0.54 x_{16} x_{17} + 0.3 x_{16} x_{18} - 0.06 x_{16} x_{19} - 1.54 x_{16} x_{2} + 0.46 x_{16} x_{20} + 1.74 x_{16} x_{21} + 1.6 x_{16} x_{22} - 1.22 x_{16} x_{23} - 0.24 x_{16} x_{24} - 0.44 x_{16} x_{25} + 0.32 x_{16} x_{26} + 0.34 x_{16} x_{27} + 1.26 x_{16} x_{28} + 0.9 x_{16} x_{29} + 0.02 x_{16} x_{3} + 1.08 x_{16} x_{30} - 0.62 x_{16} x_{4} + 0.84 x_{16} x_{5} - 0.44 x_{16} x_{6} + 1.82 x_{16} x_{7} - 0.68 x_{16} x_{8} - 0.36 x_{16} x_{9} - 4.18 x_{16} + 0.7 x_{17} x_{18} - 0.54 x_{17} x_{19} - 1.14 x_{17} x_{2} - 0.82 x_{17} x_{20} - 1.24 x_{17} x_{21} - 0.34 x_{17} x_{22} - 1.38 x_{17} x_{23} + 0.54 x_{17} x_{24} + 0.08 x_{17} x_{25} - 0.38 x_{17} x_{26} - 0.08 x_{17} x_{27} - 0.02 x_{17} x_{28} + 0.64 x_{17} x_{29} - 1.8 x_{17} x_{3} + 0.84 x_{17} x_{30} + 1.2 x_{17} x_{4} + 0.98 x_{17} x_{5} + 0.42 x_{17} x_{6} + 0.68 x_{17} x_{7} + 1.28 x_{17} x_{8} - 1.3 x_{17} x_{9} - 0.67 x_{17} + 1.48 x_{18} x_{19} + 0.06 x_{18} x_{2} + 1.3 x_{18} x_{20} - 1.9 x_{18} x_{21} + 1.88 x_{18} x_{22} - 0.52 x_{18} x_{23} + 0.32 x_{18} x_{24} + 0.88 x_{18} x_{25} + 1.6 x_{18} x_{26} - 1.86 x_{18} x_{27} - 1.2 x_{18} x_{28} - 1.42 x_{18} x_{29} + 1.76 x_{18} x_{3} + 1.82 x_{18} x_{30} + 0.92 x_{18} x_{4} + 0.98 x_{18} x_{5} - 0.68 x_{18} x_{6} + 0.46 x_{18} x_{7} - 1.88 x_{18} x_{8} - 1.0 x_{18} x_{9} - 3.19 x_{18} - 0.12 x_{19} x_{2} - 0.64 x_{19} x_{20} + 1.92 x_{19} x_{21} - 1.84 x_{19} x_{22} - 0.12 x_{19} x_{23} + 1.58 x_{19} x_{24} - 1.18 x_{19} x_{25} + 1.94 x_{19} x_{26} + 0.72 x_{19} x_{27} + 1.86 x_{19} x_{28} + 0.96 x_{19} x_{29} + 0.74 x_{19} x_{3} - 1.28 x_{19} x_{30} + 0.76 x_{19} x_{4} + 1.26 x_{19} x_{5} - 0.52 x_{19} x_{6} - 1.88 x_{19} x_{7} - 1.46 x_{19} x_{8} + 0.5 x_{19} x_{9} - 0.660000000000001 x_{19} - 1.74 x_{2} x_{20} - 1.66 x_{2} x_{21} - 1.64 x_{2} x_{22} - 1.38 x_{2} x_{23} + 0.58 x_{2} x_{24} + 0.66 x_{2} x_{25} + 0.02 x_{2} x_{26} + 1.54 x_{2} x_{27} + 0.02 x_{2} x_{28} + 1.9 x_{2} x_{29} + 0.04 x_{2} x_{3} - 0.28 x_{2} x_{30} - 1.0 x_{2} x_{4} - 0.44 x_{2} x_{5} - 1.56 x_{2} x_{6} - 1.64 x_{2} x_{7} - 1.06 x_{2} x_{8} - 1.06 x_{2} x_{9} + 7.63 x_{2} + 1.74 x_{20} x_{21} - 0.72 x_{20} x_{22} + 0.08 x_{20} x_{23} + 0.52 x_{20} x_{24} - 0.9 x_{20} x_{25} - 0.44 x_{20} x_{26} + 0.86 x_{20} x_{27} + 1.72 x_{20} x_{28} + 0.44 x_{20} x_{29} - 1.36 x_{20} x_{3} - 0.2 x_{20} x_{30} + 1.42 x_{20} x_{4} - 1.28 x_{20} x_{5} - 0.82 x_{20} x_{6} - 0.96 x_{20} x_{7} + 0.42 x_{20} x_{8} + 1.56 x_{20} x_{9} + 2.44 x_{20} + 0.28 x_{21} x_{22} + 0.1 x_{21} x_{23} - 1.72 x_{21} x_{24} - 0.18 x_{21} x_{25} - 0.24 x_{21} x_{26} - 0.82 x_{21} x_{27} - 0.8 x_{21} x_{28} - 0.9 x_{21} x_{29} + 1.88 x_{21} x_{3} + 0.3 x_{21} x_{30} + 1.72 x_{21} x_{4} - 1.48 x_{21} x_{5} + 0.3 x_{21} x_{6} + 0.82 x_{21} x_{7} - 1.0 x_{21} x_{8} - 1.28 x_{21} x_{9} + 3.77 x_{21} - 0.74 x_{22} x_{23} + 0.96 x_{22} x_{24} + 1.98 x_{22} x_{25} + 1.56 x_{22} x_{26} + 0.08 x_{22} x_{27} + 0.22 x_{22} x_{28} + 0.16 x_{22} x_{29} - 1.22 x_{22} x_{3} + 1.96 x_{22} x_{30} - 1.78 x_{22} x_{4} + 1.28 x_{22} x_{5} + 0.62 x_{22} x_{6} + 1.42 x_{22} x_{7} + 1.78 x_{22} x_{8} - 1.06 x_{22} x_{9} - 3.84 x_{22} - 1.62 x_{23} x_{24} - 0.24 x_{23} x_{25} - 1.4 x_{23} x_{26} - 1.74 x_{23} x_{27} - 0.2 x_{23} x_{28} - 1.9 x_{23} x_{29} - 1.6 x_{23} x_{3} - 0.68 x_{23} x_{30} - 1.0 x_{23} x_{4} - 0.44 x_{23} x_{5} + 1.84 x_{23} x_{6} - 0.66 x_{23} x_{7} - 1.0 x_{23} x_{8} - 0.52 x_{23} x_{9} + 7.62 x_{23} - 0.84 x_{24} x_{25} + 0.18 x_{24} x_{26} - 0.26 x_{24} x_{27} + 0.04 x_{24} x_{28} + 0.54 x_{24} x_{29} - 0.02 x_{24} x_{3} + 0.68 x_{24} x_{30} + 0.72 x_{24} x_{4} + 0.24 x_{24} x_{5} - 1.8 x_{24} x_{6} + 0.98 x_{24} x_{7} + 1.32 x_{24} x_{8} - 0.64 x_{24} x_{9} - 1.32 x_{24} - 0.82 x_{25} x_{26} - 0.12 x_{25} x_{27} + 1.42 x_{25} x_{28} - 0.96 x_{25} x_{29} - 0.68 x_{25} x_{3} + 1.48 x_{25} x_{30} - 0.14 x_{25} x_{4} + 0.98 x_{25} x_{5} - 0.94 x_{25} x_{6} - 1.92 x_{25} x_{7} - 0.14 x_{25} x_{8} - 1.88 x_{25} x_{9} + 1.69 x_{25} + 1.88 x_{26} x_{27} - 0.04 x_{26} x_{28} - 0.18 x_{26} x_{29} - 0.86 x_{26} x_{3} - 0.42 x_{26} x_{30} + 0.86 x_{26} x_{4} + 1.28 x_{26} x_{6} + 1.04 x_{26} x_{7} + 1.94 x_{26} x_{8} - 0.74 x_{26} x_{9} - 5.35 x_{26} + 0.94 x_{27} x_{28} + 1.96 x_{27} x_{29} - 1.9 x_{27} x_{3} - 0.1 x_{27} x_{30} + 1.0 x_{27} x_{4} - 0.66 x_{27} x_{5} + 0.72 x_{27} x_{6} + 0.28 x_{27} x_{7} - 1.56 x_{27} x_{8} - 0.28 x_{27} x_{9} + 1.05 x_{27} + 0.3 x_{28} x_{29} + 1.36 x_{28} x_{3} - 0.04 x_{28} x_{30} + 0.14 x_{28} x_{4} + 1.94 x_{28} x_{5} + 0.88 x_{28} x_{6} - 1.2 x_{28} x_{7} + 1.54 x_{28} x_{8} - 1.7 x_{28} x_{9} - 4.22 x_{28} + 0.54 x_{29} x_{3} + 0.4 x_{29} x_{30} - 0.82 x_{29} x_{4} - 0.58 x_{29} x_{5} + 1.08 x_{29} x_{6} + 1.7 x_{29} x_{7} + 0.9 x_{29} x_{8} - 0.44 x_{29} x_{9} - 1.8 x_{29} + 1.06 x_{3} x_{30} - 0.26 x_{3} x_{4} - 0.5 x_{3} x_{5} + 1.84 x_{3} x_{6} + 0.78 x_{3} x_{7} + 0.68 x_{3} x_{8} - 0.92 x_{3} x_{9} - 1.11 x_{3} - 0.38 x_{30} x_{4} - 0.24 x_{30} x_{5} - 1.56 x_{30} x_{6} + 0.68 x_{30} x_{7} - 1.64 x_{30} x_{8} - 0.58 x_{30} x_{9} + 0.830000000000001 x_{30} + 0.6 x_{4} x_{5} - 0.32 x_{4} x_{6} + 0.66 x_{4} x_{7} - 1.36 x_{4} x_{8} - 1.68 x_{4} x_{9} - 0.159999999999998 x_{4} + 0.98 x_{5} x_{6} + 1.2 x_{5} x_{7} + 0.82 x_{5} x_{8} + 1.9 x_{5} x_{9} - 1.93 x_{5} + 1.5 x_{6} x_{7} + 1.94 x_{6} x_{8} + 0.78 x_{6} x_{9} - 5.54 x_{6} + 1.58 x_{7} x_{8} - 0.36 x_{7} x_{9} - 4.25 x_{7} + 0.1 x_{8} x_{9} - 1.61 x_{8} + 4.79 x_{9}$"
      ],
      "text/plain": [
       "-1.78*x1*x10 + 1.1*x1*x11 - 0.76*x1*x12 - 0.18*x1*x13 + 0.54*x1*x14 + 0.04*x1*x15 + 0.7*x1*x16 + 0.38*x1*x17 + 0.38*x1*x18 - 1.18*x1*x19 - 1.74*x1*x2 - 1.22*x1*x20 + 0.62*x1*x21 + 1.06*x1*x22 - 0.04*x1*x23 - 0.78*x1*x24 - 0.68*x1*x25 - 0.44*x1*x26 - 1.5*x1*x27 - 0.62*x1*x28 - 0.78*x1*x29 + 0.56*x1*x3 - 1.8*x1*x30 + 0.56*x1*x4 - 0.86*x1*x5 + 1.66*x1*x6 + 1.44*x1*x7 + 1.46*x1*x8 - 0.84*x1*x9 + 2.35*x1 - 1.44*x10*x11 - 1.14*x10*x12 - 1.92*x10*x13 - 1.08*x10*x14 - 0.28*x10*x15 - 0.4*x10*x16 - 1.48*x10*x17 - 0.42*x10*x18 + 0.54*x10*x19 - 0.34*x10*x2 - 1.7*x10*x20 - 1.5*x10*x21 - 1.86*x10*x22 + 0.82*x10*x23 + 1.7*x10*x24 - 0.1*x10*x25 + 0.66*x10*x26 - 1.96*x10*x27 - 0.32*x10*x28 + 1.62*x10*x29 + 1.0*x10*x3 - 0.96*x10*x30 + 0.18*x10*x4 - 1.4*x10*x5 + 1.9*x10*x6 - 1.74*x10*x7 + 0.72*x10*x8 - 0.56*x10*x9 + 6.62*x10 - 0.32*x11*x12 + 0.5*x11*x13 + 0.52*x11*x14 + 1.84*x11*x15 + 1.9*x11*x16 - 0.02*x11*x17 - 1.74*x11*x18 - 1.56*x11*x19 - 1.96*x11*x2 - 0.34*x11*x20 - 1.26*x11*x21 + 0.52*x11*x22 + 1.36*x11*x23 + 0.64*x11*x24 - 0.74*x11*x25 - 0.84*x11*x26 + 1.36*x11*x27 - 0.52*x11*x28 - 0.48*x11*x29 - 0.28*x11*x3 + 0.04*x11*x30 + 2.0*x11*x4 - 0.88*x11*x5 + 1.34*x11*x6 - 1.78*x11*x7 - 1.22*x11*x8 + 0.02*x11*x9 + 1.12*x11 - 0.72*x12*x13 + 0.98*x12*x14 - 1.28*x12*x15 - 1.0*x12*x16 - 0.16*x12*x17 + 0.32*x12*x18 + 0.92*x12*x19 + 1.7*x12*x2 + 0.46*x12*x20 - 1.06*x12*x21 - 1.88*x12*x22 - 0.1*x12*x23 - 1.38*x12*x24 + 0.98*x12*x25 + 1.48*x12*x26 + 0.72*x12*x27 + 1.26*x12*x28 - 1.6*x12*x29 + 0.4*x12*x3 - 1.32*x12*x30 + 1.42*x12*x4 + 0.48*x12*x5 + 0.18*x12*x6 + 0.76*x12*x7 - 1.38*x12*x8 + 1.16*x12*x9 + 0.439999999999999*x12 + 0.72*x13*x14 - 1.34*x13*x15 + 0.54*x13*x16 + 1.04*x13*x17 + 1.0*x13*x18 + 0.9*x13*x19 - 0.68*x13*x2 - 1.28*x13*x20 + 0.94*x13*x21 + 0.9*x13*x22 - 1.06*x13*x23 + 0.78*x13*x24 - 0.44*x13*x25 + 0.64*x13*x26 - 1.7*x13*x27 + 0.92*x13*x28 + 0.48*x13*x29 - 1.58*x13*x3 + 1.06*x13*x30 - 1.7*x13*x4 - 0.7*x13*x5 + 0.54*x13*x6 + 1.42*x13*x7 + 0.8*x13*x8 + 0.82*x13*x9 - 0.350000000000002*x13 - 1.36*x14*x15 + 0.62*x14*x16 + 1.88*x14*x17 + 1.76*x14*x18 - 1.7*x14*x19 + 0.86*x14*x2 - 0.12*x14*x20 - 1.06*x14*x21 + 0.9*x14*x22 + 1.02*x14*x23 + 0.72*x14*x24 + 1.32*x14*x25 + 1.92*x14*x26 + 1.7*x14*x27 - 1.9*x14*x28 - 1.94*x14*x29 + 1.44*x14*x3 - 1.0*x14*x30 - 1.98*x14*x4 + 0.02*x14*x5 + 1.78*x14*x6 - 0.06*x14*x7 + 1.08*x14*x8 - 0.38*x14*x9 - 3.6*x14 + 0.38*x15*x16 + 0.84*x15*x17 + 1.08*x15*x18 - 0.68*x15*x19 - 1.66*x15*x2 - 1.32*x15*x20 - 1.8*x15*x21 + 1.6*x15*x22 - 0.9*x15*x23 - 1.1*x15*x24 + 0.18*x15*x25 + 0.18*x15*x26 - 1.66*x15*x27 + 1.18*x15*x28 + 1.08*x15*x29 + 1.1*x15*x3 - 0.58*x15*x30 - 0.8*x15*x4 - 1.18*x15*x5 - 1.86*x15*x6 + 1.48*x15*x7 - 0.76*x15*x8 + 1.16*x15*x9 + 3.21*x15 + 0.54*x16*x17 + 0.3*x16*x18 - 0.06*x16*x19 - 1.54*x16*x2 + 0.46*x16*x20 + 1.74*x16*x21 + 1.6*x16*x22 - 1.22*x16*x23 - 0.24*x16*x24 - 0.44*x16*x25 + 0.32*x16*x26 + 0.34*x16*x27 + 1.26*x16*x28 + 0.9*x16*x29 + 0.02*x16*x3 + 1.08*x16*x30 - 0.62*x16*x4 + 0.84*x16*x5 - 0.44*x16*x6 + 1.82*x16*x7 - 0.68*x16*x8 - 0.36*x16*x9 - 4.18*x16 + 0.7*x17*x18 - 0.54*x17*x19 - 1.14*x17*x2 - 0.82*x17*x20 - 1.24*x17*x21 - 0.34*x17*x22 - 1.38*x17*x23 + 0.54*x17*x24 + 0.08*x17*x25 - 0.38*x17*x26 - 0.08*x17*x27 - 0.02*x17*x28 + 0.64*x17*x29 - 1.8*x17*x3 + 0.84*x17*x30 + 1.2*x17*x4 + 0.98*x17*x5 + 0.42*x17*x6 + 0.68*x17*x7 + 1.28*x17*x8 - 1.3*x17*x9 - 0.67*x17 + 1.48*x18*x19 + 0.06*x18*x2 + 1.3*x18*x20 - 1.9*x18*x21 + 1.88*x18*x22 - 0.52*x18*x23 + 0.32*x18*x24 + 0.88*x18*x25 + 1.6*x18*x26 - 1.86*x18*x27 - 1.2*x18*x28 - 1.42*x18*x29 + 1.76*x18*x3 + 1.82*x18*x30 + 0.92*x18*x4 + 0.98*x18*x5 - 0.68*x18*x6 + 0.46*x18*x7 - 1.88*x18*x8 - 1.0*x18*x9 - 3.19*x18 - 0.12*x19*x2 - 0.64*x19*x20 + 1.92*x19*x21 - 1.84*x19*x22 - 0.12*x19*x23 + 1.58*x19*x24 - 1.18*x19*x25 + 1.94*x19*x26 + 0.72*x19*x27 + 1.86*x19*x28 + 0.96*x19*x29 + 0.74*x19*x3 - 1.28*x19*x30 + 0.76*x19*x4 + 1.26*x19*x5 - 0.52*x19*x6 - 1.88*x19*x7 - 1.46*x19*x8 + 0.5*x19*x9 - 0.660000000000001*x19 - 1.74*x2*x20 - 1.66*x2*x21 - 1.64*x2*x22 - 1.38*x2*x23 + 0.58*x2*x24 + 0.66*x2*x25 + 0.02*x2*x26 + 1.54*x2*x27 + 0.02*x2*x28 + 1.9*x2*x29 + 0.04*x2*x3 - 0.28*x2*x30 - 1.0*x2*x4 - 0.44*x2*x5 - 1.56*x2*x6 - 1.64*x2*x7 - 1.06*x2*x8 - 1.06*x2*x9 + 7.63*x2 + 1.74*x20*x21 - 0.72*x20*x22 + 0.08*x20*x23 + 0.52*x20*x24 - 0.9*x20*x25 - 0.44*x20*x26 + 0.86*x20*x27 + 1.72*x20*x28 + 0.44*x20*x29 - 1.36*x20*x3 - 0.2*x20*x30 + 1.42*x20*x4 - 1.28*x20*x5 - 0.82*x20*x6 - 0.96*x20*x7 + 0.42*x20*x8 + 1.56*x20*x9 + 2.44*x20 + 0.28*x21*x22 + 0.1*x21*x23 - 1.72*x21*x24 - 0.18*x21*x25 - 0.24*x21*x26 - 0.82*x21*x27 - 0.8*x21*x28 - 0.9*x21*x29 + 1.88*x21*x3 + 0.3*x21*x30 + 1.72*x21*x4 - 1.48*x21*x5 + 0.3*x21*x6 + 0.82*x21*x7 - 1.0*x21*x8 - 1.28*x21*x9 + 3.77*x21 - 0.74*x22*x23 + 0.96*x22*x24 + 1.98*x22*x25 + 1.56*x22*x26 + 0.08*x22*x27 + 0.22*x22*x28 + 0.16*x22*x29 - 1.22*x22*x3 + 1.96*x22*x30 - 1.78*x22*x4 + 1.28*x22*x5 + 0.62*x22*x6 + 1.42*x22*x7 + 1.78*x22*x8 - 1.06*x22*x9 - 3.84*x22 - 1.62*x23*x24 - 0.24*x23*x25 - 1.4*x23*x26 - 1.74*x23*x27 - 0.2*x23*x28 - 1.9*x23*x29 - 1.6*x23*x3 - 0.68*x23*x30 - 1.0*x23*x4 - 0.44*x23*x5 + 1.84*x23*x6 - 0.66*x23*x7 - 1.0*x23*x8 - 0.52*x23*x9 + 7.62*x23 - 0.84*x24*x25 + 0.18*x24*x26 - 0.26*x24*x27 + 0.04*x24*x28 + 0.54*x24*x29 - 0.02*x24*x3 + 0.68*x24*x30 + 0.72*x24*x4 + 0.24*x24*x5 - 1.8*x24*x6 + 0.98*x24*x7 + 1.32*x24*x8 - 0.64*x24*x9 - 1.32*x24 - 0.82*x25*x26 - 0.12*x25*x27 + 1.42*x25*x28 - 0.96*x25*x29 - 0.68*x25*x3 + 1.48*x25*x30 - 0.14*x25*x4 + 0.98*x25*x5 - 0.94*x25*x6 - 1.92*x25*x7 - 0.14*x25*x8 - 1.88*x25*x9 + 1.69*x25 + 1.88*x26*x27 - 0.04*x26*x28 - 0.18*x26*x29 - 0.86*x26*x3 - 0.42*x26*x30 + 0.86*x26*x4 + 1.28*x26*x6 + 1.04*x26*x7 + 1.94*x26*x8 - 0.74*x26*x9 - 5.35*x26 + 0.94*x27*x28 + 1.96*x27*x29 - 1.9*x27*x3 - 0.1*x27*x30 + 1.0*x27*x4 - 0.66*x27*x5 + 0.72*x27*x6 + 0.28*x27*x7 - 1.56*x27*x8 - 0.28*x27*x9 + 1.05*x27 + 0.3*x28*x29 + 1.36*x28*x3 - 0.04*x28*x30 + 0.14*x28*x4 + 1.94*x28*x5 + 0.88*x28*x6 - 1.2*x28*x7 + 1.54*x28*x8 - 1.7*x28*x9 - 4.22*x28 + 0.54*x29*x3 + 0.4*x29*x30 - 0.82*x29*x4 - 0.58*x29*x5 + 1.08*x29*x6 + 1.7*x29*x7 + 0.9*x29*x8 - 0.44*x29*x9 - 1.8*x29 + 1.06*x3*x30 - 0.26*x3*x4 - 0.5*x3*x5 + 1.84*x3*x6 + 0.78*x3*x7 + 0.68*x3*x8 - 0.92*x3*x9 - 1.11*x3 - 0.38*x30*x4 - 0.24*x30*x5 - 1.56*x30*x6 + 0.68*x30*x7 - 1.64*x30*x8 - 0.58*x30*x9 + 0.830000000000001*x30 + 0.6*x4*x5 - 0.32*x4*x6 + 0.66*x4*x7 - 1.36*x4*x8 - 1.68*x4*x9 - 0.159999999999998*x4 + 0.98*x5*x6 + 1.2*x5*x7 + 0.82*x5*x8 + 1.9*x5*x9 - 1.93*x5 + 1.5*x6*x7 + 1.94*x6*x8 + 0.78*x6*x9 - 5.54*x6 + 1.58*x7*x8 - 0.36*x7*x9 - 4.25*x7 + 0.1*x8*x9 - 1.61*x8 + 4.79*x9"
      ]
     },
     "execution_count": 67,
     "metadata": {},
     "output_type": "execute_result"
    }
   ],
   "source": [
    "simplified_qubo = simplify(qubo_expr)\n",
    "simplified_qubo"
   ]
  },
  {
   "cell_type": "code",
   "execution_count": 68,
   "metadata": {},
   "outputs": [],
   "source": [
    "# x1, x2 = symbols('x1 x2')\n",
    "# term = 0.18 * x1 * x2\n",
    "\n",
    "# # term.coeff()\n",
    "\n"
   ]
  },
  {
   "cell_type": "code",
   "execution_count": 69,
   "metadata": {},
   "outputs": [],
   "source": [
    "# from sympy import symbols\n",
    "\n",
    "# # Define the variables\n",
    "# x1, x2 = symbols('x1 x2')\n",
    "\n",
    "# # Example term\n",
    "# term = 0.18 * x1 * x2\n",
    "\n",
    "# # Extract the coefficient of the specific term (x1 * x2)\n",
    "# coefficient = term.coeff(Mul(*(term.free_symbols)))\n",
    "\n",
    "# print(\"Term:\", term)\n",
    "# print(\"Coefficient:\", coefficient)\n"
   ]
  },
  {
   "cell_type": "code",
   "execution_count": 70,
   "metadata": {
    "colab": {
     "base_uri": "https://localhost:8080/",
     "height": 78
    },
    "id": "Mg1C7xgg6mKX",
    "outputId": "91b741dc-08b3-48cf-973c-1a1a54ddc139"
   },
   "outputs": [
    {
     "data": {
      "text/latex": [
       "$\\displaystyle \\left[\\begin{array}{cccccccccccccccccccccccccccccc}2.35 & -1.74 & 0.56 & 0.56 & -0.86 & 1.66 & 1.44 & 1.46 & -0.84 & -1.78 & 1.1 & -0.76 & -0.18 & 0.54 & 0.04 & 0.7 & 0.38 & 0.38 & -1.18 & -1.22 & 0.62 & 1.06 & -0.04 & -0.78 & -0.68 & -0.44 & -1.5 & -0.62 & -0.78 & -1.8\\\\-1.74 & 7.63 & 0.04 & -1.0 & -0.44 & -1.56 & -1.64 & -1.06 & -1.06 & -0.34 & -1.96 & 1.7 & -0.68 & 0.86 & -1.66 & -1.54 & -1.14 & 0.06 & -0.12 & -1.74 & -1.66 & -1.64 & -1.38 & 0.58 & 0.66 & 0.02 & 1.54 & 0.02 & 1.9 & -0.28\\\\0.56 & 0.04 & -1.11 & -0.26 & -0.5 & 1.84 & 0.78 & 0.68 & -0.92 & 1.0 & -0.28 & 0.4 & -1.58 & 1.44 & 1.1 & 0.02 & -1.8 & 1.76 & 0.74 & -1.36 & 1.88 & -1.22 & -1.6 & -0.02 & -0.68 & -0.86 & -1.9 & 1.36 & 0.54 & 1.06\\\\0.56 & -1.0 & -0.26 & -0.159999999999998 & 0.6 & -0.32 & 0.66 & -1.36 & -1.68 & 0.18 & 2.0 & 1.42 & -1.7 & -1.98 & -0.8 & -0.62 & 1.2 & 0.92 & 0.76 & 1.42 & 1.72 & -1.78 & -1.0 & 0.72 & -0.14 & 0.86 & 1.0 & 0.14 & -0.82 & -0.38\\\\-0.86 & -0.44 & -0.5 & 0.6 & -1.93 & 0.98 & 1.2 & 0.82 & 1.9 & -1.4 & -0.88 & 0.48 & -0.7 & 0.02 & -1.18 & 0.84 & 0.98 & 0.98 & 1.26 & -1.28 & -1.48 & 1.28 & -0.44 & 0.24 & 0.98 & 0 & -0.66 & 1.94 & -0.58 & -0.24\\\\1.66 & -1.56 & 1.84 & -0.32 & 0.98 & -5.54 & 1.5 & 1.94 & 0.78 & 1.9 & 1.34 & 0.18 & 0.54 & 1.78 & -1.86 & -0.44 & 0.42 & -0.68 & -0.52 & -0.82 & 0.3 & 0.62 & 1.84 & -1.8 & -0.94 & 1.28 & 0.72 & 0.88 & 1.08 & -1.56\\\\1.44 & -1.64 & 0.78 & 0.66 & 1.2 & 1.5 & -4.25 & 1.58 & -0.36 & -1.74 & -1.78 & 0.76 & 1.42 & -0.06 & 1.48 & 1.82 & 0.68 & 0.46 & -1.88 & -0.96 & 0.82 & 1.42 & -0.66 & 0.98 & -1.92 & 1.04 & 0.28 & -1.2 & 1.7 & 0.68\\\\1.46 & -1.06 & 0.68 & -1.36 & 0.82 & 1.94 & 1.58 & -1.61 & 0.1 & 0.72 & -1.22 & -1.38 & 0.8 & 1.08 & -0.76 & -0.68 & 1.28 & -1.88 & -1.46 & 0.42 & -1.0 & 1.78 & -1.0 & 1.32 & -0.14 & 1.94 & -1.56 & 1.54 & 0.9 & -1.64\\\\-0.84 & -1.06 & -0.92 & -1.68 & 1.9 & 0.78 & -0.36 & 0.1 & 4.79 & -0.56 & 0.02 & 1.16 & 0.82 & -0.38 & 1.16 & -0.36 & -1.3 & -1.0 & 0.5 & 1.56 & -1.28 & -1.06 & -0.52 & -0.64 & -1.88 & -0.74 & -0.28 & -1.7 & -0.44 & -0.58\\\\-1.78 & -0.34 & 1.0 & 0.18 & -1.4 & 1.9 & -1.74 & 0.72 & -0.56 & 6.62 & -1.44 & -1.14 & -1.92 & -1.08 & -0.28 & -0.4 & -1.48 & -0.42 & 0.54 & -1.7 & -1.5 & -1.86 & 0.82 & 1.7 & -0.1 & 0.66 & -1.96 & -0.32 & 1.62 & -0.96\\\\1.1 & -1.96 & -0.28 & 2.0 & -0.88 & 1.34 & -1.78 & -1.22 & 0.02 & -1.44 & 1.12 & -0.32 & 0.5 & 0.52 & 1.84 & 1.9 & -0.02 & -1.74 & -1.56 & -0.34 & -1.26 & 0.52 & 1.36 & 0.64 & -0.74 & -0.84 & 1.36 & -0.52 & -0.48 & 0.04\\\\-0.76 & 1.7 & 0.4 & 1.42 & 0.48 & 0.18 & 0.76 & -1.38 & 1.16 & -1.14 & -0.32 & 0.439999999999999 & -0.72 & 0.98 & -1.28 & -1.0 & -0.16 & 0.32 & 0.92 & 0.46 & -1.06 & -1.88 & -0.1 & -1.38 & 0.98 & 1.48 & 0.72 & 1.26 & -1.6 & -1.32\\\\-0.18 & -0.68 & -1.58 & -1.7 & -0.7 & 0.54 & 1.42 & 0.8 & 0.82 & -1.92 & 0.5 & -0.72 & -0.350000000000002 & 0.72 & -1.34 & 0.54 & 1.04 & 1.0 & 0.9 & -1.28 & 0.94 & 0.9 & -1.06 & 0.78 & -0.44 & 0.64 & -1.7 & 0.92 & 0.48 & 1.06\\\\0.54 & 0.86 & 1.44 & -1.98 & 0.02 & 1.78 & -0.06 & 1.08 & -0.38 & -1.08 & 0.52 & 0.98 & 0.72 & -3.6 & -1.36 & 0.62 & 1.88 & 1.76 & -1.7 & -0.12 & -1.06 & 0.9 & 1.02 & 0.72 & 1.32 & 1.92 & 1.7 & -1.9 & -1.94 & -1.0\\\\0.04 & -1.66 & 1.1 & -0.8 & -1.18 & -1.86 & 1.48 & -0.76 & 1.16 & -0.28 & 1.84 & -1.28 & -1.34 & -1.36 & 3.21 & 0.38 & 0.84 & 1.08 & -0.68 & -1.32 & -1.8 & 1.6 & -0.9 & -1.1 & 0.18 & 0.18 & -1.66 & 1.18 & 1.08 & -0.58\\\\0.7 & -1.54 & 0.02 & -0.62 & 0.84 & -0.44 & 1.82 & -0.68 & -0.36 & -0.4 & 1.9 & -1.0 & 0.54 & 0.62 & 0.38 & -4.18 & 0.54 & 0.3 & -0.06 & 0.46 & 1.74 & 1.6 & -1.22 & -0.24 & -0.44 & 0.32 & 0.34 & 1.26 & 0.9 & 1.08\\\\0.38 & -1.14 & -1.8 & 1.2 & 0.98 & 0.42 & 0.68 & 1.28 & -1.3 & -1.48 & -0.02 & -0.16 & 1.04 & 1.88 & 0.84 & 0.54 & -0.67 & 0.7 & -0.54 & -0.82 & -1.24 & -0.34 & -1.38 & 0.54 & 0.08 & -0.38 & -0.08 & -0.02 & 0.64 & 0.84\\\\0.38 & 0.06 & 1.76 & 0.92 & 0.98 & -0.68 & 0.46 & -1.88 & -1.0 & -0.42 & -1.74 & 0.32 & 1.0 & 1.76 & 1.08 & 0.3 & 0.7 & -3.19 & 1.48 & 1.3 & -1.9 & 1.88 & -0.52 & 0.32 & 0.88 & 1.6 & -1.86 & -1.2 & -1.42 & 1.82\\\\-1.18 & -0.12 & 0.74 & 0.76 & 1.26 & -0.52 & -1.88 & -1.46 & 0.5 & 0.54 & -1.56 & 0.92 & 0.9 & -1.7 & -0.68 & -0.06 & -0.54 & 1.48 & -0.660000000000001 & -0.64 & 1.92 & -1.84 & -0.12 & 1.58 & -1.18 & 1.94 & 0.72 & 1.86 & 0.96 & -1.28\\\\-1.22 & -1.74 & -1.36 & 1.42 & -1.28 & -0.82 & -0.96 & 0.42 & 1.56 & -1.7 & -0.34 & 0.46 & -1.28 & -0.12 & -1.32 & 0.46 & -0.82 & 1.3 & -0.64 & 2.44 & 1.74 & -0.72 & 0.08 & 0.52 & -0.9 & -0.44 & 0.86 & 1.72 & 0.44 & -0.2\\\\0.62 & -1.66 & 1.88 & 1.72 & -1.48 & 0.3 & 0.82 & -1.0 & -1.28 & -1.5 & -1.26 & -1.06 & 0.94 & -1.06 & -1.8 & 1.74 & -1.24 & -1.9 & 1.92 & 1.74 & 3.77 & 0.28 & 0.1 & -1.72 & -0.18 & -0.24 & -0.82 & -0.8 & -0.9 & 0.3\\\\1.06 & -1.64 & -1.22 & -1.78 & 1.28 & 0.62 & 1.42 & 1.78 & -1.06 & -1.86 & 0.52 & -1.88 & 0.9 & 0.9 & 1.6 & 1.6 & -0.34 & 1.88 & -1.84 & -0.72 & 0.28 & -3.84 & -0.74 & 0.96 & 1.98 & 1.56 & 0.08 & 0.22 & 0.16 & 1.96\\\\-0.04 & -1.38 & -1.6 & -1.0 & -0.44 & 1.84 & -0.66 & -1.0 & -0.52 & 0.82 & 1.36 & -0.1 & -1.06 & 1.02 & -0.9 & -1.22 & -1.38 & -0.52 & -0.12 & 0.08 & 0.1 & -0.74 & 7.62 & -1.62 & -0.24 & -1.4 & -1.74 & -0.2 & -1.9 & -0.68\\\\-0.78 & 0.58 & -0.02 & 0.72 & 0.24 & -1.8 & 0.98 & 1.32 & -0.64 & 1.7 & 0.64 & -1.38 & 0.78 & 0.72 & -1.1 & -0.24 & 0.54 & 0.32 & 1.58 & 0.52 & -1.72 & 0.96 & -1.62 & -1.32 & -0.84 & 0.18 & -0.26 & 0.04 & 0.54 & 0.68\\\\-0.68 & 0.66 & -0.68 & -0.14 & 0.98 & -0.94 & -1.92 & -0.14 & -1.88 & -0.1 & -0.74 & 0.98 & -0.44 & 1.32 & 0.18 & -0.44 & 0.08 & 0.88 & -1.18 & -0.9 & -0.18 & 1.98 & -0.24 & -0.84 & 1.69 & -0.82 & -0.12 & 1.42 & -0.96 & 1.48\\\\-0.44 & 0.02 & -0.86 & 0.86 & 0 & 1.28 & 1.04 & 1.94 & -0.74 & 0.66 & -0.84 & 1.48 & 0.64 & 1.92 & 0.18 & 0.32 & -0.38 & 1.6 & 1.94 & -0.44 & -0.24 & 1.56 & -1.4 & 0.18 & -0.82 & -5.35 & 1.88 & -0.04 & -0.18 & -0.42\\\\-1.5 & 1.54 & -1.9 & 1.0 & -0.66 & 0.72 & 0.28 & -1.56 & -0.28 & -1.96 & 1.36 & 0.72 & -1.7 & 1.7 & -1.66 & 0.34 & -0.08 & -1.86 & 0.72 & 0.86 & -0.82 & 0.08 & -1.74 & -0.26 & -0.12 & 1.88 & 1.05 & 0.94 & 1.96 & -0.1\\\\-0.62 & 0.02 & 1.36 & 0.14 & 1.94 & 0.88 & -1.2 & 1.54 & -1.7 & -0.32 & -0.52 & 1.26 & 0.92 & -1.9 & 1.18 & 1.26 & -0.02 & -1.2 & 1.86 & 1.72 & -0.8 & 0.22 & -0.2 & 0.04 & 1.42 & -0.04 & 0.94 & -4.22 & 0.3 & -0.04\\\\-0.78 & 1.9 & 0.54 & -0.82 & -0.58 & 1.08 & 1.7 & 0.9 & -0.44 & 1.62 & -0.48 & -1.6 & 0.48 & -1.94 & 1.08 & 0.9 & 0.64 & -1.42 & 0.96 & 0.44 & -0.9 & 0.16 & -1.9 & 0.54 & -0.96 & -0.18 & 1.96 & 0.3 & -1.8 & 0.4\\\\-1.8 & -0.28 & 1.06 & -0.38 & -0.24 & -1.56 & 0.68 & -1.64 & -0.58 & -0.96 & 0.04 & -1.32 & 1.06 & -1.0 & -0.58 & 1.08 & 0.84 & 1.82 & -1.28 & -0.2 & 0.3 & 1.96 & -0.68 & 0.68 & 1.48 & -0.42 & -0.1 & -0.04 & 0.4 & 0.830000000000001\\end{array}\\right]$"
      ],
      "text/plain": [
       "Matrix([\n",
       "[ 2.35, -1.74,  0.56,               0.56, -0.86,  1.66,  1.44,  1.46, -0.84, -1.78,   1.1,             -0.76,              -0.18,  0.54,  0.04,   0.7,  0.38,  0.38,              -1.18, -1.22,  0.62,  1.06, -0.04, -0.78, -0.68, -0.44,  -1.5, -0.62, -0.78,              -1.8],\n",
       "[-1.74,  7.63,  0.04,               -1.0, -0.44, -1.56, -1.64, -1.06, -1.06, -0.34, -1.96,               1.7,              -0.68,  0.86, -1.66, -1.54, -1.14,  0.06,              -0.12, -1.74, -1.66, -1.64, -1.38,  0.58,  0.66,  0.02,  1.54,  0.02,   1.9,             -0.28],\n",
       "[ 0.56,  0.04, -1.11,              -0.26,  -0.5,  1.84,  0.78,  0.68, -0.92,   1.0, -0.28,               0.4,              -1.58,  1.44,   1.1,  0.02,  -1.8,  1.76,               0.74, -1.36,  1.88, -1.22,  -1.6, -0.02, -0.68, -0.86,  -1.9,  1.36,  0.54,              1.06],\n",
       "[ 0.56,  -1.0, -0.26, -0.159999999999998,   0.6, -0.32,  0.66, -1.36, -1.68,  0.18,   2.0,              1.42,               -1.7, -1.98,  -0.8, -0.62,   1.2,  0.92,               0.76,  1.42,  1.72, -1.78,  -1.0,  0.72, -0.14,  0.86,   1.0,  0.14, -0.82,             -0.38],\n",
       "[-0.86, -0.44,  -0.5,                0.6, -1.93,  0.98,   1.2,  0.82,   1.9,  -1.4, -0.88,              0.48,               -0.7,  0.02, -1.18,  0.84,  0.98,  0.98,               1.26, -1.28, -1.48,  1.28, -0.44,  0.24,  0.98,     0, -0.66,  1.94, -0.58,             -0.24],\n",
       "[ 1.66, -1.56,  1.84,              -0.32,  0.98, -5.54,   1.5,  1.94,  0.78,   1.9,  1.34,              0.18,               0.54,  1.78, -1.86, -0.44,  0.42, -0.68,              -0.52, -0.82,   0.3,  0.62,  1.84,  -1.8, -0.94,  1.28,  0.72,  0.88,  1.08,             -1.56],\n",
       "[ 1.44, -1.64,  0.78,               0.66,   1.2,   1.5, -4.25,  1.58, -0.36, -1.74, -1.78,              0.76,               1.42, -0.06,  1.48,  1.82,  0.68,  0.46,              -1.88, -0.96,  0.82,  1.42, -0.66,  0.98, -1.92,  1.04,  0.28,  -1.2,   1.7,              0.68],\n",
       "[ 1.46, -1.06,  0.68,              -1.36,  0.82,  1.94,  1.58, -1.61,   0.1,  0.72, -1.22,             -1.38,                0.8,  1.08, -0.76, -0.68,  1.28, -1.88,              -1.46,  0.42,  -1.0,  1.78,  -1.0,  1.32, -0.14,  1.94, -1.56,  1.54,   0.9,             -1.64],\n",
       "[-0.84, -1.06, -0.92,              -1.68,   1.9,  0.78, -0.36,   0.1,  4.79, -0.56,  0.02,              1.16,               0.82, -0.38,  1.16, -0.36,  -1.3,  -1.0,                0.5,  1.56, -1.28, -1.06, -0.52, -0.64, -1.88, -0.74, -0.28,  -1.7, -0.44,             -0.58],\n",
       "[-1.78, -0.34,   1.0,               0.18,  -1.4,   1.9, -1.74,  0.72, -0.56,  6.62, -1.44,             -1.14,              -1.92, -1.08, -0.28,  -0.4, -1.48, -0.42,               0.54,  -1.7,  -1.5, -1.86,  0.82,   1.7,  -0.1,  0.66, -1.96, -0.32,  1.62,             -0.96],\n",
       "[  1.1, -1.96, -0.28,                2.0, -0.88,  1.34, -1.78, -1.22,  0.02, -1.44,  1.12,             -0.32,                0.5,  0.52,  1.84,   1.9, -0.02, -1.74,              -1.56, -0.34, -1.26,  0.52,  1.36,  0.64, -0.74, -0.84,  1.36, -0.52, -0.48,              0.04],\n",
       "[-0.76,   1.7,   0.4,               1.42,  0.48,  0.18,  0.76, -1.38,  1.16, -1.14, -0.32, 0.439999999999999,              -0.72,  0.98, -1.28,  -1.0, -0.16,  0.32,               0.92,  0.46, -1.06, -1.88,  -0.1, -1.38,  0.98,  1.48,  0.72,  1.26,  -1.6,             -1.32],\n",
       "[-0.18, -0.68, -1.58,               -1.7,  -0.7,  0.54,  1.42,   0.8,  0.82, -1.92,   0.5,             -0.72, -0.350000000000002,  0.72, -1.34,  0.54,  1.04,   1.0,                0.9, -1.28,  0.94,   0.9, -1.06,  0.78, -0.44,  0.64,  -1.7,  0.92,  0.48,              1.06],\n",
       "[ 0.54,  0.86,  1.44,              -1.98,  0.02,  1.78, -0.06,  1.08, -0.38, -1.08,  0.52,              0.98,               0.72,  -3.6, -1.36,  0.62,  1.88,  1.76,               -1.7, -0.12, -1.06,   0.9,  1.02,  0.72,  1.32,  1.92,   1.7,  -1.9, -1.94,              -1.0],\n",
       "[ 0.04, -1.66,   1.1,               -0.8, -1.18, -1.86,  1.48, -0.76,  1.16, -0.28,  1.84,             -1.28,              -1.34, -1.36,  3.21,  0.38,  0.84,  1.08,              -0.68, -1.32,  -1.8,   1.6,  -0.9,  -1.1,  0.18,  0.18, -1.66,  1.18,  1.08,             -0.58],\n",
       "[  0.7, -1.54,  0.02,              -0.62,  0.84, -0.44,  1.82, -0.68, -0.36,  -0.4,   1.9,              -1.0,               0.54,  0.62,  0.38, -4.18,  0.54,   0.3,              -0.06,  0.46,  1.74,   1.6, -1.22, -0.24, -0.44,  0.32,  0.34,  1.26,   0.9,              1.08],\n",
       "[ 0.38, -1.14,  -1.8,                1.2,  0.98,  0.42,  0.68,  1.28,  -1.3, -1.48, -0.02,             -0.16,               1.04,  1.88,  0.84,  0.54, -0.67,   0.7,              -0.54, -0.82, -1.24, -0.34, -1.38,  0.54,  0.08, -0.38, -0.08, -0.02,  0.64,              0.84],\n",
       "[ 0.38,  0.06,  1.76,               0.92,  0.98, -0.68,  0.46, -1.88,  -1.0, -0.42, -1.74,              0.32,                1.0,  1.76,  1.08,   0.3,   0.7, -3.19,               1.48,   1.3,  -1.9,  1.88, -0.52,  0.32,  0.88,   1.6, -1.86,  -1.2, -1.42,              1.82],\n",
       "[-1.18, -0.12,  0.74,               0.76,  1.26, -0.52, -1.88, -1.46,   0.5,  0.54, -1.56,              0.92,                0.9,  -1.7, -0.68, -0.06, -0.54,  1.48, -0.660000000000001, -0.64,  1.92, -1.84, -0.12,  1.58, -1.18,  1.94,  0.72,  1.86,  0.96,             -1.28],\n",
       "[-1.22, -1.74, -1.36,               1.42, -1.28, -0.82, -0.96,  0.42,  1.56,  -1.7, -0.34,              0.46,              -1.28, -0.12, -1.32,  0.46, -0.82,   1.3,              -0.64,  2.44,  1.74, -0.72,  0.08,  0.52,  -0.9, -0.44,  0.86,  1.72,  0.44,              -0.2],\n",
       "[ 0.62, -1.66,  1.88,               1.72, -1.48,   0.3,  0.82,  -1.0, -1.28,  -1.5, -1.26,             -1.06,               0.94, -1.06,  -1.8,  1.74, -1.24,  -1.9,               1.92,  1.74,  3.77,  0.28,   0.1, -1.72, -0.18, -0.24, -0.82,  -0.8,  -0.9,               0.3],\n",
       "[ 1.06, -1.64, -1.22,              -1.78,  1.28,  0.62,  1.42,  1.78, -1.06, -1.86,  0.52,             -1.88,                0.9,   0.9,   1.6,   1.6, -0.34,  1.88,              -1.84, -0.72,  0.28, -3.84, -0.74,  0.96,  1.98,  1.56,  0.08,  0.22,  0.16,              1.96],\n",
       "[-0.04, -1.38,  -1.6,               -1.0, -0.44,  1.84, -0.66,  -1.0, -0.52,  0.82,  1.36,              -0.1,              -1.06,  1.02,  -0.9, -1.22, -1.38, -0.52,              -0.12,  0.08,   0.1, -0.74,  7.62, -1.62, -0.24,  -1.4, -1.74,  -0.2,  -1.9,             -0.68],\n",
       "[-0.78,  0.58, -0.02,               0.72,  0.24,  -1.8,  0.98,  1.32, -0.64,   1.7,  0.64,             -1.38,               0.78,  0.72,  -1.1, -0.24,  0.54,  0.32,               1.58,  0.52, -1.72,  0.96, -1.62, -1.32, -0.84,  0.18, -0.26,  0.04,  0.54,              0.68],\n",
       "[-0.68,  0.66, -0.68,              -0.14,  0.98, -0.94, -1.92, -0.14, -1.88,  -0.1, -0.74,              0.98,              -0.44,  1.32,  0.18, -0.44,  0.08,  0.88,              -1.18,  -0.9, -0.18,  1.98, -0.24, -0.84,  1.69, -0.82, -0.12,  1.42, -0.96,              1.48],\n",
       "[-0.44,  0.02, -0.86,               0.86,     0,  1.28,  1.04,  1.94, -0.74,  0.66, -0.84,              1.48,               0.64,  1.92,  0.18,  0.32, -0.38,   1.6,               1.94, -0.44, -0.24,  1.56,  -1.4,  0.18, -0.82, -5.35,  1.88, -0.04, -0.18,             -0.42],\n",
       "[ -1.5,  1.54,  -1.9,                1.0, -0.66,  0.72,  0.28, -1.56, -0.28, -1.96,  1.36,              0.72,               -1.7,   1.7, -1.66,  0.34, -0.08, -1.86,               0.72,  0.86, -0.82,  0.08, -1.74, -0.26, -0.12,  1.88,  1.05,  0.94,  1.96,              -0.1],\n",
       "[-0.62,  0.02,  1.36,               0.14,  1.94,  0.88,  -1.2,  1.54,  -1.7, -0.32, -0.52,              1.26,               0.92,  -1.9,  1.18,  1.26, -0.02,  -1.2,               1.86,  1.72,  -0.8,  0.22,  -0.2,  0.04,  1.42, -0.04,  0.94, -4.22,   0.3,             -0.04],\n",
       "[-0.78,   1.9,  0.54,              -0.82, -0.58,  1.08,   1.7,   0.9, -0.44,  1.62, -0.48,              -1.6,               0.48, -1.94,  1.08,   0.9,  0.64, -1.42,               0.96,  0.44,  -0.9,  0.16,  -1.9,  0.54, -0.96, -0.18,  1.96,   0.3,  -1.8,               0.4],\n",
       "[ -1.8, -0.28,  1.06,              -0.38, -0.24, -1.56,  0.68, -1.64, -0.58, -0.96,  0.04,             -1.32,               1.06,  -1.0, -0.58,  1.08,  0.84,  1.82,              -1.28,  -0.2,   0.3,  1.96, -0.68,  0.68,  1.48, -0.42,  -0.1, -0.04,   0.4, 0.830000000000001]])"
      ]
     },
     "execution_count": 70,
     "metadata": {},
     "output_type": "execute_result"
    }
   ],
   "source": [
    "# Extract coefficients for QUBO matrix\n",
    "Q = Matrix.zeros(n, n)\n",
    "for term in simplified_qubo.as_ordered_terms():\n",
    "    variables = term.free_symbols\n",
    "    coeff = term.coeff(Mul(*(variables)))\n",
    "    if len(variables) == 1:  # Diagonal terms (linear coefficients)\n",
    "        var = list(variables)[0]\n",
    "        idx = int(str(var)[1:]) - 1\n",
    "        Q[idx, idx] += coeff\n",
    "    elif len(variables) == 2:  # Off-diagonal terms (quadratic coefficients)\n",
    "        var1, var2 = sorted(variables, key=lambda v: int(str(v)[1:]))\n",
    "        idx1, idx2 = int(str(var1)[1:]) - 1, int(str(var2)[1:]) - 1\n",
    "        Q[idx1, idx2] += coeff # Account for symmetry\n",
    "        Q[idx2, idx1] += coeff\n",
    "Q"
   ]
  },
  {
   "cell_type": "markdown",
   "metadata": {
    "id": "l3vAts_OCR6x"
   },
   "source": [
    "# Solving the QUBO Problem\n",
    "\n",
    "The goal is to find a binary vector $x$ such that:\n",
    "$$\n",
    "\\min_x\\ x^T Q x\n",
    "$$\n",
    "\n",
    "We will evaluate all possible binary vectors $ x $ (for small problem sizes) and compute the cost function value for each.\n"
   ]
  },
  {
   "cell_type": "markdown",
   "metadata": {},
   "source": [
    "$(1 \\times 3) \\times (3 \\times 3) \\times (3 \\times 1)$ = $(1 \\times 1)$"
   ]
  },
  {
   "cell_type": "markdown",
   "metadata": {},
   "source": [
    "## Solving using Brute Force"
   ]
  },
  {
   "cell_type": "code",
   "execution_count": 16,
   "metadata": {
    "colab": {
     "base_uri": "https://localhost:8080/"
    },
    "id": "zitS-UVg_Mtd",
    "outputId": "4006abd4-a3d2-43f1-8e30-8d2c00a22079"
   },
   "outputs": [
    {
     "name": "stdout",
     "output_type": "stream",
     "text": [
      "Matrix([[0], [0], [0]]) 0\n",
      "Matrix([[0], [0], [1]]) 5\n",
      "Matrix([[0], [1], [0]]) -5\n",
      "Matrix([[0], [1], [1]]) 12\n",
      "Matrix([[1], [0], [0]]) 6\n",
      "Matrix([[1], [0], [1]]) -21\n",
      "Matrix([[1], [1], [0]]) 9\n",
      "Matrix([[1], [1], [1]]) -6\n"
     ]
    }
   ],
   "source": [
    "n = Q.shape[0]\n",
    "x_symbols = symbols(f\"x1:{n+1}\")\n",
    "all_possible_vectors = [Matrix([int(b) for b in f\"{i:0{n}b}\"]) for i in range(2**n)]\n",
    "min_cost = float('inf')\n",
    "optimal_vector = None\n",
    "for x in all_possible_vectors:\n",
    "    cost = (x.T * Q * x)[0]  # Evaluate cost function\n",
    "    print(x, cost)\n",
    "    if cost < min_cost:\n",
    "        min_cost = cost\n",
    "        optimal_vector = x"
   ]
  },
  {
   "cell_type": "code",
   "execution_count": 17,
   "metadata": {
    "colab": {
     "base_uri": "https://localhost:8080/"
    },
    "id": "fSrbEXVG_VS1",
    "outputId": "abb96be0-059b-44f9-97c1-d82319c3772f"
   },
   "outputs": [
    {
     "data": {
      "text/plain": [
       "(Matrix([\n",
       " [1],\n",
       " [0],\n",
       " [1]]),\n",
       " -21)"
      ]
     },
     "execution_count": 17,
     "metadata": {},
     "output_type": "execute_result"
    }
   ],
   "source": [
    "optimal_vector, min_cost"
   ]
  },
  {
   "cell_type": "markdown",
   "metadata": {
    "id": "VIpMQS5zFLdC"
   },
   "source": [
    "# Visualization of the Optimal Cut\n",
    "\n",
    "The optimal binary vector partitions the graph into two sets:\n",
    "- Nodes with $ x_i = 0 $\n",
    "- Nodes with $ x_i = 1 $\n",
    "\n",
    "We can highlight the edges in the cut using different colors.\n"
   ]
  },
  {
   "cell_type": "code",
   "execution_count": 42,
   "metadata": {
    "colab": {
     "base_uri": "https://localhost:8080/",
     "height": 459
    },
    "id": "Ma7pU2N0AVSt",
    "outputId": "88cfcf59-ac2a-403a-dcdb-11b28628d0a2"
   },
   "outputs": [
    {
     "data": {
      "image/png": "[encoded data removed]",
      "text/plain": [
       "<Figure size 400x400 with 1 Axes>"
      ]
     },
     "metadata": {},
     "output_type": "display_data"
    }
   ],
   "source": [
    "# Identify nodes in each partition\n",
    "partition_0 = [i + 1 for i, val in enumerate(optimal_vector) if val == 0]\n",
    "partition_1 = [i + 1 for i, val in enumerate(optimal_vector) if val == 1]\n",
    "\n",
    "# Assign colors to nodes based on partition\n",
    "node_colors = []\n",
    "for node in G.nodes:\n",
    "    if node in partition_0:\n",
    "        node_colors.append(\"green\")  # Nodes in partition 0\n",
    "    elif node in partition_1:\n",
    "        node_colors.append(\"blue\")   # Nodes in partition 1\n",
    "\n",
    "# Highlight the edges in the cut\n",
    "cut_edges = [(u, v) for u, v in G.edges if (u in partition_0 and v in partition_1) or (u in partition_1 and v in partition_0)]\n",
    "\n",
    "# Plot the graph with node colors and cut edges\n",
    "plt.figure(figsize=(4, 4))\n",
    "nx.draw(G, pos, with_labels=True, node_color=node_colors, node_size=1000)\n",
    "nx.draw_networkx_edges(G, pos, edgelist=cut_edges, edge_color=\"red\", width=2)\n",
    "labels = nx.get_edge_attributes(G, 'weight')\n",
    "nx.draw_networkx_edge_labels(G, pos, edge_labels=labels, font_size=12)\n",
    "plt.title(\"Partitioned Graph with Cut Edges\")\n",
    "plt.show()\n"
   ]
  },
  {
   "cell_type": "code",
   "execution_count": null,
   "metadata": {
    "id": "rH5-gOp0lxNA"
   },
   "outputs": [],
   "source": []
  },
  {
   "cell_type": "code",
   "execution_count": 71,
   "metadata": {
    "id": "R8_xNKL6lxK7"
   },
   "outputs": [],
   "source": [
    "from pyqubo import Array, solve_qubo\n",
    "import numpy as np"
   ]
  },
  {
   "cell_type": "code",
   "execution_count": 73,
   "metadata": {
    "colab": {
     "base_uri": "https://localhost:8080/"
    },
    "id": "M2DzfFLp0XJb",
    "outputId": "b5f4cd62-4224-48dc-9142-4533519e0798"
   },
   "outputs": [
    {
     "name": "stdout",
     "output_type": "stream",
     "text": [
      "Optimal solution (binary vector): [1 1 1 0 1 0 0 1 0 1 1 1 1 0 1 0 1 0 1 1 1 1 1 0 0 0 1 0 0 1]\n",
      "Optimal cost: -79.3299999999999\n"
     ]
    },
    {
     "name": "stderr",
     "output_type": "stream",
     "text": [
      "C:\\Users\\mysore\\AppData\\Local\\Temp\\ipykernel_66696\\229288507.py:12: DeprecationWarning: Call to deprecated function (or staticmethod) solve_qubo. (You should use simulated annealing sampler of dwave-neal directly.) -- Deprecated since version 0.4.0.\n",
      "  solution = solve_qubo(qubo)\n"
     ]
    }
   ],
   "source": [
    "# Create binary variables\n",
    "x = Array.create('x', shape=Q.shape[0], vartype='BINARY')\n",
    "\n",
    "# Formulate the QUBO model\n",
    "qubo_model = sum(Q[i, j] * x[i] * x[j] for i in range(Q.shape[0]) for j in range(Q.shape[1]))\n",
    "qubo_model = qubo_model.compile()\n",
    "\n",
    "# Generate the QUBO dictionary\n",
    "qubo, offset = qubo_model.to_qubo()\n",
    "\n",
    "# Solve the QUBO problem using the default solver\n",
    "solution = solve_qubo(qubo)\n",
    "\n",
    "# Extract results\n",
    "optimal_solution = np.array([solution[f'x[{i}]'] for i in range(Q.shape[0])])\n",
    "print(\"Optimal solution (binary vector):\", optimal_solution)\n",
    "print(\"Optimal cost:\", sum(Q[i, j] * optimal_solution[i] * optimal_solution[j] for i in range(Q.shape[0]) for j in range(Q.shape[1])))"
   ]
  },
  {
   "cell_type": "markdown",
   "metadata": {},
   "source": [
    "## Solving using classical baseline Gurobi\n",
    "\n",
    "This uses a branch-and-bound strategy to find the near-optimal solution"
   ]
  },
  {
   "cell_type": "code",
   "execution_count": 74,
   "metadata": {
    "id": "-yVCiatd4UqV"
   },
   "outputs": [],
   "source": [
    "import gurobipy as gp\n",
    "from gurobipy import GRB"
   ]
  },
  {
   "cell_type": "code",
   "execution_count": 75,
   "metadata": {
    "id": "d5EgBz_U0XG9"
   },
   "outputs": [
    {
     "name": "stdout",
     "output_type": "stream",
     "text": [
      "Gurobi Optimizer version 11.0.3 build v11.0.3rc0 (win64 - Windows 11.0 (22631.2))\n",
      "\n",
      "CPU model: 12th Gen Intel(R) Core(TM) i7-12800H, instruction set [SSE2|AVX|AVX2]\n",
      "Thread count: 14 physical cores, 20 logical processors, using up to 20 threads\n",
      "\n",
      "Optimize a model with 0 rows, 30 columns and 0 nonzeros\n",
      "Model fingerprint: 0x53c92d0e\n",
      "Model has 464 quadratic objective terms\n",
      "Variable types: 0 continuous, 30 integer (30 binary)\n",
      "Coefficient statistics:\n",
      "  Matrix range     [0e+00, 0e+00]\n",
      "  Objective range  [0e+00, 0e+00]\n",
      "  QObjective range [8e-02, 2e+01]\n",
      "  Bounds range     [1e+00, 1e+00]\n",
      "  RHS range        [0e+00, 0e+00]\n",
      "Found heuristic solution: objective 0.0000000\n",
      "Found heuristic solution: objective -79.3300000\n",
      "Presolve time: 0.01s\n",
      "Presolved: 0 rows, 30 columns, 0 nonzeros\n",
      "Presolved model has 464 quadratic objective terms\n",
      "Variable types: 0 continuous, 30 integer (30 binary)\n",
      "\n",
      "Root relaxation: objective -9.668411e+01, 58 iterations, 0.00 seconds (0.00 work units)\n",
      "\n",
      "    Nodes    |    Current Node    |     Objective Bounds      |     Work\n",
      " Expl Unexpl |  Obj  Depth IntInf | Incumbent    BestBd   Gap | It/Node Time\n",
      "\n",
      "     0     0  -96.68411    0   21  -79.33000  -96.68411  21.9%     -    0s\n",
      "     0     0  -94.54730    0   21  -79.33000  -94.54730  19.2%     -    0s\n",
      "     0     2  -94.54730    0   21  -79.33000  -94.54730  19.2%     -    0s\n",
      "\n",
      "Explored 768 nodes (2599 simplex iterations) in 0.09 seconds (0.03 work units)\n",
      "Thread count was 20 (of 20 available processors)\n",
      "\n",
      "Solution count 2: -79.33 0 \n",
      "No other solutions better than -79.33\n",
      "\n",
      "Optimal solution found (tolerance 1.00e-04)\n",
      "Best objective -7.933000000000e+01, best bound -7.933000000000e+01, gap 0.0000%\n",
      "Optimal solution (binary vector): [1. 1. 1. 0. 1. 0. 0. 1. 0. 1. 1. 1. 1. 0. 1. 0. 1. 0. 1. 1. 1. 1. 1. 0.\n",
      " 0. 0. 1. 0. 0. 1.]\n",
      "Optimal cost: -79.32999999999997\n"
     ]
    }
   ],
   "source": [
    "# Initialize Gurobi model\n",
    "model = gp.Model(\"QUBO\")\n",
    "\n",
    "# Create binary variables\n",
    "n = Q.shape[0]\n",
    "x = model.addVars(n, vtype=GRB.BINARY, name=\"x\")\n",
    "\n",
    "# Add the objective function\n",
    "objective = gp.QuadExpr()\n",
    "for i in range(n):\n",
    "    for j in range(n):\n",
    "        objective += Q[i, j] * x[i] * x[j]\n",
    "\n",
    "model.setObjective(objective, GRB.MINIMIZE)\n",
    "\n",
    "# Optimize the model\n",
    "model.optimize()\n",
    "\n",
    "# Extract the optimal solution\n",
    "optimal_solution = np.array([x[i].x for i in range(n)])\n",
    "print(\"Optimal solution (binary vector):\", optimal_solution)\n",
    "print(\"Optimal cost:\", model.objVal)"
   ]
  },
  {
   "cell_type": "code",
   "execution_count": null,
   "metadata": {
    "id": "p_GpHHgt4NOD"
   },
   "outputs": [],
   "source": []
  },
  {
   "cell_type": "markdown",
   "metadata": {},
   "source": [
    "# QAOA Solver (Qiskit)\n",
    "\n",
    "This is a Variational Quantum Algorithm (VQA)\n",
    "\n",
    "\n",
    " - VQA is a paragidm of parameterized quantum circuits and a classical optimizer.\n",
    " - The states of the qubits are guided using parameterized quantum gates.\n",
    " - The parameters ($\\vec{\\theta}$) of the parametrized quantum gates are updated using the classical optimizers in an iterative way."
   ]
  },
  {
   "cell_type": "code",
   "execution_count": 43,
   "metadata": {},
   "outputs": [],
   "source": [
    "from qiskit.circuit.library import Diagonal\n",
    "from qiskit_optimization.applications import Maxcut\n",
    "from qiskit_optimization.algorithms import MinimumEigenOptimizer\n",
    "from qiskit.primitives import Sampler\n",
    "from qiskit.result import QuasiDistribution\n",
    "\n",
    "from qiskit_algorithms.minimum_eigensolvers import QAOA, NumPyMinimumEigensolver\n",
    "from qiskit_algorithms.optimizers import COBYLA\n",
    "from qiskit.quantum_info import SparsePauliOp\n",
    "from qiskit.primitives import Estimator\n",
    "from qiskit_algorithms.utils import algorithm_globals"
   ]
  },
  {
   "cell_type": "code",
   "execution_count": 47,
   "metadata": {},
   "outputs": [],
   "source": [
    "def objective_value(x: np.ndarray, w: np.ndarray) -> float:\n",
    "    \"\"\"Compute the value of a cut.\n",
    "    Args:\n",
    "        x: Binary string as numpy array.\n",
    "        w: Adjacency matrix.\n",
    "    Returns:\n",
    "        Value of the cut.\n",
    "    \"\"\"\n",
    "    cost = 0\n",
    "    for i in range(len(x)):\n",
    "        for j in range(len(x)):\n",
    "            cost = cost + w[i,j]*x[i]*(1-x[j])\n",
    "    return cost\n",
    "\n",
    "def bitfield(n: int, L: int) -> list[int]:\n",
    "    result = np.binary_repr(n, L)\n",
    "    return [int(digit) for digit in result]  # [2:] to chop off the \"0b\" part\n",
    "\n",
    "def sample_most_likely(state_vector) -> np.ndarray:\n",
    "    \"\"\"Compute the most likely binary string from state vector.\n",
    "    Args:\n",
    "        state_vector: State vector or quasi-distribution.\n",
    "\n",
    "    Returns:\n",
    "        Binary string as an array of ints.\n",
    "    \"\"\"\n",
    "    if isinstance(state_vector, QuasiDistribution):\n",
    "        values = list(state_vector.values())\n",
    "    else:\n",
    "        values = state_vector\n",
    "    n = int(np.log2(len(values)))\n",
    "    k = np.argmax(np.abs(values))\n",
    "    x = bitfield(k, n)\n",
    "    x.reverse()\n",
    "    return np.asarray(x)"
   ]
  },
  {
   "cell_type": "code",
   "execution_count": 48,
   "metadata": {},
   "outputs": [],
   "source": [
    "def qaoa_solver(G, reps=1):\n",
    "  n = G.number_of_nodes()\n",
    "  w = -1 * nx.adjacency_matrix(G).todense()\n",
    "  max_cut = Maxcut(w)\n",
    "  qp = max_cut.to_quadratic_program()\n",
    "  # print(qp.prettyprint())\n",
    "  qubitOp, offset = qp.to_ising()\n",
    "  sampler = Sampler()\n",
    "  algorithm_globals.random_seed = 123\n",
    "  optimizer = COBYLA()\n",
    "  qaoa = QAOA(sampler, optimizer, reps=reps)\n",
    "  result = qaoa.compute_minimum_eigenvalue(qubitOp)\n",
    "  x = sample_most_likely(result.eigenstate)\n",
    "  return x, objective_value(x, w)"
   ]
  },
  {
   "cell_type": "code",
   "execution_count": 49,
   "metadata": {},
   "outputs": [
    {
     "name": "stderr",
     "output_type": "stream",
     "text": [
      "C:\\Users\\mysore\\AppData\\Local\\Temp\\ipykernel_66696\\3735664337.py:8: DeprecationWarning: The class ``qiskit.primitives.sampler.Sampler`` is deprecated as of qiskit 1.2. It will be removed no earlier than 3 months after the release date. All implementations of the `BaseSamplerV1` interface have been deprecated in favor of their V2 counterparts. The V2 alternative for the `Sampler` class is `StatevectorSampler`.\n",
      "  sampler = Sampler()\n"
     ]
    },
    {
     "data": {
      "text/plain": [
       "(array([0, 1, 0]), np.int64(5))"
      ]
     },
     "execution_count": 49,
     "metadata": {},
     "output_type": "execute_result"
    }
   ],
   "source": [
    "qaoa_solver(G, reps=1)"
   ]
  },
  {
   "cell_type": "markdown",
   "metadata": {},
   "source": [
    "# Quantum Annealing\n",
    "\n",
    "(a.k.a adiabatic quantum computing)\n",
    "\n",
    "D-Wave"
   ]
  },
  {
   "cell_type": "code",
   "execution_count": 76,
   "metadata": {},
   "outputs": [],
   "source": [
    "# ! pip install dwave-ocean-sdk\n",
    "# ! pip install pandas"
   ]
  },
  {
   "cell_type": "code",
   "execution_count": 77,
   "metadata": {},
   "outputs": [],
   "source": [
    "import time\n",
    "import dimod\n",
    "from dwave.system.samplers import DWaveSampler\n",
    "from dwave.system.composites import EmbeddingComposite\n",
    "from qiskit_optimization.applications import Maxcut\n",
    "import networkx as nx\n",
    "import numpy as np"
   ]
  },
  {
   "cell_type": "code",
   "execution_count": 78,
   "metadata": {},
   "outputs": [],
   "source": [
    "\n",
    "def dwave_solver(linear, quadratic, private_token, runs=10000, **kwargs):\n",
    "  \"\"\"\n",
    "  Solve a binary quadratic model using D-Wave sampler.\n",
    "\n",
    "  Parameters:\n",
    "  linear (dict): Linear coefficients of the model.\n",
    "  quadratic (dict): Quadratic coefficients of the model.\n",
    "  private_token (str): API token for D-Wave.\n",
    "  runs (int): Number of reads for the sampler.\n",
    "\n",
    "  Returns:\n",
    "  dimod.SampleSet: Sample set returned by D-Wave sampler.\n",
    "  float: Connection time.\n",
    "  float: Embedding time.\n",
    "  float: Response time.\n",
    "  \"\"\"\n",
    "  vartype = dimod.BINARY\n",
    "  bqm = dimod.BinaryQuadraticModel(linear, quadratic, 0.0, vartype)\n",
    "  start_time = time.time()\n",
    "  dwave_sampler = DWaveSampler(token = private_token, solver={'topology__type': 'pegasus'})\n",
    "  connection_time = time.time() - start_time\n",
    "\n",
    "  start_time = time.time()\n",
    "  sampler = EmbeddingComposite(dwave_sampler)\n",
    "  embedding_time = time.time() - start_time\n",
    "  start_time = time.time()\n",
    "  sample_set = sampler.sample(bqm, num_reads=runs)\n",
    "  response_time = time.time() - start_time\n",
    "  return sample_set, connection_time, embedding_time, response_time\n",
    "\n",
    "def annealer_solver(G, private_token, n_samples=2000, **kwargs):\n",
    "  \"\"\"\n",
    "  Solve the Maxcut problem on graph G using a D-Wave annealer.\n",
    "\n",
    "  Parameters:\n",
    "  G (networkx.Graph): Graph for which Maxcut is to be solved.\n",
    "  private_token (str): API token for D-Wave.\n",
    "  n_samples (int): Number of samples to collect.\n",
    "\n",
    "  Returns:\n",
    "  pandas.DataFrame: Dataframe containing samples.\n",
    "  dict: Dictionary containing information about execution times.\n",
    "  \"\"\"\n",
    "  start_time = time.time()\n",
    "  w = -1 * nx.adjacency_matrix(G).todense()\n",
    "  max_cut = Maxcut(w)\n",
    "  qp = max_cut.to_quadratic_program()\n",
    "  linear = qp.objective.linear.coefficients.toarray(order=None, out=None)\n",
    "  quadratic = qp.objective.quadratic.coefficients.toarray(order=None, out=None)\n",
    "  linear = {int(idx):-round(value,2) for idx,value in enumerate(linear[0])}\n",
    "  quadratic = {(int(iy),int(ix)):-quadratic[iy, ix] for iy, ix in np.ndindex(quadratic.shape) if iy<ix and abs(quadratic[iy, ix])!=0}\n",
    "  problem_formulation_time = time.time() - start_time\n",
    "  sample_set, connection_time, embedding_time, response_time = dwave_solver(linear, quadratic, private_token, runs=n_samples)\n",
    "  info_dict = sample_set.info['timing'].copy()\n",
    "\n",
    "  start_time = time.time()\n",
    "  samples_df = sample_set.to_pandas_dataframe()\n",
    "  sample_fetch_time = time.time() - start_time\n",
    "\n",
    "  info_dict['problem_formulation_time'] = problem_formulation_time\n",
    "  info_dict['connection_time'] = connection_time\n",
    "  info_dict['embedding_time'] = embedding_time\n",
    "  info_dict['response_time'] = response_time\n",
    "  info_dict['sample_fetch_time'] = sample_fetch_time\n",
    "  return samples_df, info_dict"
   ]
  },
  {
   "cell_type": "markdown",
   "metadata": {},
   "source": [
    "Create an account at: [https://cloud.dwavesys.com/leap/login?next=/leap]\n",
    "\n",
    "Get the private token and replace the function call below as:\n",
    "\n",
    "samples_dataframe, execution_info_dict = annealer_solver(G, private_token = 'xxx-xxxxxxxxxxxxxxxxxxxxxxxxxxxxxxxxxxxxxxxx')"
   ]
  },
  {
   "cell_type": "code",
   "execution_count": 79,
   "metadata": {},
   "outputs": [
    {
     "data": {
      "text/plain": [
       "{'qpu_sampling_time': 279760.0,\n",
       " 'qpu_anneal_time_per_sample': 20.0,\n",
       " 'qpu_readout_time_per_sample': 99.3,\n",
       " 'qpu_access_time': 295688.76,\n",
       " 'qpu_access_overhead_time': 16513.24,\n",
       " 'qpu_programming_time': 15928.76,\n",
       " 'qpu_delay_time_per_sample': 20.58,\n",
       " 'post_processing_overhead_time': 133.0,\n",
       " 'total_post_processing_time': 133.0,\n",
       " 'problem_formulation_time': 0.02732062339782715,\n",
       " 'connection_time': 0.12771892547607422,\n",
       " 'embedding_time': 0.040627241134643555,\n",
       " 'response_time': 0.9491546154022217,\n",
       " 'sample_fetch_time': 0.0010721683502197266,\n",
       " 'total_time': 4.10429310798645}"
      ]
     },
     "execution_count": 79,
     "metadata": {},
     "output_type": "execute_result"
    }
   ],
   "source": [
    "start_time = time.time()\n",
    "samples_dataframe, execution_info_dict = annealer_solver(G, private_token = open('token.txt','r').read())\n",
    "total_time = time.time()-start_time\n",
    "execution_info_dict['total_time'] = total_time\n",
    "execution_info_dict"
   ]
  },
  {
   "cell_type": "code",
   "execution_count": 80,
   "metadata": {},
   "outputs": [
    {
     "data": {
      "text/html": [
       "<div>\n",
       "<style scoped>\n",
       "    .dataframe tbody tr th:only-of-type {\n",
       "        vertical-align: middle;\n",
       "    }\n",
       "\n",
       "    .dataframe tbody tr th {\n",
       "        vertical-align: top;\n",
       "    }\n",
       "\n",
       "    .dataframe thead th {\n",
       "        text-align: right;\n",
       "    }\n",
       "</style>\n",
       "<table border=\"1\" class=\"dataframe\">\n",
       "  <thead>\n",
       "    <tr style=\"text-align: right;\">\n",
       "      <th></th>\n",
       "      <th>0</th>\n",
       "      <th>1</th>\n",
       "      <th>2</th>\n",
       "      <th>3</th>\n",
       "      <th>4</th>\n",
       "      <th>5</th>\n",
       "      <th>6</th>\n",
       "      <th>7</th>\n",
       "      <th>8</th>\n",
       "      <th>9</th>\n",
       "      <th>...</th>\n",
       "      <th>23</th>\n",
       "      <th>24</th>\n",
       "      <th>25</th>\n",
       "      <th>26</th>\n",
       "      <th>27</th>\n",
       "      <th>28</th>\n",
       "      <th>29</th>\n",
       "      <th>chain_break_fraction</th>\n",
       "      <th>energy</th>\n",
       "      <th>num_occurrences</th>\n",
       "    </tr>\n",
       "  </thead>\n",
       "  <tbody>\n",
       "    <tr>\n",
       "      <th>0</th>\n",
       "      <td>0</td>\n",
       "      <td>0</td>\n",
       "      <td>0</td>\n",
       "      <td>0</td>\n",
       "      <td>0</td>\n",
       "      <td>1</td>\n",
       "      <td>1</td>\n",
       "      <td>0</td>\n",
       "      <td>1</td>\n",
       "      <td>0</td>\n",
       "      <td>...</td>\n",
       "      <td>1</td>\n",
       "      <td>1</td>\n",
       "      <td>1</td>\n",
       "      <td>0</td>\n",
       "      <td>1</td>\n",
       "      <td>1</td>\n",
       "      <td>0</td>\n",
       "      <td>0.000000</td>\n",
       "      <td>-30.26</td>\n",
       "      <td>54</td>\n",
       "    </tr>\n",
       "    <tr>\n",
       "      <th>1</th>\n",
       "      <td>1</td>\n",
       "      <td>1</td>\n",
       "      <td>1</td>\n",
       "      <td>1</td>\n",
       "      <td>1</td>\n",
       "      <td>0</td>\n",
       "      <td>0</td>\n",
       "      <td>1</td>\n",
       "      <td>0</td>\n",
       "      <td>1</td>\n",
       "      <td>...</td>\n",
       "      <td>0</td>\n",
       "      <td>0</td>\n",
       "      <td>0</td>\n",
       "      <td>1</td>\n",
       "      <td>0</td>\n",
       "      <td>0</td>\n",
       "      <td>1</td>\n",
       "      <td>0.000000</td>\n",
       "      <td>-30.26</td>\n",
       "      <td>99</td>\n",
       "    </tr>\n",
       "    <tr>\n",
       "      <th>2</th>\n",
       "      <td>1</td>\n",
       "      <td>1</td>\n",
       "      <td>1</td>\n",
       "      <td>1</td>\n",
       "      <td>1</td>\n",
       "      <td>1</td>\n",
       "      <td>0</td>\n",
       "      <td>1</td>\n",
       "      <td>0</td>\n",
       "      <td>1</td>\n",
       "      <td>...</td>\n",
       "      <td>0</td>\n",
       "      <td>0</td>\n",
       "      <td>0</td>\n",
       "      <td>1</td>\n",
       "      <td>0</td>\n",
       "      <td>0</td>\n",
       "      <td>1</td>\n",
       "      <td>0.000000</td>\n",
       "      <td>-30.24</td>\n",
       "      <td>112</td>\n",
       "    </tr>\n",
       "    <tr>\n",
       "      <th>3</th>\n",
       "      <td>0</td>\n",
       "      <td>0</td>\n",
       "      <td>0</td>\n",
       "      <td>0</td>\n",
       "      <td>0</td>\n",
       "      <td>0</td>\n",
       "      <td>1</td>\n",
       "      <td>0</td>\n",
       "      <td>1</td>\n",
       "      <td>0</td>\n",
       "      <td>...</td>\n",
       "      <td>1</td>\n",
       "      <td>1</td>\n",
       "      <td>1</td>\n",
       "      <td>0</td>\n",
       "      <td>1</td>\n",
       "      <td>1</td>\n",
       "      <td>0</td>\n",
       "      <td>0.000000</td>\n",
       "      <td>-30.24</td>\n",
       "      <td>22</td>\n",
       "    </tr>\n",
       "    <tr>\n",
       "      <th>4</th>\n",
       "      <td>1</td>\n",
       "      <td>1</td>\n",
       "      <td>1</td>\n",
       "      <td>1</td>\n",
       "      <td>1</td>\n",
       "      <td>0</td>\n",
       "      <td>0</td>\n",
       "      <td>1</td>\n",
       "      <td>0</td>\n",
       "      <td>1</td>\n",
       "      <td>...</td>\n",
       "      <td>0</td>\n",
       "      <td>0</td>\n",
       "      <td>0</td>\n",
       "      <td>1</td>\n",
       "      <td>0</td>\n",
       "      <td>0</td>\n",
       "      <td>1</td>\n",
       "      <td>0.000000</td>\n",
       "      <td>-29.91</td>\n",
       "      <td>95</td>\n",
       "    </tr>\n",
       "    <tr>\n",
       "      <th>...</th>\n",
       "      <td>...</td>\n",
       "      <td>...</td>\n",
       "      <td>...</td>\n",
       "      <td>...</td>\n",
       "      <td>...</td>\n",
       "      <td>...</td>\n",
       "      <td>...</td>\n",
       "      <td>...</td>\n",
       "      <td>...</td>\n",
       "      <td>...</td>\n",
       "      <td>...</td>\n",
       "      <td>...</td>\n",
       "      <td>...</td>\n",
       "      <td>...</td>\n",
       "      <td>...</td>\n",
       "      <td>...</td>\n",
       "      <td>...</td>\n",
       "      <td>...</td>\n",
       "      <td>...</td>\n",
       "      <td>...</td>\n",
       "      <td>...</td>\n",
       "    </tr>\n",
       "    <tr>\n",
       "      <th>872</th>\n",
       "      <td>1</td>\n",
       "      <td>1</td>\n",
       "      <td>0</td>\n",
       "      <td>1</td>\n",
       "      <td>0</td>\n",
       "      <td>0</td>\n",
       "      <td>1</td>\n",
       "      <td>0</td>\n",
       "      <td>1</td>\n",
       "      <td>1</td>\n",
       "      <td>...</td>\n",
       "      <td>0</td>\n",
       "      <td>0</td>\n",
       "      <td>1</td>\n",
       "      <td>0</td>\n",
       "      <td>1</td>\n",
       "      <td>1</td>\n",
       "      <td>0</td>\n",
       "      <td>0.033333</td>\n",
       "      <td>-21.83</td>\n",
       "      <td>1</td>\n",
       "    </tr>\n",
       "    <tr>\n",
       "      <th>873</th>\n",
       "      <td>0</td>\n",
       "      <td>0</td>\n",
       "      <td>1</td>\n",
       "      <td>0</td>\n",
       "      <td>1</td>\n",
       "      <td>0</td>\n",
       "      <td>0</td>\n",
       "      <td>1</td>\n",
       "      <td>0</td>\n",
       "      <td>0</td>\n",
       "      <td>...</td>\n",
       "      <td>0</td>\n",
       "      <td>0</td>\n",
       "      <td>0</td>\n",
       "      <td>1</td>\n",
       "      <td>0</td>\n",
       "      <td>0</td>\n",
       "      <td>0</td>\n",
       "      <td>0.000000</td>\n",
       "      <td>-17.12</td>\n",
       "      <td>1</td>\n",
       "    </tr>\n",
       "    <tr>\n",
       "      <th>874</th>\n",
       "      <td>1</td>\n",
       "      <td>1</td>\n",
       "      <td>0</td>\n",
       "      <td>0</td>\n",
       "      <td>0</td>\n",
       "      <td>0</td>\n",
       "      <td>1</td>\n",
       "      <td>0</td>\n",
       "      <td>1</td>\n",
       "      <td>1</td>\n",
       "      <td>...</td>\n",
       "      <td>0</td>\n",
       "      <td>1</td>\n",
       "      <td>1</td>\n",
       "      <td>0</td>\n",
       "      <td>1</td>\n",
       "      <td>0</td>\n",
       "      <td>1</td>\n",
       "      <td>0.033333</td>\n",
       "      <td>-21.16</td>\n",
       "      <td>1</td>\n",
       "    </tr>\n",
       "    <tr>\n",
       "      <th>875</th>\n",
       "      <td>1</td>\n",
       "      <td>0</td>\n",
       "      <td>0</td>\n",
       "      <td>0</td>\n",
       "      <td>1</td>\n",
       "      <td>1</td>\n",
       "      <td>0</td>\n",
       "      <td>0</td>\n",
       "      <td>0</td>\n",
       "      <td>0</td>\n",
       "      <td>...</td>\n",
       "      <td>1</td>\n",
       "      <td>0</td>\n",
       "      <td>0</td>\n",
       "      <td>1</td>\n",
       "      <td>1</td>\n",
       "      <td>1</td>\n",
       "      <td>1</td>\n",
       "      <td>0.033333</td>\n",
       "      <td>-18.97</td>\n",
       "      <td>1</td>\n",
       "    </tr>\n",
       "    <tr>\n",
       "      <th>876</th>\n",
       "      <td>1</td>\n",
       "      <td>1</td>\n",
       "      <td>0</td>\n",
       "      <td>0</td>\n",
       "      <td>0</td>\n",
       "      <td>1</td>\n",
       "      <td>1</td>\n",
       "      <td>0</td>\n",
       "      <td>0</td>\n",
       "      <td>1</td>\n",
       "      <td>...</td>\n",
       "      <td>0</td>\n",
       "      <td>1</td>\n",
       "      <td>0</td>\n",
       "      <td>0</td>\n",
       "      <td>1</td>\n",
       "      <td>0</td>\n",
       "      <td>1</td>\n",
       "      <td>0.033333</td>\n",
       "      <td>-15.49</td>\n",
       "      <td>1</td>\n",
       "    </tr>\n",
       "  </tbody>\n",
       "</table>\n",
       "<p>877 rows × 33 columns</p>\n",
       "</div>"
      ],
      "text/plain": [
       "     0  1  2  3  4  5  6  7  8  9  ...  23  24  25  26  27  28  29  \\\n",
       "0    0  0  0  0  0  1  1  0  1  0  ...   1   1   1   0   1   1   0   \n",
       "1    1  1  1  1  1  0  0  1  0  1  ...   0   0   0   1   0   0   1   \n",
       "2    1  1  1  1  1  1  0  1  0  1  ...   0   0   0   1   0   0   1   \n",
       "3    0  0  0  0  0  0  1  0  1  0  ...   1   1   1   0   1   1   0   \n",
       "4    1  1  1  1  1  0  0  1  0  1  ...   0   0   0   1   0   0   1   \n",
       "..  .. .. .. .. .. .. .. .. .. ..  ...  ..  ..  ..  ..  ..  ..  ..   \n",
       "872  1  1  0  1  0  0  1  0  1  1  ...   0   0   1   0   1   1   0   \n",
       "873  0  0  1  0  1  0  0  1  0  0  ...   0   0   0   1   0   0   0   \n",
       "874  1  1  0  0  0  0  1  0  1  1  ...   0   1   1   0   1   0   1   \n",
       "875  1  0  0  0  1  1  0  0  0  0  ...   1   0   0   1   1   1   1   \n",
       "876  1  1  0  0  0  1  1  0  0  1  ...   0   1   0   0   1   0   1   \n",
       "\n",
       "     chain_break_fraction  energy  num_occurrences  \n",
       "0                0.000000  -30.26               54  \n",
       "1                0.000000  -30.26               99  \n",
       "2                0.000000  -30.24              112  \n",
       "3                0.000000  -30.24               22  \n",
       "4                0.000000  -29.91               95  \n",
       "..                    ...     ...              ...  \n",
       "872              0.033333  -21.83                1  \n",
       "873              0.000000  -17.12                1  \n",
       "874              0.033333  -21.16                1  \n",
       "875              0.033333  -18.97                1  \n",
       "876              0.033333  -15.49                1  \n",
       "\n",
       "[877 rows x 33 columns]"
      ]
     },
     "execution_count": 80,
     "metadata": {},
     "output_type": "execute_result"
    }
   ],
   "source": [
    "samples_dataframe"
   ]
  },
  {
   "cell_type": "code",
   "execution_count": 81,
   "metadata": {},
   "outputs": [
    {
     "data": {
      "text/plain": [
       "0     0.0\n",
       "1     0.0\n",
       "2     0.0\n",
       "3     0.0\n",
       "4     0.0\n",
       "5     1.0\n",
       "6     1.0\n",
       "7     0.0\n",
       "8     1.0\n",
       "9     0.0\n",
       "10    1.0\n",
       "11    0.0\n",
       "12    0.0\n",
       "13    1.0\n",
       "14    0.0\n",
       "15    0.0\n",
       "16    0.0\n",
       "17    1.0\n",
       "18    0.0\n",
       "19    0.0\n",
       "20    1.0\n",
       "21    0.0\n",
       "22    0.0\n",
       "23    1.0\n",
       "24    1.0\n",
       "25    1.0\n",
       "26    0.0\n",
       "27    1.0\n",
       "28    1.0\n",
       "29    0.0\n",
       "Name: 0, dtype: float64"
      ]
     },
     "execution_count": 81,
     "metadata": {},
     "output_type": "execute_result"
    }
   ],
   "source": [
    "solution_binary_string = samples_dataframe.iloc[0][:-3]\n",
    "solution_binary_string"
   ]
  },
  {
   "cell_type": "code",
   "execution_count": null,
   "metadata": {},
   "outputs": [],
   "source": []
  }
 ],
 "metadata": {
  "colab": {
   "provenance": []
  },
  "kernelspec": {
   "display_name": "venv",
   "language": "python",
   "name": "python3"
  },
  "language_info": {
   "codemirror_mode": {
    "name": "ipython",
    "version": 3
   },
   "file_extension": ".py",
   "mimetype": "text/x-python",
   "name": "python",
   "nbconvert_exporter": "python",
   "pygments_lexer": "ipython3",
   "version": "3.12.2"
  }
 },
 "nbformat": 4,
 "nbformat_minor": 0
}
