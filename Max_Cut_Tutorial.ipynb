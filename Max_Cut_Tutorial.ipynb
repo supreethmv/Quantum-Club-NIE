{
 "cells": [
  {
   "cell_type": "code",
   "execution_count": null,
   "metadata": {},
   "outputs": [],
   "source": [
    "# ! pip install sympy \n",
    "# ! pip install networkx \n",
    "# ! pip install matplotlib \n",
    "# ! pip install pyqubo \n",
    "# ! pip install gurobipy"
   ]
  },
  {
   "cell_type": "code",
   "execution_count": 7,
   "metadata": {
    "id": "sUinoKLn5dbE"
   },
   "outputs": [],
   "source": [
    "from sympy import symbols, Matrix, simplify, Add, Mul\n",
    "import networkx as nx\n",
    "import matplotlib.pyplot as plt\n",
    "from IPython.display import display\n",
    "import random"
   ]
  },
  {
   "cell_type": "code",
   "execution_count": 8,
   "metadata": {
    "id": "6aFfrORuGZJZ"
   },
   "outputs": [],
   "source": [
    "def generate_problem_instance(num_nodes, weight_range=(-1, 1)):\n",
    "    \"\"\"\n",
    "    Generate a random problem instance for the min-cut problem.\n",
    "    :param num_nodes: Number of nodes in the graph.\n",
    "    :param weight_range: Range of weights for the edges (tuple, inclusive).\n",
    "    :return: Dictionary {(i, j): weight} representing the edges and their weights.\n",
    "    \"\"\"\n",
    "    edge_dict = {}\n",
    "    for i in range(1, num_nodes + 1):\n",
    "        for j in range(i + 1, num_nodes + 1):\n",
    "            weight = round(random.uniform(weight_range[0], weight_range[1]), 2)\n",
    "            edge_dict[(i, j)] = weight\n",
    "    return edge_dict"
   ]
  },
  {
   "cell_type": "code",
   "execution_count": 37,
   "metadata": {
    "id": "odiqRFcnl2NS"
   },
   "outputs": [
    {
     "data": {
      "text/plain": [
       "{(1, 2): -0.08, (1, 3): 0.08, (2, 3): 0.2}"
      ]
     },
     "execution_count": 37,
     "metadata": {},
     "output_type": "execute_result"
    }
   ],
   "source": [
    "# Example usage: Generate a graph with 5 nodes\n",
    "num_nodes = 3\n",
    "edge_dict = generate_problem_instance(num_nodes)\n",
    "edge_dict"
   ]
  },
  {
   "cell_type": "code",
   "execution_count": 42,
   "metadata": {
    "colab": {
     "base_uri": "https://localhost:8080/"
    },
    "id": "QqTBDAvy5bfQ",
    "outputId": "46b0cfa6-5e93-45c6-951c-173f4f9f2650"
   },
   "outputs": [
    {
     "data": {
      "text/plain": [
       "{(1, 2): -2, (1, 3): 8, (2, 3): -3}"
      ]
     },
     "execution_count": 42,
     "metadata": {},
     "output_type": "execute_result"
    }
   ],
   "source": [
    "# Example dictionary input\n",
    "edge_dict = {\n",
    "    (1, 2): -2,\n",
    "    (1, 3): 8,\n",
    "    (2, 3): -3\n",
    "}\n",
    "\n",
    "edge_dict"
   ]
  },
  {
   "cell_type": "code",
   "execution_count": 43,
   "metadata": {
    "id": "Dq69Vj7p5lYM"
   },
   "outputs": [],
   "source": [
    "nodes = set()\n",
    "\n",
    "for edge in edge_dict.keys():\n",
    "    nodes.update(edge)\n",
    "nodes = sorted(nodes)\n",
    "node_index = {node: i for i, node in enumerate(nodes)}\n",
    "\n",
    "size = len(nodes)\n",
    "adjacency_matrix = Matrix.zeros(size, size)\n",
    "\n",
    "for (u, v), weight in edge_dict.items():\n",
    "    i, j = node_index[u], node_index[v]\n",
    "    adjacency_matrix[i, j] = weight\n",
    "    adjacency_matrix[j, i] = weight  # Symmetric matrix for undirected graph"
   ]
  },
  {
   "cell_type": "code",
   "execution_count": 44,
   "metadata": {
    "colab": {
     "base_uri": "https://localhost:8080/",
     "height": 78
    },
    "id": "eFhMyCn76u4i",
    "outputId": "9d1a1a64-8346-4906-c096-b4b086ced0b6"
   },
   "outputs": [
    {
     "data": {
      "text/latex": [
       "$\\displaystyle \\left[\\begin{matrix}0 & -2 & 8\\\\-2 & 0 & -3\\\\8 & -3 & 0\\end{matrix}\\right]$"
      ],
      "text/plain": [
       "Matrix([\n",
       "[ 0, -2,  8],\n",
       "[-2,  0, -3],\n",
       "[ 8, -3,  0]])"
      ]
     },
     "execution_count": 44,
     "metadata": {},
     "output_type": "execute_result"
    }
   ],
   "source": [
    "adjacency_matrix"
   ]
  },
  {
   "cell_type": "code",
   "execution_count": 45,
   "metadata": {
    "colab": {
     "base_uri": "https://localhost:8080/",
     "height": 459
    },
    "id": "-AO0E0nq5yrq",
    "outputId": "ad33cc69-2bbc-44ce-f227-812f2ca6d972"
   },
   "outputs": [
    {
     "data": {
      "image/png": "[encoded data removed]",
      "text/plain": [
       "<Figure size 400x400 with 1 Axes>"
      ]
     },
     "metadata": {},
     "output_type": "display_data"
    }
   ],
   "source": [
    "plt.figure(figsize=(4,4))\n",
    "G = nx.Graph()\n",
    "\n",
    "for (u, v), weight in edge_dict.items():\n",
    "    G.add_edge(u, v, weight=weight)\n",
    "\n",
    "# Create a fixed layout for the graph\n",
    "pos = nx.spring_layout(G, seed=111)  # Set a seed for reproducibility\n",
    "\n",
    "# Draw the graph\n",
    "nx.draw(G, pos, with_labels=True, node_color=\"lightblue\", node_size=1000)\n",
    "labels = nx.get_edge_attributes(G, 'weight')\n",
    "nx.draw_networkx_edge_labels(G, pos, edge_labels=labels, font_size=14)\n",
    "plt.title(\"Weighted Graph\")\n",
    "plt.show()"
   ]
  },
  {
   "cell_type": "markdown",
   "metadata": {
    "id": "5Xv9-SKRClu5"
   },
   "source": [
    "# Formulate the QUBO (Quadratic Unconstrained Binary Optimization) Problem\n",
    "\n",
    "The MinCut problem can be written as:\n",
    "$$\n",
    "\\text{Objective: } \\min_x \\sum_{i,j} w_{ij} x_i (1 - x_j)\n",
    "$$"
   ]
  },
  {
   "cell_type": "code",
   "execution_count": 46,
   "metadata": {
    "colab": {
     "base_uri": "https://localhost:8080/",
     "height": 227
    },
    "id": "7h9e98VQ6NG5",
    "outputId": "16236a30-0d56-4376-a309-1a85a19b858a"
   },
   "outputs": [
    {
     "data": {
      "text/latex": [
       "$\\displaystyle 0$"
      ],
      "text/plain": [
       "0"
      ]
     },
     "metadata": {},
     "output_type": "display_data"
    },
    {
     "data": {
      "text/latex": [
       "$\\displaystyle - 2 x_{1} \\left(1 - x_{2}\\right)$"
      ],
      "text/plain": [
       "-2*x1*(1 - x2)"
      ]
     },
     "metadata": {},
     "output_type": "display_data"
    },
    {
     "data": {
      "text/latex": [
       "$\\displaystyle 8 x_{1} \\left(1 - x_{3}\\right)$"
      ],
      "text/plain": [
       "8*x1*(1 - x3)"
      ]
     },
     "metadata": {},
     "output_type": "display_data"
    },
    {
     "data": {
      "text/latex": [
       "$\\displaystyle - 2 x_{2} \\left(1 - x_{1}\\right)$"
      ],
      "text/plain": [
       "-2*x2*(1 - x1)"
      ]
     },
     "metadata": {},
     "output_type": "display_data"
    },
    {
     "data": {
      "text/latex": [
       "$\\displaystyle 0$"
      ],
      "text/plain": [
       "0"
      ]
     },
     "metadata": {},
     "output_type": "display_data"
    },
    {
     "data": {
      "text/latex": [
       "$\\displaystyle - 3 x_{2} \\left(1 - x_{3}\\right)$"
      ],
      "text/plain": [
       "-3*x2*(1 - x3)"
      ]
     },
     "metadata": {},
     "output_type": "display_data"
    },
    {
     "data": {
      "text/latex": [
       "$\\displaystyle 8 x_{3} \\left(1 - x_{1}\\right)$"
      ],
      "text/plain": [
       "8*x3*(1 - x1)"
      ]
     },
     "metadata": {},
     "output_type": "display_data"
    },
    {
     "data": {
      "text/latex": [
       "$\\displaystyle - 3 x_{3} \\left(1 - x_{2}\\right)$"
      ],
      "text/plain": [
       "-3*x3*(1 - x2)"
      ]
     },
     "metadata": {},
     "output_type": "display_data"
    },
    {
     "data": {
      "text/latex": [
       "$\\displaystyle 0$"
      ],
      "text/plain": [
       "0"
      ]
     },
     "metadata": {},
     "output_type": "display_data"
    },
    {
     "data": {
      "text/latex": [
       "$\\displaystyle - 2 x_{1} \\left(1 - x_{2}\\right) + 8 x_{1} \\left(1 - x_{3}\\right) - 2 x_{2} \\left(1 - x_{1}\\right) - 3 x_{2} \\left(1 - x_{3}\\right) + 8 x_{3} \\left(1 - x_{1}\\right) - 3 x_{3} \\left(1 - x_{2}\\right)$"
      ],
      "text/plain": [
       "-2*x1*(1 - x2) + 8*x1*(1 - x3) - 2*x2*(1 - x1) - 3*x2*(1 - x3) + 8*x3*(1 - x1) - 3*x3*(1 - x2)"
      ]
     },
     "execution_count": 46,
     "metadata": {},
     "output_type": "execute_result"
    }
   ],
   "source": [
    "n = adjacency_matrix.shape[0]\n",
    "x = symbols(f\"x1:{n+1}\")\n",
    "\n",
    "for i in range(n):\n",
    "    for j in range(n):\n",
    "        display(adjacency_matrix[i, j] * x[i] * (1 - x[j]))\n",
    "\n",
    "qubo_expr = sum([adjacency_matrix[i, j] * x[i] * (1 - x[j]) for i in range(n) for j in range(n)])\n",
    "\n",
    "qubo_expr"
   ]
  },
  {
   "cell_type": "code",
   "execution_count": 47,
   "metadata": {
    "colab": {
     "base_uri": "https://localhost:8080/",
     "height": 38
    },
    "id": "xfsokItp9E7O",
    "outputId": "15a34f72-4b10-44a4-8270-f3586e4438f4"
   },
   "outputs": [
    {
     "data": {
      "text/latex": [
       "$\\displaystyle 4 x_{1} x_{2} - 16 x_{1} x_{3} + 6 x_{1} + 6 x_{2} x_{3} - 5 x_{2} + 5 x_{3}$"
      ],
      "text/plain": [
       "4*x1*x2 - 16*x1*x3 + 6*x1 + 6*x2*x3 - 5*x2 + 5*x3"
      ]
     },
     "execution_count": 47,
     "metadata": {},
     "output_type": "execute_result"
    }
   ],
   "source": [
    "simplified_qubo = simplify(qubo_expr)\n",
    "simplified_qubo"
   ]
  },
  {
   "cell_type": "code",
   "execution_count": 48,
   "metadata": {},
   "outputs": [],
   "source": [
    "x1, x2 = symbols('x1 x2')\n",
    "term = 0.18 * x1 * x2\n",
    "\n",
    "# term.coeff()\n",
    "\n"
   ]
  },
  {
   "cell_type": "code",
   "execution_count": 49,
   "metadata": {},
   "outputs": [
    {
     "name": "stdout",
     "output_type": "stream",
     "text": [
      "Term: 0.18*x1*x2\n",
      "Coefficient: 0.180000000000000\n"
     ]
    }
   ],
   "source": [
    "from sympy import symbols\n",
    "\n",
    "# Define the variables\n",
    "x1, x2 = symbols('x1 x2')\n",
    "\n",
    "# Example term\n",
    "term = 0.18 * x1 * x2\n",
    "\n",
    "# Extract the coefficient of the specific term (x1 * x2)\n",
    "coefficient = term.coeff(Mul(*(term.free_symbols)))\n",
    "\n",
    "print(\"Term:\", term)\n",
    "print(\"Coefficient:\", coefficient)\n"
   ]
  },
  {
   "cell_type": "code",
   "execution_count": 50,
   "metadata": {
    "colab": {
     "base_uri": "https://localhost:8080/",
     "height": 78
    },
    "id": "Mg1C7xgg6mKX",
    "outputId": "91b741dc-08b3-48cf-973c-1a1a54ddc139"
   },
   "outputs": [
    {
     "data": {
      "text/latex": [
       "$\\displaystyle \\left[\\begin{matrix}6 & 4 & -16\\\\4 & -5 & 6\\\\-16 & 6 & 5\\end{matrix}\\right]$"
      ],
      "text/plain": [
       "Matrix([\n",
       "[  6,  4, -16],\n",
       "[  4, -5,   6],\n",
       "[-16,  6,   5]])"
      ]
     },
     "execution_count": 50,
     "metadata": {},
     "output_type": "execute_result"
    }
   ],
   "source": [
    "# Extract coefficients for QUBO matrix\n",
    "Q = Matrix.zeros(n, n)\n",
    "for term in simplified_qubo.as_ordered_terms():\n",
    "    variables = term.free_symbols\n",
    "    coeff = term.coeff(Mul(*(variables)))\n",
    "    if len(variables) == 1:  # Diagonal terms (linear coefficients)\n",
    "        var = list(variables)[0]\n",
    "        idx = int(str(var)[1:]) - 1\n",
    "        Q[idx, idx] += coeff\n",
    "    elif len(variables) == 2:  # Off-diagonal terms (quadratic coefficients)\n",
    "        var1, var2 = sorted(variables, key=lambda v: int(str(v)[1:]))\n",
    "        idx1, idx2 = int(str(var1)[1:]) - 1, int(str(var2)[1:]) - 1\n",
    "        Q[idx1, idx2] += coeff # Account for symmetry\n",
    "        Q[idx2, idx1] += coeff\n",
    "Q"
   ]
  },
  {
   "cell_type": "markdown",
   "metadata": {
    "id": "l3vAts_OCR6x"
   },
   "source": [
    "# Solving the QUBO Problem\n",
    "\n",
    "The goal is to find a binary vector $x$ such that:\n",
    "$$\n",
    "\\min_x\\ x^T Q x\n",
    "$$\n",
    "\n",
    "We will evaluate all possible binary vectors $ x $ (for small problem sizes) and compute the cost function value for each.\n"
   ]
  },
  {
   "cell_type": "markdown",
   "metadata": {},
   "source": [
    "$(1 \\times 3) \\times (3 \\times 3) \\times (3 \\times 1)$ = $(1 \\times 1)$"
   ]
  },
  {
   "cell_type": "code",
   "execution_count": 51,
   "metadata": {
    "colab": {
     "base_uri": "https://localhost:8080/"
    },
    "id": "zitS-UVg_Mtd",
    "outputId": "4006abd4-a3d2-43f1-8e30-8d2c00a22079"
   },
   "outputs": [
    {
     "name": "stdout",
     "output_type": "stream",
     "text": [
      "Matrix([[0], [0], [0]]) 0\n",
      "Matrix([[0], [0], [1]]) 5\n",
      "Matrix([[0], [1], [0]]) -5\n",
      "Matrix([[0], [1], [1]]) 12\n",
      "Matrix([[1], [0], [0]]) 6\n",
      "Matrix([[1], [0], [1]]) -21\n",
      "Matrix([[1], [1], [0]]) 9\n",
      "Matrix([[1], [1], [1]]) -6\n"
     ]
    }
   ],
   "source": [
    "n = Q.shape[0]\n",
    "x_symbols = symbols(f\"x1:{n+1}\")\n",
    "all_possible_vectors = [Matrix([int(b) for b in f\"{i:0{n}b}\"]) for i in range(2**n)]\n",
    "min_cost = float('inf')\n",
    "optimal_vector = None\n",
    "for x in all_possible_vectors:\n",
    "    cost = (x.T * Q * x)[0]  # Evaluate cost function\n",
    "    print(x, cost)\n",
    "    if cost < min_cost:\n",
    "        min_cost = cost\n",
    "        optimal_vector = x"
   ]
  },
  {
   "cell_type": "code",
   "execution_count": 96,
   "metadata": {
    "colab": {
     "base_uri": "https://localhost:8080/"
    },
    "id": "fSrbEXVG_VS1",
    "outputId": "abb96be0-059b-44f9-97c1-d82319c3772f"
   },
   "outputs": [
    {
     "data": {
      "text/plain": [
       "(Matrix([\n",
       " [1],\n",
       " [0],\n",
       " [1]]),\n",
       " -21)"
      ]
     },
     "execution_count": 96,
     "metadata": {},
     "output_type": "execute_result"
    }
   ],
   "source": [
    "optimal_vector, min_cost"
   ]
  },
  {
   "cell_type": "markdown",
   "metadata": {
    "id": "VIpMQS5zFLdC"
   },
   "source": [
    "# Visualization of the Optimal Cut\n",
    "\n",
    "The optimal binary vector partitions the graph into two sets:\n",
    "- Nodes with $ x_i = 0 $\n",
    "- Nodes with $ x_i = 1 $\n",
    "\n",
    "We can highlight the edges in the cut using different colors.\n"
   ]
  },
  {
   "cell_type": "code",
   "execution_count": 97,
   "metadata": {
    "colab": {
     "base_uri": "https://localhost:8080/",
     "height": 459
    },
    "id": "Ma7pU2N0AVSt",
    "outputId": "88cfcf59-ac2a-403a-dcdb-11b28628d0a2"
   },
   "outputs": [
    {
     "data": {
      "image/png": "[encoded data removed]",
      "text/plain": [
       "<Figure size 400x400 with 1 Axes>"
      ]
     },
     "metadata": {},
     "output_type": "display_data"
    }
   ],
   "source": [
    "# Identify nodes in each partition\n",
    "partition_0 = [i + 1 for i, val in enumerate(optimal_vector) if val == 0]\n",
    "partition_1 = [i + 1 for i, val in enumerate(optimal_vector) if val == 1]\n",
    "\n",
    "# Assign colors to nodes based on partition\n",
    "node_colors = []\n",
    "for node in G.nodes:\n",
    "    if node in partition_0:\n",
    "        node_colors.append(\"green\")  # Nodes in partition 0\n",
    "    elif node in partition_1:\n",
    "        node_colors.append(\"blue\")   # Nodes in partition 1\n",
    "\n",
    "# Highlight the edges in the cut\n",
    "cut_edges = [(u, v) for u, v in G.edges if (u in partition_0 and v in partition_1) or (u in partition_1 and v in partition_0)]\n",
    "\n",
    "# Plot the graph with node colors and cut edges\n",
    "plt.figure(figsize=(4, 4))\n",
    "nx.draw(G, pos, with_labels=True, node_color=node_colors, node_size=1000)\n",
    "nx.draw_networkx_edges(G, pos, edgelist=cut_edges, edge_color=\"red\", width=2)\n",
    "labels = nx.get_edge_attributes(G, 'weight')\n",
    "nx.draw_networkx_edge_labels(G, pos, edge_labels=labels, font_size=12)\n",
    "plt.title(\"Partitioned Graph with Cut Edges\")\n",
    "plt.show()\n"
   ]
  },
  {
   "cell_type": "code",
   "execution_count": null,
   "metadata": {
    "id": "rH5-gOp0lxNA"
   },
   "outputs": [],
   "source": []
  },
  {
   "cell_type": "code",
   "execution_count": 98,
   "metadata": {
    "id": "R8_xNKL6lxK7"
   },
   "outputs": [],
   "source": [
    "from pyqubo import Array, solve_qubo\n",
    "import numpy as np"
   ]
  },
  {
   "cell_type": "code",
   "execution_count": 99,
   "metadata": {
    "colab": {
     "base_uri": "https://localhost:8080/"
    },
    "id": "M2DzfFLp0XJb",
    "outputId": "b5f4cd62-4224-48dc-9142-4533519e0798"
   },
   "outputs": [
    {
     "name": "stdout",
     "output_type": "stream",
     "text": [
      "Optimal solution (binary vector): [1 0 1]\n",
      "Optimal cost: -21\n"
     ]
    },
    {
     "name": "stderr",
     "output_type": "stream",
     "text": [
      "C:\\Users\\mysore\\AppData\\Local\\Temp\\ipykernel_11820\\229288507.py:12: DeprecationWarning: Call to deprecated function (or staticmethod) solve_qubo. (You should use simulated annealing sampler of dwave-neal directly.) -- Deprecated since version 0.4.0.\n",
      "  solution = solve_qubo(qubo)\n"
     ]
    }
   ],
   "source": [
    "# Create binary variables\n",
    "x = Array.create('x', shape=Q.shape[0], vartype='BINARY')\n",
    "\n",
    "# Formulate the QUBO model\n",
    "qubo_model = sum(Q[i, j] * x[i] * x[j] for i in range(Q.shape[0]) for j in range(Q.shape[1]))\n",
    "qubo_model = qubo_model.compile()\n",
    "\n",
    "# Generate the QUBO dictionary\n",
    "qubo, offset = qubo_model.to_qubo()\n",
    "\n",
    "# Solve the QUBO problem using the default solver\n",
    "solution = solve_qubo(qubo)\n",
    "\n",
    "# Extract results\n",
    "optimal_solution = np.array([solution[f'x[{i}]'] for i in range(Q.shape[0])])\n",
    "print(\"Optimal solution (binary vector):\", optimal_solution)\n",
    "print(\"Optimal cost:\", sum(Q[i, j] * optimal_solution[i] * optimal_solution[j] for i in range(Q.shape[0]) for j in range(Q.shape[1])))"
   ]
  },
  {
   "cell_type": "code",
   "execution_count": 102,
   "metadata": {
    "id": "-yVCiatd4UqV"
   },
   "outputs": [],
   "source": [
    "import gurobipy as gp\n",
    "from gurobipy import GRB"
   ]
  },
  {
   "cell_type": "code",
   "execution_count": 103,
   "metadata": {
    "id": "d5EgBz_U0XG9"
   },
   "outputs": [
    {
     "name": "stdout",
     "output_type": "stream",
     "text": [
      "Gurobi Optimizer version 11.0.3 build v11.0.3rc0 (win64 - Windows 11.0 (22631.2))\n",
      "\n",
      "CPU model: 12th Gen Intel(R) Core(TM) i7-12800H, instruction set [SSE2|AVX|AVX2]\n",
      "Thread count: 14 physical cores, 20 logical processors, using up to 20 threads\n",
      "\n",
      "Optimize a model with 0 rows, 3 columns and 0 nonzeros\n",
      "Model fingerprint: 0x4556297e\n",
      "Model has 6 quadratic objective terms\n",
      "Variable types: 0 continuous, 3 integer (3 binary)\n",
      "Coefficient statistics:\n",
      "  Matrix range     [0e+00, 0e+00]\n",
      "  Objective range  [0e+00, 0e+00]\n",
      "  QObjective range [1e+01, 6e+01]\n",
      "  Bounds range     [1e+00, 1e+00]\n",
      "  RHS range        [0e+00, 0e+00]\n",
      "Found heuristic solution: objective 0.0000000\n",
      "Found heuristic solution: objective -6.0000000\n",
      "Found heuristic solution: objective -21.0000000\n",
      "Presolve removed 0 rows and 3 columns\n",
      "Presolve time: 0.00s\n",
      "Presolve: All rows and columns removed\n",
      "\n",
      "Explored 0 nodes (0 simplex iterations) in 0.02 seconds (0.00 work units)\n",
      "Thread count was 1 (of 20 available processors)\n",
      "\n",
      "Solution count 3: -21 -6 0 \n",
      "No other solutions better than -21\n",
      "\n",
      "Optimal solution found (tolerance 1.00e-04)\n",
      "Best objective -2.100000000000e+01, best bound -2.100000000000e+01, gap 0.0000%\n",
      "Optimal solution (binary vector): [1. 0. 1.]\n",
      "Optimal cost: -21.0\n"
     ]
    }
   ],
   "source": [
    "# Initialize Gurobi model\n",
    "model = gp.Model(\"QUBO\")\n",
    "\n",
    "# Create binary variables\n",
    "n = Q.shape[0]\n",
    "x = model.addVars(n, vtype=GRB.BINARY, name=\"x\")\n",
    "\n",
    "# Add the objective function\n",
    "objective = gp.QuadExpr()\n",
    "for i in range(n):\n",
    "    for j in range(n):\n",
    "        objective += Q[i, j] * x[i] * x[j]\n",
    "\n",
    "model.setObjective(objective, GRB.MINIMIZE)\n",
    "\n",
    "# Optimize the model\n",
    "model.optimize()\n",
    "\n",
    "# Extract the optimal solution\n",
    "optimal_solution = np.array([x[i].x for i in range(n)])\n",
    "print(\"Optimal solution (binary vector):\", optimal_solution)\n",
    "print(\"Optimal cost:\", model.objVal)"
   ]
  },
  {
   "cell_type": "code",
   "execution_count": null,
   "metadata": {
    "id": "p_GpHHgt4NOD"
   },
   "outputs": [],
   "source": []
  },
  {
   "cell_type": "markdown",
   "metadata": {},
   "source": [
    "# QAOA Solver (Qiskit)"
   ]
  },
  {
   "cell_type": "code",
   "execution_count": 119,
   "metadata": {},
   "outputs": [],
   "source": [
    "from qiskit.circuit.library import Diagonal\n",
    "from qiskit_optimization.applications import Maxcut\n",
    "from qiskit_optimization.algorithms import MinimumEigenOptimizer\n",
    "from qiskit.primitives import Sampler\n",
    "from qiskit.result import QuasiDistribution\n",
    "\n",
    "from qiskit_algorithms.minimum_eigensolvers import QAOA, NumPyMinimumEigensolver\n",
    "from qiskit_algorithms.optimizers import COBYLA\n",
    "from qiskit.quantum_info import SparsePauliOp\n",
    "from qiskit.primitives import Estimator\n",
    "from qiskit_algorithms.utils import algorithm_globals"
   ]
  },
  {
   "cell_type": "code",
   "execution_count": 120,
   "metadata": {},
   "outputs": [],
   "source": [
    "def objective_value(x: np.ndarray, w: np.ndarray) -> float:\n",
    "    \"\"\"Compute the value of a cut.\n",
    "    Args:\n",
    "        x: Binary string as numpy array.\n",
    "        w: Adjacency matrix.\n",
    "    Returns:\n",
    "        Value of the cut.\n",
    "    \"\"\"\n",
    "    cost = 0\n",
    "    for i in range(len(x)):\n",
    "        for j in range(len(x)):\n",
    "            cost = cost + w[i,j]*x[i]*(1-x[j])\n",
    "    return cost\n",
    "\n",
    "def bitfield(n: int, L: int) -> list[int]:\n",
    "    result = np.binary_repr(n, L)\n",
    "    return [int(digit) for digit in result]  # [2:] to chop off the \"0b\" part\n",
    "\n",
    "def sample_most_likely(state_vector) -> np.ndarray:\n",
    "    \"\"\"Compute the most likely binary string from state vector.\n",
    "    Args:\n",
    "        state_vector: State vector or quasi-distribution.\n",
    "\n",
    "    Returns:\n",
    "        Binary string as an array of ints.\n",
    "    \"\"\"\n",
    "    if isinstance(state_vector, QuasiDistribution):\n",
    "        values = list(state_vector.values())\n",
    "    else:\n",
    "        values = state_vector\n",
    "    n = int(np.log2(len(values)))\n",
    "    k = np.argmax(np.abs(values))\n",
    "    x = bitfield(k, n)\n",
    "    x.reverse()\n",
    "    return np.asarray(x)"
   ]
  },
  {
   "cell_type": "code",
   "execution_count": 121,
   "metadata": {},
   "outputs": [],
   "source": [
    "def qaoa_solver(G, reps=1):\n",
    "  n = G.number_of_nodes()\n",
    "  w = -1 * nx.adjacency_matrix(G).todense()\n",
    "  max_cut = Maxcut(w)\n",
    "  qp = max_cut.to_quadratic_program()\n",
    "  # print(qp.prettyprint())\n",
    "  qubitOp, offset = qp.to_ising()\n",
    "  sampler = Sampler()\n",
    "  algorithm_globals.random_seed = 123\n",
    "  optimizer = COBYLA()\n",
    "  qaoa = QAOA(sampler, optimizer, reps=reps)\n",
    "  result = qaoa.compute_minimum_eigenvalue(qubitOp)\n",
    "  x = sample_most_likely(result.eigenstate)\n",
    "  return x, objective_value(x, w)"
   ]
  },
  {
   "cell_type": "code",
   "execution_count": 123,
   "metadata": {},
   "outputs": [
    {
     "name": "stderr",
     "output_type": "stream",
     "text": [
      "C:\\Users\\mysore\\AppData\\Local\\Temp\\ipykernel_11820\\3735664337.py:8: DeprecationWarning: The class ``qiskit.primitives.sampler.Sampler`` is deprecated as of qiskit 1.2. It will be removed no earlier than 3 months after the release date. All implementations of the `BaseSamplerV1` interface have been deprecated in favor of their V2 counterparts. The V2 alternative for the `Sampler` class is `StatevectorSampler`.\n",
      "  sampler = Sampler()\n"
     ]
    },
    {
     "data": {
      "text/plain": [
       "(array([0, 1, 0]), np.int64(5))"
      ]
     },
     "execution_count": 123,
     "metadata": {},
     "output_type": "execute_result"
    }
   ],
   "source": [
    "qaoa_solver(G, reps=1)"
   ]
  },
  {
   "cell_type": "code",
   "execution_count": null,
   "metadata": {},
   "outputs": [],
   "source": []
  }
 ],
 "metadata": {
  "colab": {
   "provenance": []
  },
  "kernelspec": {
   "display_name": "venv",
   "language": "python",
   "name": "python3"
  },
  "language_info": {
   "codemirror_mode": {
    "name": "ipython",
    "version": 3
   },
   "file_extension": ".py",
   "mimetype": "text/x-python",
   "name": "python",
   "nbconvert_exporter": "python",
   "pygments_lexer": "ipython3",
   "version": "3.12.2"
  }
 },
 "nbformat": 4,
 "nbformat_minor": 0
}
